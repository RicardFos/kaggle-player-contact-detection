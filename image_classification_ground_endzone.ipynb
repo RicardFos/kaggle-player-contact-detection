{
 "cells": [
  {
   "cell_type": "markdown",
   "id": "f7dc456b",
   "metadata": {},
   "source": [
    "# Player - Ground contact image classification - training"
   ]
  },
  {
   "cell_type": "code",
   "execution_count": 198,
   "id": "7a380455",
   "metadata": {},
   "outputs": [],
   "source": [
    "import os\n",
    "import torch\n",
    "from torch import nn\n",
    "import numpy as np\n",
    "import torch.nn.functional as F\n",
    "import time\n",
    "import pandas as pd\n",
    "from sklearn.model_selection import train_test_split\n",
    "import matplotlib.pyplot as plt\n",
    "from torch.utils.data import Dataset, DataLoader\n",
    "from tqdm.auto import tqdm\n",
    "from torch.optim import Adam, lr_scheduler\n",
    "from sklearn.metrics import confusion_matrix, ConfusionMatrixDisplay\n",
    "from PIL import Image\n",
    "from torchvision import datasets, transforms\n",
    "import torchvision.models as models\n",
    "from sklearn.metrics import matthews_corrcoef"
   ]
  },
  {
   "cell_type": "markdown",
   "id": "c165d464",
   "metadata": {},
   "source": [
    "## Load Data"
   ]
  },
  {
   "cell_type": "code",
   "execution_count": 19,
   "id": "2e2799fb",
   "metadata": {},
   "outputs": [],
   "source": [
    "DATASET_DIR = \"dataset\"\n",
    "\n",
    "# # player tracking\n",
    "# train_player_tracking_df = pd.read_csv(os.path.join(DATASET_DIR, \"train_player_tracking.csv\"), \n",
    "#                                        parse_dates=[\"datetime\"])\n",
    "# test_player_tracking_df = pd.read_csv(os.path.join(DATASET_DIR, \"test_player_tracking.csv\"), \n",
    "#                                       parse_dates=[\"datetime\"])\n",
    "\n",
    "# # helmet detection\n",
    "# train_helmet_detection_df = pd.read_csv(os.path.join(DATASET_DIR, \"train_baseline_helmets.csv\"))\n",
    "# test_helmet_detection_df = pd.read_csv(os.path.join(DATASET_DIR, \"test_baseline_helmets.csv\"))\n",
    "\n",
    "# # video metadata\n",
    "# train_video_metadata_df = pd.read_csv(os.path.join(DATASET_DIR, \"train_video_metadata.csv\"), \n",
    "#                                       parse_dates=[\"start_time\", \"end_time\", \"snap_time\"])\n",
    "# test_video_metadata_df = pd.read_csv(os.path.join(DATASET_DIR, \"test_video_metadata.csv\"), \n",
    "#                                       parse_dates=[\"start_time\", \"end_time\", \"snap_time\"])\n",
    "\n",
    "# train labels\n",
    "train_labels_df =  pd.read_csv(os.path.join(DATASET_DIR, \"train_labels.csv\"), \n",
    "                               parse_dates=[\"datetime\"])\n",
    "\n",
    "# contact reduced to p2p distance below threshold\n",
    "train_contact_df_reduced = pd.read_csv(os.path.join(DATASET_DIR, \"train_contact_df_reduced.csv\"))\n",
    "\n",
    "# contact image\n",
    "contact_image_endzone_df = pd.read_csv(os.path.join(DATASET_DIR, \"train_contact_image_endzone_df.csv\"))"
   ]
  },
  {
   "cell_type": "markdown",
   "id": "7caf9935",
   "metadata": {},
   "source": [
    "## The PlayerContact dataset"
   ]
  },
  {
   "cell_type": "markdown",
   "id": "00a78fdc",
   "metadata": {},
   "source": [
    "### Transform function\n",
    "It converts the PIL Image into a Tensor and normalizes it using the mean and std values from Imagenet"
   ]
  },
  {
   "cell_type": "code",
   "execution_count": 76,
   "id": "abba4d51",
   "metadata": {},
   "outputs": [],
   "source": [
    "# transforms\n",
    "IMAGE_SIZE = 224 # Image size of resize when applying transforms.\n",
    "image_transform = transforms.Compose([\n",
    "        transforms.Resize((IMAGE_SIZE, IMAGE_SIZE)),\n",
    "        transforms.ToTensor(),\n",
    "        transforms.Normalize([0.485, 0.456, 0.406], [0.229, 0.224, 0.225]) # imagenet\n",
    "])"
   ]
  },
  {
   "cell_type": "markdown",
   "id": "d9e92dfe",
   "metadata": {},
   "source": [
    "## The PlayerContact Dataset Class\n",
    "The PlayerContact dataset class takes the data from the folder and returns images"
   ]
  },
  {
   "cell_type": "code",
   "execution_count": 125,
   "id": "e6eaed14",
   "metadata": {},
   "outputs": [],
   "source": [
    "class PlayerContactDataset(Dataset):\n",
    "    \"\"\"\n",
    "    PlayerContact dataset that returns an image\n",
    "    \"\"\"\n",
    "    def __init__(self, data_dir, contact_df, view, transform=None):\n",
    "        self.data_dir = data_dir\n",
    "        self.transform = transform\n",
    "        self.contact_df = contact_df\n",
    "        self.view = view\n",
    "        \n",
    "    def __getitem__(self, idx):\n",
    "        # get the image\n",
    "        row = self.contact_df.iloc[idx]\n",
    "        img_path = os.path.join(self.data_dir, row['contact_id']+'_'+self.view+'.jpg')\n",
    "        image = Image.open(img_path).convert('RGB')\n",
    "        if (self.transform):\n",
    "            image = self.transform(image)\n",
    "        \n",
    "        # get the class label\n",
    "        label = torch.tensor(row['contact_truth'])\n",
    "        \n",
    "        return image, label\n",
    "    \n",
    "    def __len__(self):\n",
    "        return len(self.contact_df)"
   ]
  },
  {
   "cell_type": "markdown",
   "id": "46342723",
   "metadata": {},
   "source": [
    "### Prepare and split the data"
   ]
  },
  {
   "cell_type": "code",
   "execution_count": 126,
   "id": "ff660625",
   "metadata": {},
   "outputs": [
    {
     "data": {
      "text/html": [
       "<div>\n",
       "<style scoped>\n",
       "    .dataframe tbody tr th:only-of-type {\n",
       "        vertical-align: middle;\n",
       "    }\n",
       "\n",
       "    .dataframe tbody tr th {\n",
       "        vertical-align: top;\n",
       "    }\n",
       "\n",
       "    .dataframe thead th {\n",
       "        text-align: right;\n",
       "    }\n",
       "</style>\n",
       "<table border=\"1\" class=\"dataframe\">\n",
       "  <thead>\n",
       "    <tr style=\"text-align: right;\">\n",
       "      <th></th>\n",
       "      <th>contact_id</th>\n",
       "      <th>game_play</th>\n",
       "      <th>step</th>\n",
       "      <th>nfl_player_id_1</th>\n",
       "      <th>nfl_player_id_2</th>\n",
       "      <th>game_key</th>\n",
       "      <th>play_id</th>\n",
       "      <th>datetime</th>\n",
       "      <th>team_1</th>\n",
       "      <th>position_1</th>\n",
       "      <th>...</th>\n",
       "      <th>direction_2</th>\n",
       "      <th>orientation_2</th>\n",
       "      <th>acceleration_2</th>\n",
       "      <th>sa_2</th>\n",
       "      <th>p2p_distance</th>\n",
       "      <th>contact_truth</th>\n",
       "      <th>crop_generated</th>\n",
       "      <th>rewinded_frames</th>\n",
       "      <th>miss_helmet_dets</th>\n",
       "      <th>miss_player_dets</th>\n",
       "    </tr>\n",
       "  </thead>\n",
       "  <tbody>\n",
       "    <tr>\n",
       "      <th>150383</th>\n",
       "      <td>58224_000998_42_40151_G</td>\n",
       "      <td>58224_000998</td>\n",
       "      <td>42</td>\n",
       "      <td>40151</td>\n",
       "      <td>-1</td>\n",
       "      <td>58224</td>\n",
       "      <td>998</td>\n",
       "      <td>2020-10-04 17:46:54.100000+00:00</td>\n",
       "      <td>home</td>\n",
       "      <td>C</td>\n",
       "      <td>...</td>\n",
       "      <td>0.0</td>\n",
       "      <td>0.0</td>\n",
       "      <td>0.0</td>\n",
       "      <td>0.0</td>\n",
       "      <td>999.0</td>\n",
       "      <td>0</td>\n",
       "      <td>True</td>\n",
       "      <td>0.0</td>\n",
       "      <td>0.0</td>\n",
       "      <td>0.0</td>\n",
       "    </tr>\n",
       "    <tr>\n",
       "      <th>74850</th>\n",
       "      <td>58202_000170_20_47952_G</td>\n",
       "      <td>58202_000170</td>\n",
       "      <td>20</td>\n",
       "      <td>47952</td>\n",
       "      <td>-1</td>\n",
       "      <td>58202</td>\n",
       "      <td>170</td>\n",
       "      <td>2020-09-27 17:06:46.200000+00:00</td>\n",
       "      <td>away</td>\n",
       "      <td>T</td>\n",
       "      <td>...</td>\n",
       "      <td>0.0</td>\n",
       "      <td>0.0</td>\n",
       "      <td>0.0</td>\n",
       "      <td>0.0</td>\n",
       "      <td>999.0</td>\n",
       "      <td>0</td>\n",
       "      <td>True</td>\n",
       "      <td>0.0</td>\n",
       "      <td>0.0</td>\n",
       "      <td>0.0</td>\n",
       "    </tr>\n",
       "    <tr>\n",
       "      <th>199133</th>\n",
       "      <td>58257_003529_5_43459_G</td>\n",
       "      <td>58257_003529</td>\n",
       "      <td>5</td>\n",
       "      <td>43459</td>\n",
       "      <td>-1</td>\n",
       "      <td>58257</td>\n",
       "      <td>3529</td>\n",
       "      <td>2020-11-22 23:32:48.400000+00:00</td>\n",
       "      <td>home</td>\n",
       "      <td>C</td>\n",
       "      <td>...</td>\n",
       "      <td>0.0</td>\n",
       "      <td>0.0</td>\n",
       "      <td>0.0</td>\n",
       "      <td>0.0</td>\n",
       "      <td>999.0</td>\n",
       "      <td>0</td>\n",
       "      <td>True</td>\n",
       "      <td>0.0</td>\n",
       "      <td>0.0</td>\n",
       "      <td>0.0</td>\n",
       "    </tr>\n",
       "    <tr>\n",
       "      <th>91184</th>\n",
       "      <td>58204_000790_63_46226_G</td>\n",
       "      <td>58204_000790</td>\n",
       "      <td>63</td>\n",
       "      <td>46226</td>\n",
       "      <td>-1</td>\n",
       "      <td>58204</td>\n",
       "      <td>790</td>\n",
       "      <td>2020-09-27 17:34:05.700000+00:00</td>\n",
       "      <td>home</td>\n",
       "      <td>TE</td>\n",
       "      <td>...</td>\n",
       "      <td>0.0</td>\n",
       "      <td>0.0</td>\n",
       "      <td>0.0</td>\n",
       "      <td>0.0</td>\n",
       "      <td>999.0</td>\n",
       "      <td>0</td>\n",
       "      <td>True</td>\n",
       "      <td>0.0</td>\n",
       "      <td>0.0</td>\n",
       "      <td>0.0</td>\n",
       "    </tr>\n",
       "    <tr>\n",
       "      <th>627734</th>\n",
       "      <td>58567_004074_18_52607_G</td>\n",
       "      <td>58567_004074</td>\n",
       "      <td>18</td>\n",
       "      <td>52607</td>\n",
       "      <td>-1</td>\n",
       "      <td>58567</td>\n",
       "      <td>4074</td>\n",
       "      <td>2021-10-08 03:27:16.100000+00:00</td>\n",
       "      <td>away</td>\n",
       "      <td>SS</td>\n",
       "      <td>...</td>\n",
       "      <td>0.0</td>\n",
       "      <td>0.0</td>\n",
       "      <td>0.0</td>\n",
       "      <td>0.0</td>\n",
       "      <td>999.0</td>\n",
       "      <td>0</td>\n",
       "      <td>True</td>\n",
       "      <td>50.0</td>\n",
       "      <td>0.0</td>\n",
       "      <td>1.0</td>\n",
       "    </tr>\n",
       "    <tr>\n",
       "      <th>...</th>\n",
       "      <td>...</td>\n",
       "      <td>...</td>\n",
       "      <td>...</td>\n",
       "      <td>...</td>\n",
       "      <td>...</td>\n",
       "      <td>...</td>\n",
       "      <td>...</td>\n",
       "      <td>...</td>\n",
       "      <td>...</td>\n",
       "      <td>...</td>\n",
       "      <td>...</td>\n",
       "      <td>...</td>\n",
       "      <td>...</td>\n",
       "      <td>...</td>\n",
       "      <td>...</td>\n",
       "      <td>...</td>\n",
       "      <td>...</td>\n",
       "      <td>...</td>\n",
       "      <td>...</td>\n",
       "      <td>...</td>\n",
       "      <td>...</td>\n",
       "    </tr>\n",
       "    <tr>\n",
       "      <th>246479</th>\n",
       "      <td>58285_004176_5_43338_G</td>\n",
       "      <td>58285_004176</td>\n",
       "      <td>5</td>\n",
       "      <td>43338</td>\n",
       "      <td>-1</td>\n",
       "      <td>58285</td>\n",
       "      <td>4176</td>\n",
       "      <td>2020-11-02 00:22:24.800000+00:00</td>\n",
       "      <td>home</td>\n",
       "      <td>DT</td>\n",
       "      <td>...</td>\n",
       "      <td>0.0</td>\n",
       "      <td>0.0</td>\n",
       "      <td>0.0</td>\n",
       "      <td>0.0</td>\n",
       "      <td>999.0</td>\n",
       "      <td>0</td>\n",
       "      <td>True</td>\n",
       "      <td>0.0</td>\n",
       "      <td>0.0</td>\n",
       "      <td>0.0</td>\n",
       "    </tr>\n",
       "    <tr>\n",
       "      <th>525572</th>\n",
       "      <td>58528_000317_20_46084_G</td>\n",
       "      <td>58528_000317</td>\n",
       "      <td>20</td>\n",
       "      <td>46084</td>\n",
       "      <td>-1</td>\n",
       "      <td>58528</td>\n",
       "      <td>317</td>\n",
       "      <td>2021-09-19 17:15:20.100000+00:00</td>\n",
       "      <td>away</td>\n",
       "      <td>T</td>\n",
       "      <td>...</td>\n",
       "      <td>0.0</td>\n",
       "      <td>0.0</td>\n",
       "      <td>0.0</td>\n",
       "      <td>0.0</td>\n",
       "      <td>999.0</td>\n",
       "      <td>0</td>\n",
       "      <td>True</td>\n",
       "      <td>0.0</td>\n",
       "      <td>0.0</td>\n",
       "      <td>0.0</td>\n",
       "    </tr>\n",
       "    <tr>\n",
       "      <th>269053</th>\n",
       "      <td>58301_000786_61_48097_G</td>\n",
       "      <td>58301_000786</td>\n",
       "      <td>61</td>\n",
       "      <td>48097</td>\n",
       "      <td>-1</td>\n",
       "      <td>58301</td>\n",
       "      <td>786</td>\n",
       "      <td>2020-11-10 01:48:23.600000+00:00</td>\n",
       "      <td>away</td>\n",
       "      <td>WR</td>\n",
       "      <td>...</td>\n",
       "      <td>0.0</td>\n",
       "      <td>0.0</td>\n",
       "      <td>0.0</td>\n",
       "      <td>0.0</td>\n",
       "      <td>999.0</td>\n",
       "      <td>0</td>\n",
       "      <td>True</td>\n",
       "      <td>0.0</td>\n",
       "      <td>0.0</td>\n",
       "      <td>0.0</td>\n",
       "    </tr>\n",
       "    <tr>\n",
       "      <th>300956</th>\n",
       "      <td>58311_002159_112_43475_G</td>\n",
       "      <td>58311_002159</td>\n",
       "      <td>112</td>\n",
       "      <td>43475</td>\n",
       "      <td>-1</td>\n",
       "      <td>58311</td>\n",
       "      <td>2159</td>\n",
       "      <td>2020-10-18 21:50:37.200000+00:00</td>\n",
       "      <td>home</td>\n",
       "      <td>WR</td>\n",
       "      <td>...</td>\n",
       "      <td>0.0</td>\n",
       "      <td>0.0</td>\n",
       "      <td>0.0</td>\n",
       "      <td>0.0</td>\n",
       "      <td>999.0</td>\n",
       "      <td>1</td>\n",
       "      <td>True</td>\n",
       "      <td>0.0</td>\n",
       "      <td>0.0</td>\n",
       "      <td>0.0</td>\n",
       "    </tr>\n",
       "    <tr>\n",
       "      <th>250719</th>\n",
       "      <td>58290_000442_71_42471_G</td>\n",
       "      <td>58290_000442</td>\n",
       "      <td>71</td>\n",
       "      <td>42471</td>\n",
       "      <td>-1</td>\n",
       "      <td>58290</td>\n",
       "      <td>442</td>\n",
       "      <td>2020-11-08 18:19:00.400000+00:00</td>\n",
       "      <td>home</td>\n",
       "      <td>G</td>\n",
       "      <td>...</td>\n",
       "      <td>0.0</td>\n",
       "      <td>0.0</td>\n",
       "      <td>0.0</td>\n",
       "      <td>0.0</td>\n",
       "      <td>999.0</td>\n",
       "      <td>0</td>\n",
       "      <td>True</td>\n",
       "      <td>80.0</td>\n",
       "      <td>0.0</td>\n",
       "      <td>0.0</td>\n",
       "    </tr>\n",
       "  </tbody>\n",
       "</table>\n",
       "<p>260169 rows × 36 columns</p>\n",
       "</div>"
      ],
      "text/plain": [
       "                      contact_id     game_play  step  nfl_player_id_1  \\\n",
       "150383   58224_000998_42_40151_G  58224_000998    42            40151   \n",
       "74850    58202_000170_20_47952_G  58202_000170    20            47952   \n",
       "199133    58257_003529_5_43459_G  58257_003529     5            43459   \n",
       "91184    58204_000790_63_46226_G  58204_000790    63            46226   \n",
       "627734   58567_004074_18_52607_G  58567_004074    18            52607   \n",
       "...                          ...           ...   ...              ...   \n",
       "246479    58285_004176_5_43338_G  58285_004176     5            43338   \n",
       "525572   58528_000317_20_46084_G  58528_000317    20            46084   \n",
       "269053   58301_000786_61_48097_G  58301_000786    61            48097   \n",
       "300956  58311_002159_112_43475_G  58311_002159   112            43475   \n",
       "250719   58290_000442_71_42471_G  58290_000442    71            42471   \n",
       "\n",
       "        nfl_player_id_2  game_key  play_id                          datetime  \\\n",
       "150383               -1     58224      998  2020-10-04 17:46:54.100000+00:00   \n",
       "74850                -1     58202      170  2020-09-27 17:06:46.200000+00:00   \n",
       "199133               -1     58257     3529  2020-11-22 23:32:48.400000+00:00   \n",
       "91184                -1     58204      790  2020-09-27 17:34:05.700000+00:00   \n",
       "627734               -1     58567     4074  2021-10-08 03:27:16.100000+00:00   \n",
       "...                 ...       ...      ...                               ...   \n",
       "246479               -1     58285     4176  2020-11-02 00:22:24.800000+00:00   \n",
       "525572               -1     58528      317  2021-09-19 17:15:20.100000+00:00   \n",
       "269053               -1     58301      786  2020-11-10 01:48:23.600000+00:00   \n",
       "300956               -1     58311     2159  2020-10-18 21:50:37.200000+00:00   \n",
       "250719               -1     58290      442  2020-11-08 18:19:00.400000+00:00   \n",
       "\n",
       "       team_1 position_1  ...  direction_2  orientation_2  acceleration_2  \\\n",
       "150383   home          C  ...          0.0            0.0             0.0   \n",
       "74850    away          T  ...          0.0            0.0             0.0   \n",
       "199133   home          C  ...          0.0            0.0             0.0   \n",
       "91184    home         TE  ...          0.0            0.0             0.0   \n",
       "627734   away         SS  ...          0.0            0.0             0.0   \n",
       "...       ...        ...  ...          ...            ...             ...   \n",
       "246479   home         DT  ...          0.0            0.0             0.0   \n",
       "525572   away          T  ...          0.0            0.0             0.0   \n",
       "269053   away         WR  ...          0.0            0.0             0.0   \n",
       "300956   home         WR  ...          0.0            0.0             0.0   \n",
       "250719   home          G  ...          0.0            0.0             0.0   \n",
       "\n",
       "        sa_2  p2p_distance  contact_truth  crop_generated  rewinded_frames  \\\n",
       "150383   0.0         999.0              0            True              0.0   \n",
       "74850    0.0         999.0              0            True              0.0   \n",
       "199133   0.0         999.0              0            True              0.0   \n",
       "91184    0.0         999.0              0            True              0.0   \n",
       "627734   0.0         999.0              0            True             50.0   \n",
       "...      ...           ...            ...             ...              ...   \n",
       "246479   0.0         999.0              0            True              0.0   \n",
       "525572   0.0         999.0              0            True              0.0   \n",
       "269053   0.0         999.0              0            True              0.0   \n",
       "300956   0.0         999.0              1            True              0.0   \n",
       "250719   0.0         999.0              0            True             80.0   \n",
       "\n",
       "        miss_helmet_dets miss_player_dets  \n",
       "150383               0.0              0.0  \n",
       "74850                0.0              0.0  \n",
       "199133               0.0              0.0  \n",
       "91184                0.0              0.0  \n",
       "627734               0.0              1.0  \n",
       "...                  ...              ...  \n",
       "246479               0.0              0.0  \n",
       "525572               0.0              0.0  \n",
       "269053               0.0              0.0  \n",
       "300956               0.0              0.0  \n",
       "250719               0.0              0.0  \n",
       "\n",
       "[260169 rows x 36 columns]"
      ]
     },
     "execution_count": 126,
     "metadata": {},
     "output_type": "execute_result"
    }
   ],
   "source": [
    "# merge contact_df and contact_image_df\n",
    "train_df = train_contact_df_reduced.merge(contact_image_endzone_df, \n",
    "                                 left_on=['contact_id'], \n",
    "                                 right_on=['contact_id'], \n",
    "                                 how='left').drop_duplicates()\n",
    "# use only the rows where the crop was generated\n",
    "train_df = train_df[train_df['crop_generated'] == True]\n",
    "# get the ground contacts\n",
    "train_df = train_df[train_df['nfl_player_id_2'] == -1]\n",
    "\n",
    "# split the dataset\n",
    "train_df, test_df = train_test_split(train_df, test_size=0.2, random_state=42)\n",
    "\n",
    "train_df"
   ]
  },
  {
   "cell_type": "code",
   "execution_count": 127,
   "id": "3e478a30",
   "metadata": {},
   "outputs": [
    {
     "name": "stdout",
     "output_type": "stream",
     "text": [
      "There are 13060 positive contacts with the ground in the train set\n",
      "5.02% of contacts with the ground are positive on the train set\n"
     ]
    }
   ],
   "source": [
    "num_contacts = train_df['contact_truth'].sum()\n",
    "print(f\"There are {num_contacts} positive contacts with the ground in the train set\")\n",
    "print(f\"{num_contacts / len(train_df)*100:.2f}% of contacts with the ground are positive on the train set\")"
   ]
  },
  {
   "cell_type": "markdown",
   "id": "6888ded5",
   "metadata": {},
   "source": [
    "### Create instance of the dataset specific to player-ground contact"
   ]
  },
  {
   "cell_type": "code",
   "execution_count": 128,
   "id": "37ea2865",
   "metadata": {},
   "outputs": [],
   "source": [
    "DATA_PATH = os.path.join('dataset', 'train', 'crops')\n",
    "# train\n",
    "p_g_contact_dataset_train = PlayerContactDataset(DATA_PATH, train_df, 'Endzone', image_transform)\n",
    "# test\n",
    "p_g_contact_dataset_test = PlayerContactDataset(DATA_PATH, test_df, 'Endzone', image_transform)"
   ]
  },
  {
   "cell_type": "markdown",
   "id": "8cfd7020",
   "metadata": {},
   "source": [
    "### Utils to show image from dataset"
   ]
  },
  {
   "cell_type": "code",
   "execution_count": 129,
   "id": "43b447fe",
   "metadata": {},
   "outputs": [],
   "source": [
    "def inverse_normalize(tensor, mean, std):\n",
    "    for channel_tensor, c_mean, c_std in zip(tensor, mean, std):\n",
    "        channel_tensor.mul_(c_std).add_(c_mean)\n",
    "        # The normalize code -> channel_tensor.sub_(c_mean).div_(c_std)\n",
    "        \n",
    "    return tensor\n",
    "\n",
    "def tensor_to_image(tensor, is_normalized=True):\n",
    "    img = tensor\n",
    "    if is_normalized:\n",
    "        img = inverse_normalize(img, mean=(0.485, 0.456, 0.406), std=(0.229, 0.224, 0.225))\n",
    "    img = np.array(img).transpose(1, 2, 0)\n",
    "    img = Image.fromarray((img*255).astype(np.uint8))\n",
    "    \n",
    "    return img"
   ]
  },
  {
   "cell_type": "code",
   "execution_count": 130,
   "id": "0f0c5321",
   "metadata": {},
   "outputs": [
    {
     "data": {
      "image/png": "[encoded data removed]",
      "text/plain": [
       "<PIL.Image.Image image mode=RGB size=224x224>"
      ]
     },
     "execution_count": 130,
     "metadata": {},
     "output_type": "execute_result"
    }
   ],
   "source": [
    "tensor_to_image(p_g_contact_dataset_train[700][0])"
   ]
  },
  {
   "cell_type": "markdown",
   "id": "bd319fbf",
   "metadata": {},
   "source": [
    "### Data Loaders"
   ]
  },
  {
   "cell_type": "code",
   "execution_count": 177,
   "id": "70d1be94",
   "metadata": {},
   "outputs": [],
   "source": [
    "BATCH_SIZE = 32\n",
    "\n",
    "loader_train = DataLoader(p_g_contact_dataset_train,\n",
    "                         batch_size=BATCH_SIZE,\n",
    "                         shuffle=True, \n",
    "                         num_workers=0,\n",
    "                         drop_last=True) # drop last batch with size < 8 so that the batchnorm layers dont fail\n",
    "\n",
    "loader_test = DataLoader(p_g_contact_dataset_test,\n",
    "                         batch_size=BATCH_SIZE,\n",
    "                         shuffle=False,\n",
    "                         num_workers=0,\n",
    "                         drop_last=True)"
   ]
  },
  {
   "cell_type": "code",
   "execution_count": 178,
   "id": "33d62a83",
   "metadata": {},
   "outputs": [
    {
     "name": "stdout",
     "output_type": "stream",
     "text": [
      "Batch size: 32\n",
      "Data shape: torch.Size([32, 3, 224, 224])\n",
      "One batch of labels from the train loader:\n"
     ]
    },
    {
     "data": {
      "text/plain": [
       "[tensor([[[[-0.3712, -0.3712, -0.3712,  ...,  1.0331,  1.0331,  1.0331],\n",
       "           [-0.0972, -0.0972, -0.0972,  ...,  0.6049,  0.6049,  0.6049],\n",
       "           [ 0.3481,  0.3481,  0.3481,  ...,  0.0912,  0.0912,  0.0912],\n",
       "           ...,\n",
       "           [ 1.4954,  1.4954,  1.4954,  ...,  1.3413,  1.3413,  1.3413],\n",
       "           [ 1.8379,  1.8379,  1.8379,  ...,  1.8037,  1.8037,  1.8037],\n",
       "           [ 1.9749,  1.9749,  1.9749,  ...,  2.0092,  2.0092,  2.0092]],\n",
       " \n",
       "          [[ 0.1702,  0.1702,  0.1702,  ...,  1.7633,  1.7633,  1.7633],\n",
       "           [ 0.4503,  0.4503,  0.4503,  ...,  1.3256,  1.3256,  1.3256],\n",
       "           [ 0.8880,  0.8880,  0.8880,  ...,  0.8004,  0.8004,  0.8004],\n",
       "           ...,\n",
       "           [ 2.1134,  2.1134,  2.1134,  ...,  1.8683,  1.8683,  1.8683],\n",
       "           [ 2.3761,  2.3761,  2.3761,  ...,  2.2535,  2.2535,  2.2535],\n",
       "           [ 2.4286,  2.4286,  2.4286,  ...,  2.4111,  2.4111,  2.4111]],\n",
       " \n",
       "          [[-0.5147, -0.5147, -0.5147,  ...,  0.7751,  0.7751,  0.7751],\n",
       "           [-0.2010, -0.2010, -0.2010,  ...,  0.3393,  0.3393,  0.3393],\n",
       "           [ 0.3045,  0.3045,  0.3045,  ..., -0.1835, -0.1835, -0.1835],\n",
       "           ...,\n",
       "           [ 1.5942,  1.5942,  1.5942,  ...,  1.5420,  1.5420,  1.5420],\n",
       "           [ 1.9777,  1.9777,  1.9777,  ...,  2.0648,  2.0648,  2.0648],\n",
       "           [ 2.1346,  2.1346,  2.1346,  ...,  2.3088,  2.3088,  2.3088]]],\n",
       " \n",
       " \n",
       "         [[[-0.2513, -0.2513, -0.2513,  ..., -0.9020, -1.1075, -1.1075],\n",
       "           [-0.2513, -0.2513, -0.2513,  ..., -0.9192, -1.1247, -1.1247],\n",
       "           [-0.2513, -0.2513, -0.2513,  ..., -0.9192, -1.1247, -1.1247],\n",
       "           ...,\n",
       "           [-0.5082, -0.5082, -0.5082,  ..., -1.0390, -1.2959, -1.2959],\n",
       "           [-0.5082, -0.5082, -0.5082,  ..., -1.0390, -1.2959, -1.2959],\n",
       "           [-0.5082, -0.5082, -0.5082,  ..., -1.0390, -1.2959, -1.2959]],\n",
       " \n",
       "          [[-0.0049, -0.0049, -0.0049,  ..., -0.6176, -0.8277, -0.8277],\n",
       "           [-0.0049, -0.0049, -0.0049,  ..., -0.6352, -0.8452, -0.8452],\n",
       "           [-0.0049, -0.0049, -0.0049,  ..., -0.6352, -0.8452, -0.8452],\n",
       "           ...,\n",
       "           [-0.2150, -0.2150, -0.2150,  ..., -0.7752, -1.0378, -1.0378],\n",
       "           [-0.2150, -0.2150, -0.2150,  ..., -0.7752, -1.0378, -1.0378],\n",
       "           [-0.2150, -0.2150, -0.2150,  ..., -0.7752, -1.0378, -1.0378]],\n",
       " \n",
       "          [[-0.3753, -0.3753, -0.3753,  ..., -1.0027, -1.2119, -1.2119],\n",
       "           [-0.3753, -0.3753, -0.3753,  ..., -1.0201, -1.2293, -1.2293],\n",
       "           [-0.3753, -0.3753, -0.3753,  ..., -1.0201, -1.2293, -1.2293],\n",
       "           ...,\n",
       "           [-0.6018, -0.6018, -0.6018,  ..., -1.0550, -1.3164, -1.3164],\n",
       "           [-0.6018, -0.6018, -0.6018,  ..., -1.0550, -1.3164, -1.3164],\n",
       "           [-0.6018, -0.6018, -0.6018,  ..., -1.0550, -1.3164, -1.3164]]],\n",
       " \n",
       " \n",
       "         [[[-0.4739, -0.4739, -0.4739,  ..., -0.4568, -0.4568, -0.4568],\n",
       "           [-0.4739, -0.4739, -0.4739,  ..., -0.4568, -0.4568, -0.4568],\n",
       "           [-0.4739, -0.4739, -0.4739,  ..., -0.4568, -0.4568, -0.4568],\n",
       "           ...,\n",
       "           [-1.3302, -1.3302, -1.3302,  ...,  2.2489,  2.2489,  2.2489],\n",
       "           [-1.2959, -1.2959, -1.2959,  ...,  2.2489,  2.2489,  2.2489],\n",
       "           [-1.2788, -1.2788, -1.2788,  ...,  2.2489,  2.2489,  2.2489]],\n",
       " \n",
       "          [[ 0.1352,  0.1352,  0.1352,  ...,  0.1527,  0.1527,  0.1527],\n",
       "           [ 0.1352,  0.1352,  0.1352,  ...,  0.1527,  0.1527,  0.1527],\n",
       "           [ 0.1352,  0.1352,  0.1352,  ...,  0.1527,  0.1527,  0.1527],\n",
       "           ...,\n",
       "           [-0.8277, -0.8277, -0.8277,  ...,  2.4111,  2.4111,  2.4111],\n",
       "           [-0.7927, -0.7927, -0.7927,  ...,  2.4111,  2.4111,  2.4111],\n",
       "           [-0.7752, -0.7752, -0.7752,  ...,  2.4111,  2.4111,  2.4111]],\n",
       " \n",
       "          [[-0.3055, -0.3055, -0.3055,  ..., -0.4798, -0.4798, -0.4798],\n",
       "           [-0.3055, -0.3055, -0.3055,  ..., -0.4798, -0.4798, -0.4798],\n",
       "           [-0.3055, -0.3055, -0.3055,  ..., -0.4798, -0.4798, -0.4798],\n",
       "           ...,\n",
       "           [-1.3339, -1.3339, -1.3339,  ...,  2.4483,  2.4483,  2.4483],\n",
       "           [-1.2990, -1.2990, -1.2990,  ...,  2.4483,  2.4483,  2.4483],\n",
       "           [-1.2816, -1.2816, -1.2816,  ...,  2.4483,  2.4483,  2.4483]]],\n",
       " \n",
       " \n",
       "         ...,\n",
       " \n",
       " \n",
       "         [[[ 0.3823,  0.6563,  1.4440,  ..., -0.4568, -0.4568, -0.4568],\n",
       "           [ 0.2453,  0.5364,  1.3755,  ..., -0.4739, -0.4739, -0.4739],\n",
       "           [ 0.0227,  0.3138,  1.2385,  ..., -0.5082, -0.5253, -0.5253],\n",
       "           ...,\n",
       "           [-0.6452, -0.6281, -0.6281,  ...,  0.0569,  0.1254,  0.1597],\n",
       "           [-0.3883, -0.4054, -0.4739,  ..., -0.0629, -0.0116,  0.0227],\n",
       "           [-0.2342, -0.2684, -0.3712,  ..., -0.1314, -0.0801, -0.0629]],\n",
       " \n",
       "          [[ 0.5203,  0.8004,  1.6057,  ..., -0.1800, -0.1800, -0.1800],\n",
       "           [ 0.3803,  0.6779,  1.5357,  ..., -0.1975, -0.1975, -0.1975],\n",
       "           [ 0.1527,  0.4503,  1.3957,  ..., -0.2325, -0.2500, -0.2500],\n",
       "           ...,\n",
       "           [-0.4076, -0.3901, -0.3901,  ...,  0.3978,  0.4853,  0.5028],\n",
       "           [-0.1275, -0.1450, -0.2150,  ...,  0.2577,  0.3452,  0.3627],\n",
       "           [ 0.0301, -0.0049, -0.1099,  ...,  0.1877,  0.2577,  0.2752]],\n",
       " \n",
       "          [[ 0.3219,  0.6008,  1.4548,  ..., -0.9504, -0.9504, -0.9504],\n",
       "           [ 0.1651,  0.4614,  1.3502,  ..., -0.9678, -0.9678, -0.9678],\n",
       "           [-0.0790,  0.2348,  1.1934,  ..., -1.0027, -1.0201, -1.0201],\n",
       "           ...,\n",
       "           [-1.4036, -1.4036, -1.3861,  ..., -0.7238, -0.6541, -0.6367],\n",
       "           [-1.1596, -1.1770, -1.2467,  ..., -0.7761, -0.7238, -0.7064],\n",
       "           [-1.0201, -1.0550, -1.1596,  ..., -0.8110, -0.7761, -0.7587]]],\n",
       " \n",
       " \n",
       "         [[[-0.6452, -0.6452, -0.6452,  ..., -0.4226, -0.4226, -0.4226],\n",
       "           [-0.6452, -0.6452, -0.6452,  ..., -0.4739, -0.4739, -0.4739],\n",
       "           [-0.6452, -0.6452, -0.6452,  ..., -0.5596, -0.5596, -0.5596],\n",
       "           ...,\n",
       "           [-0.6281, -0.6281, -0.6281,  ..., -0.6281, -0.6281, -0.6281],\n",
       "           [-0.6965, -0.6965, -0.6965,  ..., -0.6965, -0.6965, -0.6965],\n",
       "           [-0.7479, -0.7479, -0.7479,  ..., -0.7479, -0.7479, -0.7479]],\n",
       " \n",
       "          [[-0.0224, -0.0224, -0.0224,  ...,  0.1352,  0.1352,  0.1352],\n",
       "           [-0.0224, -0.0224, -0.0224,  ...,  0.0826,  0.0826,  0.0826],\n",
       "           [-0.0224, -0.0224, -0.0224,  ..., -0.0049, -0.0049, -0.0049],\n",
       "           ...,\n",
       "           [ 0.0126,  0.0126,  0.0126,  ...,  0.0476,  0.0476,  0.0476],\n",
       "           [-0.0574, -0.0574, -0.0574,  ..., -0.0224, -0.0224, -0.0224],\n",
       "           [-0.1099, -0.1099, -0.1099,  ..., -0.0749, -0.0749, -0.0749]],\n",
       " \n",
       "          [[-0.5670, -0.5670, -0.5670,  ..., -0.3753, -0.3753, -0.3753],\n",
       "           [-0.5670, -0.5670, -0.5670,  ..., -0.4275, -0.4275, -0.4275],\n",
       "           [-0.5670, -0.5670, -0.5670,  ..., -0.5147, -0.5147, -0.5147],\n",
       "           ...,\n",
       "           [-0.6367, -0.6367, -0.6367,  ..., -0.5495, -0.5495, -0.5495],\n",
       "           [-0.7064, -0.7064, -0.7064,  ..., -0.6193, -0.6193, -0.6193],\n",
       "           [-0.7587, -0.7587, -0.7587,  ..., -0.6715, -0.6715, -0.6715]]],\n",
       " \n",
       " \n",
       "         [[[-0.4226, -0.4226, -0.4226,  ..., -0.3883, -0.3883, -0.3883],\n",
       "           [-0.4226, -0.4226, -0.4226,  ..., -0.3883, -0.3883, -0.3883],\n",
       "           [-0.4226, -0.4226, -0.4226,  ..., -0.3883, -0.3883, -0.3883],\n",
       "           ...,\n",
       "           [-0.5253, -0.5253, -0.5253,  ..., -0.5938, -0.5938, -0.5938],\n",
       "           [-0.5253, -0.5253, -0.5253,  ..., -0.5938, -0.5938, -0.5938],\n",
       "           [-0.5082, -0.5082, -0.5082,  ..., -0.5767, -0.5767, -0.5767]],\n",
       " \n",
       "          [[ 0.3978,  0.3978,  0.3978,  ...,  0.3803,  0.3803,  0.3803],\n",
       "           [ 0.3978,  0.3978,  0.3978,  ...,  0.3803,  0.3803,  0.3803],\n",
       "           [ 0.3978,  0.3978,  0.3978,  ...,  0.3803,  0.3803,  0.3803],\n",
       "           ...,\n",
       "           [ 0.1877,  0.1877,  0.1877,  ...,  0.0826,  0.0826,  0.0826],\n",
       "           [ 0.1877,  0.1877,  0.1877,  ...,  0.0826,  0.0826,  0.0826],\n",
       "           [ 0.2052,  0.2052,  0.2052,  ...,  0.1001,  0.1001,  0.1001]],\n",
       " \n",
       "          [[-0.9156, -0.9156, -0.8981,  ..., -0.7936, -0.7936, -0.7936],\n",
       "           [-0.9156, -0.9156, -0.8981,  ..., -0.7936, -0.7936, -0.7936],\n",
       "           [-0.9156, -0.9156, -0.9156,  ..., -0.7936, -0.7936, -0.7936],\n",
       "           ...,\n",
       "           [-0.9330, -0.9330, -0.9330,  ..., -0.8807, -0.8807, -0.8807],\n",
       "           [-0.9330, -0.9330, -0.9330,  ..., -0.8458, -0.8458, -0.8458],\n",
       "           [-0.9156, -0.9156, -0.9156,  ..., -0.8110, -0.8110, -0.8110]]]]),\n",
       " tensor([0, 0, 0, 0, 0, 0, 0, 0, 0, 0, 0, 0, 0, 0, 0, 0, 0, 0, 1, 0, 0, 0, 1, 0,\n",
       "         0, 0, 0, 0, 0, 0, 0, 0])]"
      ]
     },
     "execution_count": 178,
     "metadata": {},
     "output_type": "execute_result"
    }
   ],
   "source": [
    "# get one batch\n",
    "images, labels = next(iter(loader_train))\n",
    "# check the batch size\n",
    "print(f'Batch size: {len(images)}')\n",
    "print(f'Data shape: {images.shape}')\n",
    "print(\"One batch of labels from the train loader:\")\n",
    "next(iter(loader_train))"
   ]
  },
  {
   "cell_type": "markdown",
   "id": "674e3b41",
   "metadata": {},
   "source": [
    "## Load the efficientnet model"
   ]
  },
  {
   "cell_type": "code",
   "execution_count": 179,
   "id": "82a7ff77",
   "metadata": {},
   "outputs": [],
   "source": [
    "def build_model(pretrained=True, fine_tune=True, num_classes=1):\n",
    "    \"\"\"\n",
    "    Returns en efficientnetB0 classifier model\n",
    "    \"\"\"\n",
    "    if pretrained:\n",
    "        print('[INFO]: Loading pre-trained weights')\n",
    "    else:\n",
    "        print('[INFO]: Not loading pre-trained weights')\n",
    "    model = models.efficientnet_b0(pretrained=pretrained)\n",
    "    if fine_tune:\n",
    "        print('[INFO]: Fine-tuning all layers...')\n",
    "        for params in model.parameters():\n",
    "            params.requires_grad = True\n",
    "    elif not fine_tune:\n",
    "        print('[INFO]: Freezing hidden layers...')\n",
    "        for params in model.parameters():\n",
    "            params.requires_grad = False\n",
    "    # Change the final classification head.\n",
    "    model.classifier[1] = nn.Linear(in_features=1280, out_features=num_classes)\n",
    "    return model"
   ]
  },
  {
   "cell_type": "code",
   "execution_count": 180,
   "id": "ed71a993",
   "metadata": {},
   "outputs": [
    {
     "name": "stdout",
     "output_type": "stream",
     "text": [
      "[INFO]: Loading pre-trained weights\n",
      "[INFO]: Fine-tuning all layers...\n"
     ]
    }
   ],
   "source": [
    "model = build_model(num_classes=1) # 1 class for binary output"
   ]
  },
  {
   "cell_type": "markdown",
   "id": "d20e93d2",
   "metadata": {},
   "source": [
    "## Model Training"
   ]
  },
  {
   "cell_type": "markdown",
   "id": "02a0a4a3",
   "metadata": {},
   "source": [
    "### Training Utils"
   ]
  },
  {
   "cell_type": "code",
   "execution_count": 181,
   "id": "ffbfc21b",
   "metadata": {},
   "outputs": [],
   "source": [
    "class Averager():\n",
    "    \"\"\"\n",
    "    An Averager keeps track of the training and validation loss values\n",
    "    and helps to get the average for each epoch as well\n",
    "    \"\"\"\n",
    "    def __init__(self):\n",
    "        self.current_total = 0.0\n",
    "        self.iterations = 0.0\n",
    "\n",
    "    def send(self, value):\n",
    "        self.current_total += value\n",
    "        self.iterations += 1\n",
    "\n",
    "    @property\n",
    "    def value(self):\n",
    "        if self.iterations == 0:\n",
    "            return 0\n",
    "        else:\n",
    "            return 1.0 * self.current_total / self.iterations\n",
    "\n",
    "    def reset(self):\n",
    "        self.current_total = 0.0\n",
    "        self.iterations = 0.0"
   ]
  },
  {
   "cell_type": "code",
   "execution_count": 182,
   "id": "ebb45b22",
   "metadata": {},
   "outputs": [],
   "source": [
    "def save_loss_plot(output_dir, mean_train_loss, mean_valid_loss, epoch_num, model_name):\n",
    "    \"\"\"\n",
    "    Save plots with the loss curves of the model training\n",
    "    \"\"\"\n",
    "    fig, ax = plt.subplots(figsize=(15,10))\n",
    "\n",
    "    ax.plot(np.arange(epoch_num)+1, mean_train_loss, label='Training loss')\n",
    "    ax.plot(np.arange(epoch_num)+1, mean_valid_loss, label='Validation Loss')\n",
    "    \n",
    "    ax.set_xticks(np.arange(1, epoch_num+1, step=1))\n",
    "    if (epoch_num > 20):\n",
    "        ax.set_xticks(np.arange(0, epoch_num+1, step=2))\n",
    "    if(epoch_num > 50):\n",
    "        ax.set_xticks(np.arange(0, epoch_num+1, step=5))\n",
    "    if(epoch_num > 100):\n",
    "        ax.set_xticks(np.arange(0, epoch_num+1, step=10))\n",
    "    if(epoch_num > 1000):\n",
    "        ax.set_xticks(np.arange(0, epoch_num+1, step=100))\n",
    "        \n",
    "    ax.set_ylabel('Loss')\n",
    "    ax.set_xlabel('Epochs')\n",
    "    ax.set_title('Loss Curves')\n",
    "    ax.legend()\n",
    "    fig.savefig(f\"{output_dir}/{model_name}_epoch_loss.png\")\n",
    "\n",
    "    print('SAVING PLOTS COMPLETE...')\n",
    "\n",
    "    plt.close('all')"
   ]
  },
  {
   "cell_type": "code",
   "execution_count": null,
   "id": "eb4841d9",
   "metadata": {},
   "outputs": [],
   "source": [
    "def save_model(epoch, model, optimizer, model_name='model', out_dir='.'):\n",
    "    \"\"\"\n",
    "    Function to save the trained model\n",
    "    \"\"\"\n",
    "    torch.save({\n",
    "                'epoch': epoch+1,\n",
    "                'model_state_dict': model.state_dict(),\n",
    "                'optimizer_state_dict': optimizer.state_dict(),\n",
    "                }, f'{out_dir}/{model_name}.pth')\n",
    "\n",
    "    \n",
    "class SaveBestModel:\n",
    "    \"\"\"\n",
    "    Class to save the best model while training. If the current epoch's \n",
    "    validation loss is less than the previous least less, then save the\n",
    "    model state.\n",
    "    \"\"\"\n",
    "    def __init__(\n",
    "        self, best_valid_loss=float('inf'), model_name='model'\n",
    "    ):\n",
    "        self.best_valid_loss = best_valid_loss\n",
    "        self.non_improve_iters = 0\n",
    "        self.model_name = model_name\n",
    "        \n",
    "    def __call__(\n",
    "        self, current_valid_loss, \n",
    "        epoch, model, optimizer, out_dir='.'\n",
    "    ):\n",
    "        if current_valid_loss < self.best_valid_loss:\n",
    "            self.non_improve_iters = 0\n",
    "            self.best_valid_loss = current_valid_loss\n",
    "            print(f\"\\nBest validation loss: {self.best_valid_loss}\")\n",
    "            print(f\"\\nSaving best model for epoch: {epoch+1}\\n\")\n",
    "            model_name = f'bm_{self.model_name}_epoch_{epoch+1}'\n",
    "            save_model(epoch, model, optimizer, model_name, out_dir)\n",
    "        else:\n",
    "            self.non_improve_iters += 1"
   ]
  },
  {
   "cell_type": "markdown",
   "id": "49bd4c60",
   "metadata": {},
   "source": [
    "### Training 1 epoch"
   ]
  },
  {
   "cell_type": "code",
   "execution_count": 184,
   "id": "5363595a",
   "metadata": {},
   "outputs": [],
   "source": [
    "def train_one_epoch(model, data_loader, criterion, optimizer, device, train_loss_averager):\n",
    "    \"\"\"\n",
    "    Function that trains the given model for one epoch \n",
    "    with the given data loader\n",
    "    \"\"\"\n",
    "    # activate model training mode in case its in evaluation mode\n",
    "    model.train()\n",
    "    # initialize tqdm progress bar\n",
    "    prog_bar = tqdm(data_loader, total=len(data_loader))\n",
    "    for i, (inputs, labels) in enumerate(prog_bar):\n",
    "        # send data to device\n",
    "        inputs = inputs.to(device)\n",
    "        labels = labels.to(device).to(torch.float32)\n",
    "        # reset the gradient accummulation from the previous batch\n",
    "        optimizer.zero_grad()\n",
    "        # make a prediction with the model\n",
    "        prediction = model(inputs).to(torch.float32).squeeze(dim=1)\n",
    "        # compute the loss \n",
    "        loss = criterion(prediction, labels)\n",
    "        # save loss values to the averaher\n",
    "        train_loss_averager.send(loss.item())\n",
    "        # backpropagate the loss gradient\n",
    "        loss.backward()\n",
    "        # uptade parameters\n",
    "        optimizer.step()\n",
    "\n",
    "        # print the mean batch loss at each iteration\n",
    "        prog_bar.set_description(desc=f\"Training Loss: {train_loss_averager.value:.4f}\")"
   ]
  },
  {
   "cell_type": "markdown",
   "id": "ce428fcb",
   "metadata": {},
   "source": [
    "### Validate Function"
   ]
  },
  {
   "cell_type": "code",
   "execution_count": 185,
   "id": "176ff1f3",
   "metadata": {},
   "outputs": [],
   "source": [
    "def validate_model(model, data_loader, criterion, device, val_loss_averager):\n",
    "    \"\"\"\n",
    "    Uses the model on all the data from the data loader and \n",
    "    returns the predictions and the true targets. It also updates\n",
    "    the loss averager\n",
    "    \"\"\"\n",
    "    # initialize tqdm progress bar\n",
    "    prog_bar = tqdm(data_loader, total=len(data_loader))\n",
    "    loss_list = np.array([])\n",
    "    total_predictions = torch.tensor([]).to(device)\n",
    "    total_target_labels = torch.tensor([]).to(device)\n",
    "    \n",
    "    for i, (inputs, labels) in enumerate(prog_bar):\n",
    "        # send data to device\n",
    "        inputs = inputs.to(device)\n",
    "        labels = labels.to(device).to(torch.float32)\n",
    "        # make a prediction with the model in evaluation mode\n",
    "        with torch.no_grad():\n",
    "            # activate evaluation mode for batchnorm layers\n",
    "            model.eval()\n",
    "            prediction = model(inputs).to(torch.float32).squeeze(dim=1)\n",
    "\n",
    "        # add batch predictions and true labels to total lists\n",
    "        total_predictions = torch.cat((total_predictions, prediction), dim=0)    \n",
    "        total_target_labels = torch.cat((total_target_labels, labels), dim=0)    \n",
    "            \n",
    "        # compute the loss \n",
    "        loss = criterion(prediction, labels)\n",
    "        # update loss averager\n",
    "        val_loss_averager.send(loss.item())\n",
    "        \n",
    "        # print the mean batch loss at each iteration\n",
    "        prog_bar.set_description(desc=f\"Validation Loss: {val_loss_averager.value:.4f}\")\n",
    "    \n",
    "    # convert to numpy integer arrays\n",
    "#     y_pred = total_predictions.argmax(dim=1).cpu().numpy()\n",
    "#     y_true = total_target_labels.cpu().numpy().astype(int)\n",
    "#     # print evaluation metrics\n",
    "#     accuracy = (y_true == y_pred).sum() / len(y_true)\n",
    "#     print(f'Validation Accuracy: {accuracy*100:.4f}%')\n",
    "\n",
    "    # return total predictions and total true_labels\n",
    "    return total_predictions, total_target_labels"
   ]
  },
  {
   "cell_type": "markdown",
   "id": "acdb7801",
   "metadata": {},
   "source": [
    "### Constants"
   ]
  },
  {
   "cell_type": "code",
   "execution_count": null,
   "id": "d741f4d3",
   "metadata": {},
   "outputs": [],
   "source": [
    "CLASSES = ['0', '1']\n",
    "# detect the device (GPU or CPU)\n",
    "DEVICE = torch.device('cuda') if torch.cuda.is_available() else torch.device('cpu')\n",
    "# set the number of epochs\n",
    "EPOCHS = 20\n",
    "# set the learning rate\n",
    "LR = 0.001\n",
    "# maximum iterations with no validation set improvement until early stoping\n",
    "EARLY_STOP= 5\n",
    "\n",
    "MODEL_NAME = 'efficientnet_CLS_ground_v1'\n",
    "MODEL_DIR = 'trained_models'\n",
    "PLOT_DIR = 'training_plots'\n",
    "\n",
    "!mkdir {MODEL_DIR}\n",
    "!mkdir {PLOT_DIR}"
   ]
  },
  {
   "cell_type": "markdown",
   "id": "17d5467f",
   "metadata": {},
   "source": [
    "### Main training loop"
   ]
  },
  {
   "cell_type": "code",
   "execution_count": 189,
   "id": "27823da9",
   "metadata": {},
   "outputs": [
    {
     "name": "stdout",
     "output_type": "stream",
     "text": [
      "[INFO]: Loading pre-trained weights\n",
      "[INFO]: Fine-tuning all layers...\n",
      "Starting epoch 1\n"
     ]
    },
    {
     "data": {
      "application/vnd.jupyter.widget-view+json": {
       "model_id": "35c07c4a70054b4eaefea7e03d8fbf00",
       "version_major": 2,
       "version_minor": 0
      },
      "text/plain": [
       "  0%|          | 0/8130 [00:00<?, ?it/s]"
      ]
     },
     "metadata": {},
     "output_type": "display_data"
    },
    {
     "data": {
      "application/vnd.jupyter.widget-view+json": {
       "model_id": "2f140ed318c44b228223296d80f26047",
       "version_major": 2,
       "version_minor": 0
      },
      "text/plain": [
       "  0%|          | 0/2032 [00:00<?, ?it/s]"
      ]
     },
     "metadata": {},
     "output_type": "display_data"
    },
    {
     "name": "stdout",
     "output_type": "stream",
     "text": [
      "Epoch #1 train_loss: 0.137\n",
      "Epoch #1 validation_loss: 0.132\n",
      "Took 1299.881 seconds for epoch 1\n",
      "\n",
      "Best validation loss: 0.13243919945419141\n",
      "\n",
      "Saving best model for epoch: 1\n",
      "\n",
      "SAVING PLOTS COMPLETE...\n",
      "\n",
      "\n",
      "Starting epoch 2\n"
     ]
    },
    {
     "data": {
      "application/vnd.jupyter.widget-view+json": {
       "model_id": "a0145d2b9ab44bcfa89460443755ba8d",
       "version_major": 2,
       "version_minor": 0
      },
      "text/plain": [
       "  0%|          | 0/8130 [00:00<?, ?it/s]"
      ]
     },
     "metadata": {},
     "output_type": "display_data"
    },
    {
     "data": {
      "application/vnd.jupyter.widget-view+json": {
       "model_id": "34e36af06633407fa3d75e11c8f0c612",
       "version_major": 2,
       "version_minor": 0
      },
      "text/plain": [
       "  0%|          | 0/2032 [00:00<?, ?it/s]"
      ]
     },
     "metadata": {},
     "output_type": "display_data"
    },
    {
     "name": "stdout",
     "output_type": "stream",
     "text": [
      "Epoch #2 train_loss: 0.122\n",
      "Epoch #2 validation_loss: 0.115\n",
      "Took 1242.158 seconds for epoch 2\n",
      "\n",
      "Best validation loss: 0.11548024352491415\n",
      "\n",
      "Saving best model for epoch: 2\n",
      "\n",
      "SAVING PLOTS COMPLETE...\n",
      "\n",
      "\n",
      "Starting epoch 3\n"
     ]
    },
    {
     "data": {
      "application/vnd.jupyter.widget-view+json": {
       "model_id": "c8546360409842f384dd6a21840e8c17",
       "version_major": 2,
       "version_minor": 0
      },
      "text/plain": [
       "  0%|          | 0/8130 [00:00<?, ?it/s]"
      ]
     },
     "metadata": {},
     "output_type": "display_data"
    },
    {
     "data": {
      "application/vnd.jupyter.widget-view+json": {
       "model_id": "af0a1662d13e48879787c08a565ae252",
       "version_major": 2,
       "version_minor": 0
      },
      "text/plain": [
       "  0%|          | 0/2032 [00:00<?, ?it/s]"
      ]
     },
     "metadata": {},
     "output_type": "display_data"
    },
    {
     "name": "stdout",
     "output_type": "stream",
     "text": [
      "Epoch #3 train_loss: 0.114\n",
      "Epoch #3 validation_loss: 0.109\n",
      "Took 1224.076 seconds for epoch 3\n",
      "\n",
      "Best validation loss: 0.10908313084019744\n",
      "\n",
      "Saving best model for epoch: 3\n",
      "\n",
      "SAVING PLOTS COMPLETE...\n",
      "\n",
      "\n",
      "Starting epoch 4\n"
     ]
    },
    {
     "data": {
      "application/vnd.jupyter.widget-view+json": {
       "model_id": "0368893350924085bf5ec03ea09aa1b4",
       "version_major": 2,
       "version_minor": 0
      },
      "text/plain": [
       "  0%|          | 0/8130 [00:00<?, ?it/s]"
      ]
     },
     "metadata": {},
     "output_type": "display_data"
    },
    {
     "data": {
      "application/vnd.jupyter.widget-view+json": {
       "model_id": "c3cd4a51ad2b4fa4ace4c3e389ba955f",
       "version_major": 2,
       "version_minor": 0
      },
      "text/plain": [
       "  0%|          | 0/2032 [00:00<?, ?it/s]"
      ]
     },
     "metadata": {},
     "output_type": "display_data"
    },
    {
     "name": "stdout",
     "output_type": "stream",
     "text": [
      "Epoch #4 train_loss: 0.107\n",
      "Epoch #4 validation_loss: 0.108\n",
      "Took 1257.419 seconds for epoch 4\n",
      "\n",
      "Best validation loss: 0.10763951274039275\n",
      "\n",
      "Saving best model for epoch: 4\n",
      "\n",
      "SAVING PLOTS COMPLETE...\n",
      "\n",
      "\n",
      "Starting epoch 5\n"
     ]
    },
    {
     "data": {
      "application/vnd.jupyter.widget-view+json": {
       "model_id": "b70bddac64c045a2821968f53051ade5",
       "version_major": 2,
       "version_minor": 0
      },
      "text/plain": [
       "  0%|          | 0/8130 [00:00<?, ?it/s]"
      ]
     },
     "metadata": {},
     "output_type": "display_data"
    },
    {
     "data": {
      "application/vnd.jupyter.widget-view+json": {
       "model_id": "46da355894b94ac6bb407d8f204d2922",
       "version_major": 2,
       "version_minor": 0
      },
      "text/plain": [
       "  0%|          | 0/2032 [00:00<?, ?it/s]"
      ]
     },
     "metadata": {},
     "output_type": "display_data"
    },
    {
     "name": "stdout",
     "output_type": "stream",
     "text": [
      "Epoch #5 train_loss: 0.102\n",
      "Epoch #5 validation_loss: 0.106\n",
      "Took 1259.070 seconds for epoch 5\n",
      "\n",
      "Best validation loss: 0.10556014918989876\n",
      "\n",
      "Saving best model for epoch: 5\n",
      "\n",
      "SAVING PLOTS COMPLETE...\n",
      "\n",
      "\n",
      "Starting epoch 6\n"
     ]
    },
    {
     "data": {
      "application/vnd.jupyter.widget-view+json": {
       "model_id": "795d2c3ec8ec4c639cb67b0e5ae2ae74",
       "version_major": 2,
       "version_minor": 0
      },
      "text/plain": [
       "  0%|          | 0/8130 [00:00<?, ?it/s]"
      ]
     },
     "metadata": {},
     "output_type": "display_data"
    },
    {
     "data": {
      "application/vnd.jupyter.widget-view+json": {
       "model_id": "f4b020bb340f40b88451723b14563b36",
       "version_major": 2,
       "version_minor": 0
      },
      "text/plain": [
       "  0%|          | 0/2032 [00:00<?, ?it/s]"
      ]
     },
     "metadata": {},
     "output_type": "display_data"
    },
    {
     "name": "stdout",
     "output_type": "stream",
     "text": [
      "Epoch #6 train_loss: 0.087\n",
      "Epoch #6 validation_loss: 0.100\n",
      "Took 1248.076 seconds for epoch 6\n",
      "\n",
      "Best validation loss: 0.10003585395837243\n",
      "\n",
      "Saving best model for epoch: 6\n",
      "\n",
      "SAVING PLOTS COMPLETE...\n",
      "\n",
      "\n",
      "Starting epoch 7\n"
     ]
    },
    {
     "data": {
      "application/vnd.jupyter.widget-view+json": {
       "model_id": "9d2a4e8868134e699d9274e7eb493843",
       "version_major": 2,
       "version_minor": 0
      },
      "text/plain": [
       "  0%|          | 0/8130 [00:00<?, ?it/s]"
      ]
     },
     "metadata": {},
     "output_type": "display_data"
    },
    {
     "data": {
      "application/vnd.jupyter.widget-view+json": {
       "model_id": "486e61085a374da5b1000dbc94112482",
       "version_major": 2,
       "version_minor": 0
      },
      "text/plain": [
       "  0%|          | 0/2032 [00:00<?, ?it/s]"
      ]
     },
     "metadata": {},
     "output_type": "display_data"
    },
    {
     "name": "stdout",
     "output_type": "stream",
     "text": [
      "Epoch #7 train_loss: 0.079\n",
      "Epoch #7 validation_loss: 0.105\n",
      "Took 1279.457 seconds for epoch 7\n",
      "SAVING PLOTS COMPLETE...\n",
      "\n",
      "\n",
      "Starting epoch 8\n"
     ]
    },
    {
     "data": {
      "application/vnd.jupyter.widget-view+json": {
       "model_id": "fd0414d632c3485eab8f25b70601d1ef",
       "version_major": 2,
       "version_minor": 0
      },
      "text/plain": [
       "  0%|          | 0/8130 [00:00<?, ?it/s]"
      ]
     },
     "metadata": {},
     "output_type": "display_data"
    },
    {
     "data": {
      "application/vnd.jupyter.widget-view+json": {
       "model_id": "c610c704ad4a4d37a0df93a4b8b0ff49",
       "version_major": 2,
       "version_minor": 0
      },
      "text/plain": [
       "  0%|          | 0/2032 [00:00<?, ?it/s]"
      ]
     },
     "metadata": {},
     "output_type": "display_data"
    },
    {
     "name": "stdout",
     "output_type": "stream",
     "text": [
      "Epoch #8 train_loss: 0.072\n",
      "Epoch #8 validation_loss: 0.106\n",
      "Took 1275.640 seconds for epoch 8\n",
      "SAVING PLOTS COMPLETE...\n",
      "\n",
      "\n",
      "Starting epoch 9\n"
     ]
    },
    {
     "data": {
      "application/vnd.jupyter.widget-view+json": {
       "model_id": "cd2ea9e244f143ad9c5f0c28881d98ac",
       "version_major": 2,
       "version_minor": 0
      },
      "text/plain": [
       "  0%|          | 0/8130 [00:00<?, ?it/s]"
      ]
     },
     "metadata": {},
     "output_type": "display_data"
    },
    {
     "data": {
      "application/vnd.jupyter.widget-view+json": {
       "model_id": "22ef2eb3ca844bd598b96a82d8cdf58a",
       "version_major": 2,
       "version_minor": 0
      },
      "text/plain": [
       "  0%|          | 0/2032 [00:00<?, ?it/s]"
      ]
     },
     "metadata": {},
     "output_type": "display_data"
    },
    {
     "name": "stdout",
     "output_type": "stream",
     "text": [
      "Epoch #9 train_loss: 0.067\n",
      "Epoch #9 validation_loss: 0.113\n",
      "Took 1257.132 seconds for epoch 9\n",
      "SAVING PLOTS COMPLETE...\n",
      "\n",
      "\n",
      "Starting epoch 10\n"
     ]
    },
    {
     "data": {
      "application/vnd.jupyter.widget-view+json": {
       "model_id": "e52abf77a52e40f98769eed759ed324a",
       "version_major": 2,
       "version_minor": 0
      },
      "text/plain": [
       "  0%|          | 0/8130 [00:00<?, ?it/s]"
      ]
     },
     "metadata": {},
     "output_type": "display_data"
    },
    {
     "data": {
      "application/vnd.jupyter.widget-view+json": {
       "model_id": "46bd6aac91444f7ab1e09cfded54db58",
       "version_major": 2,
       "version_minor": 0
      },
      "text/plain": [
       "  0%|          | 0/2032 [00:00<?, ?it/s]"
      ]
     },
     "metadata": {},
     "output_type": "display_data"
    },
    {
     "name": "stdout",
     "output_type": "stream",
     "text": [
      "Epoch #10 train_loss: 0.063\n",
      "Epoch #10 validation_loss: 0.112\n",
      "Took 1273.525 seconds for epoch 10\n",
      "SAVING PLOTS COMPLETE...\n",
      "\n",
      "\n",
      "Starting epoch 11\n"
     ]
    },
    {
     "data": {
      "application/vnd.jupyter.widget-view+json": {
       "model_id": "40091a87ded54eca8ab2c0346c2078b0",
       "version_major": 2,
       "version_minor": 0
      },
      "text/plain": [
       "  0%|          | 0/8130 [00:00<?, ?it/s]"
      ]
     },
     "metadata": {},
     "output_type": "display_data"
    },
    {
     "ename": "KeyboardInterrupt",
     "evalue": "",
     "output_type": "error",
     "traceback": [
      "\u001b[1;31m---------------------------------------------------------------------------\u001b[0m",
      "\u001b[1;31mKeyboardInterrupt\u001b[0m                         Traceback (most recent call last)",
      "\u001b[1;32m~\\AppData\\Local\\Temp\\ipykernel_5348\\3231804321.py\u001b[0m in \u001b[0;36m<module>\u001b[1;34m\u001b[0m\n\u001b[0;32m     29\u001b[0m     \u001b[1;31m# train one epoch\u001b[0m\u001b[1;33m\u001b[0m\u001b[1;33m\u001b[0m\u001b[1;33m\u001b[0m\u001b[0m\n\u001b[0;32m     30\u001b[0m     train_one_epoch(model, loader_train, criterion, optimizer, \n\u001b[1;32m---> 31\u001b[1;33m                     DEVICE, train_loss_hist)\n\u001b[0m\u001b[0;32m     32\u001b[0m     \u001b[1;31m# update the lr scheduler\u001b[0m\u001b[1;33m\u001b[0m\u001b[1;33m\u001b[0m\u001b[1;33m\u001b[0m\u001b[0m\n\u001b[0;32m     33\u001b[0m     \u001b[0mscheduler\u001b[0m\u001b[1;33m.\u001b[0m\u001b[0mstep\u001b[0m\u001b[1;33m(\u001b[0m\u001b[1;33m)\u001b[0m\u001b[1;33m\u001b[0m\u001b[1;33m\u001b[0m\u001b[0m\n",
      "\u001b[1;32m~\\AppData\\Local\\Temp\\ipykernel_5348\\144075229.py\u001b[0m in \u001b[0;36mtrain_one_epoch\u001b[1;34m(model, data_loader, criterion, optimizer, device, train_loss_averager)\u001b[0m\n\u001b[0;32m     21\u001b[0m         \u001b[0mtrain_loss_averager\u001b[0m\u001b[1;33m.\u001b[0m\u001b[0msend\u001b[0m\u001b[1;33m(\u001b[0m\u001b[0mloss\u001b[0m\u001b[1;33m.\u001b[0m\u001b[0mitem\u001b[0m\u001b[1;33m(\u001b[0m\u001b[1;33m)\u001b[0m\u001b[1;33m)\u001b[0m\u001b[1;33m\u001b[0m\u001b[1;33m\u001b[0m\u001b[0m\n\u001b[0;32m     22\u001b[0m         \u001b[1;31m# backpropagate the loss gradient\u001b[0m\u001b[1;33m\u001b[0m\u001b[1;33m\u001b[0m\u001b[1;33m\u001b[0m\u001b[0m\n\u001b[1;32m---> 23\u001b[1;33m         \u001b[0mloss\u001b[0m\u001b[1;33m.\u001b[0m\u001b[0mbackward\u001b[0m\u001b[1;33m(\u001b[0m\u001b[1;33m)\u001b[0m\u001b[1;33m\u001b[0m\u001b[1;33m\u001b[0m\u001b[0m\n\u001b[0m\u001b[0;32m     24\u001b[0m         \u001b[1;31m# uptade parameters\u001b[0m\u001b[1;33m\u001b[0m\u001b[1;33m\u001b[0m\u001b[1;33m\u001b[0m\u001b[0m\n\u001b[0;32m     25\u001b[0m         \u001b[0moptimizer\u001b[0m\u001b[1;33m.\u001b[0m\u001b[0mstep\u001b[0m\u001b[1;33m(\u001b[0m\u001b[1;33m)\u001b[0m\u001b[1;33m\u001b[0m\u001b[1;33m\u001b[0m\u001b[0m\n",
      "\u001b[1;32m~\\.conda\\envs\\contact\\lib\\site-packages\\torch\\_tensor.py\u001b[0m in \u001b[0;36mbackward\u001b[1;34m(self, gradient, retain_graph, create_graph, inputs)\u001b[0m\n\u001b[0;32m    487\u001b[0m             )\n\u001b[0;32m    488\u001b[0m         torch.autograd.backward(\n\u001b[1;32m--> 489\u001b[1;33m             \u001b[0mself\u001b[0m\u001b[1;33m,\u001b[0m \u001b[0mgradient\u001b[0m\u001b[1;33m,\u001b[0m \u001b[0mretain_graph\u001b[0m\u001b[1;33m,\u001b[0m \u001b[0mcreate_graph\u001b[0m\u001b[1;33m,\u001b[0m \u001b[0minputs\u001b[0m\u001b[1;33m=\u001b[0m\u001b[0minputs\u001b[0m\u001b[1;33m\u001b[0m\u001b[1;33m\u001b[0m\u001b[0m\n\u001b[0m\u001b[0;32m    490\u001b[0m         )\n\u001b[0;32m    491\u001b[0m \u001b[1;33m\u001b[0m\u001b[0m\n",
      "\u001b[1;32m~\\.conda\\envs\\contact\\lib\\site-packages\\torch\\autograd\\__init__.py\u001b[0m in \u001b[0;36mbackward\u001b[1;34m(tensors, grad_tensors, retain_graph, create_graph, grad_variables, inputs)\u001b[0m\n\u001b[0;32m    197\u001b[0m     Variable._execution_engine.run_backward(  # Calls into the C++ engine to run the backward pass\n\u001b[0;32m    198\u001b[0m         \u001b[0mtensors\u001b[0m\u001b[1;33m,\u001b[0m \u001b[0mgrad_tensors_\u001b[0m\u001b[1;33m,\u001b[0m \u001b[0mretain_graph\u001b[0m\u001b[1;33m,\u001b[0m \u001b[0mcreate_graph\u001b[0m\u001b[1;33m,\u001b[0m \u001b[0minputs\u001b[0m\u001b[1;33m,\u001b[0m\u001b[1;33m\u001b[0m\u001b[1;33m\u001b[0m\u001b[0m\n\u001b[1;32m--> 199\u001b[1;33m         allow_unreachable=True, accumulate_grad=True)  # Calls into the C++ engine to run the backward pass\n\u001b[0m\u001b[0;32m    200\u001b[0m \u001b[1;33m\u001b[0m\u001b[0m\n\u001b[0;32m    201\u001b[0m def grad(\n",
      "\u001b[1;31mKeyboardInterrupt\u001b[0m: "
     ]
    }
   ],
   "source": [
    "# initialize model and send to device\n",
    "model = build_model(num_classes=1) # 1 output for binary prediction\n",
    "model = model.to(DEVICE)\n",
    "# initialize Adam optimizer with default parameters (like the paper)\n",
    "optimizer = Adam(model.parameters(), lr=LR)\n",
    "# so it halves the learning rate every 5 epochs\n",
    "scheduler = lr_scheduler.StepLR(optimizer, step_size=5, gamma=0.5)\n",
    "# initialize loss function (sigmoid + binary cross entropy)\n",
    "criterion = nn.BCEWithLogitsLoss()\n",
    "\n",
    "# initialize the loss Averager class\n",
    "train_loss_hist = Averager()\n",
    "val_loss_hist = Averager()\n",
    "# initialize SaveBestModel class\n",
    "save_best_model = SaveBestModel(model_name=MODEL_NAME)\n",
    "# mean losses for train and validation at every epoch\n",
    "mean_train_losses = []\n",
    "mean_validation_losses = []\n",
    "\n",
    "# epoch loop\n",
    "for epoch in range(EPOCHS):\n",
    "    print(f\"Starting epoch {epoch+1}\")\n",
    "    # reset the training and valitation loss histories for the current epoch\n",
    "    train_loss_hist.reset()\n",
    "    val_loss_hist.reset()\n",
    "\n",
    "    # start timer and carry out training and evaluation\n",
    "    start = time.time()\n",
    "    # train one epoch\n",
    "    train_one_epoch(model, loader_train, criterion, optimizer, \n",
    "                    DEVICE, train_loss_hist)\n",
    "    # update the lr scheduler\n",
    "    scheduler.step()\n",
    "    #evaluate the model\n",
    "    y_pred, y_true = validate_model(model, loader_test, criterion,\n",
    "                                    DEVICE, val_loss_hist)\n",
    "    \n",
    "    print(f\"Epoch #{epoch+1} train_loss: {train_loss_hist.value:.3f}\")\n",
    "    print(f\"Epoch #{epoch+1} validation_loss: {val_loss_hist.value:.3f}\")\n",
    "    end = time.time()\n",
    "    print(f\"Took {(end - start):.3f} seconds for epoch {epoch+1}\")\n",
    "\n",
    "    # save the mean train and validation losses of this epoch\n",
    "    mean_train_losses.append(train_loss_hist.value)\n",
    "    mean_validation_losses.append(val_loss_hist.value)\n",
    "\n",
    "    # save the best model until now if we have the minimum val loss this epoch\n",
    "    save_best_model(val_loss_hist.value, epoch, model, optimizer, \n",
    "                    out_dir=MODEL_DIR)\n",
    "    \n",
    "    #save the current epoch model\n",
    "    save_model(epoch, model, optimizer, model_name=MODEL_NAME,\n",
    "               out_dir=MODEL_DIR)\n",
    "\n",
    "    #save the loss plot\n",
    "    save_loss_plot('training_plots', mean_train_losses, mean_validation_losses, \n",
    "                   epoch+1, MODEL_NAME)\n",
    "    print('\\n')\n",
    "\n",
    "print('Training done')"
   ]
  },
  {
   "cell_type": "code",
   "execution_count": 200,
   "id": "83e673f0",
   "metadata": {},
   "outputs": [
    {
     "name": "stdout",
     "output_type": "stream",
     "text": [
      "Best valid loss: 0.10004\n"
     ]
    },
    {
     "data": {
      "image/png": "[encoded data removed]",
      "text/plain": [
       "<PIL.PngImagePlugin.PngImageFile image mode=RGBA size=1500x1000>"
      ]
     },
     "execution_count": 200,
     "metadata": {},
     "output_type": "execute_result"
    }
   ],
   "source": [
    "print(f\"Best valid loss: {save_best_model.best_valid_loss:.5f}\")\n",
    "Image.open(f'{PLOT_DIR}/{MODEL_NAME}_epoch_loss.png')"
   ]
  },
  {
   "cell_type": "markdown",
   "id": "e46a6cf1",
   "metadata": {},
   "source": [
    "## Check Predictions"
   ]
  },
  {
   "cell_type": "markdown",
   "id": "ddf66833",
   "metadata": {},
   "source": [
    "### Load model"
   ]
  },
  {
   "cell_type": "code",
   "execution_count": 195,
   "id": "be2bbc87",
   "metadata": {},
   "outputs": [],
   "source": [
    "def load_model(model_path, num_classes, device):\n",
    "    \"\"\"\n",
    "    Returns a efficientnet model with the weights from the saved model\n",
    "    \"\"\"\n",
    "    model = models.efficientnet_b0(pretrained=True)\n",
    "    # Change the final classification head.\n",
    "    model.classifier[1] = nn.Linear(in_features=1280, out_features=num_classes)\n",
    "    checkpoint = torch.load(model_path, map_location=device)\n",
    "    model.load_state_dict(checkpoint['model_state_dict'])\n",
    "    model.to(device).eval();\n",
    "    \n",
    "    return model"
   ]
  },
  {
   "cell_type": "code",
   "execution_count": 196,
   "id": "9c175314",
   "metadata": {},
   "outputs": [],
   "source": [
    "#load the best model on the validation set\n",
    "best_model_path = os.path.join(MODEL_DIR, 'best_model_efficientnet_CLS_v1_epoch_6.pth')\n",
    "best_model = load_model(best_model_path, 1, DEVICE)"
   ]
  },
  {
   "cell_type": "markdown",
   "id": "f549b02f",
   "metadata": {},
   "source": [
    "### Check validation set"
   ]
  },
  {
   "cell_type": "code",
   "execution_count": 197,
   "id": "baf5c03e",
   "metadata": {},
   "outputs": [
    {
     "data": {
      "application/vnd.jupyter.widget-view+json": {
       "model_id": "d4f7ec8d21e74aad96c89dd6c117cdca",
       "version_major": 2,
       "version_minor": 0
      },
      "text/plain": [
       "  0%|          | 0/2032 [00:00<?, ?it/s]"
      ]
     },
     "metadata": {},
     "output_type": "display_data"
    }
   ],
   "source": [
    "val_loss_hist = Averager()\n",
    "criterion = nn.BCEWithLogitsLoss()\n",
    "y_pred, y_true = validate_model(best_model, loader_test, criterion,\n",
    "                                    DEVICE, val_loss_hist)"
   ]
  },
  {
   "cell_type": "markdown",
   "id": "b01192e2",
   "metadata": {},
   "source": [
    "### Mathews correlation coefficient"
   ]
  },
  {
   "cell_type": "code",
   "execution_count": 237,
   "id": "d4a195b9",
   "metadata": {},
   "outputs": [
    {
     "data": {
      "text/plain": [
       "array([0.  , 0.01, 0.02, 0.03, 0.04, 0.05, 0.06, 0.07, 0.08, 0.09, 0.1 ,\n",
       "       0.11, 0.12, 0.13, 0.14, 0.15, 0.16, 0.17, 0.18, 0.19, 0.2 , 0.21,\n",
       "       0.22, 0.23, 0.24, 0.25, 0.26, 0.27, 0.28, 0.29, 0.3 , 0.31, 0.32,\n",
       "       0.33, 0.34, 0.35, 0.36, 0.37, 0.38, 0.39, 0.4 , 0.41, 0.42, 0.43,\n",
       "       0.44, 0.45, 0.46, 0.47, 0.48, 0.49])"
      ]
     },
     "execution_count": 237,
     "metadata": {},
     "output_type": "execute_result"
    }
   ],
   "source": [
    "np.arange(0.0, 0.5, 0.01)"
   ]
  },
  {
   "cell_type": "code",
   "execution_count": 249,
   "id": "cbe87ca8",
   "metadata": {},
   "outputs": [
    {
     "name": "stdout",
     "output_type": "stream",
     "text": [
      "Best acc threshold: 0.23\n",
      "Matheys corr coef: 0.59285\n"
     ]
    }
   ],
   "source": [
    "# mathews correlation coefficient\n",
    "\n",
    "thresholds = np.arange(0.0, 0.5, 0.01)\n",
    "best_score = 0\n",
    "best_thrs = -1\n",
    "for thrs in thresholds:\n",
    "    y_pred_clean = (torch.sigmoid(y_pred) > thrs).double()\n",
    "    score = matthews_corrcoef(y_pred_clean.cpu(), y_true.cpu())\n",
    "    if score > best_score:\n",
    "        best_score = score\n",
    "        best_thrs = thrs\n",
    "\n",
    "y_pred_clean = (torch.sigmoid(y_pred) > best_thrs).double()\n",
    "print(f\"Best acc threshold: {best_thrs}\")\n",
    "print(f\"Matheys corr coef: {best_score:.5f}\")"
   ]
  },
  {
   "cell_type": "markdown",
   "id": "a3d7919e",
   "metadata": {},
   "source": [
    "### Confusion Matrix"
   ]
  },
  {
   "cell_type": "code",
   "execution_count": 250,
   "id": "505173b2",
   "metadata": {},
   "outputs": [],
   "source": [
    "def show_confusion_matrix(y_pred, y_true, display_labels, title='Confusion Matrix'):\n",
    "    conf_matrix = confusion_matrix(y_true, y_pred)\n",
    "    conf_display = ConfusionMatrixDisplay(confusion_matrix=conf_matrix,\n",
    "                                        display_labels=display_labels)\n",
    "\n",
    "    fig, ax = plt.subplots(figsize=(15,15))\n",
    "    plt.title(title)\n",
    "    conf_display.plot(cmap=plt.cm.Blues, ax=ax);\n",
    "    return conf_matrix"
   ]
  },
  {
   "cell_type": "code",
   "execution_count": 251,
   "id": "ab5e48e4",
   "metadata": {},
   "outputs": [
    {
     "data": {
      "image/png": "[encoded data removed]",
      "text/plain": [
       "<Figure size 1500x1500 with 2 Axes>"
      ]
     },
     "metadata": {},
     "output_type": "display_data"
    }
   ],
   "source": [
    "conf_matrix = show_confusion_matrix(y_pred_clean.cpu(), y_true.cpu(), CLASSES)"
   ]
  },
  {
   "cell_type": "code",
   "execution_count": null,
   "id": "62b31d79",
   "metadata": {},
   "outputs": [],
   "source": []
  }
 ],
 "metadata": {
  "kernelspec": {
   "display_name": "Python 3 (ipykernel)",
   "language": "python",
   "name": "python3"
  },
  "language_info": {
   "codemirror_mode": {
    "name": "ipython",
    "version": 3
   },
   "file_extension": ".py",
   "mimetype": "text/x-python",
   "name": "python",
   "nbconvert_exporter": "python",
   "pygments_lexer": "ipython3",
   "version": "3.7.15"
  }
 },
 "nbformat": 4,
 "nbformat_minor": 5
}
