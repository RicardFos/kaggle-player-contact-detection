{
 "cells": [
  {
   "cell_type": "markdown",
   "id": "e5bff0f2",
   "metadata": {},
   "source": [
    "# Player - Ground contact image classification - training"
   ]
  },
  {
   "cell_type": "code",
   "execution_count": 1,
   "id": "43acefa6",
   "metadata": {},
   "outputs": [],
   "source": [
    "import os\n",
    "import torch\n",
    "from torch import nn\n",
    "import numpy as np\n",
    "import torch.nn.functional as F\n",
    "import time\n",
    "import pandas as pd\n",
    "from sklearn.model_selection import train_test_split\n",
    "import matplotlib.pyplot as plt\n",
    "from torch.utils.data import Dataset, DataLoader\n",
    "from tqdm.auto import tqdm\n",
    "from torch.optim import Adam, lr_scheduler\n",
    "from sklearn.metrics import confusion_matrix, ConfusionMatrixDisplay\n",
    "from PIL import Image\n",
    "from torchvision import datasets, transforms\n",
    "import torchvision.models as models\n",
    "from sklearn.metrics import matthews_corrcoef"
   ]
  },
  {
   "cell_type": "markdown",
   "id": "1cb32f7d",
   "metadata": {},
   "source": [
    "## Load Data"
   ]
  },
  {
   "cell_type": "code",
   "execution_count": 2,
   "id": "8cf26552",
   "metadata": {},
   "outputs": [],
   "source": [
    "DATASET_DIR = \"dataset\"\n",
    "\n",
    "# train labels\n",
    "train_labels_df =  pd.read_csv(os.path.join(DATASET_DIR, \"train_labels.csv\"), \n",
    "                               parse_dates=[\"datetime\"])\n",
    "\n",
    "# contact reduced to p2p distance below threshold\n",
    "train_contact_df_reduced = pd.read_csv(os.path.join(DATASET_DIR, \"train_contact_df_reduced.csv\"))\n",
    "\n",
    "# contact image\n",
    "contact_image_endzone_df = pd.read_csv(os.path.join(DATASET_DIR, \"train_contact_image_endzone_df.csv\"))"
   ]
  },
  {
   "cell_type": "markdown",
   "id": "82dc7a71",
   "metadata": {},
   "source": [
    "## The PlayerContact dataset"
   ]
  },
  {
   "cell_type": "markdown",
   "id": "1accbf31",
   "metadata": {},
   "source": [
    "### Transform function\n",
    "It converts the PIL Image into a Tensor and normalizes it using the mean and std values from Imagenet"
   ]
  },
  {
   "cell_type": "code",
   "execution_count": 3,
   "id": "d9114956",
   "metadata": {},
   "outputs": [],
   "source": [
    "# transforms\n",
    "IMAGE_SIZE = 224 # Image size of resize when applying transforms.\n",
    "# data augmentation for train set\n",
    "image_transform_train = transforms.Compose([\n",
    "        transforms.Resize((IMAGE_SIZE, IMAGE_SIZE)),\n",
    "        transforms.RandomHorizontalFlip(p=0.5),\n",
    "        transforms.RandomRotation(degrees=(0, 45)),\n",
    "        transforms.ColorJitter(brightness=.2, hue=.2),\n",
    "        transforms.RandomPerspective(distortion_scale=0.5, p=0.2),\n",
    "        transforms.ToTensor(),\n",
    "        transforms.Normalize([0.485, 0.456, 0.406], [0.229, 0.224, 0.225]) # imagenet\n",
    "])\n",
    "\n",
    "image_transform_test = transforms.Compose([\n",
    "        transforms.Resize((IMAGE_SIZE, IMAGE_SIZE)),\n",
    "        transforms.ToTensor(),\n",
    "        transforms.Normalize([0.485, 0.456, 0.406], [0.229, 0.224, 0.225]) # imagenet\n",
    "])"
   ]
  },
  {
   "cell_type": "markdown",
   "id": "02002114",
   "metadata": {},
   "source": [
    "## The PlayerContact Dataset Class\n",
    "The PlayerContact dataset class takes the data from the folder and returns images"
   ]
  },
  {
   "cell_type": "code",
   "execution_count": 4,
   "id": "331367b6",
   "metadata": {},
   "outputs": [],
   "source": [
    "class PlayerContactDataset(Dataset):\n",
    "    \"\"\"\n",
    "    PlayerContact dataset that returns an image and feature vector\n",
    "    \"\"\"\n",
    "    def __init__(self, data_dir, contact_df, view, transform=None):\n",
    "        self.data_dir = data_dir\n",
    "        self.transform = transform\n",
    "        self.contact_df = contact_df\n",
    "        self.view = view\n",
    "        \n",
    "    def __getitem__(self, idx):\n",
    "        # get the image\n",
    "        row = self.contact_df.iloc[idx]\n",
    "        img_path = os.path.join(self.data_dir, row['contact_id']+'_'+self.view+'.jpg')\n",
    "        image = Image.open(img_path).convert('RGB')\n",
    "        if (self.transform):\n",
    "            image = self.transform(image)\n",
    "        \n",
    "        # get the class label\n",
    "        label = torch.tensor(row['contact_truth'])\n",
    "        \n",
    "        return image, label\n",
    "    \n",
    "    def __len__(self):\n",
    "        return len(self.contact_df)"
   ]
  },
  {
   "cell_type": "markdown",
   "id": "421c63c4",
   "metadata": {},
   "source": [
    "### Prepare and split the data"
   ]
  },
  {
   "cell_type": "code",
   "execution_count": 5,
   "id": "56baafe6",
   "metadata": {},
   "outputs": [
    {
     "data": {
      "text/html": [
       "<div>\n",
       "<style scoped>\n",
       "    .dataframe tbody tr th:only-of-type {\n",
       "        vertical-align: middle;\n",
       "    }\n",
       "\n",
       "    .dataframe tbody tr th {\n",
       "        vertical-align: top;\n",
       "    }\n",
       "\n",
       "    .dataframe thead th {\n",
       "        text-align: right;\n",
       "    }\n",
       "</style>\n",
       "<table border=\"1\" class=\"dataframe\">\n",
       "  <thead>\n",
       "    <tr style=\"text-align: right;\">\n",
       "      <th></th>\n",
       "      <th>contact_id</th>\n",
       "      <th>game_play</th>\n",
       "      <th>step</th>\n",
       "      <th>nfl_player_id_1</th>\n",
       "      <th>nfl_player_id_2</th>\n",
       "      <th>game_key</th>\n",
       "      <th>play_id</th>\n",
       "      <th>datetime</th>\n",
       "      <th>team_1</th>\n",
       "      <th>position_1</th>\n",
       "      <th>...</th>\n",
       "      <th>orientation_2</th>\n",
       "      <th>acceleration_2</th>\n",
       "      <th>sa_2</th>\n",
       "      <th>p2p_distance</th>\n",
       "      <th>contact_truth</th>\n",
       "      <th>contact</th>\n",
       "      <th>crop_generated</th>\n",
       "      <th>rewinded_frames</th>\n",
       "      <th>miss_helmet_dets</th>\n",
       "      <th>miss_player_dets</th>\n",
       "    </tr>\n",
       "  </thead>\n",
       "  <tbody>\n",
       "    <tr>\n",
       "      <th>110835</th>\n",
       "      <td>58209_001445_58_40621_G</td>\n",
       "      <td>58209_001445</td>\n",
       "      <td>58</td>\n",
       "      <td>40621</td>\n",
       "      <td>-1</td>\n",
       "      <td>58209</td>\n",
       "      <td>1445</td>\n",
       "      <td>2020-09-27 21:05:48.900000+00:00</td>\n",
       "      <td>away</td>\n",
       "      <td>SS</td>\n",
       "      <td>...</td>\n",
       "      <td>0.0</td>\n",
       "      <td>0.0</td>\n",
       "      <td>0.0</td>\n",
       "      <td>999.0</td>\n",
       "      <td>0</td>\n",
       "      <td>0</td>\n",
       "      <td>True</td>\n",
       "      <td>0.0</td>\n",
       "      <td>0.0</td>\n",
       "      <td>0.0</td>\n",
       "    </tr>\n",
       "    <tr>\n",
       "      <th>564335</th>\n",
       "      <td>58543_000962_63_46146_G</td>\n",
       "      <td>58543_000962</td>\n",
       "      <td>63</td>\n",
       "      <td>46146</td>\n",
       "      <td>-1</td>\n",
       "      <td>58543</td>\n",
       "      <td>962</td>\n",
       "      <td>2021-09-26 17:41:04+00:00</td>\n",
       "      <td>away</td>\n",
       "      <td>DE</td>\n",
       "      <td>...</td>\n",
       "      <td>0.0</td>\n",
       "      <td>0.0</td>\n",
       "      <td>0.0</td>\n",
       "      <td>999.0</td>\n",
       "      <td>0</td>\n",
       "      <td>0</td>\n",
       "      <td>True</td>\n",
       "      <td>0.0</td>\n",
       "      <td>0.0</td>\n",
       "      <td>0.0</td>\n",
       "    </tr>\n",
       "    <tr>\n",
       "      <th>7820</th>\n",
       "      <td>58173_003606_33_46108_G</td>\n",
       "      <td>58173_003606</td>\n",
       "      <td>33</td>\n",
       "      <td>46108</td>\n",
       "      <td>-1</td>\n",
       "      <td>58173</td>\n",
       "      <td>3606</td>\n",
       "      <td>2020-09-13 19:45:15.800000+00:00</td>\n",
       "      <td>away</td>\n",
       "      <td>C</td>\n",
       "      <td>...</td>\n",
       "      <td>0.0</td>\n",
       "      <td>0.0</td>\n",
       "      <td>0.0</td>\n",
       "      <td>999.0</td>\n",
       "      <td>0</td>\n",
       "      <td>0</td>\n",
       "      <td>True</td>\n",
       "      <td>0.0</td>\n",
       "      <td>0.0</td>\n",
       "      <td>0.0</td>\n",
       "    </tr>\n",
       "    <tr>\n",
       "      <th>537791</th>\n",
       "      <td>58536_002108_39_46190_G</td>\n",
       "      <td>58536_002108</td>\n",
       "      <td>39</td>\n",
       "      <td>46190</td>\n",
       "      <td>-1</td>\n",
       "      <td>58536</td>\n",
       "      <td>2108</td>\n",
       "      <td>2021-09-26 18:32:55.400000+00:00</td>\n",
       "      <td>home</td>\n",
       "      <td>CB</td>\n",
       "      <td>...</td>\n",
       "      <td>0.0</td>\n",
       "      <td>0.0</td>\n",
       "      <td>0.0</td>\n",
       "      <td>999.0</td>\n",
       "      <td>0</td>\n",
       "      <td>0</td>\n",
       "      <td>True</td>\n",
       "      <td>0.0</td>\n",
       "      <td>0.0</td>\n",
       "      <td>0.0</td>\n",
       "    </tr>\n",
       "    <tr>\n",
       "      <th>475547</th>\n",
       "      <td>58514_003151_24_41359_G</td>\n",
       "      <td>58514_003151</td>\n",
       "      <td>24</td>\n",
       "      <td>41359</td>\n",
       "      <td>-1</td>\n",
       "      <td>58514</td>\n",
       "      <td>3151</td>\n",
       "      <td>2021-09-12 22:48:36.700000+00:00</td>\n",
       "      <td>home</td>\n",
       "      <td>RB</td>\n",
       "      <td>...</td>\n",
       "      <td>0.0</td>\n",
       "      <td>0.0</td>\n",
       "      <td>0.0</td>\n",
       "      <td>999.0</td>\n",
       "      <td>0</td>\n",
       "      <td>0</td>\n",
       "      <td>True</td>\n",
       "      <td>60.0</td>\n",
       "      <td>0.0</td>\n",
       "      <td>0.0</td>\n",
       "    </tr>\n",
       "    <tr>\n",
       "      <th>...</th>\n",
       "      <td>...</td>\n",
       "      <td>...</td>\n",
       "      <td>...</td>\n",
       "      <td>...</td>\n",
       "      <td>...</td>\n",
       "      <td>...</td>\n",
       "      <td>...</td>\n",
       "      <td>...</td>\n",
       "      <td>...</td>\n",
       "      <td>...</td>\n",
       "      <td>...</td>\n",
       "      <td>...</td>\n",
       "      <td>...</td>\n",
       "      <td>...</td>\n",
       "      <td>...</td>\n",
       "      <td>...</td>\n",
       "      <td>...</td>\n",
       "      <td>...</td>\n",
       "      <td>...</td>\n",
       "      <td>...</td>\n",
       "      <td>...</td>\n",
       "    </tr>\n",
       "    <tr>\n",
       "      <th>290491</th>\n",
       "      <td>58308_004092_16_35449_G</td>\n",
       "      <td>58308_004092</td>\n",
       "      <td>16</td>\n",
       "      <td>35449</td>\n",
       "      <td>-1</td>\n",
       "      <td>58308</td>\n",
       "      <td>4092</td>\n",
       "      <td>2020-11-16 00:22:13.600000+00:00</td>\n",
       "      <td>home</td>\n",
       "      <td>DE</td>\n",
       "      <td>...</td>\n",
       "      <td>0.0</td>\n",
       "      <td>0.0</td>\n",
       "      <td>0.0</td>\n",
       "      <td>999.0</td>\n",
       "      <td>0</td>\n",
       "      <td>0</td>\n",
       "      <td>True</td>\n",
       "      <td>0.0</td>\n",
       "      <td>0.0</td>\n",
       "      <td>0.0</td>\n",
       "    </tr>\n",
       "    <tr>\n",
       "      <th>380327</th>\n",
       "      <td>58401_001720_29_52424_G</td>\n",
       "      <td>58401_001720</td>\n",
       "      <td>29</td>\n",
       "      <td>52424</td>\n",
       "      <td>-1</td>\n",
       "      <td>58401</td>\n",
       "      <td>1720</td>\n",
       "      <td>2020-12-27 19:09:40.200000+00:00</td>\n",
       "      <td>away</td>\n",
       "      <td>CB</td>\n",
       "      <td>...</td>\n",
       "      <td>0.0</td>\n",
       "      <td>0.0</td>\n",
       "      <td>0.0</td>\n",
       "      <td>999.0</td>\n",
       "      <td>0</td>\n",
       "      <td>0</td>\n",
       "      <td>True</td>\n",
       "      <td>40.0</td>\n",
       "      <td>0.0</td>\n",
       "      <td>1.0</td>\n",
       "    </tr>\n",
       "    <tr>\n",
       "      <th>23518</th>\n",
       "      <td>58180_000986_91_45008_G</td>\n",
       "      <td>58180_000986</td>\n",
       "      <td>91</td>\n",
       "      <td>45008</td>\n",
       "      <td>-1</td>\n",
       "      <td>58180</td>\n",
       "      <td>986</td>\n",
       "      <td>2020-09-13 21:03:12.900000+00:00</td>\n",
       "      <td>away</td>\n",
       "      <td>LB</td>\n",
       "      <td>...</td>\n",
       "      <td>0.0</td>\n",
       "      <td>0.0</td>\n",
       "      <td>0.0</td>\n",
       "      <td>999.0</td>\n",
       "      <td>1</td>\n",
       "      <td>1</td>\n",
       "      <td>True</td>\n",
       "      <td>30.0</td>\n",
       "      <td>0.0</td>\n",
       "      <td>0.0</td>\n",
       "    </tr>\n",
       "    <tr>\n",
       "      <th>647500</th>\n",
       "      <td>58577_002486_55_44847_G</td>\n",
       "      <td>58577_002486</td>\n",
       "      <td>55</td>\n",
       "      <td>44847</td>\n",
       "      <td>-1</td>\n",
       "      <td>58577</td>\n",
       "      <td>2486</td>\n",
       "      <td>2021-10-10 22:00:23.900000+00:00</td>\n",
       "      <td>away</td>\n",
       "      <td>DT</td>\n",
       "      <td>...</td>\n",
       "      <td>0.0</td>\n",
       "      <td>0.0</td>\n",
       "      <td>0.0</td>\n",
       "      <td>999.0</td>\n",
       "      <td>1</td>\n",
       "      <td>1</td>\n",
       "      <td>True</td>\n",
       "      <td>0.0</td>\n",
       "      <td>0.0</td>\n",
       "      <td>0.0</td>\n",
       "    </tr>\n",
       "    <tr>\n",
       "      <th>297836</th>\n",
       "      <td>58311_002159_31_43497_G</td>\n",
       "      <td>58311_002159</td>\n",
       "      <td>31</td>\n",
       "      <td>43497</td>\n",
       "      <td>-1</td>\n",
       "      <td>58311</td>\n",
       "      <td>2159</td>\n",
       "      <td>2020-10-18 21:50:29.100000+00:00</td>\n",
       "      <td>home</td>\n",
       "      <td>OLB</td>\n",
       "      <td>...</td>\n",
       "      <td>0.0</td>\n",
       "      <td>0.0</td>\n",
       "      <td>0.0</td>\n",
       "      <td>999.0</td>\n",
       "      <td>0</td>\n",
       "      <td>0</td>\n",
       "      <td>True</td>\n",
       "      <td>0.0</td>\n",
       "      <td>0.0</td>\n",
       "      <td>0.0</td>\n",
       "    </tr>\n",
       "  </tbody>\n",
       "</table>\n",
       "<p>52176 rows × 37 columns</p>\n",
       "</div>"
      ],
      "text/plain": [
       "                     contact_id     game_play  step  nfl_player_id_1  \\\n",
       "110835  58209_001445_58_40621_G  58209_001445    58            40621   \n",
       "564335  58543_000962_63_46146_G  58543_000962    63            46146   \n",
       "7820    58173_003606_33_46108_G  58173_003606    33            46108   \n",
       "537791  58536_002108_39_46190_G  58536_002108    39            46190   \n",
       "475547  58514_003151_24_41359_G  58514_003151    24            41359   \n",
       "...                         ...           ...   ...              ...   \n",
       "290491  58308_004092_16_35449_G  58308_004092    16            35449   \n",
       "380327  58401_001720_29_52424_G  58401_001720    29            52424   \n",
       "23518   58180_000986_91_45008_G  58180_000986    91            45008   \n",
       "647500  58577_002486_55_44847_G  58577_002486    55            44847   \n",
       "297836  58311_002159_31_43497_G  58311_002159    31            43497   \n",
       "\n",
       "        nfl_player_id_2  game_key  play_id                          datetime  \\\n",
       "110835               -1     58209     1445  2020-09-27 21:05:48.900000+00:00   \n",
       "564335               -1     58543      962         2021-09-26 17:41:04+00:00   \n",
       "7820                 -1     58173     3606  2020-09-13 19:45:15.800000+00:00   \n",
       "537791               -1     58536     2108  2021-09-26 18:32:55.400000+00:00   \n",
       "475547               -1     58514     3151  2021-09-12 22:48:36.700000+00:00   \n",
       "...                 ...       ...      ...                               ...   \n",
       "290491               -1     58308     4092  2020-11-16 00:22:13.600000+00:00   \n",
       "380327               -1     58401     1720  2020-12-27 19:09:40.200000+00:00   \n",
       "23518                -1     58180      986  2020-09-13 21:03:12.900000+00:00   \n",
       "647500               -1     58577     2486  2021-10-10 22:00:23.900000+00:00   \n",
       "297836               -1     58311     2159  2020-10-18 21:50:29.100000+00:00   \n",
       "\n",
       "       team_1 position_1  ...  orientation_2  acceleration_2  sa_2  \\\n",
       "110835   away         SS  ...            0.0             0.0   0.0   \n",
       "564335   away         DE  ...            0.0             0.0   0.0   \n",
       "7820     away          C  ...            0.0             0.0   0.0   \n",
       "537791   home         CB  ...            0.0             0.0   0.0   \n",
       "475547   home         RB  ...            0.0             0.0   0.0   \n",
       "...       ...        ...  ...            ...             ...   ...   \n",
       "290491   home         DE  ...            0.0             0.0   0.0   \n",
       "380327   away         CB  ...            0.0             0.0   0.0   \n",
       "23518    away         LB  ...            0.0             0.0   0.0   \n",
       "647500   away         DT  ...            0.0             0.0   0.0   \n",
       "297836   home        OLB  ...            0.0             0.0   0.0   \n",
       "\n",
       "        p2p_distance  contact_truth  contact  crop_generated  rewinded_frames  \\\n",
       "110835         999.0              0        0            True              0.0   \n",
       "564335         999.0              0        0            True              0.0   \n",
       "7820           999.0              0        0            True              0.0   \n",
       "537791         999.0              0        0            True              0.0   \n",
       "475547         999.0              0        0            True             60.0   \n",
       "...              ...            ...      ...             ...              ...   \n",
       "290491         999.0              0        0            True              0.0   \n",
       "380327         999.0              0        0            True             40.0   \n",
       "23518          999.0              1        1            True             30.0   \n",
       "647500         999.0              1        1            True              0.0   \n",
       "297836         999.0              0        0            True              0.0   \n",
       "\n",
       "        miss_helmet_dets miss_player_dets  \n",
       "110835               0.0              0.0  \n",
       "564335               0.0              0.0  \n",
       "7820                 0.0              0.0  \n",
       "537791               0.0              0.0  \n",
       "475547               0.0              0.0  \n",
       "...                  ...              ...  \n",
       "290491               0.0              0.0  \n",
       "380327               0.0              1.0  \n",
       "23518                0.0              0.0  \n",
       "647500               0.0              0.0  \n",
       "297836               0.0              0.0  \n",
       "\n",
       "[52176 rows x 37 columns]"
      ]
     },
     "execution_count": 5,
     "metadata": {},
     "output_type": "execute_result"
    }
   ],
   "source": [
    "# we want a dataset with 25% of positive contacts and 75% of negative contacts\n",
    "\n",
    "# merge contact_df and contact_image_df\n",
    "train_df = train_contact_df_reduced.merge(contact_image_endzone_df, \n",
    "                                 left_on=['contact_id'], \n",
    "                                 right_on=['contact_id'], \n",
    "                                 how='left').drop_duplicates()\n",
    "# use only the rows where the crop was generated\n",
    "train_df = train_df[train_df['crop_generated'] == True]\n",
    "# get the ground contacts\n",
    "train_df = train_df[train_df['nfl_player_id_2'] == -1]\n",
    "\n",
    "# get all positive contacts\n",
    "pos_df = train_df[train_df['contact_truth'] == 1]\n",
    "num_pos = len(pos_df)\n",
    "\n",
    "# retrieve a number of negative contacts = to 3 times the number of positive contacts\n",
    "neg_df = train_df[train_df['contact_truth'] == 0].sample(3*num_pos, random_state=42)\n",
    "# concatenate negative and positive contacts\n",
    "train_df = pd.concat([pos_df, neg_df])\n",
    "\n",
    "# train test split\n",
    "train_df, test_df = train_test_split(train_df, test_size=0.2, random_state=42)\n",
    "\n",
    "train_df"
   ]
  },
  {
   "cell_type": "code",
   "execution_count": 6,
   "id": "303a5b9f",
   "metadata": {},
   "outputs": [],
   "source": [
    "# # merge contact_df and contact_image_df\n",
    "# train_df = train_contact_df_reduced.merge(contact_image_endzone_df, \n",
    "#                                  left_on=['contact_id'], \n",
    "#                                  right_on=['contact_id'], \n",
    "#                                  how='left').drop_duplicates()\n",
    "# # use only the rows where the crop was generated\n",
    "# train_df = train_df[train_df['crop_generated'] == True]\n",
    "# # get the ground contacts\n",
    "# train_df = train_df[train_df['nfl_player_id_2'] == -1]\n",
    "\n",
    "# # split the dataset\n",
    "# train_df, test_df = train_test_split(train_df, test_size=0.2, random_state=42)\n",
    "\n",
    "# train_df"
   ]
  },
  {
   "cell_type": "code",
   "execution_count": 7,
   "id": "55fd5cd0",
   "metadata": {},
   "outputs": [
    {
     "name": "stdout",
     "output_type": "stream",
     "text": [
      "There are 13071 positive contacts with the ground in the train set\n",
      "25.05% of contacts with the ground are positive on the train set\n"
     ]
    }
   ],
   "source": [
    "num_contacts = train_df['contact_truth'].sum()\n",
    "print(f\"There are {num_contacts} positive contacts with the ground in the train set\")\n",
    "print(f\"{num_contacts / len(train_df)*100:.2f}% of contacts with the ground are positive on the train set\")"
   ]
  },
  {
   "cell_type": "markdown",
   "id": "ea74b68b",
   "metadata": {},
   "source": [
    "### Create instance of the dataset specific to player-ground contact"
   ]
  },
  {
   "cell_type": "code",
   "execution_count": 8,
   "id": "f1aefb99",
   "metadata": {},
   "outputs": [],
   "source": [
    "DATA_PATH = os.path.join('dataset', 'train', 'crops')\n",
    "# train\n",
    "p_g_contact_dataset_train = PlayerContactDataset(DATA_PATH, train_df, 'Endzone', image_transform_train)\n",
    "# test\n",
    "p_g_contact_dataset_test = PlayerContactDataset(DATA_PATH, test_df, 'Endzone', image_transform_test)"
   ]
  },
  {
   "cell_type": "markdown",
   "id": "757158e1",
   "metadata": {},
   "source": [
    "### Utils to show image from dataset"
   ]
  },
  {
   "cell_type": "code",
   "execution_count": 9,
   "id": "f76418a2",
   "metadata": {},
   "outputs": [],
   "source": [
    "def inverse_normalize(tensor, mean, std):\n",
    "    for channel_tensor, c_mean, c_std in zip(tensor, mean, std):\n",
    "        channel_tensor.mul_(c_std).add_(c_mean)\n",
    "        # The normalize code -> channel_tensor.sub_(c_mean).div_(c_std)\n",
    "        \n",
    "    return tensor\n",
    "\n",
    "def tensor_to_image(tensor, is_normalized=True):\n",
    "    img = tensor\n",
    "    if is_normalized:\n",
    "        img = inverse_normalize(img, mean=(0.485, 0.456, 0.406), std=(0.229, 0.224, 0.225))\n",
    "    img = np.array(img).transpose(1, 2, 0)\n",
    "    img = Image.fromarray((img*255).astype(np.uint8))\n",
    "    \n",
    "    return img"
   ]
  },
  {
   "cell_type": "code",
   "execution_count": 10,
   "id": "89fade4d",
   "metadata": {},
   "outputs": [
    {
     "data": {
      "image/png": "[encoded data removed]",
      "text/plain": [
       "<PIL.Image.Image image mode=RGB size=224x224>"
      ]
     },
     "execution_count": 10,
     "metadata": {},
     "output_type": "execute_result"
    }
   ],
   "source": [
    "tensor_to_image(p_g_contact_dataset_train[700][0])"
   ]
  },
  {
   "cell_type": "markdown",
   "id": "b22f33a2",
   "metadata": {},
   "source": [
    "### Data Loaders"
   ]
  },
  {
   "cell_type": "code",
   "execution_count": 11,
   "id": "afb89647",
   "metadata": {},
   "outputs": [],
   "source": [
    "BATCH_SIZE = 32\n",
    "\n",
    "loader_train = DataLoader(p_g_contact_dataset_train,\n",
    "                         batch_size=BATCH_SIZE,\n",
    "                         shuffle=True, \n",
    "                         num_workers=0,\n",
    "                         drop_last=True) # drop last batch with size < 8 so that the batchnorm layers dont fail\n",
    "\n",
    "loader_test = DataLoader(p_g_contact_dataset_test,\n",
    "                         batch_size=BATCH_SIZE,\n",
    "                         shuffle=False,\n",
    "                         num_workers=0,\n",
    "                         drop_last=False)"
   ]
  },
  {
   "cell_type": "code",
   "execution_count": 13,
   "id": "0c2e9365",
   "metadata": {},
   "outputs": [
    {
     "name": "stdout",
     "output_type": "stream",
     "text": [
      "Batch size: 32\n",
      "Data shape: torch.Size([32, 3, 224, 224])\n",
      "One batch of labels from the train loader:\n"
     ]
    },
    {
     "data": {
      "text/plain": [
       "[tensor([[[[-2.1179, -2.1179, -2.1179,  ..., -2.1179, -2.1179, -2.1179],\n",
       "           [-2.1179, -2.1179, -2.1179,  ..., -2.1179, -2.1179, -2.1179],\n",
       "           [-2.1179, -2.1179, -2.1179,  ..., -2.1179, -2.1179, -2.1179],\n",
       "           ...,\n",
       "           [-2.1179, -2.1179, -2.1179,  ..., -2.1179, -2.1179, -2.1179],\n",
       "           [-2.1179, -2.1179, -2.1179,  ..., -2.1179, -2.1179, -2.1179],\n",
       "           [-2.1179, -2.1179, -2.1179,  ..., -2.1179, -2.1179, -2.1179]],\n",
       " \n",
       "          [[-2.0357, -2.0357, -2.0357,  ..., -2.0357, -2.0357, -2.0357],\n",
       "           [-2.0357, -2.0357, -2.0357,  ..., -2.0357, -2.0357, -2.0357],\n",
       "           [-2.0357, -2.0357, -2.0357,  ..., -2.0357, -2.0357, -2.0357],\n",
       "           ...,\n",
       "           [-2.0357, -2.0357, -2.0357,  ..., -2.0357, -2.0357, -2.0357],\n",
       "           [-2.0357, -2.0357, -2.0357,  ..., -2.0357, -2.0357, -2.0357],\n",
       "           [-2.0357, -2.0357, -2.0357,  ..., -2.0357, -2.0357, -2.0357]],\n",
       " \n",
       "          [[-1.8044, -1.8044, -1.8044,  ..., -1.8044, -1.8044, -1.8044],\n",
       "           [-1.8044, -1.8044, -1.8044,  ..., -1.8044, -1.8044, -1.8044],\n",
       "           [-1.8044, -1.8044, -1.8044,  ..., -1.8044, -1.8044, -1.8044],\n",
       "           ...,\n",
       "           [-1.8044, -1.8044, -1.8044,  ..., -1.8044, -1.8044, -1.8044],\n",
       "           [-1.8044, -1.8044, -1.8044,  ..., -1.8044, -1.8044, -1.8044],\n",
       "           [-1.8044, -1.8044, -1.8044,  ..., -1.8044, -1.8044, -1.8044]]],\n",
       " \n",
       " \n",
       "         [[[-2.1179, -2.1179, -2.1179,  ..., -2.1179, -2.1179, -2.1179],\n",
       "           [-2.1179, -2.1179, -2.1179,  ..., -2.1179, -2.1179, -2.1179],\n",
       "           [-2.1179, -2.1179, -2.1179,  ..., -2.1179, -2.1179, -2.1179],\n",
       "           ...,\n",
       "           [-2.1179, -2.1179, -2.1179,  ..., -2.1179, -2.1179, -2.1179],\n",
       "           [-2.1179, -2.1179, -2.1179,  ..., -2.1179, -2.1179, -2.1179],\n",
       "           [-2.1179, -2.1179, -2.1179,  ..., -2.1179, -2.1179, -2.1179]],\n",
       " \n",
       "          [[-2.0357, -2.0357, -2.0357,  ..., -2.0357, -2.0357, -2.0357],\n",
       "           [-2.0357, -2.0357, -2.0357,  ..., -2.0357, -2.0357, -2.0357],\n",
       "           [-2.0357, -2.0357, -2.0357,  ..., -2.0357, -2.0357, -2.0357],\n",
       "           ...,\n",
       "           [-2.0357, -2.0357, -2.0357,  ..., -2.0357, -2.0357, -2.0357],\n",
       "           [-2.0357, -2.0357, -2.0357,  ..., -2.0357, -2.0357, -2.0357],\n",
       "           [-2.0357, -2.0357, -2.0357,  ..., -2.0357, -2.0357, -2.0357]],\n",
       " \n",
       "          [[-1.8044, -1.8044, -1.8044,  ..., -1.8044, -1.8044, -1.8044],\n",
       "           [-1.8044, -1.8044, -1.8044,  ..., -1.8044, -1.8044, -1.8044],\n",
       "           [-1.8044, -1.8044, -1.8044,  ..., -1.8044, -1.8044, -1.8044],\n",
       "           ...,\n",
       "           [-1.8044, -1.8044, -1.8044,  ..., -1.8044, -1.8044, -1.8044],\n",
       "           [-1.8044, -1.8044, -1.8044,  ..., -1.8044, -1.8044, -1.8044],\n",
       "           [-1.8044, -1.8044, -1.8044,  ..., -1.8044, -1.8044, -1.8044]]],\n",
       " \n",
       " \n",
       "         [[[-2.1179, -2.1179, -2.1179,  ..., -2.1179, -2.1179, -2.1179],\n",
       "           [-2.1179, -2.1179, -2.1179,  ..., -2.1179, -2.1179, -2.1179],\n",
       "           [-2.1179, -2.1179, -2.1179,  ..., -2.1179, -2.1179, -2.1179],\n",
       "           ...,\n",
       "           [-2.1179, -2.1179, -2.1179,  ..., -2.1179, -2.1179, -2.1179],\n",
       "           [-2.1179, -2.1179, -2.1179,  ..., -2.1179, -2.1179, -2.1179],\n",
       "           [-2.1179, -2.1179, -2.1179,  ..., -2.1179, -2.1179, -2.1179]],\n",
       " \n",
       "          [[-2.0357, -2.0357, -2.0357,  ..., -2.0357, -2.0357, -2.0357],\n",
       "           [-2.0357, -2.0357, -2.0357,  ..., -2.0357, -2.0357, -2.0357],\n",
       "           [-2.0357, -2.0357, -2.0357,  ..., -2.0357, -2.0357, -2.0357],\n",
       "           ...,\n",
       "           [-2.0357, -2.0357, -2.0357,  ..., -2.0357, -2.0357, -2.0357],\n",
       "           [-2.0357, -2.0357, -2.0357,  ..., -2.0357, -2.0357, -2.0357],\n",
       "           [-2.0357, -2.0357, -2.0357,  ..., -2.0357, -2.0357, -2.0357]],\n",
       " \n",
       "          [[-1.8044, -1.8044, -1.8044,  ..., -1.8044, -1.8044, -1.8044],\n",
       "           [-1.8044, -1.8044, -1.8044,  ..., -1.8044, -1.8044, -1.8044],\n",
       "           [-1.8044, -1.8044, -1.8044,  ..., -1.8044, -1.8044, -1.8044],\n",
       "           ...,\n",
       "           [-1.8044, -1.8044, -1.8044,  ..., -1.8044, -1.8044, -1.8044],\n",
       "           [-1.8044, -1.8044, -1.8044,  ..., -1.8044, -1.8044, -1.8044],\n",
       "           [-1.8044, -1.8044, -1.8044,  ..., -1.8044, -1.8044, -1.8044]]],\n",
       " \n",
       " \n",
       "         ...,\n",
       " \n",
       " \n",
       "         [[[-2.1179, -2.1179, -2.1179,  ..., -2.1179, -2.1179, -2.1179],\n",
       "           [-2.1179, -2.1179, -2.1179,  ..., -2.1179, -2.1179, -2.1179],\n",
       "           [-2.1179, -2.1179, -2.1179,  ..., -2.1179, -2.1179, -2.1179],\n",
       "           ...,\n",
       "           [-2.1179, -2.1179, -2.1179,  ..., -2.1179, -2.1179, -2.1179],\n",
       "           [-2.1179, -2.1179, -2.1179,  ..., -2.1179, -2.1179, -2.1179],\n",
       "           [-2.1179, -2.1179, -2.1179,  ..., -2.1179, -2.1179, -2.1179]],\n",
       " \n",
       "          [[-2.0357, -2.0357, -2.0357,  ..., -2.0357, -2.0357, -2.0357],\n",
       "           [-2.0357, -2.0357, -2.0357,  ..., -2.0357, -2.0357, -2.0357],\n",
       "           [-2.0357, -2.0357, -2.0357,  ..., -2.0357, -2.0357, -2.0357],\n",
       "           ...,\n",
       "           [-2.0357, -2.0357, -2.0357,  ..., -2.0357, -2.0357, -2.0357],\n",
       "           [-2.0357, -2.0357, -2.0357,  ..., -2.0357, -2.0357, -2.0357],\n",
       "           [-2.0357, -2.0357, -2.0357,  ..., -2.0357, -2.0357, -2.0357]],\n",
       " \n",
       "          [[-1.8044, -1.8044, -1.8044,  ..., -1.8044, -1.8044, -1.8044],\n",
       "           [-1.8044, -1.8044, -1.8044,  ..., -1.8044, -1.8044, -1.8044],\n",
       "           [-1.8044, -1.8044, -1.8044,  ..., -1.8044, -1.8044, -1.8044],\n",
       "           ...,\n",
       "           [-1.8044, -1.8044, -1.8044,  ..., -1.8044, -1.8044, -1.8044],\n",
       "           [-1.8044, -1.8044, -1.8044,  ..., -1.8044, -1.8044, -1.8044],\n",
       "           [-1.8044, -1.8044, -1.8044,  ..., -1.8044, -1.8044, -1.8044]]],\n",
       " \n",
       " \n",
       "         [[[-2.1179, -2.1179, -2.1179,  ..., -2.1179, -2.1179, -2.1179],\n",
       "           [-2.1179, -2.1179, -2.1179,  ..., -2.1179, -2.1179, -2.1179],\n",
       "           [-2.1179, -2.1179, -2.1179,  ..., -2.1179, -2.1179, -2.1179],\n",
       "           ...,\n",
       "           [-2.1179, -2.1179, -2.1179,  ..., -2.1179, -2.1179, -2.1179],\n",
       "           [-2.1179, -2.1179, -2.1179,  ..., -2.1179, -2.1179, -2.1179],\n",
       "           [-2.1179, -2.1179, -2.1179,  ..., -2.1179, -2.1179, -2.1179]],\n",
       " \n",
       "          [[-2.0357, -2.0357, -2.0357,  ..., -2.0357, -2.0357, -2.0357],\n",
       "           [-2.0357, -2.0357, -2.0357,  ..., -2.0357, -2.0357, -2.0357],\n",
       "           [-2.0357, -2.0357, -2.0357,  ..., -2.0357, -2.0357, -2.0357],\n",
       "           ...,\n",
       "           [-2.0357, -2.0357, -2.0357,  ..., -2.0357, -2.0357, -2.0357],\n",
       "           [-2.0357, -2.0357, -2.0357,  ..., -2.0357, -2.0357, -2.0357],\n",
       "           [-2.0357, -2.0357, -2.0357,  ..., -2.0357, -2.0357, -2.0357]],\n",
       " \n",
       "          [[-1.8044, -1.8044, -1.8044,  ..., -1.8044, -1.8044, -1.8044],\n",
       "           [-1.8044, -1.8044, -1.8044,  ..., -1.8044, -1.8044, -1.8044],\n",
       "           [-1.8044, -1.8044, -1.8044,  ..., -1.8044, -1.8044, -1.8044],\n",
       "           ...,\n",
       "           [-1.8044, -1.8044, -1.8044,  ..., -1.8044, -1.8044, -1.8044],\n",
       "           [-1.8044, -1.8044, -1.8044,  ..., -1.8044, -1.8044, -1.8044],\n",
       "           [-1.8044, -1.8044, -1.8044,  ..., -1.8044, -1.8044, -1.8044]]],\n",
       " \n",
       " \n",
       "         [[[-2.1179, -2.1179, -2.1179,  ..., -2.1179, -2.1179, -2.1179],\n",
       "           [-2.1179, -2.1179, -2.1179,  ..., -2.1179, -2.1179, -2.1179],\n",
       "           [-2.1179, -2.1179, -2.1179,  ..., -2.1179, -2.1179, -2.1179],\n",
       "           ...,\n",
       "           [-2.1179, -2.1179, -2.1179,  ..., -2.1179, -2.1179, -2.1179],\n",
       "           [-2.1179, -2.1179, -2.1179,  ..., -2.1179, -2.1179, -2.1179],\n",
       "           [-2.1179, -2.1179, -2.1179,  ..., -2.1179, -2.1179, -2.1179]],\n",
       " \n",
       "          [[-2.0357, -2.0357, -2.0357,  ..., -2.0357, -2.0357, -2.0357],\n",
       "           [-2.0357, -2.0357, -2.0357,  ..., -2.0357, -2.0357, -2.0357],\n",
       "           [-2.0357, -2.0357, -2.0357,  ..., -2.0357, -2.0357, -2.0357],\n",
       "           ...,\n",
       "           [-2.0357, -2.0357, -2.0357,  ..., -2.0357, -2.0357, -2.0357],\n",
       "           [-2.0357, -2.0357, -2.0357,  ..., -2.0357, -2.0357, -2.0357],\n",
       "           [-2.0357, -2.0357, -2.0357,  ..., -2.0357, -2.0357, -2.0357]],\n",
       " \n",
       "          [[-1.8044, -1.8044, -1.8044,  ..., -1.8044, -1.8044, -1.8044],\n",
       "           [-1.8044, -1.8044, -1.8044,  ..., -1.8044, -1.8044, -1.8044],\n",
       "           [-1.8044, -1.8044, -1.8044,  ..., -1.8044, -1.8044, -1.8044],\n",
       "           ...,\n",
       "           [-1.8044, -1.8044, -1.8044,  ..., -1.8044, -1.8044, -1.8044],\n",
       "           [-1.8044, -1.8044, -1.8044,  ..., -1.8044, -1.8044, -1.8044],\n",
       "           [-1.8044, -1.8044, -1.8044,  ..., -1.8044, -1.8044, -1.8044]]]]),\n",
       " tensor([0, 0, 0, 0, 0, 0, 1, 0, 1, 0, 0, 0, 0, 1, 0, 1, 0, 0, 0, 0, 0, 0, 0, 1,\n",
       "         0, 0, 0, 0, 0, 0, 0, 1])]"
      ]
     },
     "execution_count": 13,
     "metadata": {},
     "output_type": "execute_result"
    }
   ],
   "source": [
    "# get one batch\n",
    "images, labels = next(iter(loader_train))\n",
    "# check the batch size\n",
    "print(f'Batch size: {len(images)}')\n",
    "print(f'Data shape: {images.shape}')\n",
    "print(\"One batch of labels from the train loader:\")\n",
    "next(iter(loader_train))"
   ]
  },
  {
   "cell_type": "markdown",
   "id": "e68363d9",
   "metadata": {},
   "source": [
    "## Load the efficientnet model"
   ]
  },
  {
   "cell_type": "code",
   "execution_count": 190,
   "id": "a2c20b62",
   "metadata": {},
   "outputs": [],
   "source": [
    "def build_model(pretrained=True, fine_tune=True, num_classes=1):\n",
    "    \"\"\"\n",
    "    Returns en efficientnetB0 classifier model\n",
    "    \"\"\"\n",
    "    if pretrained:\n",
    "        print('[INFO]: Loading pre-trained weights')\n",
    "    else:\n",
    "        print('[INFO]: Not loading pre-trained weights')\n",
    "    model = models.efficientnet_b0(pretrained=pretrained)\n",
    "    if fine_tune:\n",
    "        print('[INFO]: Fine-tuning all layers...')\n",
    "        for params in model.parameters():\n",
    "            params.requires_grad = True\n",
    "    elif not fine_tune:\n",
    "        print('[INFO]: Freezing hidden layers...')\n",
    "        for params in model.parameters():\n",
    "            params.requires_grad = False\n",
    "    # Change the final classification head.\n",
    "    model.classifier[1] = nn.Linear(in_features=1280, out_features=num_classes)\n",
    "    return model"
   ]
  },
  {
   "cell_type": "code",
   "execution_count": 191,
   "id": "7c2d33f8",
   "metadata": {},
   "outputs": [
    {
     "name": "stdout",
     "output_type": "stream",
     "text": [
      "[INFO]: Loading pre-trained weights\n",
      "[INFO]: Fine-tuning all layers...\n"
     ]
    },
    {
     "name": "stderr",
     "output_type": "stream",
     "text": [
      "C:\\Users\\AT016638\\.conda\\envs\\contact\\lib\\site-packages\\torchvision\\models\\_utils.py:209: UserWarning: The parameter 'pretrained' is deprecated since 0.13 and may be removed in the future, please use 'weights' instead.\n",
      "  f\"The parameter '{pretrained_param}' is deprecated since 0.13 and may be removed in the future, \"\n",
      "C:\\Users\\AT016638\\.conda\\envs\\contact\\lib\\site-packages\\torchvision\\models\\_utils.py:223: UserWarning: Arguments other than a weight enum or `None` for 'weights' are deprecated since 0.13 and may be removed in the future. The current behavior is equivalent to passing `weights=EfficientNet_B0_Weights.IMAGENET1K_V1`. You can also use `weights=EfficientNet_B0_Weights.DEFAULT` to get the most up-to-date weights.\n",
      "  warnings.warn(msg)\n"
     ]
    }
   ],
   "source": [
    "model = build_model(num_classes=1) # 1 class for binary output"
   ]
  },
  {
   "cell_type": "markdown",
   "id": "32c47eab",
   "metadata": {},
   "source": [
    "## Model Training"
   ]
  },
  {
   "cell_type": "markdown",
   "id": "ad6fca08",
   "metadata": {},
   "source": [
    "### Training Utils"
   ]
  },
  {
   "cell_type": "code",
   "execution_count": 192,
   "id": "9ba67f65",
   "metadata": {},
   "outputs": [],
   "source": [
    "class Averager():\n",
    "    \"\"\"\n",
    "    An Averager keeps track of the training and validation loss values\n",
    "    and helps to get the average for each epoch as well\n",
    "    \"\"\"\n",
    "    def __init__(self):\n",
    "        self.current_total = 0.0\n",
    "        self.iterations = 0.0\n",
    "\n",
    "    def send(self, value):\n",
    "        self.current_total += value\n",
    "        self.iterations += 1\n",
    "\n",
    "    @property\n",
    "    def value(self):\n",
    "        if self.iterations == 0:\n",
    "            return 0\n",
    "        else:\n",
    "            return 1.0 * self.current_total / self.iterations\n",
    "\n",
    "    def reset(self):\n",
    "        self.current_total = 0.0\n",
    "        self.iterations = 0.0"
   ]
  },
  {
   "cell_type": "code",
   "execution_count": 193,
   "id": "2c475d47",
   "metadata": {},
   "outputs": [],
   "source": [
    "def save_loss_plot(output_dir, mean_train_loss, mean_valid_loss, epoch_num, model_name):\n",
    "    \"\"\"\n",
    "    Save plots with the loss curves of the model training\n",
    "    \"\"\"\n",
    "    fig, ax = plt.subplots(figsize=(15,10))\n",
    "\n",
    "    ax.plot(np.arange(epoch_num)+1, mean_train_loss, label='Training loss')\n",
    "    ax.plot(np.arange(epoch_num)+1, mean_valid_loss, label='Validation Loss')\n",
    "    \n",
    "    ax.set_xticks(np.arange(1, epoch_num+1, step=1))\n",
    "    if (epoch_num > 20):\n",
    "        ax.set_xticks(np.arange(0, epoch_num+1, step=2))\n",
    "    if(epoch_num > 50):\n",
    "        ax.set_xticks(np.arange(0, epoch_num+1, step=5))\n",
    "    if(epoch_num > 100):\n",
    "        ax.set_xticks(np.arange(0, epoch_num+1, step=10))\n",
    "    if(epoch_num > 1000):\n",
    "        ax.set_xticks(np.arange(0, epoch_num+1, step=100))\n",
    "        \n",
    "    ax.set_ylabel('Loss')\n",
    "    ax.set_xlabel('Epochs')\n",
    "    ax.set_title('Loss Curves')\n",
    "    ax.legend()\n",
    "    fig.savefig(f\"{output_dir}/{model_name}_epoch_loss.png\")\n",
    "\n",
    "    print('SAVING PLOTS COMPLETE...')\n",
    "\n",
    "    plt.close('all')"
   ]
  },
  {
   "cell_type": "code",
   "execution_count": 194,
   "id": "36cf368d",
   "metadata": {},
   "outputs": [],
   "source": [
    "def save_model(epoch, model, optimizer, model_name='model', out_dir='.'):\n",
    "    \"\"\"\n",
    "    Function to save the trained model\n",
    "    \"\"\"\n",
    "    torch.save({\n",
    "                'epoch': epoch+1,\n",
    "                'model_state_dict': model.state_dict(),\n",
    "                'optimizer_state_dict': optimizer.state_dict(),\n",
    "                }, f'{out_dir}/{model_name}.pth')\n",
    "\n",
    "    \n",
    "class SaveBestModel:\n",
    "    \"\"\"\n",
    "    Class to save the best model while training. If the current epoch's \n",
    "    validation loss is less than the previous least less, then save the\n",
    "    model state.\n",
    "    \"\"\"\n",
    "    def __init__(\n",
    "        self, best_valid_loss=float('inf'), model_name='model'\n",
    "    ):\n",
    "        self.best_valid_loss = best_valid_loss\n",
    "        self.non_improve_iters = 0\n",
    "        self.model_name = model_name\n",
    "        \n",
    "    def __call__(\n",
    "        self, current_valid_loss, \n",
    "        epoch, model, optimizer, out_dir='.'\n",
    "    ):\n",
    "        if current_valid_loss < self.best_valid_loss:\n",
    "            self.non_improve_iters = 0\n",
    "            self.best_valid_loss = current_valid_loss\n",
    "            print(f\"\\nBest validation loss: {self.best_valid_loss}\")\n",
    "            print(f\"\\nSaving best model for epoch: {epoch+1}\\n\")\n",
    "            model_name = f'bm_{self.model_name}_epoch_{epoch+1}'\n",
    "            save_model(epoch, model, optimizer, model_name, out_dir)\n",
    "        else:\n",
    "            self.non_improve_iters += 1"
   ]
  },
  {
   "cell_type": "markdown",
   "id": "c4b00878",
   "metadata": {},
   "source": [
    "### Training 1 epoch"
   ]
  },
  {
   "cell_type": "code",
   "execution_count": 195,
   "id": "54a90435",
   "metadata": {},
   "outputs": [],
   "source": [
    "def train_one_epoch(model, data_loader, criterion, optimizer, device, train_loss_averager):\n",
    "    \"\"\"\n",
    "    Function that trains the given model for one epoch \n",
    "    with the given data loader\n",
    "    \"\"\"\n",
    "    # activate model training mode in case its in evaluation mode\n",
    "    model.train()\n",
    "    # initialize tqdm progress bar\n",
    "    prog_bar = tqdm(data_loader, total=len(data_loader))\n",
    "    for i, (inputs, labels) in enumerate(prog_bar):\n",
    "        # send data to device\n",
    "        inputs = inputs.to(device)\n",
    "        labels = labels.to(device).to(torch.float32)\n",
    "        # reset the gradient accummulation from the previous batch\n",
    "        optimizer.zero_grad()\n",
    "        # make a prediction with the model\n",
    "        prediction = model(inputs).to(torch.float32).squeeze(dim=1)\n",
    "        # compute the loss \n",
    "        loss = criterion(prediction, labels)\n",
    "        # save loss values to the averaher\n",
    "        train_loss_averager.send(loss.item())\n",
    "        # backpropagate the loss gradient\n",
    "        loss.backward()\n",
    "        # uptade parameters\n",
    "        optimizer.step()\n",
    "\n",
    "        # print the mean batch loss at each iteration\n",
    "        prog_bar.set_description(desc=f\"Training Loss: {train_loss_averager.value:.4f}\")"
   ]
  },
  {
   "cell_type": "markdown",
   "id": "66e43ad0",
   "metadata": {},
   "source": [
    "### Validate Function"
   ]
  },
  {
   "cell_type": "code",
   "execution_count": 196,
   "id": "65c9b723",
   "metadata": {},
   "outputs": [],
   "source": [
    "def validate_model(model, data_loader, criterion, device, val_loss_averager):\n",
    "    \"\"\"\n",
    "    Uses the model on all the data from the data loader and \n",
    "    returns the predictions and the true targets. It also updates\n",
    "    the loss averager\n",
    "    \"\"\"\n",
    "    # initialize tqdm progress bar\n",
    "    prog_bar = tqdm(data_loader, total=len(data_loader))\n",
    "    loss_list = np.array([])\n",
    "    total_predictions = torch.tensor([]).to(device)\n",
    "    total_target_labels = torch.tensor([]).to(device)\n",
    "    \n",
    "    for i, (inputs, labels) in enumerate(prog_bar):\n",
    "        # send data to device\n",
    "        inputs = inputs.to(device)\n",
    "        labels = labels.to(device).to(torch.float32)\n",
    "        # make a prediction with the model in evaluation mode\n",
    "        with torch.no_grad():\n",
    "            # activate evaluation mode for batchnorm layers\n",
    "            model.eval()\n",
    "            prediction = model(inputs).to(torch.float32).squeeze(dim=1)\n",
    "\n",
    "        # add batch predictions and true labels to total lists\n",
    "        total_predictions = torch.cat((total_predictions, prediction), dim=0)    \n",
    "        total_target_labels = torch.cat((total_target_labels, labels), dim=0)    \n",
    "        # compute the loss \n",
    "        loss = criterion(prediction, labels)\n",
    "        # update loss averager\n",
    "        val_loss_averager.send(loss.item())\n",
    "        \n",
    "        # print the mean batch loss at each iteration\n",
    "        prog_bar.set_description(desc=f\"Validation Loss: {val_loss_averager.value:.4f}\")\n",
    "\n",
    "    # return total predictions and total true_labels\n",
    "    return total_predictions, total_target_labels"
   ]
  },
  {
   "cell_type": "code",
   "execution_count": 197,
   "id": "4666f65f",
   "metadata": {},
   "outputs": [],
   "source": [
    "def get_pos_weight(train_df):\n",
    "    \"\"\"\n",
    "    Returns a positive class weight equal to n_negative_contact / n_positive contact\n",
    "    this way, the positive contacts will have more weight in the loss function\n",
    "    \"\"\"\n",
    "    num_pos_contacts = train_df['contact_truth'].sum()\n",
    "    num_neg_contacts = len(train_df) - num_pos_contacts\n",
    "    pos_weight = torch.tensor([num_neg_contacts / num_pos_contacts])\n",
    "    \n",
    "    return pos_weight"
   ]
  },
  {
   "cell_type": "markdown",
   "id": "eddcc8f9",
   "metadata": {},
   "source": [
    "### Constants"
   ]
  },
  {
   "cell_type": "code",
   "execution_count": 200,
   "id": "f3325d81",
   "metadata": {},
   "outputs": [
    {
     "name": "stderr",
     "output_type": "stream",
     "text": [
      "A subdirectory or file trained_models already exists.\n",
      "A subdirectory or file training_plots already exists.\n"
     ]
    }
   ],
   "source": [
    "CLASSES = ['0', '1']\n",
    "# detect the device (GPU or CPU)\n",
    "DEVICE = torch.device('cuda') if torch.cuda.is_available() else torch.device('cpu')\n",
    "# set the number of epochs\n",
    "EPOCHS = 100\n",
    "# set the learning rate\n",
    "LR = 0.0001\n",
    "# maximum iterations with no validation set improvement until early stoping\n",
    "EARLY_STOP= 5\n",
    "\n",
    "MODEL_NAME = 'efficientnet_CLS_ground_v7'\n",
    "MODEL_DIR = 'trained_models'\n",
    "PLOT_DIR = 'training_plots'\n",
    "\n",
    "!mkdir {MODEL_DIR}\n",
    "!mkdir {PLOT_DIR}"
   ]
  },
  {
   "cell_type": "markdown",
   "id": "c41fb413",
   "metadata": {},
   "source": [
    "### Main training loop"
   ]
  },
  {
   "cell_type": "code",
   "execution_count": 201,
   "id": "f3a5d24f",
   "metadata": {
    "scrolled": true
   },
   "outputs": [
    {
     "name": "stdout",
     "output_type": "stream",
     "text": [
      "[INFO]: Loading pre-trained weights\n",
      "[INFO]: Fine-tuning all layers...\n",
      "Starting epoch 1\n"
     ]
    },
    {
     "data": {
      "application/vnd.jupyter.widget-view+json": {
       "model_id": "ce03f812e53f4ef6b8fb4ce10b414fc3",
       "version_major": 2,
       "version_minor": 0
      },
      "text/plain": [
       "  0%|          | 0/1630 [00:00<?, ?it/s]"
      ]
     },
     "metadata": {},
     "output_type": "display_data"
    },
    {
     "data": {
      "application/vnd.jupyter.widget-view+json": {
       "model_id": "29f70e6e3e4c4ef883f70120e1e0851f",
       "version_major": 2,
       "version_minor": 0
      },
      "text/plain": [
       "  0%|          | 0/408 [00:00<?, ?it/s]"
      ]
     },
     "metadata": {},
     "output_type": "display_data"
    },
    {
     "name": "stdout",
     "output_type": "stream",
     "text": [
      "Epoch #1 train_loss: 0.672\n",
      "Epoch #1 validation_loss: 0.557\n",
      "Took 647.131 seconds for epoch 1\n",
      "\n",
      "Best validation loss: 0.5567885457958076\n",
      "\n",
      "Saving best model for epoch: 1\n",
      "\n",
      "SAVING PLOTS COMPLETE...\n",
      "\n",
      "\n",
      "Starting epoch 2\n"
     ]
    },
    {
     "data": {
      "application/vnd.jupyter.widget-view+json": {
       "model_id": "dd7ca533f6c34fbb97ffd3a18b5eaf2a",
       "version_major": 2,
       "version_minor": 0
      },
      "text/plain": [
       "  0%|          | 0/1630 [00:00<?, ?it/s]"
      ]
     },
     "metadata": {},
     "output_type": "display_data"
    },
    {
     "data": {
      "application/vnd.jupyter.widget-view+json": {
       "model_id": "7612c34bc4c04e1b95c72907118156b0",
       "version_major": 2,
       "version_minor": 0
      },
      "text/plain": [
       "  0%|          | 0/408 [00:00<?, ?it/s]"
      ]
     },
     "metadata": {},
     "output_type": "display_data"
    },
    {
     "name": "stdout",
     "output_type": "stream",
     "text": [
      "Epoch #2 train_loss: 0.570\n",
      "Epoch #2 validation_loss: 0.500\n",
      "Took 623.264 seconds for epoch 2\n",
      "\n",
      "Best validation loss: 0.4999029701758249\n",
      "\n",
      "Saving best model for epoch: 2\n",
      "\n",
      "SAVING PLOTS COMPLETE...\n",
      "\n",
      "\n",
      "Starting epoch 3\n"
     ]
    },
    {
     "data": {
      "application/vnd.jupyter.widget-view+json": {
       "model_id": "98971ec830da4aac87c4af8a736e6727",
       "version_major": 2,
       "version_minor": 0
      },
      "text/plain": [
       "  0%|          | 0/1630 [00:00<?, ?it/s]"
      ]
     },
     "metadata": {},
     "output_type": "display_data"
    },
    {
     "data": {
      "application/vnd.jupyter.widget-view+json": {
       "model_id": "470464100746464aa76b32bd57e7088f",
       "version_major": 2,
       "version_minor": 0
      },
      "text/plain": [
       "  0%|          | 0/408 [00:00<?, ?it/s]"
      ]
     },
     "metadata": {},
     "output_type": "display_data"
    },
    {
     "name": "stdout",
     "output_type": "stream",
     "text": [
      "Epoch #3 train_loss: 0.527\n",
      "Epoch #3 validation_loss: 0.473\n",
      "Took 661.817 seconds for epoch 3\n",
      "\n",
      "Best validation loss: 0.4728649004052083\n",
      "\n",
      "Saving best model for epoch: 3\n",
      "\n",
      "SAVING PLOTS COMPLETE...\n",
      "\n",
      "\n",
      "Starting epoch 4\n"
     ]
    },
    {
     "data": {
      "application/vnd.jupyter.widget-view+json": {
       "model_id": "996c55870057436db64e2bd92f2f0289",
       "version_major": 2,
       "version_minor": 0
      },
      "text/plain": [
       "  0%|          | 0/1630 [00:00<?, ?it/s]"
      ]
     },
     "metadata": {},
     "output_type": "display_data"
    },
    {
     "data": {
      "application/vnd.jupyter.widget-view+json": {
       "model_id": "f4b33fcebc5e47cbb823311a9606d01f",
       "version_major": 2,
       "version_minor": 0
      },
      "text/plain": [
       "  0%|          | 0/408 [00:00<?, ?it/s]"
      ]
     },
     "metadata": {},
     "output_type": "display_data"
    },
    {
     "name": "stdout",
     "output_type": "stream",
     "text": [
      "Epoch #4 train_loss: 0.490\n",
      "Epoch #4 validation_loss: 0.467\n",
      "Took 622.072 seconds for epoch 4\n",
      "\n",
      "Best validation loss: 0.4665443179581095\n",
      "\n",
      "Saving best model for epoch: 4\n",
      "\n",
      "SAVING PLOTS COMPLETE...\n",
      "\n",
      "\n",
      "Starting epoch 5\n"
     ]
    },
    {
     "data": {
      "application/vnd.jupyter.widget-view+json": {
       "model_id": "1c8e59abb1e24d2fb17114e1d7c8bc93",
       "version_major": 2,
       "version_minor": 0
      },
      "text/plain": [
       "  0%|          | 0/1630 [00:00<?, ?it/s]"
      ]
     },
     "metadata": {},
     "output_type": "display_data"
    },
    {
     "data": {
      "application/vnd.jupyter.widget-view+json": {
       "model_id": "9ae143037ab843e0ad558071ba571e4d",
       "version_major": 2,
       "version_minor": 0
      },
      "text/plain": [
       "  0%|          | 0/408 [00:00<?, ?it/s]"
      ]
     },
     "metadata": {},
     "output_type": "display_data"
    },
    {
     "name": "stdout",
     "output_type": "stream",
     "text": [
      "Epoch #5 train_loss: 0.455\n",
      "Epoch #5 validation_loss: 0.461\n",
      "Took 539.041 seconds for epoch 5\n",
      "\n",
      "Best validation loss: 0.46140209366293516\n",
      "\n",
      "Saving best model for epoch: 5\n",
      "\n",
      "SAVING PLOTS COMPLETE...\n",
      "\n",
      "\n",
      "Starting epoch 6\n"
     ]
    },
    {
     "data": {
      "application/vnd.jupyter.widget-view+json": {
       "model_id": "d3927fce40d94882bf4c00cde678f9c6",
       "version_major": 2,
       "version_minor": 0
      },
      "text/plain": [
       "  0%|          | 0/1630 [00:00<?, ?it/s]"
      ]
     },
     "metadata": {},
     "output_type": "display_data"
    },
    {
     "data": {
      "application/vnd.jupyter.widget-view+json": {
       "model_id": "756c4e0577a54c518dd4929895647f98",
       "version_major": 2,
       "version_minor": 0
      },
      "text/plain": [
       "  0%|          | 0/408 [00:00<?, ?it/s]"
      ]
     },
     "metadata": {},
     "output_type": "display_data"
    },
    {
     "name": "stdout",
     "output_type": "stream",
     "text": [
      "Epoch #6 train_loss: 0.422\n",
      "Epoch #6 validation_loss: 0.444\n",
      "Took 537.632 seconds for epoch 6\n",
      "\n",
      "Best validation loss: 0.44443846771530077\n",
      "\n",
      "Saving best model for epoch: 6\n",
      "\n",
      "SAVING PLOTS COMPLETE...\n",
      "\n",
      "\n",
      "Starting epoch 7\n"
     ]
    },
    {
     "data": {
      "application/vnd.jupyter.widget-view+json": {
       "model_id": "1fc5fa786d6b4e79a8a75774143db46b",
       "version_major": 2,
       "version_minor": 0
      },
      "text/plain": [
       "  0%|          | 0/1630 [00:00<?, ?it/s]"
      ]
     },
     "metadata": {},
     "output_type": "display_data"
    },
    {
     "data": {
      "application/vnd.jupyter.widget-view+json": {
       "model_id": "b5af04886564437abac8444a1bb2ece1",
       "version_major": 2,
       "version_minor": 0
      },
      "text/plain": [
       "  0%|          | 0/408 [00:00<?, ?it/s]"
      ]
     },
     "metadata": {},
     "output_type": "display_data"
    },
    {
     "name": "stdout",
     "output_type": "stream",
     "text": [
      "Epoch #7 train_loss: 0.394\n",
      "Epoch #7 validation_loss: 0.436\n",
      "Took 663.487 seconds for epoch 7\n",
      "\n",
      "Best validation loss: 0.43558588289820094\n",
      "\n",
      "Saving best model for epoch: 7\n",
      "\n",
      "SAVING PLOTS COMPLETE...\n",
      "\n",
      "\n",
      "Starting epoch 8\n"
     ]
    },
    {
     "data": {
      "application/vnd.jupyter.widget-view+json": {
       "model_id": "859d8a168d584c03a3c3cae2612f22f6",
       "version_major": 2,
       "version_minor": 0
      },
      "text/plain": [
       "  0%|          | 0/1630 [00:00<?, ?it/s]"
      ]
     },
     "metadata": {},
     "output_type": "display_data"
    },
    {
     "data": {
      "application/vnd.jupyter.widget-view+json": {
       "model_id": "3910b6c3e98243dc94bf3c89d3b8b47c",
       "version_major": 2,
       "version_minor": 0
      },
      "text/plain": [
       "  0%|          | 0/408 [00:00<?, ?it/s]"
      ]
     },
     "metadata": {},
     "output_type": "display_data"
    },
    {
     "name": "stdout",
     "output_type": "stream",
     "text": [
      "Epoch #8 train_loss: 0.367\n",
      "Epoch #8 validation_loss: 0.431\n",
      "Took 708.175 seconds for epoch 8\n",
      "\n",
      "Best validation loss: 0.43085800816177156\n",
      "\n",
      "Saving best model for epoch: 8\n",
      "\n",
      "SAVING PLOTS COMPLETE...\n",
      "\n",
      "\n",
      "Starting epoch 9\n"
     ]
    },
    {
     "data": {
      "application/vnd.jupyter.widget-view+json": {
       "model_id": "fd2b77ecf9bc449384f6ced7c2886089",
       "version_major": 2,
       "version_minor": 0
      },
      "text/plain": [
       "  0%|          | 0/1630 [00:00<?, ?it/s]"
      ]
     },
     "metadata": {},
     "output_type": "display_data"
    },
    {
     "data": {
      "application/vnd.jupyter.widget-view+json": {
       "model_id": "b9e7ff85b6be49e9941228ba6b137aa5",
       "version_major": 2,
       "version_minor": 0
      },
      "text/plain": [
       "  0%|          | 0/408 [00:00<?, ?it/s]"
      ]
     },
     "metadata": {},
     "output_type": "display_data"
    },
    {
     "name": "stdout",
     "output_type": "stream",
     "text": [
      "Epoch #9 train_loss: 0.344\n",
      "Epoch #9 validation_loss: 0.437\n",
      "Took 682.432 seconds for epoch 9\n",
      "SAVING PLOTS COMPLETE...\n",
      "\n",
      "\n",
      "Starting epoch 10\n"
     ]
    },
    {
     "data": {
      "application/vnd.jupyter.widget-view+json": {
       "model_id": "9f10a6f1a710408db7d2c9faca93c1d1",
       "version_major": 2,
       "version_minor": 0
      },
      "text/plain": [
       "  0%|          | 0/1630 [00:00<?, ?it/s]"
      ]
     },
     "metadata": {},
     "output_type": "display_data"
    },
    {
     "ename": "KeyboardInterrupt",
     "evalue": "",
     "output_type": "error",
     "traceback": [
      "\u001b[1;31m---------------------------------------------------------------------------\u001b[0m",
      "\u001b[1;31mKeyboardInterrupt\u001b[0m                         Traceback (most recent call last)",
      "\u001b[1;32m~\\AppData\\Local\\Temp\\ipykernel_7464\\3581637494.py\u001b[0m in \u001b[0;36m<module>\u001b[1;34m\u001b[0m\n\u001b[0;32m     33\u001b[0m     \u001b[1;31m# train one epoch\u001b[0m\u001b[1;33m\u001b[0m\u001b[1;33m\u001b[0m\u001b[1;33m\u001b[0m\u001b[0m\n\u001b[0;32m     34\u001b[0m     train_one_epoch(model, loader_train, criterion, optimizer, \n\u001b[1;32m---> 35\u001b[1;33m                     DEVICE, train_loss_hist)\n\u001b[0m\u001b[0;32m     36\u001b[0m     \u001b[1;31m# update the lr scheduler\u001b[0m\u001b[1;33m\u001b[0m\u001b[1;33m\u001b[0m\u001b[1;33m\u001b[0m\u001b[0m\n\u001b[0;32m     37\u001b[0m     \u001b[0mscheduler\u001b[0m\u001b[1;33m.\u001b[0m\u001b[0mstep\u001b[0m\u001b[1;33m(\u001b[0m\u001b[1;33m)\u001b[0m\u001b[1;33m\u001b[0m\u001b[1;33m\u001b[0m\u001b[0m\n",
      "\u001b[1;32m~\\AppData\\Local\\Temp\\ipykernel_7464\\144075229.py\u001b[0m in \u001b[0;36mtrain_one_epoch\u001b[1;34m(model, data_loader, criterion, optimizer, device, train_loss_averager)\u001b[0m\n\u001b[0;32m      8\u001b[0m     \u001b[1;31m# initialize tqdm progress bar\u001b[0m\u001b[1;33m\u001b[0m\u001b[1;33m\u001b[0m\u001b[1;33m\u001b[0m\u001b[0m\n\u001b[0;32m      9\u001b[0m     \u001b[0mprog_bar\u001b[0m \u001b[1;33m=\u001b[0m \u001b[0mtqdm\u001b[0m\u001b[1;33m(\u001b[0m\u001b[0mdata_loader\u001b[0m\u001b[1;33m,\u001b[0m \u001b[0mtotal\u001b[0m\u001b[1;33m=\u001b[0m\u001b[0mlen\u001b[0m\u001b[1;33m(\u001b[0m\u001b[0mdata_loader\u001b[0m\u001b[1;33m)\u001b[0m\u001b[1;33m)\u001b[0m\u001b[1;33m\u001b[0m\u001b[1;33m\u001b[0m\u001b[0m\n\u001b[1;32m---> 10\u001b[1;33m     \u001b[1;32mfor\u001b[0m \u001b[0mi\u001b[0m\u001b[1;33m,\u001b[0m \u001b[1;33m(\u001b[0m\u001b[0minputs\u001b[0m\u001b[1;33m,\u001b[0m \u001b[0mlabels\u001b[0m\u001b[1;33m)\u001b[0m \u001b[1;32min\u001b[0m \u001b[0menumerate\u001b[0m\u001b[1;33m(\u001b[0m\u001b[0mprog_bar\u001b[0m\u001b[1;33m)\u001b[0m\u001b[1;33m:\u001b[0m\u001b[1;33m\u001b[0m\u001b[1;33m\u001b[0m\u001b[0m\n\u001b[0m\u001b[0;32m     11\u001b[0m         \u001b[1;31m# send data to device\u001b[0m\u001b[1;33m\u001b[0m\u001b[1;33m\u001b[0m\u001b[1;33m\u001b[0m\u001b[0m\n\u001b[0;32m     12\u001b[0m         \u001b[0minputs\u001b[0m \u001b[1;33m=\u001b[0m \u001b[0minputs\u001b[0m\u001b[1;33m.\u001b[0m\u001b[0mto\u001b[0m\u001b[1;33m(\u001b[0m\u001b[0mdevice\u001b[0m\u001b[1;33m)\u001b[0m\u001b[1;33m\u001b[0m\u001b[1;33m\u001b[0m\u001b[0m\n",
      "\u001b[1;32m~\\.conda\\envs\\contact\\lib\\site-packages\\tqdm\\notebook.py\u001b[0m in \u001b[0;36m__iter__\u001b[1;34m(self)\u001b[0m\n\u001b[0;32m    257\u001b[0m         \u001b[1;32mtry\u001b[0m\u001b[1;33m:\u001b[0m\u001b[1;33m\u001b[0m\u001b[1;33m\u001b[0m\u001b[0m\n\u001b[0;32m    258\u001b[0m             \u001b[0mit\u001b[0m \u001b[1;33m=\u001b[0m \u001b[0msuper\u001b[0m\u001b[1;33m(\u001b[0m\u001b[0mtqdm_notebook\u001b[0m\u001b[1;33m,\u001b[0m \u001b[0mself\u001b[0m\u001b[1;33m)\u001b[0m\u001b[1;33m.\u001b[0m\u001b[0m__iter__\u001b[0m\u001b[1;33m(\u001b[0m\u001b[1;33m)\u001b[0m\u001b[1;33m\u001b[0m\u001b[1;33m\u001b[0m\u001b[0m\n\u001b[1;32m--> 259\u001b[1;33m             \u001b[1;32mfor\u001b[0m \u001b[0mobj\u001b[0m \u001b[1;32min\u001b[0m \u001b[0mit\u001b[0m\u001b[1;33m:\u001b[0m\u001b[1;33m\u001b[0m\u001b[1;33m\u001b[0m\u001b[0m\n\u001b[0m\u001b[0;32m    260\u001b[0m                 \u001b[1;31m# return super(tqdm...) will not catch exception\u001b[0m\u001b[1;33m\u001b[0m\u001b[1;33m\u001b[0m\u001b[1;33m\u001b[0m\u001b[0m\n\u001b[0;32m    261\u001b[0m                 \u001b[1;32myield\u001b[0m \u001b[0mobj\u001b[0m\u001b[1;33m\u001b[0m\u001b[1;33m\u001b[0m\u001b[0m\n",
      "\u001b[1;32m~\\.conda\\envs\\contact\\lib\\site-packages\\tqdm\\std.py\u001b[0m in \u001b[0;36m__iter__\u001b[1;34m(self)\u001b[0m\n\u001b[0;32m   1193\u001b[0m \u001b[1;33m\u001b[0m\u001b[0m\n\u001b[0;32m   1194\u001b[0m         \u001b[1;32mtry\u001b[0m\u001b[1;33m:\u001b[0m\u001b[1;33m\u001b[0m\u001b[1;33m\u001b[0m\u001b[0m\n\u001b[1;32m-> 1195\u001b[1;33m             \u001b[1;32mfor\u001b[0m \u001b[0mobj\u001b[0m \u001b[1;32min\u001b[0m \u001b[0miterable\u001b[0m\u001b[1;33m:\u001b[0m\u001b[1;33m\u001b[0m\u001b[1;33m\u001b[0m\u001b[0m\n\u001b[0m\u001b[0;32m   1196\u001b[0m                 \u001b[1;32myield\u001b[0m \u001b[0mobj\u001b[0m\u001b[1;33m\u001b[0m\u001b[1;33m\u001b[0m\u001b[0m\n\u001b[0;32m   1197\u001b[0m                 \u001b[1;31m# Update and possibly print the progressbar.\u001b[0m\u001b[1;33m\u001b[0m\u001b[1;33m\u001b[0m\u001b[1;33m\u001b[0m\u001b[0m\n",
      "\u001b[1;32m~\\.conda\\envs\\contact\\lib\\site-packages\\torch\\utils\\data\\dataloader.py\u001b[0m in \u001b[0;36m__next__\u001b[1;34m(self)\u001b[0m\n\u001b[0;32m    626\u001b[0m                 \u001b[1;31m# TODO(https://github.com/pytorch/pytorch/issues/76750)\u001b[0m\u001b[1;33m\u001b[0m\u001b[1;33m\u001b[0m\u001b[1;33m\u001b[0m\u001b[0m\n\u001b[0;32m    627\u001b[0m                 \u001b[0mself\u001b[0m\u001b[1;33m.\u001b[0m\u001b[0m_reset\u001b[0m\u001b[1;33m(\u001b[0m\u001b[1;33m)\u001b[0m  \u001b[1;31m# type: ignore[call-arg]\u001b[0m\u001b[1;33m\u001b[0m\u001b[1;33m\u001b[0m\u001b[0m\n\u001b[1;32m--> 628\u001b[1;33m             \u001b[0mdata\u001b[0m \u001b[1;33m=\u001b[0m \u001b[0mself\u001b[0m\u001b[1;33m.\u001b[0m\u001b[0m_next_data\u001b[0m\u001b[1;33m(\u001b[0m\u001b[1;33m)\u001b[0m\u001b[1;33m\u001b[0m\u001b[1;33m\u001b[0m\u001b[0m\n\u001b[0m\u001b[0;32m    629\u001b[0m             \u001b[0mself\u001b[0m\u001b[1;33m.\u001b[0m\u001b[0m_num_yielded\u001b[0m \u001b[1;33m+=\u001b[0m \u001b[1;36m1\u001b[0m\u001b[1;33m\u001b[0m\u001b[1;33m\u001b[0m\u001b[0m\n\u001b[0;32m    630\u001b[0m             \u001b[1;32mif\u001b[0m \u001b[0mself\u001b[0m\u001b[1;33m.\u001b[0m\u001b[0m_dataset_kind\u001b[0m \u001b[1;33m==\u001b[0m \u001b[0m_DatasetKind\u001b[0m\u001b[1;33m.\u001b[0m\u001b[0mIterable\u001b[0m \u001b[1;32mand\u001b[0m\u001b[0;31m \u001b[0m\u001b[0;31m\\\u001b[0m\u001b[1;33m\u001b[0m\u001b[1;33m\u001b[0m\u001b[0m\n",
      "\u001b[1;32m~\\.conda\\envs\\contact\\lib\\site-packages\\torch\\utils\\data\\dataloader.py\u001b[0m in \u001b[0;36m_next_data\u001b[1;34m(self)\u001b[0m\n\u001b[0;32m    669\u001b[0m     \u001b[1;32mdef\u001b[0m \u001b[0m_next_data\u001b[0m\u001b[1;33m(\u001b[0m\u001b[0mself\u001b[0m\u001b[1;33m)\u001b[0m\u001b[1;33m:\u001b[0m\u001b[1;33m\u001b[0m\u001b[1;33m\u001b[0m\u001b[0m\n\u001b[0;32m    670\u001b[0m         \u001b[0mindex\u001b[0m \u001b[1;33m=\u001b[0m \u001b[0mself\u001b[0m\u001b[1;33m.\u001b[0m\u001b[0m_next_index\u001b[0m\u001b[1;33m(\u001b[0m\u001b[1;33m)\u001b[0m  \u001b[1;31m# may raise StopIteration\u001b[0m\u001b[1;33m\u001b[0m\u001b[1;33m\u001b[0m\u001b[0m\n\u001b[1;32m--> 671\u001b[1;33m         \u001b[0mdata\u001b[0m \u001b[1;33m=\u001b[0m \u001b[0mself\u001b[0m\u001b[1;33m.\u001b[0m\u001b[0m_dataset_fetcher\u001b[0m\u001b[1;33m.\u001b[0m\u001b[0mfetch\u001b[0m\u001b[1;33m(\u001b[0m\u001b[0mindex\u001b[0m\u001b[1;33m)\u001b[0m  \u001b[1;31m# may raise StopIteration\u001b[0m\u001b[1;33m\u001b[0m\u001b[1;33m\u001b[0m\u001b[0m\n\u001b[0m\u001b[0;32m    672\u001b[0m         \u001b[1;32mif\u001b[0m \u001b[0mself\u001b[0m\u001b[1;33m.\u001b[0m\u001b[0m_pin_memory\u001b[0m\u001b[1;33m:\u001b[0m\u001b[1;33m\u001b[0m\u001b[1;33m\u001b[0m\u001b[0m\n\u001b[0;32m    673\u001b[0m             \u001b[0mdata\u001b[0m \u001b[1;33m=\u001b[0m \u001b[0m_utils\u001b[0m\u001b[1;33m.\u001b[0m\u001b[0mpin_memory\u001b[0m\u001b[1;33m.\u001b[0m\u001b[0mpin_memory\u001b[0m\u001b[1;33m(\u001b[0m\u001b[0mdata\u001b[0m\u001b[1;33m,\u001b[0m \u001b[0mself\u001b[0m\u001b[1;33m.\u001b[0m\u001b[0m_pin_memory_device\u001b[0m\u001b[1;33m)\u001b[0m\u001b[1;33m\u001b[0m\u001b[1;33m\u001b[0m\u001b[0m\n",
      "\u001b[1;32m~\\.conda\\envs\\contact\\lib\\site-packages\\torch\\utils\\data\\_utils\\fetch.py\u001b[0m in \u001b[0;36mfetch\u001b[1;34m(self, possibly_batched_index)\u001b[0m\n\u001b[0;32m     56\u001b[0m                 \u001b[0mdata\u001b[0m \u001b[1;33m=\u001b[0m \u001b[0mself\u001b[0m\u001b[1;33m.\u001b[0m\u001b[0mdataset\u001b[0m\u001b[1;33m.\u001b[0m\u001b[0m__getitems__\u001b[0m\u001b[1;33m(\u001b[0m\u001b[0mpossibly_batched_index\u001b[0m\u001b[1;33m)\u001b[0m\u001b[1;33m\u001b[0m\u001b[1;33m\u001b[0m\u001b[0m\n\u001b[0;32m     57\u001b[0m             \u001b[1;32melse\u001b[0m\u001b[1;33m:\u001b[0m\u001b[1;33m\u001b[0m\u001b[1;33m\u001b[0m\u001b[0m\n\u001b[1;32m---> 58\u001b[1;33m                 \u001b[0mdata\u001b[0m \u001b[1;33m=\u001b[0m \u001b[1;33m[\u001b[0m\u001b[0mself\u001b[0m\u001b[1;33m.\u001b[0m\u001b[0mdataset\u001b[0m\u001b[1;33m[\u001b[0m\u001b[0midx\u001b[0m\u001b[1;33m]\u001b[0m \u001b[1;32mfor\u001b[0m \u001b[0midx\u001b[0m \u001b[1;32min\u001b[0m \u001b[0mpossibly_batched_index\u001b[0m\u001b[1;33m]\u001b[0m\u001b[1;33m\u001b[0m\u001b[1;33m\u001b[0m\u001b[0m\n\u001b[0m\u001b[0;32m     59\u001b[0m         \u001b[1;32melse\u001b[0m\u001b[1;33m:\u001b[0m\u001b[1;33m\u001b[0m\u001b[1;33m\u001b[0m\u001b[0m\n\u001b[0;32m     60\u001b[0m             \u001b[0mdata\u001b[0m \u001b[1;33m=\u001b[0m \u001b[0mself\u001b[0m\u001b[1;33m.\u001b[0m\u001b[0mdataset\u001b[0m\u001b[1;33m[\u001b[0m\u001b[0mpossibly_batched_index\u001b[0m\u001b[1;33m]\u001b[0m\u001b[1;33m\u001b[0m\u001b[1;33m\u001b[0m\u001b[0m\n",
      "\u001b[1;32m~\\.conda\\envs\\contact\\lib\\site-packages\\torch\\utils\\data\\_utils\\fetch.py\u001b[0m in \u001b[0;36m<listcomp>\u001b[1;34m(.0)\u001b[0m\n\u001b[0;32m     56\u001b[0m                 \u001b[0mdata\u001b[0m \u001b[1;33m=\u001b[0m \u001b[0mself\u001b[0m\u001b[1;33m.\u001b[0m\u001b[0mdataset\u001b[0m\u001b[1;33m.\u001b[0m\u001b[0m__getitems__\u001b[0m\u001b[1;33m(\u001b[0m\u001b[0mpossibly_batched_index\u001b[0m\u001b[1;33m)\u001b[0m\u001b[1;33m\u001b[0m\u001b[1;33m\u001b[0m\u001b[0m\n\u001b[0;32m     57\u001b[0m             \u001b[1;32melse\u001b[0m\u001b[1;33m:\u001b[0m\u001b[1;33m\u001b[0m\u001b[1;33m\u001b[0m\u001b[0m\n\u001b[1;32m---> 58\u001b[1;33m                 \u001b[0mdata\u001b[0m \u001b[1;33m=\u001b[0m \u001b[1;33m[\u001b[0m\u001b[0mself\u001b[0m\u001b[1;33m.\u001b[0m\u001b[0mdataset\u001b[0m\u001b[1;33m[\u001b[0m\u001b[0midx\u001b[0m\u001b[1;33m]\u001b[0m \u001b[1;32mfor\u001b[0m \u001b[0midx\u001b[0m \u001b[1;32min\u001b[0m \u001b[0mpossibly_batched_index\u001b[0m\u001b[1;33m]\u001b[0m\u001b[1;33m\u001b[0m\u001b[1;33m\u001b[0m\u001b[0m\n\u001b[0m\u001b[0;32m     59\u001b[0m         \u001b[1;32melse\u001b[0m\u001b[1;33m:\u001b[0m\u001b[1;33m\u001b[0m\u001b[1;33m\u001b[0m\u001b[0m\n\u001b[0;32m     60\u001b[0m             \u001b[0mdata\u001b[0m \u001b[1;33m=\u001b[0m \u001b[0mself\u001b[0m\u001b[1;33m.\u001b[0m\u001b[0mdataset\u001b[0m\u001b[1;33m[\u001b[0m\u001b[0mpossibly_batched_index\u001b[0m\u001b[1;33m]\u001b[0m\u001b[1;33m\u001b[0m\u001b[1;33m\u001b[0m\u001b[0m\n",
      "\u001b[1;32m~\\AppData\\Local\\Temp\\ipykernel_7464\\1752390513.py\u001b[0m in \u001b[0;36m__getitem__\u001b[1;34m(self, idx)\u001b[0m\n\u001b[0;32m     15\u001b[0m         \u001b[0mimage\u001b[0m \u001b[1;33m=\u001b[0m \u001b[0mImage\u001b[0m\u001b[1;33m.\u001b[0m\u001b[0mopen\u001b[0m\u001b[1;33m(\u001b[0m\u001b[0mimg_path\u001b[0m\u001b[1;33m)\u001b[0m\u001b[1;33m.\u001b[0m\u001b[0mconvert\u001b[0m\u001b[1;33m(\u001b[0m\u001b[1;34m'RGB'\u001b[0m\u001b[1;33m)\u001b[0m\u001b[1;33m\u001b[0m\u001b[1;33m\u001b[0m\u001b[0m\n\u001b[0;32m     16\u001b[0m         \u001b[1;32mif\u001b[0m \u001b[1;33m(\u001b[0m\u001b[0mself\u001b[0m\u001b[1;33m.\u001b[0m\u001b[0mtransform\u001b[0m\u001b[1;33m)\u001b[0m\u001b[1;33m:\u001b[0m\u001b[1;33m\u001b[0m\u001b[1;33m\u001b[0m\u001b[0m\n\u001b[1;32m---> 17\u001b[1;33m             \u001b[0mimage\u001b[0m \u001b[1;33m=\u001b[0m \u001b[0mself\u001b[0m\u001b[1;33m.\u001b[0m\u001b[0mtransform\u001b[0m\u001b[1;33m(\u001b[0m\u001b[0mimage\u001b[0m\u001b[1;33m)\u001b[0m\u001b[1;33m\u001b[0m\u001b[1;33m\u001b[0m\u001b[0m\n\u001b[0m\u001b[0;32m     18\u001b[0m \u001b[1;33m\u001b[0m\u001b[0m\n\u001b[0;32m     19\u001b[0m         \u001b[1;31m# get the class label\u001b[0m\u001b[1;33m\u001b[0m\u001b[1;33m\u001b[0m\u001b[1;33m\u001b[0m\u001b[0m\n",
      "\u001b[1;32m~\\.conda\\envs\\contact\\lib\\site-packages\\torchvision\\transforms\\transforms.py\u001b[0m in \u001b[0;36m__call__\u001b[1;34m(self, img)\u001b[0m\n\u001b[0;32m     93\u001b[0m     \u001b[1;32mdef\u001b[0m \u001b[0m__call__\u001b[0m\u001b[1;33m(\u001b[0m\u001b[0mself\u001b[0m\u001b[1;33m,\u001b[0m \u001b[0mimg\u001b[0m\u001b[1;33m)\u001b[0m\u001b[1;33m:\u001b[0m\u001b[1;33m\u001b[0m\u001b[1;33m\u001b[0m\u001b[0m\n\u001b[0;32m     94\u001b[0m         \u001b[1;32mfor\u001b[0m \u001b[0mt\u001b[0m \u001b[1;32min\u001b[0m \u001b[0mself\u001b[0m\u001b[1;33m.\u001b[0m\u001b[0mtransforms\u001b[0m\u001b[1;33m:\u001b[0m\u001b[1;33m\u001b[0m\u001b[1;33m\u001b[0m\u001b[0m\n\u001b[1;32m---> 95\u001b[1;33m             \u001b[0mimg\u001b[0m \u001b[1;33m=\u001b[0m \u001b[0mt\u001b[0m\u001b[1;33m(\u001b[0m\u001b[0mimg\u001b[0m\u001b[1;33m)\u001b[0m\u001b[1;33m\u001b[0m\u001b[1;33m\u001b[0m\u001b[0m\n\u001b[0m\u001b[0;32m     96\u001b[0m         \u001b[1;32mreturn\u001b[0m \u001b[0mimg\u001b[0m\u001b[1;33m\u001b[0m\u001b[1;33m\u001b[0m\u001b[0m\n\u001b[0;32m     97\u001b[0m \u001b[1;33m\u001b[0m\u001b[0m\n",
      "\u001b[1;32m~\\.conda\\envs\\contact\\lib\\site-packages\\torch\\nn\\modules\\module.py\u001b[0m in \u001b[0;36m_call_impl\u001b[1;34m(self, *input, **kwargs)\u001b[0m\n\u001b[0;32m   1192\u001b[0m         if not (self._backward_hooks or self._forward_hooks or self._forward_pre_hooks or _global_backward_hooks\n\u001b[0;32m   1193\u001b[0m                 or _global_forward_hooks or _global_forward_pre_hooks):\n\u001b[1;32m-> 1194\u001b[1;33m             \u001b[1;32mreturn\u001b[0m \u001b[0mforward_call\u001b[0m\u001b[1;33m(\u001b[0m\u001b[1;33m*\u001b[0m\u001b[0minput\u001b[0m\u001b[1;33m,\u001b[0m \u001b[1;33m**\u001b[0m\u001b[0mkwargs\u001b[0m\u001b[1;33m)\u001b[0m\u001b[1;33m\u001b[0m\u001b[1;33m\u001b[0m\u001b[0m\n\u001b[0m\u001b[0;32m   1195\u001b[0m         \u001b[1;31m# Do not call functions when jit is used\u001b[0m\u001b[1;33m\u001b[0m\u001b[1;33m\u001b[0m\u001b[1;33m\u001b[0m\u001b[0m\n\u001b[0;32m   1196\u001b[0m         \u001b[0mfull_backward_hooks\u001b[0m\u001b[1;33m,\u001b[0m \u001b[0mnon_full_backward_hooks\u001b[0m \u001b[1;33m=\u001b[0m \u001b[1;33m[\u001b[0m\u001b[1;33m]\u001b[0m\u001b[1;33m,\u001b[0m \u001b[1;33m[\u001b[0m\u001b[1;33m]\u001b[0m\u001b[1;33m\u001b[0m\u001b[1;33m\u001b[0m\u001b[0m\n",
      "\u001b[1;32m~\\.conda\\envs\\contact\\lib\\site-packages\\torchvision\\transforms\\transforms.py\u001b[0m in \u001b[0;36mforward\u001b[1;34m(self, img)\u001b[0m\n\u001b[0;32m   1253\u001b[0m                 \u001b[0mimg\u001b[0m \u001b[1;33m=\u001b[0m \u001b[0mF\u001b[0m\u001b[1;33m.\u001b[0m\u001b[0madjust_saturation\u001b[0m\u001b[1;33m(\u001b[0m\u001b[0mimg\u001b[0m\u001b[1;33m,\u001b[0m \u001b[0msaturation_factor\u001b[0m\u001b[1;33m)\u001b[0m\u001b[1;33m\u001b[0m\u001b[1;33m\u001b[0m\u001b[0m\n\u001b[0;32m   1254\u001b[0m             \u001b[1;32melif\u001b[0m \u001b[0mfn_id\u001b[0m \u001b[1;33m==\u001b[0m \u001b[1;36m3\u001b[0m \u001b[1;32mand\u001b[0m \u001b[0mhue_factor\u001b[0m \u001b[1;32mis\u001b[0m \u001b[1;32mnot\u001b[0m \u001b[1;32mNone\u001b[0m\u001b[1;33m:\u001b[0m\u001b[1;33m\u001b[0m\u001b[1;33m\u001b[0m\u001b[0m\n\u001b[1;32m-> 1255\u001b[1;33m                 \u001b[0mimg\u001b[0m \u001b[1;33m=\u001b[0m \u001b[0mF\u001b[0m\u001b[1;33m.\u001b[0m\u001b[0madjust_hue\u001b[0m\u001b[1;33m(\u001b[0m\u001b[0mimg\u001b[0m\u001b[1;33m,\u001b[0m \u001b[0mhue_factor\u001b[0m\u001b[1;33m)\u001b[0m\u001b[1;33m\u001b[0m\u001b[1;33m\u001b[0m\u001b[0m\n\u001b[0m\u001b[0;32m   1256\u001b[0m \u001b[1;33m\u001b[0m\u001b[0m\n\u001b[0;32m   1257\u001b[0m         \u001b[1;32mreturn\u001b[0m \u001b[0mimg\u001b[0m\u001b[1;33m\u001b[0m\u001b[1;33m\u001b[0m\u001b[0m\n",
      "\u001b[1;32m~\\.conda\\envs\\contact\\lib\\site-packages\\torchvision\\transforms\\functional.py\u001b[0m in \u001b[0;36madjust_hue\u001b[1;34m(img, hue_factor)\u001b[0m\n\u001b[0;32m    947\u001b[0m         \u001b[0m_log_api_usage_once\u001b[0m\u001b[1;33m(\u001b[0m\u001b[0madjust_hue\u001b[0m\u001b[1;33m)\u001b[0m\u001b[1;33m\u001b[0m\u001b[1;33m\u001b[0m\u001b[0m\n\u001b[0;32m    948\u001b[0m     \u001b[1;32mif\u001b[0m \u001b[1;32mnot\u001b[0m \u001b[0misinstance\u001b[0m\u001b[1;33m(\u001b[0m\u001b[0mimg\u001b[0m\u001b[1;33m,\u001b[0m \u001b[0mtorch\u001b[0m\u001b[1;33m.\u001b[0m\u001b[0mTensor\u001b[0m\u001b[1;33m)\u001b[0m\u001b[1;33m:\u001b[0m\u001b[1;33m\u001b[0m\u001b[1;33m\u001b[0m\u001b[0m\n\u001b[1;32m--> 949\u001b[1;33m         \u001b[1;32mreturn\u001b[0m \u001b[0mF_pil\u001b[0m\u001b[1;33m.\u001b[0m\u001b[0madjust_hue\u001b[0m\u001b[1;33m(\u001b[0m\u001b[0mimg\u001b[0m\u001b[1;33m,\u001b[0m \u001b[0mhue_factor\u001b[0m\u001b[1;33m)\u001b[0m\u001b[1;33m\u001b[0m\u001b[1;33m\u001b[0m\u001b[0m\n\u001b[0m\u001b[0;32m    950\u001b[0m \u001b[1;33m\u001b[0m\u001b[0m\n\u001b[0;32m    951\u001b[0m     \u001b[1;32mreturn\u001b[0m \u001b[0mF_t\u001b[0m\u001b[1;33m.\u001b[0m\u001b[0madjust_hue\u001b[0m\u001b[1;33m(\u001b[0m\u001b[0mimg\u001b[0m\u001b[1;33m,\u001b[0m \u001b[0mhue_factor\u001b[0m\u001b[1;33m)\u001b[0m\u001b[1;33m\u001b[0m\u001b[1;33m\u001b[0m\u001b[0m\n",
      "\u001b[1;32m~\\.conda\\envs\\contact\\lib\\site-packages\\torchvision\\transforms\\functional_pil.py\u001b[0m in \u001b[0;36madjust_hue\u001b[1;34m(img, hue_factor)\u001b[0m\n\u001b[0;32m    117\u001b[0m     \u001b[0mh\u001b[0m \u001b[1;33m=\u001b[0m \u001b[0mImage\u001b[0m\u001b[1;33m.\u001b[0m\u001b[0mfromarray\u001b[0m\u001b[1;33m(\u001b[0m\u001b[0mnp_h\u001b[0m\u001b[1;33m,\u001b[0m \u001b[1;34m\"L\"\u001b[0m\u001b[1;33m)\u001b[0m\u001b[1;33m\u001b[0m\u001b[1;33m\u001b[0m\u001b[0m\n\u001b[0;32m    118\u001b[0m \u001b[1;33m\u001b[0m\u001b[0m\n\u001b[1;32m--> 119\u001b[1;33m     \u001b[0mimg\u001b[0m \u001b[1;33m=\u001b[0m \u001b[0mImage\u001b[0m\u001b[1;33m.\u001b[0m\u001b[0mmerge\u001b[0m\u001b[1;33m(\u001b[0m\u001b[1;34m\"HSV\"\u001b[0m\u001b[1;33m,\u001b[0m \u001b[1;33m(\u001b[0m\u001b[0mh\u001b[0m\u001b[1;33m,\u001b[0m \u001b[0ms\u001b[0m\u001b[1;33m,\u001b[0m \u001b[0mv\u001b[0m\u001b[1;33m)\u001b[0m\u001b[1;33m)\u001b[0m\u001b[1;33m.\u001b[0m\u001b[0mconvert\u001b[0m\u001b[1;33m(\u001b[0m\u001b[0minput_mode\u001b[0m\u001b[1;33m)\u001b[0m\u001b[1;33m\u001b[0m\u001b[1;33m\u001b[0m\u001b[0m\n\u001b[0m\u001b[0;32m    120\u001b[0m     \u001b[1;32mreturn\u001b[0m \u001b[0mimg\u001b[0m\u001b[1;33m\u001b[0m\u001b[1;33m\u001b[0m\u001b[0m\n\u001b[0;32m    121\u001b[0m \u001b[1;33m\u001b[0m\u001b[0m\n",
      "\u001b[1;32m~\\.conda\\envs\\contact\\lib\\site-packages\\PIL\\Image.py\u001b[0m in \u001b[0;36mconvert\u001b[1;34m(self, mode, matrix, dither, palette, colors)\u001b[0m\n\u001b[0;32m   1079\u001b[0m \u001b[1;33m\u001b[0m\u001b[0m\n\u001b[0;32m   1080\u001b[0m         \u001b[1;32mtry\u001b[0m\u001b[1;33m:\u001b[0m\u001b[1;33m\u001b[0m\u001b[1;33m\u001b[0m\u001b[0m\n\u001b[1;32m-> 1081\u001b[1;33m             \u001b[0mim\u001b[0m \u001b[1;33m=\u001b[0m \u001b[0mself\u001b[0m\u001b[1;33m.\u001b[0m\u001b[0mim\u001b[0m\u001b[1;33m.\u001b[0m\u001b[0mconvert\u001b[0m\u001b[1;33m(\u001b[0m\u001b[0mmode\u001b[0m\u001b[1;33m,\u001b[0m \u001b[0mdither\u001b[0m\u001b[1;33m)\u001b[0m\u001b[1;33m\u001b[0m\u001b[1;33m\u001b[0m\u001b[0m\n\u001b[0m\u001b[0;32m   1082\u001b[0m         \u001b[1;32mexcept\u001b[0m \u001b[0mValueError\u001b[0m\u001b[1;33m:\u001b[0m\u001b[1;33m\u001b[0m\u001b[1;33m\u001b[0m\u001b[0m\n\u001b[0;32m   1083\u001b[0m             \u001b[1;32mtry\u001b[0m\u001b[1;33m:\u001b[0m\u001b[1;33m\u001b[0m\u001b[1;33m\u001b[0m\u001b[0m\n",
      "\u001b[1;31mKeyboardInterrupt\u001b[0m: "
     ]
    }
   ],
   "source": [
    "# TRAINING PARAMS\n",
    "# initialize model and send to device\n",
    "model = build_model(num_classes=1) # 1 output for binary prediction\n",
    "model = model.to(DEVICE)\n",
    "# initialize Adam optimizer with default parameters (like the paper)\n",
    "optimizer = Adam(model.parameters(), lr=LR)\n",
    "# so it halves the learning rate every 5 epochs\n",
    "scheduler = lr_scheduler.LinearLR(optimizer, start_factor=1, end_factor=0, total_iters=EPOCHS)\n",
    "# initialize loss function (sigmoid + binary cross entropy)\n",
    "# set a positive class weight equal to n_negative_contact / n_positive contact\n",
    "# this way, the positive contacts will have more weight in the loss function\n",
    "pos_weight = get_pos_weight(train_df).to(DEVICE)\n",
    "criterion = nn.BCEWithLogitsLoss(pos_weight = pos_weight)\n",
    "\n",
    "# initialize the loss Averager class\n",
    "train_loss_hist = Averager()\n",
    "val_loss_hist = Averager()\n",
    "# initialize SaveBestModel class\n",
    "save_best_model = SaveBestModel(model_name=MODEL_NAME)\n",
    "# mean losses for train and validation at every epoch\n",
    "mean_train_losses = []\n",
    "mean_validation_losses = []\n",
    "\n",
    "# epoch loop\n",
    "for epoch in range(EPOCHS):\n",
    "    print(f\"Starting epoch {epoch+1}\")\n",
    "    # reset the training and valitation loss histories for the current epoch\n",
    "    train_loss_hist.reset()\n",
    "    val_loss_hist.reset()\n",
    "\n",
    "    # start timer and carry out training and evaluation\n",
    "    start = time.time()\n",
    "    # train one epoch\n",
    "    train_one_epoch(model, loader_train, criterion, optimizer, \n",
    "                    DEVICE, train_loss_hist)\n",
    "    # update the lr scheduler\n",
    "    scheduler.step()\n",
    "    #evaluate the model\n",
    "    y_pred, y_true = validate_model(model, loader_test, criterion,\n",
    "                                    DEVICE, val_loss_hist)\n",
    "    \n",
    "    print(f\"Epoch #{epoch+1} train_loss: {train_loss_hist.value:.3f}\")\n",
    "    print(f\"Epoch #{epoch+1} validation_loss: {val_loss_hist.value:.3f}\")\n",
    "    end = time.time()\n",
    "    print(f\"Took {(end - start):.3f} seconds for epoch {epoch+1}\")\n",
    "\n",
    "    # save the mean train and validation losses of this epoch\n",
    "    mean_train_losses.append(train_loss_hist.value)\n",
    "    mean_validation_losses.append(val_loss_hist.value)\n",
    "\n",
    "    # save the best model until now if we have the minimum val loss this epoch\n",
    "    save_best_model(val_loss_hist.value, epoch, model, optimizer, \n",
    "                    out_dir=MODEL_DIR)\n",
    "    \n",
    "    #save the current epoch model\n",
    "    save_model(epoch, model, optimizer, model_name=MODEL_NAME,\n",
    "               out_dir=MODEL_DIR)\n",
    "\n",
    "    #save the loss plot\n",
    "    save_loss_plot('training_plots', mean_train_losses, mean_validation_losses, \n",
    "                   epoch+1, MODEL_NAME)\n",
    "    print('\\n')\n",
    "\n",
    "print('Training done')"
   ]
  },
  {
   "cell_type": "code",
   "execution_count": 202,
   "id": "ee766582",
   "metadata": {},
   "outputs": [
    {
     "name": "stdout",
     "output_type": "stream",
     "text": [
      "Best valid loss: 0.43086\n"
     ]
    },
    {
     "data": {
      "image/png": "[encoded data removed]",
      "text/plain": [
       "<PIL.PngImagePlugin.PngImageFile image mode=RGBA size=1500x1000>"
      ]
     },
     "execution_count": 202,
     "metadata": {},
     "output_type": "execute_result"
    }
   ],
   "source": [
    "print(f\"Best valid loss: {save_best_model.best_valid_loss:.5f}\")\n",
    "Image.open(f'{PLOT_DIR}/{MODEL_NAME}_epoch_loss.png')"
   ]
  },
  {
   "cell_type": "markdown",
   "id": "6e79bedb",
   "metadata": {},
   "source": [
    "## Check Predictions"
   ]
  },
  {
   "cell_type": "markdown",
   "id": "571cc4d3",
   "metadata": {},
   "source": [
    "### Load model"
   ]
  },
  {
   "cell_type": "code",
   "execution_count": 203,
   "id": "0ad03475",
   "metadata": {},
   "outputs": [],
   "source": [
    "def load_model(model_path, num_classes, device):\n",
    "    \"\"\"\n",
    "    Returns a efficientnet model with the weights from the saved model\n",
    "    \"\"\"\n",
    "    model = models.efficientnet_b0(pretrained=True)\n",
    "    # Change the final classification head.\n",
    "    model.classifier[1] = nn.Linear(in_features=1280, out_features=num_classes)\n",
    "    checkpoint = torch.load(model_path, map_location=device)\n",
    "    model.load_state_dict(checkpoint['model_state_dict'])\n",
    "    model.to(device).eval();\n",
    "    \n",
    "    return model"
   ]
  },
  {
   "cell_type": "code",
   "execution_count": 204,
   "id": "54236579",
   "metadata": {},
   "outputs": [],
   "source": [
    "#load the best model on the validation set\n",
    "best_model_path = os.path.join(MODEL_DIR, 'bm_efficientnet_CLS_ground_v7_epoch_8.pth')\n",
    "best_model = load_model(best_model_path, 1, DEVICE)"
   ]
  },
  {
   "cell_type": "markdown",
   "id": "bb7e07c7",
   "metadata": {},
   "source": [
    "### Check validation set"
   ]
  },
  {
   "cell_type": "code",
   "execution_count": 205,
   "id": "04914ce7",
   "metadata": {},
   "outputs": [
    {
     "data": {
      "application/vnd.jupyter.widget-view+json": {
       "model_id": "15a872e3af1148519b8a8b66a349ee30",
       "version_major": 2,
       "version_minor": 0
      },
      "text/plain": [
       "  0%|          | 0/408 [00:00<?, ?it/s]"
      ]
     },
     "metadata": {},
     "output_type": "display_data"
    }
   ],
   "source": [
    "val_loss_hist = Averager()\n",
    "pos_weight = get_pos_weight(train_df).to(DEVICE)\n",
    "criterion = nn.BCEWithLogitsLoss(pos_weight = pos_weight)\n",
    "y_pred, y_true = validate_model(best_model, loader_test, criterion,\n",
    "                                    DEVICE, val_loss_hist)"
   ]
  },
  {
   "cell_type": "markdown",
   "id": "4b5b484f",
   "metadata": {},
   "source": [
    "### Mathews correlation coefficient"
   ]
  },
  {
   "cell_type": "code",
   "execution_count": 207,
   "id": "a7a20088",
   "metadata": {},
   "outputs": [
    {
     "name": "stdout",
     "output_type": "stream",
     "text": [
      "Best acc threshold: 0.49\n",
      "Matheys corr coef: 0.72085\n"
     ]
    }
   ],
   "source": [
    "# mathews correlation coefficient\n",
    "\n",
    "thresholds = np.arange(0.0, 0.5, 0.01)\n",
    "best_score = 0\n",
    "best_thrs = -1\n",
    "for thrs in thresholds:\n",
    "    y_pred_clean = (torch.sigmoid(y_pred) > thrs).double()\n",
    "    score = matthews_corrcoef(y_pred_clean.cpu(), y_true.cpu())\n",
    "    if score > best_score:\n",
    "        best_score = score\n",
    "        best_thrs = thrs\n",
    "\n",
    "y_pred_clean = (torch.sigmoid(y_pred) > best_thrs).double()\n",
    "print(f\"Best acc threshold: {best_thrs}\")\n",
    "print(f\"Matheys corr coef: {best_score:.5f}\")"
   ]
  },
  {
   "cell_type": "markdown",
   "id": "fee74924",
   "metadata": {},
   "source": [
    "### Confusion Matrix"
   ]
  },
  {
   "cell_type": "code",
   "execution_count": 208,
   "id": "1e074240",
   "metadata": {},
   "outputs": [],
   "source": [
    "def show_confusion_matrix(y_pred, y_true, display_labels, title='Confusion Matrix'):\n",
    "    conf_matrix = confusion_matrix(y_true, y_pred)\n",
    "    conf_display = ConfusionMatrixDisplay(confusion_matrix=conf_matrix,\n",
    "                                        display_labels=display_labels)\n",
    "\n",
    "    fig, ax = plt.subplots(figsize=(15,15))\n",
    "    plt.title(title)\n",
    "    conf_display.plot(cmap=plt.cm.Blues, ax=ax);\n",
    "    return conf_matrix"
   ]
  },
  {
   "cell_type": "code",
   "execution_count": 209,
   "id": "47cb1c91",
   "metadata": {},
   "outputs": [
    {
     "data": {
      "image/png": "[encoded data removed]",
      "text/plain": [
       "<Figure size 1500x1500 with 2 Axes>"
      ]
     },
     "metadata": {},
     "output_type": "display_data"
    }
   ],
   "source": [
    "conf_matrix = show_confusion_matrix(y_pred_clean.cpu(), y_true.cpu(), CLASSES)"
   ]
  },
  {
   "cell_type": "markdown",
   "id": "ac28b170",
   "metadata": {},
   "source": [
    "## Validate on whole dataset (ground)"
   ]
  },
  {
   "cell_type": "code",
   "execution_count": 210,
   "id": "d6331cc8",
   "metadata": {},
   "outputs": [
    {
     "data": {
      "text/html": [
       "<div>\n",
       "<style scoped>\n",
       "    .dataframe tbody tr th:only-of-type {\n",
       "        vertical-align: middle;\n",
       "    }\n",
       "\n",
       "    .dataframe tbody tr th {\n",
       "        vertical-align: top;\n",
       "    }\n",
       "\n",
       "    .dataframe thead th {\n",
       "        text-align: right;\n",
       "    }\n",
       "</style>\n",
       "<table border=\"1\" class=\"dataframe\">\n",
       "  <thead>\n",
       "    <tr style=\"text-align: right;\">\n",
       "      <th></th>\n",
       "      <th>contact_id</th>\n",
       "      <th>game_play</th>\n",
       "      <th>step</th>\n",
       "      <th>nfl_player_id_1</th>\n",
       "      <th>nfl_player_id_2</th>\n",
       "      <th>game_key</th>\n",
       "      <th>play_id</th>\n",
       "      <th>datetime</th>\n",
       "      <th>team_1</th>\n",
       "      <th>position_1</th>\n",
       "      <th>...</th>\n",
       "      <th>orientation_2</th>\n",
       "      <th>acceleration_2</th>\n",
       "      <th>sa_2</th>\n",
       "      <th>p2p_distance</th>\n",
       "      <th>contact_truth</th>\n",
       "      <th>contact</th>\n",
       "      <th>crop_generated</th>\n",
       "      <th>rewinded_frames</th>\n",
       "      <th>miss_helmet_dets</th>\n",
       "      <th>miss_player_dets</th>\n",
       "    </tr>\n",
       "  </thead>\n",
       "  <tbody>\n",
       "    <tr>\n",
       "      <th>12</th>\n",
       "      <td>58168_003392_0_38590_G</td>\n",
       "      <td>58168_003392</td>\n",
       "      <td>0</td>\n",
       "      <td>38590</td>\n",
       "      <td>-1</td>\n",
       "      <td>58168</td>\n",
       "      <td>3392</td>\n",
       "      <td>2020-09-11 03:01:48.100000+00:00</td>\n",
       "      <td>home</td>\n",
       "      <td>G</td>\n",
       "      <td>...</td>\n",
       "      <td>0.0</td>\n",
       "      <td>0.0</td>\n",
       "      <td>0.0</td>\n",
       "      <td>999.0</td>\n",
       "      <td>0</td>\n",
       "      <td>0</td>\n",
       "      <td>True</td>\n",
       "      <td>0.0</td>\n",
       "      <td>0.0</td>\n",
       "      <td>0.0</td>\n",
       "    </tr>\n",
       "    <tr>\n",
       "      <th>13</th>\n",
       "      <td>58168_003392_0_43854_G</td>\n",
       "      <td>58168_003392</td>\n",
       "      <td>0</td>\n",
       "      <td>43854</td>\n",
       "      <td>-1</td>\n",
       "      <td>58168</td>\n",
       "      <td>3392</td>\n",
       "      <td>2020-09-11 03:01:48.100000+00:00</td>\n",
       "      <td>away</td>\n",
       "      <td>OLB</td>\n",
       "      <td>...</td>\n",
       "      <td>0.0</td>\n",
       "      <td>0.0</td>\n",
       "      <td>0.0</td>\n",
       "      <td>999.0</td>\n",
       "      <td>0</td>\n",
       "      <td>0</td>\n",
       "      <td>True</td>\n",
       "      <td>0.0</td>\n",
       "      <td>0.0</td>\n",
       "      <td>0.0</td>\n",
       "    </tr>\n",
       "    <tr>\n",
       "      <th>14</th>\n",
       "      <td>58168_003392_0_41257_G</td>\n",
       "      <td>58168_003392</td>\n",
       "      <td>0</td>\n",
       "      <td>41257</td>\n",
       "      <td>-1</td>\n",
       "      <td>58168</td>\n",
       "      <td>3392</td>\n",
       "      <td>2020-09-11 03:01:48.100000+00:00</td>\n",
       "      <td>away</td>\n",
       "      <td>CB</td>\n",
       "      <td>...</td>\n",
       "      <td>0.0</td>\n",
       "      <td>0.0</td>\n",
       "      <td>0.0</td>\n",
       "      <td>999.0</td>\n",
       "      <td>0</td>\n",
       "      <td>0</td>\n",
       "      <td>True</td>\n",
       "      <td>0.0</td>\n",
       "      <td>0.0</td>\n",
       "      <td>0.0</td>\n",
       "    </tr>\n",
       "    <tr>\n",
       "      <th>15</th>\n",
       "      <td>58168_003392_0_41944_G</td>\n",
       "      <td>58168_003392</td>\n",
       "      <td>0</td>\n",
       "      <td>41944</td>\n",
       "      <td>-1</td>\n",
       "      <td>58168</td>\n",
       "      <td>3392</td>\n",
       "      <td>2020-09-11 03:01:48.100000+00:00</td>\n",
       "      <td>away</td>\n",
       "      <td>DT</td>\n",
       "      <td>...</td>\n",
       "      <td>0.0</td>\n",
       "      <td>0.0</td>\n",
       "      <td>0.0</td>\n",
       "      <td>999.0</td>\n",
       "      <td>0</td>\n",
       "      <td>0</td>\n",
       "      <td>True</td>\n",
       "      <td>0.0</td>\n",
       "      <td>0.0</td>\n",
       "      <td>0.0</td>\n",
       "    </tr>\n",
       "    <tr>\n",
       "      <th>16</th>\n",
       "      <td>58168_003392_0_42386_G</td>\n",
       "      <td>58168_003392</td>\n",
       "      <td>0</td>\n",
       "      <td>42386</td>\n",
       "      <td>-1</td>\n",
       "      <td>58168</td>\n",
       "      <td>3392</td>\n",
       "      <td>2020-09-11 03:01:48.100000+00:00</td>\n",
       "      <td>away</td>\n",
       "      <td>ILB</td>\n",
       "      <td>...</td>\n",
       "      <td>0.0</td>\n",
       "      <td>0.0</td>\n",
       "      <td>0.0</td>\n",
       "      <td>999.0</td>\n",
       "      <td>0</td>\n",
       "      <td>0</td>\n",
       "      <td>True</td>\n",
       "      <td>0.0</td>\n",
       "      <td>0.0</td>\n",
       "      <td>0.0</td>\n",
       "    </tr>\n",
       "    <tr>\n",
       "      <th>...</th>\n",
       "      <td>...</td>\n",
       "      <td>...</td>\n",
       "      <td>...</td>\n",
       "      <td>...</td>\n",
       "      <td>...</td>\n",
       "      <td>...</td>\n",
       "      <td>...</td>\n",
       "      <td>...</td>\n",
       "      <td>...</td>\n",
       "      <td>...</td>\n",
       "      <td>...</td>\n",
       "      <td>...</td>\n",
       "      <td>...</td>\n",
       "      <td>...</td>\n",
       "      <td>...</td>\n",
       "      <td>...</td>\n",
       "      <td>...</td>\n",
       "      <td>...</td>\n",
       "      <td>...</td>\n",
       "      <td>...</td>\n",
       "      <td>...</td>\n",
       "    </tr>\n",
       "    <tr>\n",
       "      <th>660529</th>\n",
       "      <td>58582_003121_91_52493_G</td>\n",
       "      <td>58582_003121</td>\n",
       "      <td>91</td>\n",
       "      <td>52493</td>\n",
       "      <td>-1</td>\n",
       "      <td>58582</td>\n",
       "      <td>3121</td>\n",
       "      <td>2021-10-12 02:42:29.100000+00:00</td>\n",
       "      <td>away</td>\n",
       "      <td>FS</td>\n",
       "      <td>...</td>\n",
       "      <td>0.0</td>\n",
       "      <td>0.0</td>\n",
       "      <td>0.0</td>\n",
       "      <td>999.0</td>\n",
       "      <td>0</td>\n",
       "      <td>0</td>\n",
       "      <td>True</td>\n",
       "      <td>10.0</td>\n",
       "      <td>0.0</td>\n",
       "      <td>0.0</td>\n",
       "    </tr>\n",
       "    <tr>\n",
       "      <th>660531</th>\n",
       "      <td>58582_003121_91_45287_G</td>\n",
       "      <td>58582_003121</td>\n",
       "      <td>91</td>\n",
       "      <td>45287</td>\n",
       "      <td>-1</td>\n",
       "      <td>58582</td>\n",
       "      <td>3121</td>\n",
       "      <td>2021-10-12 02:42:29.100000+00:00</td>\n",
       "      <td>away</td>\n",
       "      <td>CB</td>\n",
       "      <td>...</td>\n",
       "      <td>0.0</td>\n",
       "      <td>0.0</td>\n",
       "      <td>0.0</td>\n",
       "      <td>999.0</td>\n",
       "      <td>0</td>\n",
       "      <td>0</td>\n",
       "      <td>True</td>\n",
       "      <td>10.0</td>\n",
       "      <td>0.0</td>\n",
       "      <td>0.0</td>\n",
       "    </tr>\n",
       "    <tr>\n",
       "      <th>660532</th>\n",
       "      <td>58582_003121_91_46105_G</td>\n",
       "      <td>58582_003121</td>\n",
       "      <td>91</td>\n",
       "      <td>46105</td>\n",
       "      <td>-1</td>\n",
       "      <td>58582</td>\n",
       "      <td>3121</td>\n",
       "      <td>2021-10-12 02:42:29.100000+00:00</td>\n",
       "      <td>away</td>\n",
       "      <td>MLB</td>\n",
       "      <td>...</td>\n",
       "      <td>0.0</td>\n",
       "      <td>0.0</td>\n",
       "      <td>0.0</td>\n",
       "      <td>999.0</td>\n",
       "      <td>0</td>\n",
       "      <td>0</td>\n",
       "      <td>True</td>\n",
       "      <td>60.0</td>\n",
       "      <td>0.0</td>\n",
       "      <td>1.0</td>\n",
       "    </tr>\n",
       "    <tr>\n",
       "      <th>660535</th>\n",
       "      <td>58582_003121_91_52500_G</td>\n",
       "      <td>58582_003121</td>\n",
       "      <td>91</td>\n",
       "      <td>52500</td>\n",
       "      <td>-1</td>\n",
       "      <td>58582</td>\n",
       "      <td>3121</td>\n",
       "      <td>2021-10-12 02:42:29.100000+00:00</td>\n",
       "      <td>home</td>\n",
       "      <td>WR</td>\n",
       "      <td>...</td>\n",
       "      <td>0.0</td>\n",
       "      <td>0.0</td>\n",
       "      <td>0.0</td>\n",
       "      <td>999.0</td>\n",
       "      <td>0</td>\n",
       "      <td>0</td>\n",
       "      <td>True</td>\n",
       "      <td>10.0</td>\n",
       "      <td>0.0</td>\n",
       "      <td>0.0</td>\n",
       "    </tr>\n",
       "    <tr>\n",
       "      <th>660539</th>\n",
       "      <td>58582_003121_91_47872_G</td>\n",
       "      <td>58582_003121</td>\n",
       "      <td>91</td>\n",
       "      <td>47872</td>\n",
       "      <td>-1</td>\n",
       "      <td>58582</td>\n",
       "      <td>3121</td>\n",
       "      <td>2021-10-12 02:42:29.100000+00:00</td>\n",
       "      <td>away</td>\n",
       "      <td>MLB</td>\n",
       "      <td>...</td>\n",
       "      <td>0.0</td>\n",
       "      <td>0.0</td>\n",
       "      <td>0.0</td>\n",
       "      <td>999.0</td>\n",
       "      <td>0</td>\n",
       "      <td>0</td>\n",
       "      <td>True</td>\n",
       "      <td>10.0</td>\n",
       "      <td>0.0</td>\n",
       "      <td>0.0</td>\n",
       "    </tr>\n",
       "  </tbody>\n",
       "</table>\n",
       "<p>325212 rows × 37 columns</p>\n",
       "</div>"
      ],
      "text/plain": [
       "                     contact_id     game_play  step  nfl_player_id_1  \\\n",
       "12       58168_003392_0_38590_G  58168_003392     0            38590   \n",
       "13       58168_003392_0_43854_G  58168_003392     0            43854   \n",
       "14       58168_003392_0_41257_G  58168_003392     0            41257   \n",
       "15       58168_003392_0_41944_G  58168_003392     0            41944   \n",
       "16       58168_003392_0_42386_G  58168_003392     0            42386   \n",
       "...                         ...           ...   ...              ...   \n",
       "660529  58582_003121_91_52493_G  58582_003121    91            52493   \n",
       "660531  58582_003121_91_45287_G  58582_003121    91            45287   \n",
       "660532  58582_003121_91_46105_G  58582_003121    91            46105   \n",
       "660535  58582_003121_91_52500_G  58582_003121    91            52500   \n",
       "660539  58582_003121_91_47872_G  58582_003121    91            47872   \n",
       "\n",
       "        nfl_player_id_2  game_key  play_id                          datetime  \\\n",
       "12                   -1     58168     3392  2020-09-11 03:01:48.100000+00:00   \n",
       "13                   -1     58168     3392  2020-09-11 03:01:48.100000+00:00   \n",
       "14                   -1     58168     3392  2020-09-11 03:01:48.100000+00:00   \n",
       "15                   -1     58168     3392  2020-09-11 03:01:48.100000+00:00   \n",
       "16                   -1     58168     3392  2020-09-11 03:01:48.100000+00:00   \n",
       "...                 ...       ...      ...                               ...   \n",
       "660529               -1     58582     3121  2021-10-12 02:42:29.100000+00:00   \n",
       "660531               -1     58582     3121  2021-10-12 02:42:29.100000+00:00   \n",
       "660532               -1     58582     3121  2021-10-12 02:42:29.100000+00:00   \n",
       "660535               -1     58582     3121  2021-10-12 02:42:29.100000+00:00   \n",
       "660539               -1     58582     3121  2021-10-12 02:42:29.100000+00:00   \n",
       "\n",
       "       team_1 position_1  ...  orientation_2  acceleration_2  sa_2  \\\n",
       "12       home          G  ...            0.0             0.0   0.0   \n",
       "13       away        OLB  ...            0.0             0.0   0.0   \n",
       "14       away         CB  ...            0.0             0.0   0.0   \n",
       "15       away         DT  ...            0.0             0.0   0.0   \n",
       "16       away        ILB  ...            0.0             0.0   0.0   \n",
       "...       ...        ...  ...            ...             ...   ...   \n",
       "660529   away         FS  ...            0.0             0.0   0.0   \n",
       "660531   away         CB  ...            0.0             0.0   0.0   \n",
       "660532   away        MLB  ...            0.0             0.0   0.0   \n",
       "660535   home         WR  ...            0.0             0.0   0.0   \n",
       "660539   away        MLB  ...            0.0             0.0   0.0   \n",
       "\n",
       "        p2p_distance  contact_truth  contact  crop_generated  rewinded_frames  \\\n",
       "12             999.0              0        0            True              0.0   \n",
       "13             999.0              0        0            True              0.0   \n",
       "14             999.0              0        0            True              0.0   \n",
       "15             999.0              0        0            True              0.0   \n",
       "16             999.0              0        0            True              0.0   \n",
       "...              ...            ...      ...             ...              ...   \n",
       "660529         999.0              0        0            True             10.0   \n",
       "660531         999.0              0        0            True             10.0   \n",
       "660532         999.0              0        0            True             60.0   \n",
       "660535         999.0              0        0            True             10.0   \n",
       "660539         999.0              0        0            True             10.0   \n",
       "\n",
       "        miss_helmet_dets miss_player_dets  \n",
       "12                   0.0              0.0  \n",
       "13                   0.0              0.0  \n",
       "14                   0.0              0.0  \n",
       "15                   0.0              0.0  \n",
       "16                   0.0              0.0  \n",
       "...                  ...              ...  \n",
       "660529               0.0              0.0  \n",
       "660531               0.0              0.0  \n",
       "660532               0.0              1.0  \n",
       "660535               0.0              0.0  \n",
       "660539               0.0              0.0  \n",
       "\n",
       "[325212 rows x 37 columns]"
      ]
     },
     "execution_count": 210,
     "metadata": {},
     "output_type": "execute_result"
    }
   ],
   "source": [
    "# merge contact_df and contact_image_df\n",
    "full_train_df = train_contact_df_reduced.merge(contact_image_endzone_df, \n",
    "                                 left_on=['contact_id'], \n",
    "                                 right_on=['contact_id'], \n",
    "                                 how='left').drop_duplicates()\n",
    "# use only the rows where the crop was generated\n",
    "full_train_df = full_train_df[full_train_df['crop_generated'] == True]\n",
    "# get the ground contacts\n",
    "full_train_df = full_train_df[full_train_df['nfl_player_id_2'] == -1]\n",
    "\n",
    "\n",
    "full_train_df"
   ]
  },
  {
   "cell_type": "code",
   "execution_count": 211,
   "id": "037c672a",
   "metadata": {},
   "outputs": [],
   "source": [
    "# dataset and loader\n",
    "# train\n",
    "p_g_contact_dataset_full = PlayerContactDataset(DATA_PATH, full_train_df, 'Endzone', image_transform_test)\n",
    "\n",
    "loader_full = DataLoader(p_g_contact_dataset_full,\n",
    "                         batch_size=BATCH_SIZE,\n",
    "                         shuffle=False,\n",
    "                         num_workers=0,\n",
    "                         drop_last=True)"
   ]
  },
  {
   "cell_type": "code",
   "execution_count": 212,
   "id": "1d75d4f2",
   "metadata": {},
   "outputs": [
    {
     "name": "stderr",
     "output_type": "stream",
     "text": [
      "C:\\Users\\AT016638\\.conda\\envs\\contact\\lib\\site-packages\\torchvision\\models\\_utils.py:209: UserWarning: The parameter 'pretrained' is deprecated since 0.13 and may be removed in the future, please use 'weights' instead.\n",
      "  f\"The parameter '{pretrained_param}' is deprecated since 0.13 and may be removed in the future, \"\n",
      "C:\\Users\\AT016638\\.conda\\envs\\contact\\lib\\site-packages\\torchvision\\models\\_utils.py:223: UserWarning: Arguments other than a weight enum or `None` for 'weights' are deprecated since 0.13 and may be removed in the future. The current behavior is equivalent to passing `weights=EfficientNet_B0_Weights.IMAGENET1K_V1`. You can also use `weights=EfficientNet_B0_Weights.DEFAULT` to get the most up-to-date weights.\n",
      "  warnings.warn(msg)\n"
     ]
    }
   ],
   "source": [
    "# load model\n",
    "best_model_path = os.path.join(MODEL_DIR, 'bm_efficientnet_CLS_ground_v7_epoch_8.pth')\n",
    "best_model = load_model(best_model_path, 1, DEVICE)"
   ]
  },
  {
   "cell_type": "code",
   "execution_count": 213,
   "id": "7c84c01d",
   "metadata": {},
   "outputs": [
    {
     "data": {
      "application/vnd.jupyter.widget-view+json": {
       "model_id": "3a81ce11036d4ea38de483a6fc5fad76",
       "version_major": 2,
       "version_minor": 0
      },
      "text/plain": [
       "  0%|          | 0/10162 [00:00<?, ?it/s]"
      ]
     },
     "metadata": {},
     "output_type": "display_data"
    }
   ],
   "source": [
    "# inference on full dataset\n",
    "val_loss_hist = Averager()\n",
    "pos_weight = get_pos_weight(full_train_df).to(DEVICE)\n",
    "criterion = nn.BCEWithLogitsLoss(pos_weight = pos_weight)\n",
    "y_pred, y_true = validate_model(best_model, loader_full, criterion,\n",
    "                                    DEVICE, val_loss_hist)"
   ]
  },
  {
   "cell_type": "code",
   "execution_count": 214,
   "id": "bb86cac4",
   "metadata": {},
   "outputs": [
    {
     "name": "stdout",
     "output_type": "stream",
     "text": [
      "Best acc threshold: 0.49\n",
      "Matheys corr coef: 0.49543\n"
     ]
    }
   ],
   "source": [
    "# mathews correlation coefficient\n",
    "\n",
    "thresholds = np.arange(0.0, 0.5, 0.01)\n",
    "best_score = 0\n",
    "best_thrs = -1\n",
    "for thrs in thresholds:\n",
    "    y_pred_clean = (torch.sigmoid(y_pred) > thrs).double()\n",
    "    score = matthews_corrcoef(y_pred_clean.cpu(), y_true.cpu())\n",
    "    if score > best_score:\n",
    "        best_score = score\n",
    "        best_thrs = thrs\n",
    "\n",
    "y_pred_clean = (torch.sigmoid(y_pred) > best_thrs).double()\n",
    "print(f\"Best acc threshold: {best_thrs}\")\n",
    "print(f\"Matheys corr coef: {best_score:.5f}\")"
   ]
  },
  {
   "cell_type": "code",
   "execution_count": 215,
   "id": "5c5d8433",
   "metadata": {},
   "outputs": [
    {
     "data": {
      "image/png": "[encoded data removed]",
      "text/plain": [
       "<Figure size 1500x1500 with 2 Axes>"
      ]
     },
     "metadata": {},
     "output_type": "display_data"
    }
   ],
   "source": [
    "conf_matrix = show_confusion_matrix(y_pred_clean.cpu(), y_true.cpu(), CLASSES)"
   ]
  },
  {
   "cell_type": "code",
   "execution_count": null,
   "id": "c8ee0807",
   "metadata": {},
   "outputs": [],
   "source": []
  }
 ],
 "metadata": {
  "kernelspec": {
   "display_name": "Python 3 (ipykernel)",
   "language": "python",
   "name": "python3"
  },
  "language_info": {
   "codemirror_mode": {
    "name": "ipython",
    "version": 3
   },
   "file_extension": ".py",
   "mimetype": "text/x-python",
   "name": "python",
   "nbconvert_exporter": "python",
   "pygments_lexer": "ipython3",
   "version": "3.7.15"
  }
 },
 "nbformat": 4,
 "nbformat_minor": 5
}
