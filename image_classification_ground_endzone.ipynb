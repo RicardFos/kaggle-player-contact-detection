{
 "cells": [
  {
   "cell_type": "markdown",
   "id": "e5bff0f2",
   "metadata": {},
   "source": [
    "# Player - Ground contact image classification - training"
   ]
  },
  {
   "cell_type": "code",
   "execution_count": 38,
   "id": "43acefa6",
   "metadata": {},
   "outputs": [],
   "source": [
    "import os\n",
    "import torch\n",
    "from torch import nn\n",
    "import numpy as np\n",
    "import torch.nn.functional as F\n",
    "import time\n",
    "import pandas as pd\n",
    "from sklearn.model_selection import train_test_split\n",
    "import matplotlib.pyplot as plt\n",
    "from torch.utils.data import Dataset, DataLoader\n",
    "from tqdm.auto import tqdm\n",
    "from torch.optim import Adam, lr_scheduler\n",
    "from sklearn.metrics import confusion_matrix, ConfusionMatrixDisplay\n",
    "from PIL import Image\n",
    "from torchvision import datasets, transforms\n",
    "import torchvision.models as models\n",
    "from sklearn.metrics import matthews_corrcoef"
   ]
  },
  {
   "cell_type": "markdown",
   "id": "1cb32f7d",
   "metadata": {},
   "source": [
    "## Load Data"
   ]
  },
  {
   "cell_type": "code",
   "execution_count": 39,
   "id": "8cf26552",
   "metadata": {},
   "outputs": [],
   "source": [
    "DATASET_DIR = \"dataset\"\n",
    "\n",
    "# # player tracking\n",
    "# train_player_tracking_df = pd.read_csv(os.path.join(DATASET_DIR, \"train_player_tracking.csv\"), \n",
    "#                                        parse_dates=[\"datetime\"])\n",
    "# test_player_tracking_df = pd.read_csv(os.path.join(DATASET_DIR, \"test_player_tracking.csv\"), \n",
    "#                                       parse_dates=[\"datetime\"])\n",
    "\n",
    "# # helmet detection\n",
    "# train_helmet_detection_df = pd.read_csv(os.path.join(DATASET_DIR, \"train_baseline_helmets.csv\"))\n",
    "# test_helmet_detection_df = pd.read_csv(os.path.join(DATASET_DIR, \"test_baseline_helmets.csv\"))\n",
    "\n",
    "# # video metadata\n",
    "# train_video_metadata_df = pd.read_csv(os.path.join(DATASET_DIR, \"train_video_metadata.csv\"), \n",
    "#                                       parse_dates=[\"start_time\", \"end_time\", \"snap_time\"])\n",
    "# test_video_metadata_df = pd.read_csv(os.path.join(DATASET_DIR, \"test_video_metadata.csv\"), \n",
    "#                                       parse_dates=[\"start_time\", \"end_time\", \"snap_time\"])\n",
    "\n",
    "# train labels\n",
    "train_labels_df =  pd.read_csv(os.path.join(DATASET_DIR, \"train_labels.csv\"), \n",
    "                               parse_dates=[\"datetime\"])\n",
    "\n",
    "# contact reduced to p2p distance below threshold\n",
    "train_contact_df_reduced = pd.read_csv(os.path.join(DATASET_DIR, \"train_contact_df_reduced.csv\"))\n",
    "\n",
    "# contact image\n",
    "contact_image_endzone_df = pd.read_csv(os.path.join(DATASET_DIR, \"train_contact_image_endzone_df.csv\"))"
   ]
  },
  {
   "cell_type": "markdown",
   "id": "82dc7a71",
   "metadata": {},
   "source": [
    "## The PlayerContact dataset"
   ]
  },
  {
   "cell_type": "markdown",
   "id": "1accbf31",
   "metadata": {},
   "source": [
    "### Transform function\n",
    "It converts the PIL Image into a Tensor and normalizes it using the mean and std values from Imagenet"
   ]
  },
  {
   "cell_type": "code",
   "execution_count": 40,
   "id": "d9114956",
   "metadata": {},
   "outputs": [],
   "source": [
    "# transforms\n",
    "IMAGE_SIZE = 224 # Image size of resize when applying transforms.\n",
    "# data augmentation for train set\n",
    "image_transform_train = transforms.Compose([\n",
    "        transforms.Resize((IMAGE_SIZE, IMAGE_SIZE)),\n",
    "        transforms.RandomHorizontalFlip(p=0.5),\n",
    "        transforms.RandomRotation(degrees=(0, 45)),\n",
    "        transforms.ColorJitter(brightness=.2, hue=.2),\n",
    "        transforms.RandomPerspective(distortion_scale=0.5, p=0.2),\n",
    "        transforms.ToTensor(),\n",
    "        transforms.Normalize([0.485, 0.456, 0.406], [0.229, 0.224, 0.225]) # imagenet\n",
    "])\n",
    "\n",
    "image_transform_test = transforms.Compose([\n",
    "        transforms.Resize((IMAGE_SIZE, IMAGE_SIZE)),\n",
    "        transforms.ToTensor(),\n",
    "        transforms.Normalize([0.485, 0.456, 0.406], [0.229, 0.224, 0.225]) # imagenet\n",
    "])"
   ]
  },
  {
   "cell_type": "markdown",
   "id": "02002114",
   "metadata": {},
   "source": [
    "## The PlayerContact Dataset Class\n",
    "The PlayerContact dataset class takes the data from the folder and returns images"
   ]
  },
  {
   "cell_type": "code",
   "execution_count": 41,
   "id": "331367b6",
   "metadata": {},
   "outputs": [],
   "source": [
    "class PlayerContactDataset(Dataset):\n",
    "    \"\"\"\n",
    "    PlayerContact dataset that returns an image\n",
    "    \"\"\"\n",
    "    def __init__(self, data_dir, contact_df, view, transform=None):\n",
    "        self.data_dir = data_dir\n",
    "        self.transform = transform\n",
    "        self.contact_df = contact_df\n",
    "        self.view = view\n",
    "        \n",
    "    def __getitem__(self, idx):\n",
    "        # get the image\n",
    "        row = self.contact_df.iloc[idx]\n",
    "        img_path = os.path.join(self.data_dir, row['contact_id']+'_'+self.view+'.jpg')\n",
    "        image = Image.open(img_path).convert('RGB')\n",
    "        if (self.transform):\n",
    "            image = self.transform(image)\n",
    "        \n",
    "        # get the class label\n",
    "        label = torch.tensor(row['contact_truth'])\n",
    "        \n",
    "        return image, label\n",
    "    \n",
    "    def __len__(self):\n",
    "        return len(self.contact_df)"
   ]
  },
  {
   "cell_type": "markdown",
   "id": "421c63c4",
   "metadata": {},
   "source": [
    "### Prepare and split the data"
   ]
  },
  {
   "cell_type": "code",
   "execution_count": 42,
   "id": "56baafe6",
   "metadata": {},
   "outputs": [
    {
     "data": {
      "text/html": [
       "<div>\n",
       "<style scoped>\n",
       "    .dataframe tbody tr th:only-of-type {\n",
       "        vertical-align: middle;\n",
       "    }\n",
       "\n",
       "    .dataframe tbody tr th {\n",
       "        vertical-align: top;\n",
       "    }\n",
       "\n",
       "    .dataframe thead th {\n",
       "        text-align: right;\n",
       "    }\n",
       "</style>\n",
       "<table border=\"1\" class=\"dataframe\">\n",
       "  <thead>\n",
       "    <tr style=\"text-align: right;\">\n",
       "      <th></th>\n",
       "      <th>contact_id</th>\n",
       "      <th>game_play</th>\n",
       "      <th>step</th>\n",
       "      <th>nfl_player_id_1</th>\n",
       "      <th>nfl_player_id_2</th>\n",
       "      <th>game_key</th>\n",
       "      <th>play_id</th>\n",
       "      <th>datetime</th>\n",
       "      <th>team_1</th>\n",
       "      <th>position_1</th>\n",
       "      <th>...</th>\n",
       "      <th>direction_2</th>\n",
       "      <th>orientation_2</th>\n",
       "      <th>acceleration_2</th>\n",
       "      <th>sa_2</th>\n",
       "      <th>p2p_distance</th>\n",
       "      <th>contact_truth</th>\n",
       "      <th>crop_generated</th>\n",
       "      <th>rewinded_frames</th>\n",
       "      <th>miss_helmet_dets</th>\n",
       "      <th>miss_player_dets</th>\n",
       "    </tr>\n",
       "  </thead>\n",
       "  <tbody>\n",
       "    <tr>\n",
       "      <th>504881</th>\n",
       "      <td>58524_003049_18_52733_G</td>\n",
       "      <td>58524_003049</td>\n",
       "      <td>18</td>\n",
       "      <td>52733</td>\n",
       "      <td>-1</td>\n",
       "      <td>58524</td>\n",
       "      <td>3049</td>\n",
       "      <td>2021-09-19 19:30:25.700000+00:00</td>\n",
       "      <td>home</td>\n",
       "      <td>RB</td>\n",
       "      <td>...</td>\n",
       "      <td>0.0</td>\n",
       "      <td>0.0</td>\n",
       "      <td>0.0</td>\n",
       "      <td>0.0</td>\n",
       "      <td>999.0</td>\n",
       "      <td>0</td>\n",
       "      <td>True</td>\n",
       "      <td>0.0</td>\n",
       "      <td>0.0</td>\n",
       "      <td>0.0</td>\n",
       "    </tr>\n",
       "    <tr>\n",
       "      <th>163369</th>\n",
       "      <td>58225_003821_51_47802_G</td>\n",
       "      <td>58225_003821</td>\n",
       "      <td>51</td>\n",
       "      <td>47802</td>\n",
       "      <td>-1</td>\n",
       "      <td>58225</td>\n",
       "      <td>3821</td>\n",
       "      <td>2020-10-25 19:54:29.400000+00:00</td>\n",
       "      <td>home</td>\n",
       "      <td>DT</td>\n",
       "      <td>...</td>\n",
       "      <td>0.0</td>\n",
       "      <td>0.0</td>\n",
       "      <td>0.0</td>\n",
       "      <td>0.0</td>\n",
       "      <td>999.0</td>\n",
       "      <td>1</td>\n",
       "      <td>True</td>\n",
       "      <td>0.0</td>\n",
       "      <td>0.0</td>\n",
       "      <td>0.0</td>\n",
       "    </tr>\n",
       "    <tr>\n",
       "      <th>269741</th>\n",
       "      <td>58301_002369_12_42883_G</td>\n",
       "      <td>58301_002369</td>\n",
       "      <td>12</td>\n",
       "      <td>42883</td>\n",
       "      <td>-1</td>\n",
       "      <td>58301</td>\n",
       "      <td>2369</td>\n",
       "      <td>2020-11-10 03:00:53.700000+00:00</td>\n",
       "      <td>away</td>\n",
       "      <td>C</td>\n",
       "      <td>...</td>\n",
       "      <td>0.0</td>\n",
       "      <td>0.0</td>\n",
       "      <td>0.0</td>\n",
       "      <td>0.0</td>\n",
       "      <td>999.0</td>\n",
       "      <td>0</td>\n",
       "      <td>True</td>\n",
       "      <td>0.0</td>\n",
       "      <td>0.0</td>\n",
       "      <td>0.0</td>\n",
       "    </tr>\n",
       "    <tr>\n",
       "      <th>83962</th>\n",
       "      <td>58202_002335_29_46102_G</td>\n",
       "      <td>58202_002335</td>\n",
       "      <td>29</td>\n",
       "      <td>46102</td>\n",
       "      <td>-1</td>\n",
       "      <td>58202</td>\n",
       "      <td>2335</td>\n",
       "      <td>2020-09-27 18:50:43.100000+00:00</td>\n",
       "      <td>away</td>\n",
       "      <td>T</td>\n",
       "      <td>...</td>\n",
       "      <td>0.0</td>\n",
       "      <td>0.0</td>\n",
       "      <td>0.0</td>\n",
       "      <td>0.0</td>\n",
       "      <td>999.0</td>\n",
       "      <td>0</td>\n",
       "      <td>True</td>\n",
       "      <td>0.0</td>\n",
       "      <td>0.0</td>\n",
       "      <td>0.0</td>\n",
       "    </tr>\n",
       "    <tr>\n",
       "      <th>147032</th>\n",
       "      <td>58221_001269_27_43409_G</td>\n",
       "      <td>58221_001269</td>\n",
       "      <td>27</td>\n",
       "      <td>43409</td>\n",
       "      <td>-1</td>\n",
       "      <td>58221</td>\n",
       "      <td>1269</td>\n",
       "      <td>2020-10-04 17:59:09.600000+00:00</td>\n",
       "      <td>away</td>\n",
       "      <td>DT</td>\n",
       "      <td>...</td>\n",
       "      <td>0.0</td>\n",
       "      <td>0.0</td>\n",
       "      <td>0.0</td>\n",
       "      <td>0.0</td>\n",
       "      <td>999.0</td>\n",
       "      <td>0</td>\n",
       "      <td>True</td>\n",
       "      <td>0.0</td>\n",
       "      <td>0.0</td>\n",
       "      <td>0.0</td>\n",
       "    </tr>\n",
       "    <tr>\n",
       "      <th>...</th>\n",
       "      <td>...</td>\n",
       "      <td>...</td>\n",
       "      <td>...</td>\n",
       "      <td>...</td>\n",
       "      <td>...</td>\n",
       "      <td>...</td>\n",
       "      <td>...</td>\n",
       "      <td>...</td>\n",
       "      <td>...</td>\n",
       "      <td>...</td>\n",
       "      <td>...</td>\n",
       "      <td>...</td>\n",
       "      <td>...</td>\n",
       "      <td>...</td>\n",
       "      <td>...</td>\n",
       "      <td>...</td>\n",
       "      <td>...</td>\n",
       "      <td>...</td>\n",
       "      <td>...</td>\n",
       "      <td>...</td>\n",
       "      <td>...</td>\n",
       "    </tr>\n",
       "    <tr>\n",
       "      <th>627772</th>\n",
       "      <td>58567_004074_19_46189_G</td>\n",
       "      <td>58567_004074</td>\n",
       "      <td>19</td>\n",
       "      <td>46189</td>\n",
       "      <td>-1</td>\n",
       "      <td>58567</td>\n",
       "      <td>4074</td>\n",
       "      <td>2021-10-08 03:27:16.200000+00:00</td>\n",
       "      <td>home</td>\n",
       "      <td>TE</td>\n",
       "      <td>...</td>\n",
       "      <td>0.0</td>\n",
       "      <td>0.0</td>\n",
       "      <td>0.0</td>\n",
       "      <td>0.0</td>\n",
       "      <td>999.0</td>\n",
       "      <td>0</td>\n",
       "      <td>True</td>\n",
       "      <td>30.0</td>\n",
       "      <td>0.0</td>\n",
       "      <td>0.0</td>\n",
       "    </tr>\n",
       "    <tr>\n",
       "      <th>162951</th>\n",
       "      <td>58225_003821_37_40326_G</td>\n",
       "      <td>58225_003821</td>\n",
       "      <td>37</td>\n",
       "      <td>40326</td>\n",
       "      <td>-1</td>\n",
       "      <td>58225</td>\n",
       "      <td>3821</td>\n",
       "      <td>2020-10-25 19:54:28+00:00</td>\n",
       "      <td>home</td>\n",
       "      <td>ILB</td>\n",
       "      <td>...</td>\n",
       "      <td>0.0</td>\n",
       "      <td>0.0</td>\n",
       "      <td>0.0</td>\n",
       "      <td>0.0</td>\n",
       "      <td>999.0</td>\n",
       "      <td>1</td>\n",
       "      <td>True</td>\n",
       "      <td>0.0</td>\n",
       "      <td>0.0</td>\n",
       "      <td>0.0</td>\n",
       "    </tr>\n",
       "    <tr>\n",
       "      <th>23518</th>\n",
       "      <td>58180_000986_91_45008_G</td>\n",
       "      <td>58180_000986</td>\n",
       "      <td>91</td>\n",
       "      <td>45008</td>\n",
       "      <td>-1</td>\n",
       "      <td>58180</td>\n",
       "      <td>986</td>\n",
       "      <td>2020-09-13 21:03:12.900000+00:00</td>\n",
       "      <td>away</td>\n",
       "      <td>LB</td>\n",
       "      <td>...</td>\n",
       "      <td>0.0</td>\n",
       "      <td>0.0</td>\n",
       "      <td>0.0</td>\n",
       "      <td>0.0</td>\n",
       "      <td>999.0</td>\n",
       "      <td>1</td>\n",
       "      <td>True</td>\n",
       "      <td>30.0</td>\n",
       "      <td>0.0</td>\n",
       "      <td>0.0</td>\n",
       "    </tr>\n",
       "    <tr>\n",
       "      <th>647500</th>\n",
       "      <td>58577_002486_55_44847_G</td>\n",
       "      <td>58577_002486</td>\n",
       "      <td>55</td>\n",
       "      <td>44847</td>\n",
       "      <td>-1</td>\n",
       "      <td>58577</td>\n",
       "      <td>2486</td>\n",
       "      <td>2021-10-10 22:00:23.900000+00:00</td>\n",
       "      <td>away</td>\n",
       "      <td>DT</td>\n",
       "      <td>...</td>\n",
       "      <td>0.0</td>\n",
       "      <td>0.0</td>\n",
       "      <td>0.0</td>\n",
       "      <td>0.0</td>\n",
       "      <td>999.0</td>\n",
       "      <td>1</td>\n",
       "      <td>True</td>\n",
       "      <td>0.0</td>\n",
       "      <td>0.0</td>\n",
       "      <td>0.0</td>\n",
       "    </tr>\n",
       "    <tr>\n",
       "      <th>453009</th>\n",
       "      <td>58508_001718_22_52598_G</td>\n",
       "      <td>58508_001718</td>\n",
       "      <td>22</td>\n",
       "      <td>52598</td>\n",
       "      <td>-1</td>\n",
       "      <td>58508</td>\n",
       "      <td>1718</td>\n",
       "      <td>2021-09-12 18:20:01.500000+00:00</td>\n",
       "      <td>away</td>\n",
       "      <td>TE</td>\n",
       "      <td>...</td>\n",
       "      <td>0.0</td>\n",
       "      <td>0.0</td>\n",
       "      <td>0.0</td>\n",
       "      <td>0.0</td>\n",
       "      <td>999.0</td>\n",
       "      <td>0</td>\n",
       "      <td>True</td>\n",
       "      <td>0.0</td>\n",
       "      <td>0.0</td>\n",
       "      <td>0.0</td>\n",
       "    </tr>\n",
       "  </tbody>\n",
       "</table>\n",
       "<p>26088 rows × 36 columns</p>\n",
       "</div>"
      ],
      "text/plain": [
       "                     contact_id     game_play  step  nfl_player_id_1  \\\n",
       "504881  58524_003049_18_52733_G  58524_003049    18            52733   \n",
       "163369  58225_003821_51_47802_G  58225_003821    51            47802   \n",
       "269741  58301_002369_12_42883_G  58301_002369    12            42883   \n",
       "83962   58202_002335_29_46102_G  58202_002335    29            46102   \n",
       "147032  58221_001269_27_43409_G  58221_001269    27            43409   \n",
       "...                         ...           ...   ...              ...   \n",
       "627772  58567_004074_19_46189_G  58567_004074    19            46189   \n",
       "162951  58225_003821_37_40326_G  58225_003821    37            40326   \n",
       "23518   58180_000986_91_45008_G  58180_000986    91            45008   \n",
       "647500  58577_002486_55_44847_G  58577_002486    55            44847   \n",
       "453009  58508_001718_22_52598_G  58508_001718    22            52598   \n",
       "\n",
       "        nfl_player_id_2  game_key  play_id                          datetime  \\\n",
       "504881               -1     58524     3049  2021-09-19 19:30:25.700000+00:00   \n",
       "163369               -1     58225     3821  2020-10-25 19:54:29.400000+00:00   \n",
       "269741               -1     58301     2369  2020-11-10 03:00:53.700000+00:00   \n",
       "83962                -1     58202     2335  2020-09-27 18:50:43.100000+00:00   \n",
       "147032               -1     58221     1269  2020-10-04 17:59:09.600000+00:00   \n",
       "...                 ...       ...      ...                               ...   \n",
       "627772               -1     58567     4074  2021-10-08 03:27:16.200000+00:00   \n",
       "162951               -1     58225     3821         2020-10-25 19:54:28+00:00   \n",
       "23518                -1     58180      986  2020-09-13 21:03:12.900000+00:00   \n",
       "647500               -1     58577     2486  2021-10-10 22:00:23.900000+00:00   \n",
       "453009               -1     58508     1718  2021-09-12 18:20:01.500000+00:00   \n",
       "\n",
       "       team_1 position_1  ...  direction_2  orientation_2  acceleration_2  \\\n",
       "504881   home         RB  ...          0.0            0.0             0.0   \n",
       "163369   home         DT  ...          0.0            0.0             0.0   \n",
       "269741   away          C  ...          0.0            0.0             0.0   \n",
       "83962    away          T  ...          0.0            0.0             0.0   \n",
       "147032   away         DT  ...          0.0            0.0             0.0   \n",
       "...       ...        ...  ...          ...            ...             ...   \n",
       "627772   home         TE  ...          0.0            0.0             0.0   \n",
       "162951   home        ILB  ...          0.0            0.0             0.0   \n",
       "23518    away         LB  ...          0.0            0.0             0.0   \n",
       "647500   away         DT  ...          0.0            0.0             0.0   \n",
       "453009   away         TE  ...          0.0            0.0             0.0   \n",
       "\n",
       "        sa_2  p2p_distance  contact_truth  crop_generated  rewinded_frames  \\\n",
       "504881   0.0         999.0              0            True              0.0   \n",
       "163369   0.0         999.0              1            True              0.0   \n",
       "269741   0.0         999.0              0            True              0.0   \n",
       "83962    0.0         999.0              0            True              0.0   \n",
       "147032   0.0         999.0              0            True              0.0   \n",
       "...      ...           ...            ...             ...              ...   \n",
       "627772   0.0         999.0              0            True             30.0   \n",
       "162951   0.0         999.0              1            True              0.0   \n",
       "23518    0.0         999.0              1            True             30.0   \n",
       "647500   0.0         999.0              1            True              0.0   \n",
       "453009   0.0         999.0              0            True              0.0   \n",
       "\n",
       "        miss_helmet_dets miss_player_dets  \n",
       "504881               0.0              0.0  \n",
       "163369               0.0              0.0  \n",
       "269741               0.0              0.0  \n",
       "83962                0.0              0.0  \n",
       "147032               0.0              0.0  \n",
       "...                  ...              ...  \n",
       "627772               0.0              0.0  \n",
       "162951               0.0              0.0  \n",
       "23518                0.0              0.0  \n",
       "647500               0.0              0.0  \n",
       "453009               0.0              0.0  \n",
       "\n",
       "[26088 rows x 36 columns]"
      ]
     },
     "execution_count": 42,
     "metadata": {},
     "output_type": "execute_result"
    }
   ],
   "source": [
    "# we want a dataset with 25% of positive contacts and 75% of negative contacts\n",
    "\n",
    "# merge contact_df and contact_image_df\n",
    "train_df = train_contact_df_reduced.merge(contact_image_endzone_df, \n",
    "                                 left_on=['contact_id'], \n",
    "                                 right_on=['contact_id'], \n",
    "                                 how='left').drop_duplicates()\n",
    "# use only the rows where the crop was generated\n",
    "train_df = train_df[train_df['crop_generated'] == True]\n",
    "# get the ground contacts\n",
    "train_df = train_df[train_df['nfl_player_id_2'] == -1]\n",
    "\n",
    "# get all positive contacts\n",
    "pos_df = train_df[train_df['contact_truth'] == 1]\n",
    "num_pos = len(pos_df)\n",
    "\n",
    "# retrieve a number of negative contacts = to 3 times the number of positive contacts\n",
    "neg_df = train_df[train_df['contact_truth'] == 0].sample(num_pos, random_state=42)\n",
    "# concatenate negative and positive contacts\n",
    "train_df = pd.concat([pos_df, neg_df])\n",
    "\n",
    "# train test split\n",
    "train_df, test_df = train_test_split(train_df, test_size=0.2, random_state=42)\n",
    "\n",
    "train_df"
   ]
  },
  {
   "cell_type": "code",
   "execution_count": 43,
   "id": "303a5b9f",
   "metadata": {},
   "outputs": [],
   "source": [
    "# # merge contact_df and contact_image_df\n",
    "# train_df = train_contact_df_reduced.merge(contact_image_endzone_df, \n",
    "#                                  left_on=['contact_id'], \n",
    "#                                  right_on=['contact_id'], \n",
    "#                                  how='left').drop_duplicates()\n",
    "# # use only the rows where the crop was generated\n",
    "# train_df = train_df[train_df['crop_generated'] == True]\n",
    "# # get the ground contacts\n",
    "# train_df = train_df[train_df['nfl_player_id_2'] == -1]\n",
    "\n",
    "# # split the dataset\n",
    "# train_df, test_df = train_test_split(train_df, test_size=0.2, random_state=42)\n",
    "\n",
    "# train_df"
   ]
  },
  {
   "cell_type": "code",
   "execution_count": 44,
   "id": "55fd5cd0",
   "metadata": {},
   "outputs": [
    {
     "name": "stdout",
     "output_type": "stream",
     "text": [
      "There are 13019 positive contacts with the ground in the train set\n",
      "49.90% of contacts with the ground are positive on the train set\n"
     ]
    }
   ],
   "source": [
    "num_contacts = train_df['contact_truth'].sum()\n",
    "print(f\"There are {num_contacts} positive contacts with the ground in the train set\")\n",
    "print(f\"{num_contacts / len(train_df)*100:.2f}% of contacts with the ground are positive on the train set\")"
   ]
  },
  {
   "cell_type": "markdown",
   "id": "ea74b68b",
   "metadata": {},
   "source": [
    "### Create instance of the dataset specific to player-ground contact"
   ]
  },
  {
   "cell_type": "code",
   "execution_count": 45,
   "id": "f1aefb99",
   "metadata": {},
   "outputs": [],
   "source": [
    "DATA_PATH = os.path.join('dataset', 'train', 'crops')\n",
    "# train\n",
    "p_g_contact_dataset_train = PlayerContactDataset(DATA_PATH, train_df, 'Endzone', image_transform_train)\n",
    "# test\n",
    "p_g_contact_dataset_test = PlayerContactDataset(DATA_PATH, test_df, 'Endzone', image_transform_test)"
   ]
  },
  {
   "cell_type": "markdown",
   "id": "757158e1",
   "metadata": {},
   "source": [
    "### Utils to show image from dataset"
   ]
  },
  {
   "cell_type": "code",
   "execution_count": 46,
   "id": "f76418a2",
   "metadata": {},
   "outputs": [],
   "source": [
    "def inverse_normalize(tensor, mean, std):\n",
    "    for channel_tensor, c_mean, c_std in zip(tensor, mean, std):\n",
    "        channel_tensor.mul_(c_std).add_(c_mean)\n",
    "        # The normalize code -> channel_tensor.sub_(c_mean).div_(c_std)\n",
    "        \n",
    "    return tensor\n",
    "\n",
    "def tensor_to_image(tensor, is_normalized=True):\n",
    "    img = tensor\n",
    "    if is_normalized:\n",
    "        img = inverse_normalize(img, mean=(0.485, 0.456, 0.406), std=(0.229, 0.224, 0.225))\n",
    "    img = np.array(img).transpose(1, 2, 0)\n",
    "    img = Image.fromarray((img*255).astype(np.uint8))\n",
    "    \n",
    "    return img"
   ]
  },
  {
   "cell_type": "code",
   "execution_count": 47,
   "id": "89fade4d",
   "metadata": {},
   "outputs": [
    {
     "data": {
      "image/png": "[encoded data removed]",
      "text/plain": [
       "<PIL.Image.Image image mode=RGB size=224x224>"
      ]
     },
     "execution_count": 47,
     "metadata": {},
     "output_type": "execute_result"
    }
   ],
   "source": [
    "tensor_to_image(p_g_contact_dataset_train[700][0])"
   ]
  },
  {
   "cell_type": "markdown",
   "id": "b22f33a2",
   "metadata": {},
   "source": [
    "### Data Loaders"
   ]
  },
  {
   "cell_type": "code",
   "execution_count": 48,
   "id": "afb89647",
   "metadata": {},
   "outputs": [],
   "source": [
    "BATCH_SIZE = 32\n",
    "\n",
    "loader_train = DataLoader(p_g_contact_dataset_train,\n",
    "                         batch_size=BATCH_SIZE,\n",
    "                         shuffle=True, \n",
    "                         num_workers=0,\n",
    "                         drop_last=True) # drop last batch with size < 8 so that the batchnorm layers dont fail\n",
    "\n",
    "loader_test = DataLoader(p_g_contact_dataset_test,\n",
    "                         batch_size=BATCH_SIZE,\n",
    "                         shuffle=False,\n",
    "                         num_workers=0,\n",
    "                         drop_last=True)"
   ]
  },
  {
   "cell_type": "code",
   "execution_count": 49,
   "id": "0c2e9365",
   "metadata": {},
   "outputs": [
    {
     "name": "stdout",
     "output_type": "stream",
     "text": [
      "Batch size: 32\n",
      "Data shape: torch.Size([32, 3, 224, 224])\n",
      "One batch of labels from the train loader:\n"
     ]
    },
    {
     "data": {
      "text/plain": [
       "[tensor([[[[-2.1179, -2.1179, -2.1179,  ..., -2.1179, -2.1179, -2.1179],\n",
       "           [-2.1179, -2.1179, -2.1179,  ..., -2.1179, -2.1179, -2.1179],\n",
       "           [-2.1179, -2.1179, -2.1179,  ..., -2.1179, -2.1179, -2.1179],\n",
       "           ...,\n",
       "           [-2.1179, -2.1179, -2.1179,  ..., -2.1179, -2.1179, -2.1179],\n",
       "           [-2.1179, -2.1179, -2.1179,  ..., -2.1179, -2.1179, -2.1179],\n",
       "           [-2.1179, -2.1179, -2.1179,  ..., -2.1179, -2.1179, -2.1179]],\n",
       " \n",
       "          [[-2.0357, -2.0357, -2.0357,  ..., -2.0357, -2.0357, -2.0357],\n",
       "           [-2.0357, -2.0357, -2.0357,  ..., -2.0357, -2.0357, -2.0357],\n",
       "           [-2.0357, -2.0357, -2.0357,  ..., -2.0357, -2.0357, -2.0357],\n",
       "           ...,\n",
       "           [-2.0357, -2.0357, -2.0357,  ..., -2.0357, -2.0357, -2.0357],\n",
       "           [-2.0357, -2.0357, -2.0357,  ..., -2.0357, -2.0357, -2.0357],\n",
       "           [-2.0357, -2.0357, -2.0357,  ..., -2.0357, -2.0357, -2.0357]],\n",
       " \n",
       "          [[-1.8044, -1.8044, -1.8044,  ..., -1.8044, -1.8044, -1.8044],\n",
       "           [-1.8044, -1.8044, -1.8044,  ..., -1.8044, -1.8044, -1.8044],\n",
       "           [-1.8044, -1.8044, -1.8044,  ..., -1.8044, -1.8044, -1.8044],\n",
       "           ...,\n",
       "           [-1.8044, -1.8044, -1.8044,  ..., -1.8044, -1.8044, -1.8044],\n",
       "           [-1.8044, -1.8044, -1.8044,  ..., -1.8044, -1.8044, -1.8044],\n",
       "           [-1.8044, -1.8044, -1.8044,  ..., -1.8044, -1.8044, -1.8044]]],\n",
       " \n",
       " \n",
       "         [[[-2.1179, -2.1179, -2.1179,  ..., -2.1179, -2.1179, -2.1179],\n",
       "           [-2.1179, -2.1179, -2.1179,  ..., -2.1179, -2.1179, -2.1179],\n",
       "           [-2.1179, -2.1179, -2.1179,  ..., -2.1179, -2.1179, -2.1179],\n",
       "           ...,\n",
       "           [-2.1179, -2.1179, -2.1179,  ..., -2.1179, -2.1179, -2.1179],\n",
       "           [-2.1179, -2.1179, -2.1179,  ..., -2.1179, -2.1179, -2.1179],\n",
       "           [-2.1179, -2.1179, -2.1179,  ..., -2.1179, -2.1179, -2.1179]],\n",
       " \n",
       "          [[-2.0357, -2.0357, -2.0357,  ..., -2.0357, -2.0357, -2.0357],\n",
       "           [-2.0357, -2.0357, -2.0357,  ..., -2.0357, -2.0357, -2.0357],\n",
       "           [-2.0357, -2.0357, -2.0357,  ..., -2.0357, -2.0357, -2.0357],\n",
       "           ...,\n",
       "           [-2.0357, -2.0357, -2.0357,  ..., -2.0357, -2.0357, -2.0357],\n",
       "           [-2.0357, -2.0357, -2.0357,  ..., -2.0357, -2.0357, -2.0357],\n",
       "           [-2.0357, -2.0357, -2.0357,  ..., -2.0357, -2.0357, -2.0357]],\n",
       " \n",
       "          [[-1.8044, -1.8044, -1.8044,  ..., -1.8044, -1.8044, -1.8044],\n",
       "           [-1.8044, -1.8044, -1.8044,  ..., -1.8044, -1.8044, -1.8044],\n",
       "           [-1.8044, -1.8044, -1.8044,  ..., -1.8044, -1.8044, -1.8044],\n",
       "           ...,\n",
       "           [-1.8044, -1.8044, -1.8044,  ..., -1.8044, -1.8044, -1.8044],\n",
       "           [-1.8044, -1.8044, -1.8044,  ..., -1.8044, -1.8044, -1.8044],\n",
       "           [-1.8044, -1.8044, -1.8044,  ..., -1.8044, -1.8044, -1.8044]]],\n",
       " \n",
       " \n",
       "         [[[-2.1179, -2.1179, -2.1179,  ..., -2.1179, -2.1179, -2.1179],\n",
       "           [-2.1179, -2.1179, -2.1179,  ..., -2.1179, -2.1179, -2.1179],\n",
       "           [-2.1179, -2.1179, -2.1179,  ..., -2.1179, -2.1179, -2.1179],\n",
       "           ...,\n",
       "           [-2.1179, -2.1179, -2.1179,  ..., -2.1179, -2.1179, -2.1179],\n",
       "           [-2.1179, -2.1179, -2.1179,  ..., -2.1179, -2.1179, -2.1179],\n",
       "           [-2.1179, -2.1179, -2.1179,  ..., -2.1179, -2.1179, -2.1179]],\n",
       " \n",
       "          [[-2.0357, -2.0357, -2.0357,  ..., -2.0357, -2.0357, -2.0357],\n",
       "           [-2.0357, -2.0357, -2.0357,  ..., -2.0357, -2.0357, -2.0357],\n",
       "           [-2.0357, -2.0357, -2.0357,  ..., -2.0357, -2.0357, -2.0357],\n",
       "           ...,\n",
       "           [-2.0357, -2.0357, -2.0357,  ..., -2.0357, -2.0357, -2.0357],\n",
       "           [-2.0357, -2.0357, -2.0357,  ..., -2.0357, -2.0357, -2.0357],\n",
       "           [-2.0357, -2.0357, -2.0357,  ..., -2.0357, -2.0357, -2.0357]],\n",
       " \n",
       "          [[-1.8044, -1.8044, -1.8044,  ..., -1.8044, -1.8044, -1.8044],\n",
       "           [-1.8044, -1.8044, -1.8044,  ..., -1.8044, -1.8044, -1.8044],\n",
       "           [-1.8044, -1.8044, -1.8044,  ..., -1.8044, -1.8044, -1.8044],\n",
       "           ...,\n",
       "           [-1.8044, -1.8044, -1.8044,  ..., -1.8044, -1.8044, -1.8044],\n",
       "           [-1.8044, -1.8044, -1.8044,  ..., -1.8044, -1.8044, -1.8044],\n",
       "           [-1.8044, -1.8044, -1.8044,  ..., -1.8044, -1.8044, -1.8044]]],\n",
       " \n",
       " \n",
       "         ...,\n",
       " \n",
       " \n",
       "         [[[-2.1179, -2.1179, -2.1179,  ..., -2.1179, -2.1179, -2.1179],\n",
       "           [-2.1179, -2.1179, -2.1179,  ..., -2.1179, -2.1179, -2.1179],\n",
       "           [-2.1179, -2.1179, -2.1179,  ..., -2.1179, -2.1179, -2.1179],\n",
       "           ...,\n",
       "           [-2.1179, -2.1179, -2.1179,  ..., -2.1179, -2.1179, -2.1179],\n",
       "           [-2.1179, -2.1179, -2.1179,  ..., -2.1179, -2.1179, -2.1179],\n",
       "           [-2.1179, -2.1179, -2.1179,  ..., -2.1179, -2.1179, -2.1179]],\n",
       " \n",
       "          [[-2.0357, -2.0357, -2.0357,  ..., -2.0357, -2.0357, -2.0357],\n",
       "           [-2.0357, -2.0357, -2.0357,  ..., -2.0357, -2.0357, -2.0357],\n",
       "           [-2.0357, -2.0357, -2.0357,  ..., -2.0357, -2.0357, -2.0357],\n",
       "           ...,\n",
       "           [-2.0357, -2.0357, -2.0357,  ..., -2.0357, -2.0357, -2.0357],\n",
       "           [-2.0357, -2.0357, -2.0357,  ..., -2.0357, -2.0357, -2.0357],\n",
       "           [-2.0357, -2.0357, -2.0357,  ..., -2.0357, -2.0357, -2.0357]],\n",
       " \n",
       "          [[-1.8044, -1.8044, -1.8044,  ..., -1.8044, -1.8044, -1.8044],\n",
       "           [-1.8044, -1.8044, -1.8044,  ..., -1.8044, -1.8044, -1.8044],\n",
       "           [-1.8044, -1.8044, -1.8044,  ..., -1.8044, -1.8044, -1.8044],\n",
       "           ...,\n",
       "           [-1.8044, -1.8044, -1.8044,  ..., -1.8044, -1.8044, -1.8044],\n",
       "           [-1.8044, -1.8044, -1.8044,  ..., -1.8044, -1.8044, -1.8044],\n",
       "           [-1.8044, -1.8044, -1.8044,  ..., -1.8044, -1.8044, -1.8044]]],\n",
       " \n",
       " \n",
       "         [[[-2.1179, -2.1179, -2.1179,  ..., -2.1179, -2.1179, -2.1179],\n",
       "           [-2.1179, -2.1179, -2.1179,  ..., -2.1179, -2.1179, -2.1179],\n",
       "           [-2.1179, -2.1179, -2.1179,  ..., -2.1179, -2.1179, -2.1179],\n",
       "           ...,\n",
       "           [-2.1179, -2.1179, -2.1179,  ..., -2.1179, -2.1179, -2.1179],\n",
       "           [-2.1179, -2.1179, -2.1179,  ..., -2.1179, -2.1179, -2.1179],\n",
       "           [-2.1179, -2.1179, -2.1179,  ..., -2.1179, -2.1179, -2.1179]],\n",
       " \n",
       "          [[-2.0357, -2.0357, -2.0357,  ..., -2.0357, -2.0357, -2.0357],\n",
       "           [-2.0357, -2.0357, -2.0357,  ..., -2.0357, -2.0357, -2.0357],\n",
       "           [-2.0357, -2.0357, -2.0357,  ..., -2.0357, -2.0357, -2.0357],\n",
       "           ...,\n",
       "           [-2.0357, -2.0357, -2.0357,  ..., -2.0357, -2.0357, -2.0357],\n",
       "           [-2.0357, -2.0357, -2.0357,  ..., -2.0357, -2.0357, -2.0357],\n",
       "           [-2.0357, -2.0357, -2.0357,  ..., -2.0357, -2.0357, -2.0357]],\n",
       " \n",
       "          [[-1.8044, -1.8044, -1.8044,  ..., -1.8044, -1.8044, -1.8044],\n",
       "           [-1.8044, -1.8044, -1.8044,  ..., -1.8044, -1.8044, -1.8044],\n",
       "           [-1.8044, -1.8044, -1.8044,  ..., -1.8044, -1.8044, -1.8044],\n",
       "           ...,\n",
       "           [-1.8044, -1.8044, -1.8044,  ..., -1.8044, -1.8044, -1.8044],\n",
       "           [-1.8044, -1.8044, -1.8044,  ..., -1.8044, -1.8044, -1.8044],\n",
       "           [-1.8044, -1.8044, -1.8044,  ..., -1.8044, -1.8044, -1.8044]]],\n",
       " \n",
       " \n",
       "         [[[-2.1179, -2.1179, -2.1179,  ..., -2.1179, -2.1179, -2.1179],\n",
       "           [-2.1179, -2.1179, -2.1179,  ..., -2.1179, -2.1179, -2.1179],\n",
       "           [-2.1179, -2.1179, -2.1179,  ..., -2.1179, -2.1179, -2.1179],\n",
       "           ...,\n",
       "           [-2.1179, -2.1179, -2.1179,  ..., -2.1179, -2.1179, -2.1179],\n",
       "           [-2.1179, -2.1179, -2.1179,  ..., -2.1179, -2.1179, -2.1179],\n",
       "           [-2.1179, -2.1179, -2.1179,  ..., -2.1179, -2.1179, -2.1179]],\n",
       " \n",
       "          [[-2.0357, -2.0357, -2.0357,  ..., -2.0357, -2.0357, -2.0357],\n",
       "           [-2.0357, -2.0357, -2.0357,  ..., -2.0357, -2.0357, -2.0357],\n",
       "           [-2.0357, -2.0357, -2.0357,  ..., -2.0357, -2.0357, -2.0357],\n",
       "           ...,\n",
       "           [-2.0357, -2.0357, -2.0357,  ..., -2.0357, -2.0357, -2.0357],\n",
       "           [-2.0357, -2.0357, -2.0357,  ..., -2.0357, -2.0357, -2.0357],\n",
       "           [-2.0357, -2.0357, -2.0357,  ..., -2.0357, -2.0357, -2.0357]],\n",
       " \n",
       "          [[-1.8044, -1.8044, -1.8044,  ..., -1.8044, -1.8044, -1.8044],\n",
       "           [-1.8044, -1.8044, -1.8044,  ..., -1.8044, -1.8044, -1.8044],\n",
       "           [-1.8044, -1.8044, -1.8044,  ..., -1.8044, -1.8044, -1.8044],\n",
       "           ...,\n",
       "           [-1.8044, -1.8044, -1.8044,  ..., -1.8044, -1.8044, -1.8044],\n",
       "           [-1.8044, -1.8044, -1.8044,  ..., -1.8044, -1.8044, -1.8044],\n",
       "           [-1.8044, -1.8044, -1.8044,  ..., -1.8044, -1.8044, -1.8044]]]]),\n",
       " tensor([0, 0, 0, 0, 0, 0, 1, 0, 1, 0, 0, 0, 1, 1, 1, 0, 0, 0, 0, 0, 1, 1, 1, 0,\n",
       "         0, 1, 1, 0, 1, 1, 1, 0])]"
      ]
     },
     "execution_count": 49,
     "metadata": {},
     "output_type": "execute_result"
    }
   ],
   "source": [
    "# get one batch\n",
    "images, labels = next(iter(loader_train))\n",
    "# check the batch size\n",
    "print(f'Batch size: {len(images)}')\n",
    "print(f'Data shape: {images.shape}')\n",
    "print(\"One batch of labels from the train loader:\")\n",
    "next(iter(loader_train))"
   ]
  },
  {
   "cell_type": "markdown",
   "id": "e68363d9",
   "metadata": {},
   "source": [
    "## Load the efficientnet model"
   ]
  },
  {
   "cell_type": "code",
   "execution_count": 50,
   "id": "a2c20b62",
   "metadata": {},
   "outputs": [],
   "source": [
    "def build_model(pretrained=True, fine_tune=True, num_classes=1):\n",
    "    \"\"\"\n",
    "    Returns en efficientnetB0 classifier model\n",
    "    \"\"\"\n",
    "    if pretrained:\n",
    "        print('[INFO]: Loading pre-trained weights')\n",
    "    else:\n",
    "        print('[INFO]: Not loading pre-trained weights')\n",
    "    model = models.efficientnet_b0(pretrained=pretrained)\n",
    "    if fine_tune:\n",
    "        print('[INFO]: Fine-tuning all layers...')\n",
    "        for params in model.parameters():\n",
    "            params.requires_grad = True\n",
    "    elif not fine_tune:\n",
    "        print('[INFO]: Freezing hidden layers...')\n",
    "        for params in model.parameters():\n",
    "            params.requires_grad = False\n",
    "    # Change the final classification head.\n",
    "    model.classifier[1] = nn.Linear(in_features=1280, out_features=num_classes)\n",
    "    return model"
   ]
  },
  {
   "cell_type": "code",
   "execution_count": 51,
   "id": "7c2d33f8",
   "metadata": {},
   "outputs": [
    {
     "name": "stdout",
     "output_type": "stream",
     "text": [
      "[INFO]: Loading pre-trained weights\n",
      "[INFO]: Fine-tuning all layers...\n"
     ]
    },
    {
     "name": "stderr",
     "output_type": "stream",
     "text": [
      "C:\\Users\\AT016638\\.conda\\envs\\contact\\lib\\site-packages\\torchvision\\models\\_utils.py:209: UserWarning: The parameter 'pretrained' is deprecated since 0.13 and may be removed in the future, please use 'weights' instead.\n",
      "  f\"The parameter '{pretrained_param}' is deprecated since 0.13 and may be removed in the future, \"\n",
      "C:\\Users\\AT016638\\.conda\\envs\\contact\\lib\\site-packages\\torchvision\\models\\_utils.py:223: UserWarning: Arguments other than a weight enum or `None` for 'weights' are deprecated since 0.13 and may be removed in the future. The current behavior is equivalent to passing `weights=EfficientNet_B0_Weights.IMAGENET1K_V1`. You can also use `weights=EfficientNet_B0_Weights.DEFAULT` to get the most up-to-date weights.\n",
      "  warnings.warn(msg)\n"
     ]
    }
   ],
   "source": [
    "model = build_model(num_classes=1) # 1 class for binary output"
   ]
  },
  {
   "cell_type": "markdown",
   "id": "32c47eab",
   "metadata": {},
   "source": [
    "## Model Training"
   ]
  },
  {
   "cell_type": "markdown",
   "id": "ad6fca08",
   "metadata": {},
   "source": [
    "### Training Utils"
   ]
  },
  {
   "cell_type": "code",
   "execution_count": 52,
   "id": "9ba67f65",
   "metadata": {},
   "outputs": [],
   "source": [
    "class Averager():\n",
    "    \"\"\"\n",
    "    An Averager keeps track of the training and validation loss values\n",
    "    and helps to get the average for each epoch as well\n",
    "    \"\"\"\n",
    "    def __init__(self):\n",
    "        self.current_total = 0.0\n",
    "        self.iterations = 0.0\n",
    "\n",
    "    def send(self, value):\n",
    "        self.current_total += value\n",
    "        self.iterations += 1\n",
    "\n",
    "    @property\n",
    "    def value(self):\n",
    "        if self.iterations == 0:\n",
    "            return 0\n",
    "        else:\n",
    "            return 1.0 * self.current_total / self.iterations\n",
    "\n",
    "    def reset(self):\n",
    "        self.current_total = 0.0\n",
    "        self.iterations = 0.0"
   ]
  },
  {
   "cell_type": "code",
   "execution_count": 53,
   "id": "2c475d47",
   "metadata": {},
   "outputs": [],
   "source": [
    "def save_loss_plot(output_dir, mean_train_loss, mean_valid_loss, epoch_num, model_name):\n",
    "    \"\"\"\n",
    "    Save plots with the loss curves of the model training\n",
    "    \"\"\"\n",
    "    fig, ax = plt.subplots(figsize=(15,10))\n",
    "\n",
    "    ax.plot(np.arange(epoch_num)+1, mean_train_loss, label='Training loss')\n",
    "    ax.plot(np.arange(epoch_num)+1, mean_valid_loss, label='Validation Loss')\n",
    "    \n",
    "    ax.set_xticks(np.arange(1, epoch_num+1, step=1))\n",
    "    if (epoch_num > 20):\n",
    "        ax.set_xticks(np.arange(0, epoch_num+1, step=2))\n",
    "    if(epoch_num > 50):\n",
    "        ax.set_xticks(np.arange(0, epoch_num+1, step=5))\n",
    "    if(epoch_num > 100):\n",
    "        ax.set_xticks(np.arange(0, epoch_num+1, step=10))\n",
    "    if(epoch_num > 1000):\n",
    "        ax.set_xticks(np.arange(0, epoch_num+1, step=100))\n",
    "        \n",
    "    ax.set_ylabel('Loss')\n",
    "    ax.set_xlabel('Epochs')\n",
    "    ax.set_title('Loss Curves')\n",
    "    ax.legend()\n",
    "    fig.savefig(f\"{output_dir}/{model_name}_epoch_loss.png\")\n",
    "\n",
    "    print('SAVING PLOTS COMPLETE...')\n",
    "\n",
    "    plt.close('all')"
   ]
  },
  {
   "cell_type": "code",
   "execution_count": 54,
   "id": "36cf368d",
   "metadata": {},
   "outputs": [],
   "source": [
    "def save_model(epoch, model, optimizer, model_name='model', out_dir='.'):\n",
    "    \"\"\"\n",
    "    Function to save the trained model\n",
    "    \"\"\"\n",
    "    torch.save({\n",
    "                'epoch': epoch+1,\n",
    "                'model_state_dict': model.state_dict(),\n",
    "                'optimizer_state_dict': optimizer.state_dict(),\n",
    "                }, f'{out_dir}/{model_name}.pth')\n",
    "\n",
    "    \n",
    "class SaveBestModel:\n",
    "    \"\"\"\n",
    "    Class to save the best model while training. If the current epoch's \n",
    "    validation loss is less than the previous least less, then save the\n",
    "    model state.\n",
    "    \"\"\"\n",
    "    def __init__(\n",
    "        self, best_valid_loss=float('inf'), model_name='model'\n",
    "    ):\n",
    "        self.best_valid_loss = best_valid_loss\n",
    "        self.non_improve_iters = 0\n",
    "        self.model_name = model_name\n",
    "        \n",
    "    def __call__(\n",
    "        self, current_valid_loss, \n",
    "        epoch, model, optimizer, out_dir='.'\n",
    "    ):\n",
    "        if current_valid_loss < self.best_valid_loss:\n",
    "            self.non_improve_iters = 0\n",
    "            self.best_valid_loss = current_valid_loss\n",
    "            print(f\"\\nBest validation loss: {self.best_valid_loss}\")\n",
    "            print(f\"\\nSaving best model for epoch: {epoch+1}\\n\")\n",
    "            model_name = f'bm_{self.model_name}_epoch_{epoch+1}'\n",
    "            save_model(epoch, model, optimizer, model_name, out_dir)\n",
    "        else:\n",
    "            self.non_improve_iters += 1"
   ]
  },
  {
   "cell_type": "markdown",
   "id": "c4b00878",
   "metadata": {},
   "source": [
    "### Training 1 epoch"
   ]
  },
  {
   "cell_type": "code",
   "execution_count": 55,
   "id": "54a90435",
   "metadata": {},
   "outputs": [],
   "source": [
    "def train_one_epoch(model, data_loader, criterion, optimizer, device, train_loss_averager):\n",
    "    \"\"\"\n",
    "    Function that trains the given model for one epoch \n",
    "    with the given data loader\n",
    "    \"\"\"\n",
    "    # activate model training mode in case its in evaluation mode\n",
    "    model.train()\n",
    "    # initialize tqdm progress bar\n",
    "    prog_bar = tqdm(data_loader, total=len(data_loader))\n",
    "    for i, (inputs, labels) in enumerate(prog_bar):\n",
    "        # send data to device\n",
    "        inputs = inputs.to(device)\n",
    "        labels = labels.to(device).to(torch.float32)\n",
    "        # reset the gradient accummulation from the previous batch\n",
    "        optimizer.zero_grad()\n",
    "        # make a prediction with the model\n",
    "        prediction = model(inputs).to(torch.float32).squeeze(dim=1)\n",
    "        # compute the loss \n",
    "        loss = criterion(prediction, labels)\n",
    "        # save loss values to the averaher\n",
    "        train_loss_averager.send(loss.item())\n",
    "        # backpropagate the loss gradient\n",
    "        loss.backward()\n",
    "        # uptade parameters\n",
    "        optimizer.step()\n",
    "\n",
    "        # print the mean batch loss at each iteration\n",
    "        prog_bar.set_description(desc=f\"Training Loss: {train_loss_averager.value:.4f}\")"
   ]
  },
  {
   "cell_type": "markdown",
   "id": "66e43ad0",
   "metadata": {},
   "source": [
    "### Validate Function"
   ]
  },
  {
   "cell_type": "code",
   "execution_count": 56,
   "id": "65c9b723",
   "metadata": {},
   "outputs": [],
   "source": [
    "def validate_model(model, data_loader, criterion, device, val_loss_averager):\n",
    "    \"\"\"\n",
    "    Uses the model on all the data from the data loader and \n",
    "    returns the predictions and the true targets. It also updates\n",
    "    the loss averager\n",
    "    \"\"\"\n",
    "    # initialize tqdm progress bar\n",
    "    prog_bar = tqdm(data_loader, total=len(data_loader))\n",
    "    loss_list = np.array([])\n",
    "    total_predictions = torch.tensor([]).to(device)\n",
    "    total_target_labels = torch.tensor([]).to(device)\n",
    "    \n",
    "    for i, (inputs, labels) in enumerate(prog_bar):\n",
    "        # send data to device\n",
    "        inputs = inputs.to(device)\n",
    "        labels = labels.to(device).to(torch.float32)\n",
    "        # make a prediction with the model in evaluation mode\n",
    "        with torch.no_grad():\n",
    "            # activate evaluation mode for batchnorm layers\n",
    "            model.eval()\n",
    "            prediction = model(inputs).to(torch.float32).squeeze(dim=1)\n",
    "\n",
    "        # add batch predictions and true labels to total lists\n",
    "        total_predictions = torch.cat((total_predictions, prediction), dim=0)    \n",
    "        total_target_labels = torch.cat((total_target_labels, labels), dim=0)    \n",
    "        # compute the loss \n",
    "        loss = criterion(prediction, labels)\n",
    "        # update loss averager\n",
    "        val_loss_averager.send(loss.item())\n",
    "        \n",
    "        # print the mean batch loss at each iteration\n",
    "        prog_bar.set_description(desc=f\"Validation Loss: {val_loss_averager.value:.4f}\")\n",
    "\n",
    "    # return total predictions and total true_labels\n",
    "    return total_predictions, total_target_labels"
   ]
  },
  {
   "cell_type": "markdown",
   "id": "eddcc8f9",
   "metadata": {},
   "source": [
    "### Constants"
   ]
  },
  {
   "cell_type": "code",
   "execution_count": 57,
   "id": "f3325d81",
   "metadata": {},
   "outputs": [
    {
     "name": "stderr",
     "output_type": "stream",
     "text": [
      "A subdirectory or file trained_models already exists.\n",
      "A subdirectory or file training_plots already exists.\n"
     ]
    }
   ],
   "source": [
    "CLASSES = ['0', '1']\n",
    "# detect the device (GPU or CPU)\n",
    "DEVICE = torch.device('cuda') if torch.cuda.is_available() else torch.device('cpu')\n",
    "# set the number of epochs\n",
    "EPOCHS = 100\n",
    "# set the learning rate\n",
    "LR = 0.0001\n",
    "# maximum iterations with no validation set improvement until early stoping\n",
    "EARLY_STOP= 5\n",
    "\n",
    "MODEL_NAME = 'efficientnet_CLS_ground_v5'\n",
    "MODEL_DIR = 'trained_models'\n",
    "PLOT_DIR = 'training_plots'\n",
    "\n",
    "!mkdir {MODEL_DIR}\n",
    "!mkdir {PLOT_DIR}"
   ]
  },
  {
   "cell_type": "markdown",
   "id": "c41fb413",
   "metadata": {},
   "source": [
    "### Main training loop"
   ]
  },
  {
   "cell_type": "code",
   "execution_count": 58,
   "id": "f3a5d24f",
   "metadata": {
    "scrolled": true
   },
   "outputs": [
    {
     "name": "stdout",
     "output_type": "stream",
     "text": [
      "[INFO]: Loading pre-trained weights\n",
      "[INFO]: Fine-tuning all layers...\n",
      "Starting epoch 1\n"
     ]
    },
    {
     "data": {
      "application/vnd.jupyter.widget-view+json": {
       "model_id": "a576e4d1352147cd9e42df17c0bdd4bb",
       "version_major": 2,
       "version_minor": 0
      },
      "text/plain": [
       "  0%|          | 0/815 [00:00<?, ?it/s]"
      ]
     },
     "metadata": {},
     "output_type": "display_data"
    },
    {
     "data": {
      "application/vnd.jupyter.widget-view+json": {
       "model_id": "3dea5cbc0d0b422ca59976ca55901959",
       "version_major": 2,
       "version_minor": 0
      },
      "text/plain": [
       "  0%|          | 0/203 [00:00<?, ?it/s]"
      ]
     },
     "metadata": {},
     "output_type": "display_data"
    },
    {
     "name": "stdout",
     "output_type": "stream",
     "text": [
      "Epoch #1 train_loss: 0.470\n",
      "Epoch #1 validation_loss: 0.375\n",
      "Took 260.366 seconds for epoch 1\n",
      "\n",
      "Best validation loss: 0.37510230190354615\n",
      "\n",
      "Saving best model for epoch: 1\n",
      "\n",
      "SAVING PLOTS COMPLETE...\n",
      "\n",
      "\n",
      "Starting epoch 2\n"
     ]
    },
    {
     "data": {
      "application/vnd.jupyter.widget-view+json": {
       "model_id": "406b690991c74af0b62e8720fa863cea",
       "version_major": 2,
       "version_minor": 0
      },
      "text/plain": [
       "  0%|          | 0/815 [00:00<?, ?it/s]"
      ]
     },
     "metadata": {},
     "output_type": "display_data"
    },
    {
     "data": {
      "application/vnd.jupyter.widget-view+json": {
       "model_id": "e0fcebfd1ace45fb856a12f4529a1e0f",
       "version_major": 2,
       "version_minor": 0
      },
      "text/plain": [
       "  0%|          | 0/203 [00:00<?, ?it/s]"
      ]
     },
     "metadata": {},
     "output_type": "display_data"
    },
    {
     "name": "stdout",
     "output_type": "stream",
     "text": [
      "Epoch #2 train_loss: 0.396\n",
      "Epoch #2 validation_loss: 0.359\n",
      "Took 260.376 seconds for epoch 2\n",
      "\n",
      "Best validation loss: 0.3593340690059615\n",
      "\n",
      "Saving best model for epoch: 2\n",
      "\n",
      "SAVING PLOTS COMPLETE...\n",
      "\n",
      "\n",
      "Starting epoch 3\n"
     ]
    },
    {
     "data": {
      "application/vnd.jupyter.widget-view+json": {
       "model_id": "a79d4832af264cc98351f81d34fe0e97",
       "version_major": 2,
       "version_minor": 0
      },
      "text/plain": [
       "  0%|          | 0/815 [00:00<?, ?it/s]"
      ]
     },
     "metadata": {},
     "output_type": "display_data"
    },
    {
     "data": {
      "application/vnd.jupyter.widget-view+json": {
       "model_id": "0ad0908fe1d04c2691fa225a7e72b6cf",
       "version_major": 2,
       "version_minor": 0
      },
      "text/plain": [
       "  0%|          | 0/203 [00:00<?, ?it/s]"
      ]
     },
     "metadata": {},
     "output_type": "display_data"
    },
    {
     "name": "stdout",
     "output_type": "stream",
     "text": [
      "Epoch #3 train_loss: 0.366\n",
      "Epoch #3 validation_loss: 0.339\n",
      "Took 254.398 seconds for epoch 3\n",
      "\n",
      "Best validation loss: 0.3388734054682877\n",
      "\n",
      "Saving best model for epoch: 3\n",
      "\n",
      "SAVING PLOTS COMPLETE...\n",
      "\n",
      "\n",
      "Starting epoch 4\n"
     ]
    },
    {
     "data": {
      "application/vnd.jupyter.widget-view+json": {
       "model_id": "de9e9c99a70d450f9f07bbd058cf3369",
       "version_major": 2,
       "version_minor": 0
      },
      "text/plain": [
       "  0%|          | 0/815 [00:00<?, ?it/s]"
      ]
     },
     "metadata": {},
     "output_type": "display_data"
    },
    {
     "data": {
      "application/vnd.jupyter.widget-view+json": {
       "model_id": "6278adbb33694d1bbc80f9e689443c4e",
       "version_major": 2,
       "version_minor": 0
      },
      "text/plain": [
       "  0%|          | 0/203 [00:00<?, ?it/s]"
      ]
     },
     "metadata": {},
     "output_type": "display_data"
    },
    {
     "name": "stdout",
     "output_type": "stream",
     "text": [
      "Epoch #4 train_loss: 0.343\n",
      "Epoch #4 validation_loss: 0.334\n",
      "Took 253.017 seconds for epoch 4\n",
      "\n",
      "Best validation loss: 0.334123065685991\n",
      "\n",
      "Saving best model for epoch: 4\n",
      "\n",
      "SAVING PLOTS COMPLETE...\n",
      "\n",
      "\n",
      "Starting epoch 5\n"
     ]
    },
    {
     "data": {
      "application/vnd.jupyter.widget-view+json": {
       "model_id": "63a5dd68c6ca4e89badc66f9f240d34c",
       "version_major": 2,
       "version_minor": 0
      },
      "text/plain": [
       "  0%|          | 0/815 [00:00<?, ?it/s]"
      ]
     },
     "metadata": {},
     "output_type": "display_data"
    },
    {
     "data": {
      "application/vnd.jupyter.widget-view+json": {
       "model_id": "0f2e8fb6856e469bbdcc3c90108fc2e1",
       "version_major": 2,
       "version_minor": 0
      },
      "text/plain": [
       "  0%|          | 0/203 [00:00<?, ?it/s]"
      ]
     },
     "metadata": {},
     "output_type": "display_data"
    },
    {
     "name": "stdout",
     "output_type": "stream",
     "text": [
      "Epoch #5 train_loss: 0.320\n",
      "Epoch #5 validation_loss: 0.327\n",
      "Took 247.777 seconds for epoch 5\n",
      "\n",
      "Best validation loss: 0.3274333804772405\n",
      "\n",
      "Saving best model for epoch: 5\n",
      "\n",
      "SAVING PLOTS COMPLETE...\n",
      "\n",
      "\n",
      "Starting epoch 6\n"
     ]
    },
    {
     "data": {
      "application/vnd.jupyter.widget-view+json": {
       "model_id": "ad536c37ee6d4031977301890013c495",
       "version_major": 2,
       "version_minor": 0
      },
      "text/plain": [
       "  0%|          | 0/815 [00:00<?, ?it/s]"
      ]
     },
     "metadata": {},
     "output_type": "display_data"
    },
    {
     "data": {
      "application/vnd.jupyter.widget-view+json": {
       "model_id": "dd972c153723478f94af00399169f7f1",
       "version_major": 2,
       "version_minor": 0
      },
      "text/plain": [
       "  0%|          | 0/203 [00:00<?, ?it/s]"
      ]
     },
     "metadata": {},
     "output_type": "display_data"
    },
    {
     "name": "stdout",
     "output_type": "stream",
     "text": [
      "Epoch #6 train_loss: 0.301\n",
      "Epoch #6 validation_loss: 0.328\n",
      "Took 250.340 seconds for epoch 6\n",
      "SAVING PLOTS COMPLETE...\n",
      "\n",
      "\n",
      "Starting epoch 7\n"
     ]
    },
    {
     "data": {
      "application/vnd.jupyter.widget-view+json": {
       "model_id": "b5456c137a1d4d068721a640b5087892",
       "version_major": 2,
       "version_minor": 0
      },
      "text/plain": [
       "  0%|          | 0/815 [00:00<?, ?it/s]"
      ]
     },
     "metadata": {},
     "output_type": "display_data"
    },
    {
     "data": {
      "application/vnd.jupyter.widget-view+json": {
       "model_id": "d7e3153b68654f0d81b3ccdc57df3d52",
       "version_major": 2,
       "version_minor": 0
      },
      "text/plain": [
       "  0%|          | 0/203 [00:00<?, ?it/s]"
      ]
     },
     "metadata": {},
     "output_type": "display_data"
    },
    {
     "name": "stdout",
     "output_type": "stream",
     "text": [
      "Epoch #7 train_loss: 0.278\n",
      "Epoch #7 validation_loss: 0.325\n",
      "Took 249.538 seconds for epoch 7\n",
      "\n",
      "Best validation loss: 0.32471356896931314\n",
      "\n",
      "Saving best model for epoch: 7\n",
      "\n",
      "SAVING PLOTS COMPLETE...\n",
      "\n",
      "\n",
      "Starting epoch 8\n"
     ]
    },
    {
     "data": {
      "application/vnd.jupyter.widget-view+json": {
       "model_id": "56aab6ee3b844cdcb58c5bf4f3a68398",
       "version_major": 2,
       "version_minor": 0
      },
      "text/plain": [
       "  0%|          | 0/815 [00:00<?, ?it/s]"
      ]
     },
     "metadata": {},
     "output_type": "display_data"
    },
    {
     "data": {
      "application/vnd.jupyter.widget-view+json": {
       "model_id": "268077c2d88e4d9ca89f456495a76541",
       "version_major": 2,
       "version_minor": 0
      },
      "text/plain": [
       "  0%|          | 0/203 [00:00<?, ?it/s]"
      ]
     },
     "metadata": {},
     "output_type": "display_data"
    },
    {
     "name": "stdout",
     "output_type": "stream",
     "text": [
      "Epoch #8 train_loss: 0.262\n",
      "Epoch #8 validation_loss: 0.323\n",
      "Took 249.398 seconds for epoch 8\n",
      "\n",
      "Best validation loss: 0.32345497109032617\n",
      "\n",
      "Saving best model for epoch: 8\n",
      "\n",
      "SAVING PLOTS COMPLETE...\n",
      "\n",
      "\n",
      "Starting epoch 9\n"
     ]
    },
    {
     "data": {
      "application/vnd.jupyter.widget-view+json": {
       "model_id": "74d8af0067b342c1845e2dad7b466ec6",
       "version_major": 2,
       "version_minor": 0
      },
      "text/plain": [
       "  0%|          | 0/815 [00:00<?, ?it/s]"
      ]
     },
     "metadata": {},
     "output_type": "display_data"
    },
    {
     "data": {
      "application/vnd.jupyter.widget-view+json": {
       "model_id": "1e7e98a4d32d4648bc51e364c42bcd5a",
       "version_major": 2,
       "version_minor": 0
      },
      "text/plain": [
       "  0%|          | 0/203 [00:00<?, ?it/s]"
      ]
     },
     "metadata": {},
     "output_type": "display_data"
    },
    {
     "name": "stdout",
     "output_type": "stream",
     "text": [
      "Epoch #9 train_loss: 0.247\n",
      "Epoch #9 validation_loss: 0.313\n",
      "Took 249.408 seconds for epoch 9\n",
      "\n",
      "Best validation loss: 0.31321333183590416\n",
      "\n",
      "Saving best model for epoch: 9\n",
      "\n",
      "SAVING PLOTS COMPLETE...\n",
      "\n",
      "\n",
      "Starting epoch 10\n"
     ]
    },
    {
     "data": {
      "application/vnd.jupyter.widget-view+json": {
       "model_id": "c96394e6346c43d799707e2358009cb5",
       "version_major": 2,
       "version_minor": 0
      },
      "text/plain": [
       "  0%|          | 0/815 [00:00<?, ?it/s]"
      ]
     },
     "metadata": {},
     "output_type": "display_data"
    },
    {
     "data": {
      "application/vnd.jupyter.widget-view+json": {
       "model_id": "12e31940aa804084acc30d4cd11b590d",
       "version_major": 2,
       "version_minor": 0
      },
      "text/plain": [
       "  0%|          | 0/203 [00:00<?, ?it/s]"
      ]
     },
     "metadata": {},
     "output_type": "display_data"
    },
    {
     "name": "stdout",
     "output_type": "stream",
     "text": [
      "Epoch #10 train_loss: 0.232\n",
      "Epoch #10 validation_loss: 0.323\n",
      "Took 247.940 seconds for epoch 10\n",
      "SAVING PLOTS COMPLETE...\n",
      "\n",
      "\n",
      "Starting epoch 11\n"
     ]
    },
    {
     "data": {
      "application/vnd.jupyter.widget-view+json": {
       "model_id": "6afbb042bdd84097b9ab2db865d16e1f",
       "version_major": 2,
       "version_minor": 0
      },
      "text/plain": [
       "  0%|          | 0/815 [00:00<?, ?it/s]"
      ]
     },
     "metadata": {},
     "output_type": "display_data"
    },
    {
     "data": {
      "application/vnd.jupyter.widget-view+json": {
       "model_id": "d034512b112a4e5fb7cd0feaff2f7426",
       "version_major": 2,
       "version_minor": 0
      },
      "text/plain": [
       "  0%|          | 0/203 [00:00<?, ?it/s]"
      ]
     },
     "metadata": {},
     "output_type": "display_data"
    },
    {
     "name": "stdout",
     "output_type": "stream",
     "text": [
      "Epoch #11 train_loss: 0.214\n",
      "Epoch #11 validation_loss: 0.331\n",
      "Took 247.251 seconds for epoch 11\n",
      "SAVING PLOTS COMPLETE...\n",
      "\n",
      "\n",
      "Starting epoch 12\n"
     ]
    },
    {
     "data": {
      "application/vnd.jupyter.widget-view+json": {
       "model_id": "9b0507d444fb4243a735d8ad2bc003e0",
       "version_major": 2,
       "version_minor": 0
      },
      "text/plain": [
       "  0%|          | 0/815 [00:00<?, ?it/s]"
      ]
     },
     "metadata": {},
     "output_type": "display_data"
    },
    {
     "data": {
      "application/vnd.jupyter.widget-view+json": {
       "model_id": "453659c7e2644457948ea09f6365af6c",
       "version_major": 2,
       "version_minor": 0
      },
      "text/plain": [
       "  0%|          | 0/203 [00:00<?, ?it/s]"
      ]
     },
     "metadata": {},
     "output_type": "display_data"
    },
    {
     "name": "stdout",
     "output_type": "stream",
     "text": [
      "Epoch #12 train_loss: 0.203\n",
      "Epoch #12 validation_loss: 0.318\n",
      "Took 246.495 seconds for epoch 12\n",
      "SAVING PLOTS COMPLETE...\n",
      "\n",
      "\n",
      "Starting epoch 13\n"
     ]
    },
    {
     "data": {
      "application/vnd.jupyter.widget-view+json": {
       "model_id": "eed9d216ab184fb3b0420769f3551991",
       "version_major": 2,
       "version_minor": 0
      },
      "text/plain": [
       "  0%|          | 0/815 [00:00<?, ?it/s]"
      ]
     },
     "metadata": {},
     "output_type": "display_data"
    },
    {
     "data": {
      "application/vnd.jupyter.widget-view+json": {
       "model_id": "4dae6cb725e948f983ac93479111faf8",
       "version_major": 2,
       "version_minor": 0
      },
      "text/plain": [
       "  0%|          | 0/203 [00:00<?, ?it/s]"
      ]
     },
     "metadata": {},
     "output_type": "display_data"
    },
    {
     "name": "stdout",
     "output_type": "stream",
     "text": [
      "Epoch #13 train_loss: 0.188\n",
      "Epoch #13 validation_loss: 0.347\n",
      "Took 248.727 seconds for epoch 13\n",
      "SAVING PLOTS COMPLETE...\n",
      "\n",
      "\n",
      "Starting epoch 14\n"
     ]
    },
    {
     "data": {
      "application/vnd.jupyter.widget-view+json": {
       "model_id": "8d5d3c135d064f92984aef8fd18679f6",
       "version_major": 2,
       "version_minor": 0
      },
      "text/plain": [
       "  0%|          | 0/815 [00:00<?, ?it/s]"
      ]
     },
     "metadata": {},
     "output_type": "display_data"
    },
    {
     "data": {
      "application/vnd.jupyter.widget-view+json": {
       "model_id": "b32acc156a1441929d6a332c88cfb14a",
       "version_major": 2,
       "version_minor": 0
      },
      "text/plain": [
       "  0%|          | 0/203 [00:00<?, ?it/s]"
      ]
     },
     "metadata": {},
     "output_type": "display_data"
    },
    {
     "name": "stdout",
     "output_type": "stream",
     "text": [
      "Epoch #14 train_loss: 0.179\n",
      "Epoch #14 validation_loss: 0.339\n",
      "Took 250.390 seconds for epoch 14\n",
      "SAVING PLOTS COMPLETE...\n",
      "\n",
      "\n",
      "Starting epoch 15\n"
     ]
    },
    {
     "data": {
      "application/vnd.jupyter.widget-view+json": {
       "model_id": "7b003f33cacc42a3859bcff718dbc0c7",
       "version_major": 2,
       "version_minor": 0
      },
      "text/plain": [
       "  0%|          | 0/815 [00:00<?, ?it/s]"
      ]
     },
     "metadata": {},
     "output_type": "display_data"
    },
    {
     "data": {
      "application/vnd.jupyter.widget-view+json": {
       "model_id": "ad8c8be737b441648f3657ecf8496b72",
       "version_major": 2,
       "version_minor": 0
      },
      "text/plain": [
       "  0%|          | 0/203 [00:00<?, ?it/s]"
      ]
     },
     "metadata": {},
     "output_type": "display_data"
    },
    {
     "name": "stdout",
     "output_type": "stream",
     "text": [
      "Epoch #15 train_loss: 0.173\n",
      "Epoch #15 validation_loss: 0.348\n",
      "Took 251.082 seconds for epoch 15\n",
      "SAVING PLOTS COMPLETE...\n",
      "\n",
      "\n",
      "Starting epoch 16\n"
     ]
    },
    {
     "data": {
      "application/vnd.jupyter.widget-view+json": {
       "model_id": "01d78fc70fe6431d9d20c60188cb5602",
       "version_major": 2,
       "version_minor": 0
      },
      "text/plain": [
       "  0%|          | 0/815 [00:00<?, ?it/s]"
      ]
     },
     "metadata": {},
     "output_type": "display_data"
    },
    {
     "data": {
      "application/vnd.jupyter.widget-view+json": {
       "model_id": "0018b57beb234caeb513f4c7e5f831d8",
       "version_major": 2,
       "version_minor": 0
      },
      "text/plain": [
       "  0%|          | 0/203 [00:00<?, ?it/s]"
      ]
     },
     "metadata": {},
     "output_type": "display_data"
    },
    {
     "name": "stdout",
     "output_type": "stream",
     "text": [
      "Epoch #16 train_loss: 0.159\n",
      "Epoch #16 validation_loss: 0.351\n",
      "Took 248.059 seconds for epoch 16\n",
      "SAVING PLOTS COMPLETE...\n",
      "\n",
      "\n",
      "Starting epoch 17\n"
     ]
    },
    {
     "data": {
      "application/vnd.jupyter.widget-view+json": {
       "model_id": "a83b42f8bc3d4ae5bf1ba8b2d901f10e",
       "version_major": 2,
       "version_minor": 0
      },
      "text/plain": [
       "  0%|          | 0/815 [00:00<?, ?it/s]"
      ]
     },
     "metadata": {},
     "output_type": "display_data"
    },
    {
     "data": {
      "application/vnd.jupyter.widget-view+json": {
       "model_id": "4e9142a29ad94973b63b0d454362fa3b",
       "version_major": 2,
       "version_minor": 0
      },
      "text/plain": [
       "  0%|          | 0/203 [00:00<?, ?it/s]"
      ]
     },
     "metadata": {},
     "output_type": "display_data"
    },
    {
     "name": "stdout",
     "output_type": "stream",
     "text": [
      "Epoch #17 train_loss: 0.152\n",
      "Epoch #17 validation_loss: 0.380\n",
      "Took 247.583 seconds for epoch 17\n",
      "SAVING PLOTS COMPLETE...\n",
      "\n",
      "\n",
      "Starting epoch 18\n"
     ]
    },
    {
     "data": {
      "application/vnd.jupyter.widget-view+json": {
       "model_id": "032b2c9a31974046815d8724a5a8a6ad",
       "version_major": 2,
       "version_minor": 0
      },
      "text/plain": [
       "  0%|          | 0/815 [00:00<?, ?it/s]"
      ]
     },
     "metadata": {},
     "output_type": "display_data"
    },
    {
     "data": {
      "application/vnd.jupyter.widget-view+json": {
       "model_id": "f8face99d61d4362877841a051d28c58",
       "version_major": 2,
       "version_minor": 0
      },
      "text/plain": [
       "  0%|          | 0/203 [00:00<?, ?it/s]"
      ]
     },
     "metadata": {},
     "output_type": "display_data"
    },
    {
     "name": "stdout",
     "output_type": "stream",
     "text": [
      "Epoch #18 train_loss: 0.147\n",
      "Epoch #18 validation_loss: 0.395\n",
      "Took 247.639 seconds for epoch 18\n",
      "SAVING PLOTS COMPLETE...\n",
      "\n",
      "\n",
      "Starting epoch 19\n"
     ]
    },
    {
     "data": {
      "application/vnd.jupyter.widget-view+json": {
       "model_id": "a0a3e440749a458fbdd3afc3c5241b56",
       "version_major": 2,
       "version_minor": 0
      },
      "text/plain": [
       "  0%|          | 0/815 [00:00<?, ?it/s]"
      ]
     },
     "metadata": {},
     "output_type": "display_data"
    },
    {
     "data": {
      "application/vnd.jupyter.widget-view+json": {
       "model_id": "1e79157b62b441088b637e819ee53332",
       "version_major": 2,
       "version_minor": 0
      },
      "text/plain": [
       "  0%|          | 0/203 [00:00<?, ?it/s]"
      ]
     },
     "metadata": {},
     "output_type": "display_data"
    },
    {
     "name": "stdout",
     "output_type": "stream",
     "text": [
      "Epoch #19 train_loss: 0.141\n",
      "Epoch #19 validation_loss: 0.380\n",
      "Took 249.187 seconds for epoch 19\n",
      "SAVING PLOTS COMPLETE...\n",
      "\n",
      "\n",
      "Starting epoch 20\n"
     ]
    },
    {
     "data": {
      "application/vnd.jupyter.widget-view+json": {
       "model_id": "13027c8f10b148b88654adad8f735d19",
       "version_major": 2,
       "version_minor": 0
      },
      "text/plain": [
       "  0%|          | 0/815 [00:00<?, ?it/s]"
      ]
     },
     "metadata": {},
     "output_type": "display_data"
    },
    {
     "data": {
      "application/vnd.jupyter.widget-view+json": {
       "model_id": "7d6655fac1314ef8b81d43318d9b6af6",
       "version_major": 2,
       "version_minor": 0
      },
      "text/plain": [
       "  0%|          | 0/203 [00:00<?, ?it/s]"
      ]
     },
     "metadata": {},
     "output_type": "display_data"
    },
    {
     "name": "stdout",
     "output_type": "stream",
     "text": [
      "Epoch #20 train_loss: 0.132\n",
      "Epoch #20 validation_loss: 0.417\n",
      "Took 247.654 seconds for epoch 20\n",
      "SAVING PLOTS COMPLETE...\n",
      "\n",
      "\n",
      "Starting epoch 21\n"
     ]
    },
    {
     "data": {
      "application/vnd.jupyter.widget-view+json": {
       "model_id": "c8595601964c49bd9708b5467df2fa14",
       "version_major": 2,
       "version_minor": 0
      },
      "text/plain": [
       "  0%|          | 0/815 [00:00<?, ?it/s]"
      ]
     },
     "metadata": {},
     "output_type": "display_data"
    },
    {
     "data": {
      "application/vnd.jupyter.widget-view+json": {
       "model_id": "68f4d73f417d4a658989de3e95ef2de9",
       "version_major": 2,
       "version_minor": 0
      },
      "text/plain": [
       "  0%|          | 0/203 [00:00<?, ?it/s]"
      ]
     },
     "metadata": {},
     "output_type": "display_data"
    },
    {
     "name": "stdout",
     "output_type": "stream",
     "text": [
      "Epoch #21 train_loss: 0.131\n",
      "Epoch #21 validation_loss: 0.392\n",
      "Took 249.837 seconds for epoch 21\n",
      "SAVING PLOTS COMPLETE...\n",
      "\n",
      "\n",
      "Starting epoch 22\n"
     ]
    },
    {
     "data": {
      "application/vnd.jupyter.widget-view+json": {
       "model_id": "1462baafceb7480aabbdaf34cd2b9ee3",
       "version_major": 2,
       "version_minor": 0
      },
      "text/plain": [
       "  0%|          | 0/815 [00:00<?, ?it/s]"
      ]
     },
     "metadata": {},
     "output_type": "display_data"
    },
    {
     "data": {
      "application/vnd.jupyter.widget-view+json": {
       "model_id": "529655e0ab0d4ed0ad44971d8944b312",
       "version_major": 2,
       "version_minor": 0
      },
      "text/plain": [
       "  0%|          | 0/203 [00:00<?, ?it/s]"
      ]
     },
     "metadata": {},
     "output_type": "display_data"
    },
    {
     "name": "stdout",
     "output_type": "stream",
     "text": [
      "Epoch #22 train_loss: 0.125\n",
      "Epoch #22 validation_loss: 0.401\n",
      "Took 254.330 seconds for epoch 22\n",
      "SAVING PLOTS COMPLETE...\n",
      "\n",
      "\n",
      "Starting epoch 23\n"
     ]
    },
    {
     "data": {
      "application/vnd.jupyter.widget-view+json": {
       "model_id": "42260a23718a4176a060b2edfac48b45",
       "version_major": 2,
       "version_minor": 0
      },
      "text/plain": [
       "  0%|          | 0/815 [00:00<?, ?it/s]"
      ]
     },
     "metadata": {},
     "output_type": "display_data"
    },
    {
     "data": {
      "application/vnd.jupyter.widget-view+json": {
       "model_id": "b2c43356f81347719824fe5367cf0ecd",
       "version_major": 2,
       "version_minor": 0
      },
      "text/plain": [
       "  0%|          | 0/203 [00:00<?, ?it/s]"
      ]
     },
     "metadata": {},
     "output_type": "display_data"
    },
    {
     "name": "stdout",
     "output_type": "stream",
     "text": [
      "Epoch #23 train_loss: 0.118\n",
      "Epoch #23 validation_loss: 0.406\n",
      "Took 257.504 seconds for epoch 23\n",
      "SAVING PLOTS COMPLETE...\n",
      "\n",
      "\n",
      "Starting epoch 24\n"
     ]
    },
    {
     "data": {
      "application/vnd.jupyter.widget-view+json": {
       "model_id": "f95c193bcedb4acdb50145b9e10e53fb",
       "version_major": 2,
       "version_minor": 0
      },
      "text/plain": [
       "  0%|          | 0/815 [00:00<?, ?it/s]"
      ]
     },
     "metadata": {},
     "output_type": "display_data"
    },
    {
     "data": {
      "application/vnd.jupyter.widget-view+json": {
       "model_id": "6e3d8508a6494ae68e9d62eeea7fdda7",
       "version_major": 2,
       "version_minor": 0
      },
      "text/plain": [
       "  0%|          | 0/203 [00:00<?, ?it/s]"
      ]
     },
     "metadata": {},
     "output_type": "display_data"
    },
    {
     "name": "stdout",
     "output_type": "stream",
     "text": [
      "Epoch #24 train_loss: 0.115\n",
      "Epoch #24 validation_loss: 0.400\n",
      "Took 246.405 seconds for epoch 24\n",
      "SAVING PLOTS COMPLETE...\n",
      "\n",
      "\n",
      "Starting epoch 25\n"
     ]
    },
    {
     "data": {
      "application/vnd.jupyter.widget-view+json": {
       "model_id": "b009d9f7b1264f89a36af78c17caef71",
       "version_major": 2,
       "version_minor": 0
      },
      "text/plain": [
       "  0%|          | 0/815 [00:00<?, ?it/s]"
      ]
     },
     "metadata": {},
     "output_type": "display_data"
    },
    {
     "data": {
      "application/vnd.jupyter.widget-view+json": {
       "model_id": "c45e041176844e58bc3c7275cc39935f",
       "version_major": 2,
       "version_minor": 0
      },
      "text/plain": [
       "  0%|          | 0/203 [00:00<?, ?it/s]"
      ]
     },
     "metadata": {},
     "output_type": "display_data"
    },
    {
     "name": "stdout",
     "output_type": "stream",
     "text": [
      "Epoch #25 train_loss: 0.109\n",
      "Epoch #25 validation_loss: 0.418\n",
      "Took 248.885 seconds for epoch 25\n",
      "SAVING PLOTS COMPLETE...\n",
      "\n",
      "\n",
      "Starting epoch 26\n"
     ]
    },
    {
     "data": {
      "application/vnd.jupyter.widget-view+json": {
       "model_id": "28daa802ba1c433d9ef288340bc95b36",
       "version_major": 2,
       "version_minor": 0
      },
      "text/plain": [
       "  0%|          | 0/815 [00:00<?, ?it/s]"
      ]
     },
     "metadata": {},
     "output_type": "display_data"
    },
    {
     "data": {
      "application/vnd.jupyter.widget-view+json": {
       "model_id": "0f71726f1f654075915f6629d0d8f44b",
       "version_major": 2,
       "version_minor": 0
      },
      "text/plain": [
       "  0%|          | 0/203 [00:00<?, ?it/s]"
      ]
     },
     "metadata": {},
     "output_type": "display_data"
    },
    {
     "name": "stdout",
     "output_type": "stream",
     "text": [
      "Epoch #26 train_loss: 0.103\n",
      "Epoch #26 validation_loss: 0.444\n",
      "Took 247.546 seconds for epoch 26\n",
      "SAVING PLOTS COMPLETE...\n",
      "\n",
      "\n",
      "Starting epoch 27\n"
     ]
    },
    {
     "data": {
      "application/vnd.jupyter.widget-view+json": {
       "model_id": "01993ca17c3647158e9368ee53fea5e0",
       "version_major": 2,
       "version_minor": 0
      },
      "text/plain": [
       "  0%|          | 0/815 [00:00<?, ?it/s]"
      ]
     },
     "metadata": {},
     "output_type": "display_data"
    },
    {
     "data": {
      "application/vnd.jupyter.widget-view+json": {
       "model_id": "1dfb670d75634081b646c5b93bbb3fd6",
       "version_major": 2,
       "version_minor": 0
      },
      "text/plain": [
       "  0%|          | 0/203 [00:00<?, ?it/s]"
      ]
     },
     "metadata": {},
     "output_type": "display_data"
    },
    {
     "name": "stdout",
     "output_type": "stream",
     "text": [
      "Epoch #27 train_loss: 0.103\n",
      "Epoch #27 validation_loss: 0.437\n",
      "Took 248.025 seconds for epoch 27\n",
      "SAVING PLOTS COMPLETE...\n",
      "\n",
      "\n",
      "Starting epoch 28\n"
     ]
    },
    {
     "data": {
      "application/vnd.jupyter.widget-view+json": {
       "model_id": "92e75b458fa3471981f47514037e5bce",
       "version_major": 2,
       "version_minor": 0
      },
      "text/plain": [
       "  0%|          | 0/815 [00:00<?, ?it/s]"
      ]
     },
     "metadata": {},
     "output_type": "display_data"
    },
    {
     "data": {
      "application/vnd.jupyter.widget-view+json": {
       "model_id": "11e2278be5d84298b768663f88f12f0e",
       "version_major": 2,
       "version_minor": 0
      },
      "text/plain": [
       "  0%|          | 0/203 [00:00<?, ?it/s]"
      ]
     },
     "metadata": {},
     "output_type": "display_data"
    },
    {
     "name": "stdout",
     "output_type": "stream",
     "text": [
      "Epoch #28 train_loss: 0.099\n",
      "Epoch #28 validation_loss: 0.453\n",
      "Took 248.518 seconds for epoch 28\n",
      "SAVING PLOTS COMPLETE...\n",
      "\n",
      "\n",
      "Starting epoch 29\n"
     ]
    },
    {
     "data": {
      "application/vnd.jupyter.widget-view+json": {
       "model_id": "00f4da73c26941ac991d01a9bf7d6774",
       "version_major": 2,
       "version_minor": 0
      },
      "text/plain": [
       "  0%|          | 0/815 [00:00<?, ?it/s]"
      ]
     },
     "metadata": {},
     "output_type": "display_data"
    },
    {
     "data": {
      "application/vnd.jupyter.widget-view+json": {
       "model_id": "d43fbcaec61c4fc79443a7e467cf9d99",
       "version_major": 2,
       "version_minor": 0
      },
      "text/plain": [
       "  0%|          | 0/203 [00:00<?, ?it/s]"
      ]
     },
     "metadata": {},
     "output_type": "display_data"
    },
    {
     "name": "stdout",
     "output_type": "stream",
     "text": [
      "Epoch #29 train_loss: 0.095\n",
      "Epoch #29 validation_loss: 0.442\n",
      "Took 248.801 seconds for epoch 29\n",
      "SAVING PLOTS COMPLETE...\n",
      "\n",
      "\n",
      "Starting epoch 30\n"
     ]
    },
    {
     "data": {
      "application/vnd.jupyter.widget-view+json": {
       "model_id": "2cff2df8b5924cfb89b3cded0d3dcd08",
       "version_major": 2,
       "version_minor": 0
      },
      "text/plain": [
       "  0%|          | 0/815 [00:00<?, ?it/s]"
      ]
     },
     "metadata": {},
     "output_type": "display_data"
    },
    {
     "data": {
      "application/vnd.jupyter.widget-view+json": {
       "model_id": "1937a99281a6412399ac2a36d05b5c1b",
       "version_major": 2,
       "version_minor": 0
      },
      "text/plain": [
       "  0%|          | 0/203 [00:00<?, ?it/s]"
      ]
     },
     "metadata": {},
     "output_type": "display_data"
    },
    {
     "name": "stdout",
     "output_type": "stream",
     "text": [
      "Epoch #30 train_loss: 0.094\n",
      "Epoch #30 validation_loss: 0.440\n",
      "Took 249.243 seconds for epoch 30\n",
      "SAVING PLOTS COMPLETE...\n",
      "\n",
      "\n",
      "Starting epoch 31\n"
     ]
    },
    {
     "data": {
      "application/vnd.jupyter.widget-view+json": {
       "model_id": "4505621d44d24efd87ade156465d607b",
       "version_major": 2,
       "version_minor": 0
      },
      "text/plain": [
       "  0%|          | 0/815 [00:00<?, ?it/s]"
      ]
     },
     "metadata": {},
     "output_type": "display_data"
    },
    {
     "data": {
      "application/vnd.jupyter.widget-view+json": {
       "model_id": "a2ed2f5d3f424d099b6470a70e3d984f",
       "version_major": 2,
       "version_minor": 0
      },
      "text/plain": [
       "  0%|          | 0/203 [00:00<?, ?it/s]"
      ]
     },
     "metadata": {},
     "output_type": "display_data"
    },
    {
     "name": "stdout",
     "output_type": "stream",
     "text": [
      "Epoch #31 train_loss: 0.094\n",
      "Epoch #31 validation_loss: 0.446\n",
      "Took 249.108 seconds for epoch 31\n",
      "SAVING PLOTS COMPLETE...\n",
      "\n",
      "\n",
      "Starting epoch 32\n"
     ]
    },
    {
     "data": {
      "application/vnd.jupyter.widget-view+json": {
       "model_id": "84cc7337bf414b10b93be76b2253283b",
       "version_major": 2,
       "version_minor": 0
      },
      "text/plain": [
       "  0%|          | 0/815 [00:00<?, ?it/s]"
      ]
     },
     "metadata": {},
     "output_type": "display_data"
    },
    {
     "data": {
      "application/vnd.jupyter.widget-view+json": {
       "model_id": "764635407e534906aa3cf5f6cf274df4",
       "version_major": 2,
       "version_minor": 0
      },
      "text/plain": [
       "  0%|          | 0/203 [00:00<?, ?it/s]"
      ]
     },
     "metadata": {},
     "output_type": "display_data"
    },
    {
     "name": "stdout",
     "output_type": "stream",
     "text": [
      "Epoch #32 train_loss: 0.087\n",
      "Epoch #32 validation_loss: 0.453\n",
      "Took 248.520 seconds for epoch 32\n",
      "SAVING PLOTS COMPLETE...\n",
      "\n",
      "\n",
      "Starting epoch 33\n"
     ]
    },
    {
     "data": {
      "application/vnd.jupyter.widget-view+json": {
       "model_id": "ee7c8d7c115b4f82b563c9a8b2251d80",
       "version_major": 2,
       "version_minor": 0
      },
      "text/plain": [
       "  0%|          | 0/815 [00:00<?, ?it/s]"
      ]
     },
     "metadata": {},
     "output_type": "display_data"
    },
    {
     "data": {
      "application/vnd.jupyter.widget-view+json": {
       "model_id": "7ff7fae6056340468a1648a86e94e9f0",
       "version_major": 2,
       "version_minor": 0
      },
      "text/plain": [
       "  0%|          | 0/203 [00:00<?, ?it/s]"
      ]
     },
     "metadata": {},
     "output_type": "display_data"
    },
    {
     "name": "stdout",
     "output_type": "stream",
     "text": [
      "Epoch #33 train_loss: 0.084\n",
      "Epoch #33 validation_loss: 0.473\n",
      "Took 248.298 seconds for epoch 33\n",
      "SAVING PLOTS COMPLETE...\n",
      "\n",
      "\n",
      "Starting epoch 34\n"
     ]
    },
    {
     "data": {
      "application/vnd.jupyter.widget-view+json": {
       "model_id": "8f34d8e4515d43b3a1fbc3f5d91108fa",
       "version_major": 2,
       "version_minor": 0
      },
      "text/plain": [
       "  0%|          | 0/815 [00:00<?, ?it/s]"
      ]
     },
     "metadata": {},
     "output_type": "display_data"
    },
    {
     "data": {
      "application/vnd.jupyter.widget-view+json": {
       "model_id": "8049e762411a43ef8e211eccf4113bde",
       "version_major": 2,
       "version_minor": 0
      },
      "text/plain": [
       "  0%|          | 0/203 [00:00<?, ?it/s]"
      ]
     },
     "metadata": {},
     "output_type": "display_data"
    },
    {
     "name": "stdout",
     "output_type": "stream",
     "text": [
      "Epoch #34 train_loss: 0.087\n",
      "Epoch #34 validation_loss: 0.478\n",
      "Took 248.340 seconds for epoch 34\n",
      "SAVING PLOTS COMPLETE...\n",
      "\n",
      "\n",
      "Starting epoch 35\n"
     ]
    },
    {
     "data": {
      "application/vnd.jupyter.widget-view+json": {
       "model_id": "ebd73823df83444ab59259637e353cbc",
       "version_major": 2,
       "version_minor": 0
      },
      "text/plain": [
       "  0%|          | 0/815 [00:00<?, ?it/s]"
      ]
     },
     "metadata": {},
     "output_type": "display_data"
    },
    {
     "data": {
      "application/vnd.jupyter.widget-view+json": {
       "model_id": "cbe513db756a4496ad47b04b8083d43a",
       "version_major": 2,
       "version_minor": 0
      },
      "text/plain": [
       "  0%|          | 0/203 [00:00<?, ?it/s]"
      ]
     },
     "metadata": {},
     "output_type": "display_data"
    },
    {
     "name": "stdout",
     "output_type": "stream",
     "text": [
      "Epoch #35 train_loss: 0.081\n",
      "Epoch #35 validation_loss: 0.493\n",
      "Took 250.421 seconds for epoch 35\n",
      "SAVING PLOTS COMPLETE...\n",
      "\n",
      "\n",
      "Starting epoch 36\n"
     ]
    },
    {
     "data": {
      "application/vnd.jupyter.widget-view+json": {
       "model_id": "5d933c7446444f2fbce4d3596cc0d50c",
       "version_major": 2,
       "version_minor": 0
      },
      "text/plain": [
       "  0%|          | 0/815 [00:00<?, ?it/s]"
      ]
     },
     "metadata": {},
     "output_type": "display_data"
    },
    {
     "data": {
      "application/vnd.jupyter.widget-view+json": {
       "model_id": "26d3881487764b439c8b6b9e3e043275",
       "version_major": 2,
       "version_minor": 0
      },
      "text/plain": [
       "  0%|          | 0/203 [00:00<?, ?it/s]"
      ]
     },
     "metadata": {},
     "output_type": "display_data"
    },
    {
     "name": "stdout",
     "output_type": "stream",
     "text": [
      "Epoch #36 train_loss: 0.079\n",
      "Epoch #36 validation_loss: 0.484\n",
      "Took 248.700 seconds for epoch 36\n",
      "SAVING PLOTS COMPLETE...\n",
      "\n",
      "\n",
      "Starting epoch 37\n"
     ]
    },
    {
     "data": {
      "application/vnd.jupyter.widget-view+json": {
       "model_id": "cc2d4169d18f4bfc9e9c5136f2a69d60",
       "version_major": 2,
       "version_minor": 0
      },
      "text/plain": [
       "  0%|          | 0/815 [00:00<?, ?it/s]"
      ]
     },
     "metadata": {},
     "output_type": "display_data"
    },
    {
     "data": {
      "application/vnd.jupyter.widget-view+json": {
       "model_id": "ff7cc74ee0a74b48a12bb20bee92afbd",
       "version_major": 2,
       "version_minor": 0
      },
      "text/plain": [
       "  0%|          | 0/203 [00:00<?, ?it/s]"
      ]
     },
     "metadata": {},
     "output_type": "display_data"
    },
    {
     "name": "stdout",
     "output_type": "stream",
     "text": [
      "Epoch #37 train_loss: 0.074\n",
      "Epoch #37 validation_loss: 0.503\n",
      "Took 249.509 seconds for epoch 37\n",
      "SAVING PLOTS COMPLETE...\n",
      "\n",
      "\n",
      "Starting epoch 38\n"
     ]
    },
    {
     "data": {
      "application/vnd.jupyter.widget-view+json": {
       "model_id": "8f7c692911aa42c083aa238e1dc1a120",
       "version_major": 2,
       "version_minor": 0
      },
      "text/plain": [
       "  0%|          | 0/815 [00:00<?, ?it/s]"
      ]
     },
     "metadata": {},
     "output_type": "display_data"
    },
    {
     "data": {
      "application/vnd.jupyter.widget-view+json": {
       "model_id": "64c13b076f984f339b0210daaf90404d",
       "version_major": 2,
       "version_minor": 0
      },
      "text/plain": [
       "  0%|          | 0/203 [00:00<?, ?it/s]"
      ]
     },
     "metadata": {},
     "output_type": "display_data"
    },
    {
     "name": "stdout",
     "output_type": "stream",
     "text": [
      "Epoch #38 train_loss: 0.076\n",
      "Epoch #38 validation_loss: 0.503\n",
      "Took 250.244 seconds for epoch 38\n",
      "SAVING PLOTS COMPLETE...\n",
      "\n",
      "\n",
      "Starting epoch 39\n"
     ]
    },
    {
     "data": {
      "application/vnd.jupyter.widget-view+json": {
       "model_id": "b724cb1942cd4f51aa63ab13435565eb",
       "version_major": 2,
       "version_minor": 0
      },
      "text/plain": [
       "  0%|          | 0/815 [00:00<?, ?it/s]"
      ]
     },
     "metadata": {},
     "output_type": "display_data"
    },
    {
     "data": {
      "application/vnd.jupyter.widget-view+json": {
       "model_id": "abfc141901a44114bba687ec8345467a",
       "version_major": 2,
       "version_minor": 0
      },
      "text/plain": [
       "  0%|          | 0/203 [00:00<?, ?it/s]"
      ]
     },
     "metadata": {},
     "output_type": "display_data"
    },
    {
     "name": "stdout",
     "output_type": "stream",
     "text": [
      "Epoch #39 train_loss: 0.075\n",
      "Epoch #39 validation_loss: 0.497\n",
      "Took 248.882 seconds for epoch 39\n",
      "SAVING PLOTS COMPLETE...\n",
      "\n",
      "\n",
      "Starting epoch 40\n"
     ]
    },
    {
     "data": {
      "application/vnd.jupyter.widget-view+json": {
       "model_id": "1a03098432f04cb492b59feee36dfa4b",
       "version_major": 2,
       "version_minor": 0
      },
      "text/plain": [
       "  0%|          | 0/815 [00:00<?, ?it/s]"
      ]
     },
     "metadata": {},
     "output_type": "display_data"
    },
    {
     "data": {
      "application/vnd.jupyter.widget-view+json": {
       "model_id": "9028b9b09e1c48d6b1356e315997484f",
       "version_major": 2,
       "version_minor": 0
      },
      "text/plain": [
       "  0%|          | 0/203 [00:00<?, ?it/s]"
      ]
     },
     "metadata": {},
     "output_type": "display_data"
    },
    {
     "name": "stdout",
     "output_type": "stream",
     "text": [
      "Epoch #40 train_loss: 0.071\n",
      "Epoch #40 validation_loss: 0.514\n",
      "Took 249.078 seconds for epoch 40\n",
      "SAVING PLOTS COMPLETE...\n",
      "\n",
      "\n",
      "Starting epoch 41\n"
     ]
    },
    {
     "data": {
      "application/vnd.jupyter.widget-view+json": {
       "model_id": "962d781c4bf04dd1abdd69b16ce21f4b",
       "version_major": 2,
       "version_minor": 0
      },
      "text/plain": [
       "  0%|          | 0/815 [00:00<?, ?it/s]"
      ]
     },
     "metadata": {},
     "output_type": "display_data"
    },
    {
     "data": {
      "application/vnd.jupyter.widget-view+json": {
       "model_id": "9861c20624a44ca7944e7a1b07762c47",
       "version_major": 2,
       "version_minor": 0
      },
      "text/plain": [
       "  0%|          | 0/203 [00:00<?, ?it/s]"
      ]
     },
     "metadata": {},
     "output_type": "display_data"
    },
    {
     "name": "stdout",
     "output_type": "stream",
     "text": [
      "Epoch #41 train_loss: 0.070\n",
      "Epoch #41 validation_loss: 0.536\n",
      "Took 253.528 seconds for epoch 41\n",
      "SAVING PLOTS COMPLETE...\n",
      "\n",
      "\n",
      "Starting epoch 42\n"
     ]
    },
    {
     "data": {
      "application/vnd.jupyter.widget-view+json": {
       "model_id": "118a4b67d76e46f9adaa876b13edfa0c",
       "version_major": 2,
       "version_minor": 0
      },
      "text/plain": [
       "  0%|          | 0/815 [00:00<?, ?it/s]"
      ]
     },
     "metadata": {},
     "output_type": "display_data"
    },
    {
     "data": {
      "application/vnd.jupyter.widget-view+json": {
       "model_id": "66164dd934c54b1489bb5841a6955bac",
       "version_major": 2,
       "version_minor": 0
      },
      "text/plain": [
       "  0%|          | 0/203 [00:00<?, ?it/s]"
      ]
     },
     "metadata": {},
     "output_type": "display_data"
    },
    {
     "name": "stdout",
     "output_type": "stream",
     "text": [
      "Epoch #42 train_loss: 0.070\n",
      "Epoch #42 validation_loss: 0.495\n",
      "Took 257.432 seconds for epoch 42\n",
      "SAVING PLOTS COMPLETE...\n",
      "\n",
      "\n",
      "Starting epoch 43\n"
     ]
    },
    {
     "data": {
      "application/vnd.jupyter.widget-view+json": {
       "model_id": "95affb95948e4db8951e5e4b91e246c5",
       "version_major": 2,
       "version_minor": 0
      },
      "text/plain": [
       "  0%|          | 0/815 [00:00<?, ?it/s]"
      ]
     },
     "metadata": {},
     "output_type": "display_data"
    },
    {
     "data": {
      "application/vnd.jupyter.widget-view+json": {
       "model_id": "8d9ac720db47463484082b50e126d1b0",
       "version_major": 2,
       "version_minor": 0
      },
      "text/plain": [
       "  0%|          | 0/203 [00:00<?, ?it/s]"
      ]
     },
     "metadata": {},
     "output_type": "display_data"
    },
    {
     "name": "stdout",
     "output_type": "stream",
     "text": [
      "Epoch #43 train_loss: 0.067\n",
      "Epoch #43 validation_loss: 0.518\n",
      "Took 254.264 seconds for epoch 43\n",
      "SAVING PLOTS COMPLETE...\n",
      "\n",
      "\n",
      "Starting epoch 44\n"
     ]
    },
    {
     "data": {
      "application/vnd.jupyter.widget-view+json": {
       "model_id": "933ee5b0420a4ad392838a551e3b5aeb",
       "version_major": 2,
       "version_minor": 0
      },
      "text/plain": [
       "  0%|          | 0/815 [00:00<?, ?it/s]"
      ]
     },
     "metadata": {},
     "output_type": "display_data"
    },
    {
     "data": {
      "application/vnd.jupyter.widget-view+json": {
       "model_id": "4202ff62e68f47cda56ac97703fb5d98",
       "version_major": 2,
       "version_minor": 0
      },
      "text/plain": [
       "  0%|          | 0/203 [00:00<?, ?it/s]"
      ]
     },
     "metadata": {},
     "output_type": "display_data"
    },
    {
     "name": "stdout",
     "output_type": "stream",
     "text": [
      "Epoch #44 train_loss: 0.065\n",
      "Epoch #44 validation_loss: 0.529\n",
      "Took 247.737 seconds for epoch 44\n",
      "SAVING PLOTS COMPLETE...\n",
      "\n",
      "\n",
      "Starting epoch 45\n"
     ]
    },
    {
     "data": {
      "application/vnd.jupyter.widget-view+json": {
       "model_id": "d091e280313d41148f1ea508cc6db06b",
       "version_major": 2,
       "version_minor": 0
      },
      "text/plain": [
       "  0%|          | 0/815 [00:00<?, ?it/s]"
      ]
     },
     "metadata": {},
     "output_type": "display_data"
    },
    {
     "data": {
      "application/vnd.jupyter.widget-view+json": {
       "model_id": "acd27d560d1343f0bee75924e0c19d8b",
       "version_major": 2,
       "version_minor": 0
      },
      "text/plain": [
       "  0%|          | 0/203 [00:00<?, ?it/s]"
      ]
     },
     "metadata": {},
     "output_type": "display_data"
    },
    {
     "name": "stdout",
     "output_type": "stream",
     "text": [
      "Epoch #45 train_loss: 0.066\n",
      "Epoch #45 validation_loss: 0.571\n",
      "Took 247.914 seconds for epoch 45\n",
      "SAVING PLOTS COMPLETE...\n",
      "\n",
      "\n",
      "Starting epoch 46\n"
     ]
    },
    {
     "data": {
      "application/vnd.jupyter.widget-view+json": {
       "model_id": "a228cec1c4594273a87735daccc479f7",
       "version_major": 2,
       "version_minor": 0
      },
      "text/plain": [
       "  0%|          | 0/815 [00:00<?, ?it/s]"
      ]
     },
     "metadata": {},
     "output_type": "display_data"
    },
    {
     "data": {
      "application/vnd.jupyter.widget-view+json": {
       "model_id": "7e25ae41c56b427abe63ddb47aff1fb0",
       "version_major": 2,
       "version_minor": 0
      },
      "text/plain": [
       "  0%|          | 0/203 [00:00<?, ?it/s]"
      ]
     },
     "metadata": {},
     "output_type": "display_data"
    },
    {
     "name": "stdout",
     "output_type": "stream",
     "text": [
      "Epoch #46 train_loss: 0.061\n",
      "Epoch #46 validation_loss: 0.590\n",
      "Took 249.463 seconds for epoch 46\n",
      "SAVING PLOTS COMPLETE...\n",
      "\n",
      "\n",
      "Starting epoch 47\n"
     ]
    },
    {
     "data": {
      "application/vnd.jupyter.widget-view+json": {
       "model_id": "47b08143ce5b42c38633d46bd0799f0a",
       "version_major": 2,
       "version_minor": 0
      },
      "text/plain": [
       "  0%|          | 0/815 [00:00<?, ?it/s]"
      ]
     },
     "metadata": {},
     "output_type": "display_data"
    },
    {
     "data": {
      "application/vnd.jupyter.widget-view+json": {
       "model_id": "944dc8c7cfaf4360a737fbbe68bdefd4",
       "version_major": 2,
       "version_minor": 0
      },
      "text/plain": [
       "  0%|          | 0/203 [00:00<?, ?it/s]"
      ]
     },
     "metadata": {},
     "output_type": "display_data"
    },
    {
     "name": "stdout",
     "output_type": "stream",
     "text": [
      "Epoch #47 train_loss: 0.060\n",
      "Epoch #47 validation_loss: 0.555\n",
      "Took 248.427 seconds for epoch 47\n",
      "SAVING PLOTS COMPLETE...\n",
      "\n",
      "\n",
      "Starting epoch 48\n"
     ]
    },
    {
     "data": {
      "application/vnd.jupyter.widget-view+json": {
       "model_id": "46bb2032f28244c5a80f7b4d57a480cb",
       "version_major": 2,
       "version_minor": 0
      },
      "text/plain": [
       "  0%|          | 0/815 [00:00<?, ?it/s]"
      ]
     },
     "metadata": {},
     "output_type": "display_data"
    },
    {
     "data": {
      "application/vnd.jupyter.widget-view+json": {
       "model_id": "58b6f91730fe474489bf1fb01dae821b",
       "version_major": 2,
       "version_minor": 0
      },
      "text/plain": [
       "  0%|          | 0/203 [00:00<?, ?it/s]"
      ]
     },
     "metadata": {},
     "output_type": "display_data"
    },
    {
     "name": "stdout",
     "output_type": "stream",
     "text": [
      "Epoch #48 train_loss: 0.063\n",
      "Epoch #48 validation_loss: 0.564\n",
      "Took 248.295 seconds for epoch 48\n",
      "SAVING PLOTS COMPLETE...\n",
      "\n",
      "\n",
      "Starting epoch 49\n"
     ]
    },
    {
     "data": {
      "application/vnd.jupyter.widget-view+json": {
       "model_id": "5c86d61929274bcca40d961b45671333",
       "version_major": 2,
       "version_minor": 0
      },
      "text/plain": [
       "  0%|          | 0/815 [00:00<?, ?it/s]"
      ]
     },
     "metadata": {},
     "output_type": "display_data"
    },
    {
     "data": {
      "application/vnd.jupyter.widget-view+json": {
       "model_id": "a8b76e821f8e4d01b90062a021939a3e",
       "version_major": 2,
       "version_minor": 0
      },
      "text/plain": [
       "  0%|          | 0/203 [00:00<?, ?it/s]"
      ]
     },
     "metadata": {},
     "output_type": "display_data"
    },
    {
     "name": "stdout",
     "output_type": "stream",
     "text": [
      "Epoch #49 train_loss: 0.059\n",
      "Epoch #49 validation_loss: 0.552\n",
      "Took 248.612 seconds for epoch 49\n",
      "SAVING PLOTS COMPLETE...\n",
      "\n",
      "\n",
      "Starting epoch 50\n"
     ]
    },
    {
     "data": {
      "application/vnd.jupyter.widget-view+json": {
       "model_id": "4dc4a4107fab465eaf0bad04ebfc5cf0",
       "version_major": 2,
       "version_minor": 0
      },
      "text/plain": [
       "  0%|          | 0/815 [00:00<?, ?it/s]"
      ]
     },
     "metadata": {},
     "output_type": "display_data"
    },
    {
     "data": {
      "application/vnd.jupyter.widget-view+json": {
       "model_id": "437e2aa255c346e18c6a9f323021de3c",
       "version_major": 2,
       "version_minor": 0
      },
      "text/plain": [
       "  0%|          | 0/203 [00:00<?, ?it/s]"
      ]
     },
     "metadata": {},
     "output_type": "display_data"
    },
    {
     "name": "stdout",
     "output_type": "stream",
     "text": [
      "Epoch #50 train_loss: 0.057\n",
      "Epoch #50 validation_loss: 0.575\n",
      "Took 250.713 seconds for epoch 50\n",
      "SAVING PLOTS COMPLETE...\n",
      "\n",
      "\n",
      "Starting epoch 51\n"
     ]
    },
    {
     "data": {
      "application/vnd.jupyter.widget-view+json": {
       "model_id": "507217b25872424a81224134ac870d60",
       "version_major": 2,
       "version_minor": 0
      },
      "text/plain": [
       "  0%|          | 0/815 [00:00<?, ?it/s]"
      ]
     },
     "metadata": {},
     "output_type": "display_data"
    },
    {
     "data": {
      "application/vnd.jupyter.widget-view+json": {
       "model_id": "fa017f7846964c20bc0a13cc5e51eaff",
       "version_major": 2,
       "version_minor": 0
      },
      "text/plain": [
       "  0%|          | 0/203 [00:00<?, ?it/s]"
      ]
     },
     "metadata": {},
     "output_type": "display_data"
    },
    {
     "name": "stdout",
     "output_type": "stream",
     "text": [
      "Epoch #51 train_loss: 0.055\n",
      "Epoch #51 validation_loss: 0.572\n",
      "Took 256.966 seconds for epoch 51\n",
      "SAVING PLOTS COMPLETE...\n",
      "\n",
      "\n",
      "Starting epoch 52\n"
     ]
    },
    {
     "data": {
      "application/vnd.jupyter.widget-view+json": {
       "model_id": "3261737f32eb4f63b766ea71daeaa263",
       "version_major": 2,
       "version_minor": 0
      },
      "text/plain": [
       "  0%|          | 0/815 [00:00<?, ?it/s]"
      ]
     },
     "metadata": {},
     "output_type": "display_data"
    },
    {
     "data": {
      "application/vnd.jupyter.widget-view+json": {
       "model_id": "3c64bfe38ef94e09a24d3cf13bf12827",
       "version_major": 2,
       "version_minor": 0
      },
      "text/plain": [
       "  0%|          | 0/203 [00:00<?, ?it/s]"
      ]
     },
     "metadata": {},
     "output_type": "display_data"
    },
    {
     "name": "stdout",
     "output_type": "stream",
     "text": [
      "Epoch #52 train_loss: 0.053\n",
      "Epoch #52 validation_loss: 0.575\n",
      "Took 255.741 seconds for epoch 52\n",
      "SAVING PLOTS COMPLETE...\n",
      "\n",
      "\n",
      "Starting epoch 53\n"
     ]
    },
    {
     "data": {
      "application/vnd.jupyter.widget-view+json": {
       "model_id": "9279067e241a4ee7bc6d884b7bc603cb",
       "version_major": 2,
       "version_minor": 0
      },
      "text/plain": [
       "  0%|          | 0/815 [00:00<?, ?it/s]"
      ]
     },
     "metadata": {},
     "output_type": "display_data"
    },
    {
     "data": {
      "application/vnd.jupyter.widget-view+json": {
       "model_id": "28de5c686c1541cc8d64b5a346d42921",
       "version_major": 2,
       "version_minor": 0
      },
      "text/plain": [
       "  0%|          | 0/203 [00:00<?, ?it/s]"
      ]
     },
     "metadata": {},
     "output_type": "display_data"
    },
    {
     "name": "stdout",
     "output_type": "stream",
     "text": [
      "Epoch #53 train_loss: 0.054\n",
      "Epoch #53 validation_loss: 0.587\n",
      "Took 248.235 seconds for epoch 53\n",
      "SAVING PLOTS COMPLETE...\n",
      "\n",
      "\n",
      "Starting epoch 54\n"
     ]
    },
    {
     "data": {
      "application/vnd.jupyter.widget-view+json": {
       "model_id": "85cbbbad1f4541398cd19f890e83d039",
       "version_major": 2,
       "version_minor": 0
      },
      "text/plain": [
       "  0%|          | 0/815 [00:00<?, ?it/s]"
      ]
     },
     "metadata": {},
     "output_type": "display_data"
    },
    {
     "data": {
      "application/vnd.jupyter.widget-view+json": {
       "model_id": "57687a76f9d2401281adab778fc2d725",
       "version_major": 2,
       "version_minor": 0
      },
      "text/plain": [
       "  0%|          | 0/203 [00:00<?, ?it/s]"
      ]
     },
     "metadata": {},
     "output_type": "display_data"
    },
    {
     "name": "stdout",
     "output_type": "stream",
     "text": [
      "Epoch #54 train_loss: 0.051\n",
      "Epoch #54 validation_loss: 0.615\n",
      "Took 248.692 seconds for epoch 54\n",
      "SAVING PLOTS COMPLETE...\n",
      "\n",
      "\n",
      "Starting epoch 55\n"
     ]
    },
    {
     "data": {
      "application/vnd.jupyter.widget-view+json": {
       "model_id": "a6b0839d0faa41f786ba12b8b378f78e",
       "version_major": 2,
       "version_minor": 0
      },
      "text/plain": [
       "  0%|          | 0/815 [00:00<?, ?it/s]"
      ]
     },
     "metadata": {},
     "output_type": "display_data"
    },
    {
     "data": {
      "application/vnd.jupyter.widget-view+json": {
       "model_id": "cff529ccc9c54d338ea839188215f3bd",
       "version_major": 2,
       "version_minor": 0
      },
      "text/plain": [
       "  0%|          | 0/203 [00:00<?, ?it/s]"
      ]
     },
     "metadata": {},
     "output_type": "display_data"
    },
    {
     "name": "stdout",
     "output_type": "stream",
     "text": [
      "Epoch #55 train_loss: 0.052\n",
      "Epoch #55 validation_loss: 0.572\n",
      "Took 248.203 seconds for epoch 55\n",
      "SAVING PLOTS COMPLETE...\n",
      "\n",
      "\n",
      "Starting epoch 56\n"
     ]
    },
    {
     "data": {
      "application/vnd.jupyter.widget-view+json": {
       "model_id": "99c237d14cb2473b8015f8f9b6228027",
       "version_major": 2,
       "version_minor": 0
      },
      "text/plain": [
       "  0%|          | 0/815 [00:00<?, ?it/s]"
      ]
     },
     "metadata": {},
     "output_type": "display_data"
    },
    {
     "data": {
      "application/vnd.jupyter.widget-view+json": {
       "model_id": "cef9420d2cf74fe09e26c1cb72cb2add",
       "version_major": 2,
       "version_minor": 0
      },
      "text/plain": [
       "  0%|          | 0/203 [00:00<?, ?it/s]"
      ]
     },
     "metadata": {},
     "output_type": "display_data"
    },
    {
     "name": "stdout",
     "output_type": "stream",
     "text": [
      "Epoch #56 train_loss: 0.050\n",
      "Epoch #56 validation_loss: 0.601\n",
      "Took 248.716 seconds for epoch 56\n",
      "SAVING PLOTS COMPLETE...\n",
      "\n",
      "\n",
      "Starting epoch 57\n"
     ]
    },
    {
     "data": {
      "application/vnd.jupyter.widget-view+json": {
       "model_id": "5a84340681eb4b01a754bd6fe4bc0026",
       "version_major": 2,
       "version_minor": 0
      },
      "text/plain": [
       "  0%|          | 0/815 [00:00<?, ?it/s]"
      ]
     },
     "metadata": {},
     "output_type": "display_data"
    },
    {
     "data": {
      "application/vnd.jupyter.widget-view+json": {
       "model_id": "551c6c7e3f814798996596c42cdd517a",
       "version_major": 2,
       "version_minor": 0
      },
      "text/plain": [
       "  0%|          | 0/203 [00:00<?, ?it/s]"
      ]
     },
     "metadata": {},
     "output_type": "display_data"
    },
    {
     "name": "stdout",
     "output_type": "stream",
     "text": [
      "Epoch #57 train_loss: 0.048\n",
      "Epoch #57 validation_loss: 0.618\n",
      "Took 248.564 seconds for epoch 57\n",
      "SAVING PLOTS COMPLETE...\n",
      "\n",
      "\n",
      "Starting epoch 58\n"
     ]
    },
    {
     "data": {
      "application/vnd.jupyter.widget-view+json": {
       "model_id": "066cbaca7f7b41ab842fa03b34d41791",
       "version_major": 2,
       "version_minor": 0
      },
      "text/plain": [
       "  0%|          | 0/815 [00:00<?, ?it/s]"
      ]
     },
     "metadata": {},
     "output_type": "display_data"
    },
    {
     "data": {
      "application/vnd.jupyter.widget-view+json": {
       "model_id": "d2253d76bdc1403aa079c600cc0c0661",
       "version_major": 2,
       "version_minor": 0
      },
      "text/plain": [
       "  0%|          | 0/203 [00:00<?, ?it/s]"
      ]
     },
     "metadata": {},
     "output_type": "display_data"
    },
    {
     "name": "stdout",
     "output_type": "stream",
     "text": [
      "Epoch #58 train_loss: 0.048\n",
      "Epoch #58 validation_loss: 0.628\n",
      "Took 249.013 seconds for epoch 58\n",
      "SAVING PLOTS COMPLETE...\n",
      "\n",
      "\n",
      "Starting epoch 59\n"
     ]
    },
    {
     "data": {
      "application/vnd.jupyter.widget-view+json": {
       "model_id": "d6ca2897adb44d01b37307e6df77fb07",
       "version_major": 2,
       "version_minor": 0
      },
      "text/plain": [
       "  0%|          | 0/815 [00:00<?, ?it/s]"
      ]
     },
     "metadata": {},
     "output_type": "display_data"
    },
    {
     "data": {
      "application/vnd.jupyter.widget-view+json": {
       "model_id": "c6c7aa92afe94cb5970a11cb755ad923",
       "version_major": 2,
       "version_minor": 0
      },
      "text/plain": [
       "  0%|          | 0/203 [00:00<?, ?it/s]"
      ]
     },
     "metadata": {},
     "output_type": "display_data"
    },
    {
     "name": "stdout",
     "output_type": "stream",
     "text": [
      "Epoch #59 train_loss: 0.047\n",
      "Epoch #59 validation_loss: 0.613\n",
      "Took 248.852 seconds for epoch 59\n",
      "SAVING PLOTS COMPLETE...\n",
      "\n",
      "\n",
      "Starting epoch 60\n"
     ]
    },
    {
     "data": {
      "application/vnd.jupyter.widget-view+json": {
       "model_id": "00e1ad476caa435d94cd96b3c230fe34",
       "version_major": 2,
       "version_minor": 0
      },
      "text/plain": [
       "  0%|          | 0/815 [00:00<?, ?it/s]"
      ]
     },
     "metadata": {},
     "output_type": "display_data"
    },
    {
     "data": {
      "application/vnd.jupyter.widget-view+json": {
       "model_id": "3291cd56b18a4febb588487d2ad83896",
       "version_major": 2,
       "version_minor": 0
      },
      "text/plain": [
       "  0%|          | 0/203 [00:00<?, ?it/s]"
      ]
     },
     "metadata": {},
     "output_type": "display_data"
    },
    {
     "name": "stdout",
     "output_type": "stream",
     "text": [
      "Epoch #60 train_loss: 0.046\n",
      "Epoch #60 validation_loss: 0.645\n",
      "Took 250.918 seconds for epoch 60\n",
      "SAVING PLOTS COMPLETE...\n",
      "\n",
      "\n",
      "Starting epoch 61\n"
     ]
    },
    {
     "data": {
      "application/vnd.jupyter.widget-view+json": {
       "model_id": "11874f56c36a49dea945d77c2f984180",
       "version_major": 2,
       "version_minor": 0
      },
      "text/plain": [
       "  0%|          | 0/815 [00:00<?, ?it/s]"
      ]
     },
     "metadata": {},
     "output_type": "display_data"
    },
    {
     "data": {
      "application/vnd.jupyter.widget-view+json": {
       "model_id": "03028bffd7fc4257b6d80a89f0c590fc",
       "version_major": 2,
       "version_minor": 0
      },
      "text/plain": [
       "  0%|          | 0/203 [00:00<?, ?it/s]"
      ]
     },
     "metadata": {},
     "output_type": "display_data"
    },
    {
     "name": "stdout",
     "output_type": "stream",
     "text": [
      "Epoch #61 train_loss: 0.047\n",
      "Epoch #61 validation_loss: 0.619\n",
      "Took 250.098 seconds for epoch 61\n",
      "SAVING PLOTS COMPLETE...\n",
      "\n",
      "\n",
      "Starting epoch 62\n"
     ]
    },
    {
     "data": {
      "application/vnd.jupyter.widget-view+json": {
       "model_id": "69b823cc55074fcebcee10b02827127d",
       "version_major": 2,
       "version_minor": 0
      },
      "text/plain": [
       "  0%|          | 0/815 [00:00<?, ?it/s]"
      ]
     },
     "metadata": {},
     "output_type": "display_data"
    },
    {
     "data": {
      "application/vnd.jupyter.widget-view+json": {
       "model_id": "f34b74cd106f44488723a9d87456a335",
       "version_major": 2,
       "version_minor": 0
      },
      "text/plain": [
       "  0%|          | 0/203 [00:00<?, ?it/s]"
      ]
     },
     "metadata": {},
     "output_type": "display_data"
    },
    {
     "name": "stdout",
     "output_type": "stream",
     "text": [
      "Epoch #62 train_loss: 0.043\n",
      "Epoch #62 validation_loss: 0.657\n",
      "Took 248.426 seconds for epoch 62\n",
      "SAVING PLOTS COMPLETE...\n",
      "\n",
      "\n",
      "Starting epoch 63\n"
     ]
    },
    {
     "data": {
      "application/vnd.jupyter.widget-view+json": {
       "model_id": "50d55e09ac5245e3aaaa361aedf319fd",
       "version_major": 2,
       "version_minor": 0
      },
      "text/plain": [
       "  0%|          | 0/815 [00:00<?, ?it/s]"
      ]
     },
     "metadata": {},
     "output_type": "display_data"
    },
    {
     "data": {
      "application/vnd.jupyter.widget-view+json": {
       "model_id": "3ba77a197032465f94b65ddc858a4bf5",
       "version_major": 2,
       "version_minor": 0
      },
      "text/plain": [
       "  0%|          | 0/203 [00:00<?, ?it/s]"
      ]
     },
     "metadata": {},
     "output_type": "display_data"
    },
    {
     "name": "stdout",
     "output_type": "stream",
     "text": [
      "Epoch #63 train_loss: 0.044\n",
      "Epoch #63 validation_loss: 0.651\n",
      "Took 248.373 seconds for epoch 63\n",
      "SAVING PLOTS COMPLETE...\n",
      "\n",
      "\n",
      "Starting epoch 64\n"
     ]
    },
    {
     "data": {
      "application/vnd.jupyter.widget-view+json": {
       "model_id": "0b8e815a65e9425abbf7bda236efe537",
       "version_major": 2,
       "version_minor": 0
      },
      "text/plain": [
       "  0%|          | 0/815 [00:00<?, ?it/s]"
      ]
     },
     "metadata": {},
     "output_type": "display_data"
    },
    {
     "data": {
      "application/vnd.jupyter.widget-view+json": {
       "model_id": "0937ba674567424d9f48463a3596ddfc",
       "version_major": 2,
       "version_minor": 0
      },
      "text/plain": [
       "  0%|          | 0/203 [00:00<?, ?it/s]"
      ]
     },
     "metadata": {},
     "output_type": "display_data"
    },
    {
     "name": "stdout",
     "output_type": "stream",
     "text": [
      "Epoch #64 train_loss: 0.044\n",
      "Epoch #64 validation_loss: 0.647\n",
      "Took 251.866 seconds for epoch 64\n",
      "SAVING PLOTS COMPLETE...\n",
      "\n",
      "\n",
      "Starting epoch 65\n"
     ]
    },
    {
     "data": {
      "application/vnd.jupyter.widget-view+json": {
       "model_id": "e0a4a491ee0c4d59b353495d789cc0a4",
       "version_major": 2,
       "version_minor": 0
      },
      "text/plain": [
       "  0%|          | 0/815 [00:00<?, ?it/s]"
      ]
     },
     "metadata": {},
     "output_type": "display_data"
    },
    {
     "data": {
      "application/vnd.jupyter.widget-view+json": {
       "model_id": "efc8ac8b2d4440fbba1d47bb4c219c83",
       "version_major": 2,
       "version_minor": 0
      },
      "text/plain": [
       "  0%|          | 0/203 [00:00<?, ?it/s]"
      ]
     },
     "metadata": {},
     "output_type": "display_data"
    },
    {
     "name": "stdout",
     "output_type": "stream",
     "text": [
      "Epoch #65 train_loss: 0.041\n",
      "Epoch #65 validation_loss: 0.660\n",
      "Took 248.863 seconds for epoch 65\n",
      "SAVING PLOTS COMPLETE...\n",
      "\n",
      "\n",
      "Starting epoch 66\n"
     ]
    },
    {
     "data": {
      "application/vnd.jupyter.widget-view+json": {
       "model_id": "02cbd92019e74277965ff10f560988d2",
       "version_major": 2,
       "version_minor": 0
      },
      "text/plain": [
       "  0%|          | 0/815 [00:00<?, ?it/s]"
      ]
     },
     "metadata": {},
     "output_type": "display_data"
    },
    {
     "data": {
      "application/vnd.jupyter.widget-view+json": {
       "model_id": "c094f4ae9e134f79b67572220216b2f6",
       "version_major": 2,
       "version_minor": 0
      },
      "text/plain": [
       "  0%|          | 0/203 [00:00<?, ?it/s]"
      ]
     },
     "metadata": {},
     "output_type": "display_data"
    },
    {
     "name": "stdout",
     "output_type": "stream",
     "text": [
      "Epoch #66 train_loss: 0.041\n",
      "Epoch #66 validation_loss: 0.680\n",
      "Took 249.654 seconds for epoch 66\n",
      "SAVING PLOTS COMPLETE...\n",
      "\n",
      "\n",
      "Starting epoch 67\n"
     ]
    },
    {
     "data": {
      "application/vnd.jupyter.widget-view+json": {
       "model_id": "1c4e8fd3ab5b4f0e99bfbbe2c4fbc3c0",
       "version_major": 2,
       "version_minor": 0
      },
      "text/plain": [
       "  0%|          | 0/815 [00:00<?, ?it/s]"
      ]
     },
     "metadata": {},
     "output_type": "display_data"
    },
    {
     "data": {
      "application/vnd.jupyter.widget-view+json": {
       "model_id": "a62cc995812f43139ba750770fddee72",
       "version_major": 2,
       "version_minor": 0
      },
      "text/plain": [
       "  0%|          | 0/203 [00:00<?, ?it/s]"
      ]
     },
     "metadata": {},
     "output_type": "display_data"
    },
    {
     "name": "stdout",
     "output_type": "stream",
     "text": [
      "Epoch #67 train_loss: 0.041\n",
      "Epoch #67 validation_loss: 0.660\n",
      "Took 257.356 seconds for epoch 67\n",
      "SAVING PLOTS COMPLETE...\n",
      "\n",
      "\n",
      "Starting epoch 68\n"
     ]
    },
    {
     "data": {
      "application/vnd.jupyter.widget-view+json": {
       "model_id": "faff568f8ca04399b404f770101fe69c",
       "version_major": 2,
       "version_minor": 0
      },
      "text/plain": [
       "  0%|          | 0/815 [00:00<?, ?it/s]"
      ]
     },
     "metadata": {},
     "output_type": "display_data"
    },
    {
     "data": {
      "application/vnd.jupyter.widget-view+json": {
       "model_id": "89fc921d9d2f403e9a7b05fa28bc0118",
       "version_major": 2,
       "version_minor": 0
      },
      "text/plain": [
       "  0%|          | 0/203 [00:00<?, ?it/s]"
      ]
     },
     "metadata": {},
     "output_type": "display_data"
    },
    {
     "name": "stdout",
     "output_type": "stream",
     "text": [
      "Epoch #68 train_loss: 0.041\n",
      "Epoch #68 validation_loss: 0.675\n",
      "Took 253.687 seconds for epoch 68\n",
      "SAVING PLOTS COMPLETE...\n",
      "\n",
      "\n",
      "Starting epoch 69\n"
     ]
    },
    {
     "data": {
      "application/vnd.jupyter.widget-view+json": {
       "model_id": "c8f0e7c4047340c0873e729030868609",
       "version_major": 2,
       "version_minor": 0
      },
      "text/plain": [
       "  0%|          | 0/815 [00:00<?, ?it/s]"
      ]
     },
     "metadata": {},
     "output_type": "display_data"
    },
    {
     "data": {
      "application/vnd.jupyter.widget-view+json": {
       "model_id": "8a54ad2c3d05446c81f1a37ba8191f48",
       "version_major": 2,
       "version_minor": 0
      },
      "text/plain": [
       "  0%|          | 0/203 [00:00<?, ?it/s]"
      ]
     },
     "metadata": {},
     "output_type": "display_data"
    },
    {
     "name": "stdout",
     "output_type": "stream",
     "text": [
      "Epoch #69 train_loss: 0.038\n",
      "Epoch #69 validation_loss: 0.706\n",
      "Took 251.763 seconds for epoch 69\n",
      "SAVING PLOTS COMPLETE...\n",
      "\n",
      "\n",
      "Starting epoch 70\n"
     ]
    },
    {
     "data": {
      "application/vnd.jupyter.widget-view+json": {
       "model_id": "c7fb2a5348944d108042b85c0b574c62",
       "version_major": 2,
       "version_minor": 0
      },
      "text/plain": [
       "  0%|          | 0/815 [00:00<?, ?it/s]"
      ]
     },
     "metadata": {},
     "output_type": "display_data"
    },
    {
     "data": {
      "application/vnd.jupyter.widget-view+json": {
       "model_id": "f3a7a4d9bf0149cb88b9aab15f8cc507",
       "version_major": 2,
       "version_minor": 0
      },
      "text/plain": [
       "  0%|          | 0/203 [00:00<?, ?it/s]"
      ]
     },
     "metadata": {},
     "output_type": "display_data"
    },
    {
     "name": "stdout",
     "output_type": "stream",
     "text": [
      "Epoch #70 train_loss: 0.040\n",
      "Epoch #70 validation_loss: 0.695\n",
      "Took 248.503 seconds for epoch 70\n",
      "SAVING PLOTS COMPLETE...\n",
      "\n",
      "\n",
      "Starting epoch 71\n"
     ]
    },
    {
     "data": {
      "application/vnd.jupyter.widget-view+json": {
       "model_id": "ffee7a915aba45dc8c30a74d97af7075",
       "version_major": 2,
       "version_minor": 0
      },
      "text/plain": [
       "  0%|          | 0/815 [00:00<?, ?it/s]"
      ]
     },
     "metadata": {},
     "output_type": "display_data"
    },
    {
     "data": {
      "application/vnd.jupyter.widget-view+json": {
       "model_id": "465e21df571c4223b8f10412869de791",
       "version_major": 2,
       "version_minor": 0
      },
      "text/plain": [
       "  0%|          | 0/203 [00:00<?, ?it/s]"
      ]
     },
     "metadata": {},
     "output_type": "display_data"
    },
    {
     "name": "stdout",
     "output_type": "stream",
     "text": [
      "Epoch #71 train_loss: 0.039\n",
      "Epoch #71 validation_loss: 0.683\n",
      "Took 249.676 seconds for epoch 71\n",
      "SAVING PLOTS COMPLETE...\n",
      "\n",
      "\n",
      "Starting epoch 72\n"
     ]
    },
    {
     "data": {
      "application/vnd.jupyter.widget-view+json": {
       "model_id": "0d231bf7f0fa41288601b9099abc817e",
       "version_major": 2,
       "version_minor": 0
      },
      "text/plain": [
       "  0%|          | 0/815 [00:00<?, ?it/s]"
      ]
     },
     "metadata": {},
     "output_type": "display_data"
    },
    {
     "data": {
      "application/vnd.jupyter.widget-view+json": {
       "model_id": "8cf37b1983e443f58bce922bc2689ca0",
       "version_major": 2,
       "version_minor": 0
      },
      "text/plain": [
       "  0%|          | 0/203 [00:00<?, ?it/s]"
      ]
     },
     "metadata": {},
     "output_type": "display_data"
    },
    {
     "name": "stdout",
     "output_type": "stream",
     "text": [
      "Epoch #72 train_loss: 0.036\n",
      "Epoch #72 validation_loss: 0.685\n",
      "Took 248.445 seconds for epoch 72\n",
      "SAVING PLOTS COMPLETE...\n",
      "\n",
      "\n",
      "Starting epoch 73\n"
     ]
    },
    {
     "data": {
      "application/vnd.jupyter.widget-view+json": {
       "model_id": "7c10615236484dddb41ff8cbd8d1a2a7",
       "version_major": 2,
       "version_minor": 0
      },
      "text/plain": [
       "  0%|          | 0/815 [00:00<?, ?it/s]"
      ]
     },
     "metadata": {},
     "output_type": "display_data"
    },
    {
     "data": {
      "application/vnd.jupyter.widget-view+json": {
       "model_id": "1aae6ebabbb64eb896cf6cbce2040ee8",
       "version_major": 2,
       "version_minor": 0
      },
      "text/plain": [
       "  0%|          | 0/203 [00:00<?, ?it/s]"
      ]
     },
     "metadata": {},
     "output_type": "display_data"
    },
    {
     "name": "stdout",
     "output_type": "stream",
     "text": [
      "Epoch #73 train_loss: 0.039\n",
      "Epoch #73 validation_loss: 0.694\n",
      "Took 249.344 seconds for epoch 73\n",
      "SAVING PLOTS COMPLETE...\n",
      "\n",
      "\n",
      "Starting epoch 74\n"
     ]
    },
    {
     "data": {
      "application/vnd.jupyter.widget-view+json": {
       "model_id": "11f0cb9128e845ca956e66f18a075284",
       "version_major": 2,
       "version_minor": 0
      },
      "text/plain": [
       "  0%|          | 0/815 [00:00<?, ?it/s]"
      ]
     },
     "metadata": {},
     "output_type": "display_data"
    },
    {
     "data": {
      "application/vnd.jupyter.widget-view+json": {
       "model_id": "3d4462fa995844ca837da9b657331d0a",
       "version_major": 2,
       "version_minor": 0
      },
      "text/plain": [
       "  0%|          | 0/203 [00:00<?, ?it/s]"
      ]
     },
     "metadata": {},
     "output_type": "display_data"
    },
    {
     "name": "stdout",
     "output_type": "stream",
     "text": [
      "Epoch #74 train_loss: 0.037\n",
      "Epoch #74 validation_loss: 0.700\n",
      "Took 249.273 seconds for epoch 74\n",
      "SAVING PLOTS COMPLETE...\n",
      "\n",
      "\n",
      "Starting epoch 75\n"
     ]
    },
    {
     "data": {
      "application/vnd.jupyter.widget-view+json": {
       "model_id": "5e4f6f5567f74c7694146445a09c09f3",
       "version_major": 2,
       "version_minor": 0
      },
      "text/plain": [
       "  0%|          | 0/815 [00:00<?, ?it/s]"
      ]
     },
     "metadata": {},
     "output_type": "display_data"
    },
    {
     "data": {
      "application/vnd.jupyter.widget-view+json": {
       "model_id": "1eedcc0b51964391a389d7bc52dbe105",
       "version_major": 2,
       "version_minor": 0
      },
      "text/plain": [
       "  0%|          | 0/203 [00:00<?, ?it/s]"
      ]
     },
     "metadata": {},
     "output_type": "display_data"
    },
    {
     "name": "stdout",
     "output_type": "stream",
     "text": [
      "Epoch #75 train_loss: 0.035\n",
      "Epoch #75 validation_loss: 0.711\n",
      "Took 249.600 seconds for epoch 75\n",
      "SAVING PLOTS COMPLETE...\n",
      "\n",
      "\n",
      "Starting epoch 76\n"
     ]
    },
    {
     "data": {
      "application/vnd.jupyter.widget-view+json": {
       "model_id": "0f2eab5522e241ca9aebe9349f5203c2",
       "version_major": 2,
       "version_minor": 0
      },
      "text/plain": [
       "  0%|          | 0/815 [00:00<?, ?it/s]"
      ]
     },
     "metadata": {},
     "output_type": "display_data"
    },
    {
     "data": {
      "application/vnd.jupyter.widget-view+json": {
       "model_id": "86269d833d1a42668f9986069d7fa60b",
       "version_major": 2,
       "version_minor": 0
      },
      "text/plain": [
       "  0%|          | 0/203 [00:00<?, ?it/s]"
      ]
     },
     "metadata": {},
     "output_type": "display_data"
    },
    {
     "name": "stdout",
     "output_type": "stream",
     "text": [
      "Epoch #76 train_loss: 0.034\n",
      "Epoch #76 validation_loss: 0.720\n",
      "Took 249.935 seconds for epoch 76\n",
      "SAVING PLOTS COMPLETE...\n",
      "\n",
      "\n",
      "Starting epoch 77\n"
     ]
    },
    {
     "data": {
      "application/vnd.jupyter.widget-view+json": {
       "model_id": "490ed29299de45959d9ad8e093fdaec0",
       "version_major": 2,
       "version_minor": 0
      },
      "text/plain": [
       "  0%|          | 0/815 [00:00<?, ?it/s]"
      ]
     },
     "metadata": {},
     "output_type": "display_data"
    },
    {
     "data": {
      "application/vnd.jupyter.widget-view+json": {
       "model_id": "f4ae3e06f1dc43f2bfd5e004921b526e",
       "version_major": 2,
       "version_minor": 0
      },
      "text/plain": [
       "  0%|          | 0/203 [00:00<?, ?it/s]"
      ]
     },
     "metadata": {},
     "output_type": "display_data"
    },
    {
     "name": "stdout",
     "output_type": "stream",
     "text": [
      "Epoch #77 train_loss: 0.034\n",
      "Epoch #77 validation_loss: 0.731\n",
      "Took 249.295 seconds for epoch 77\n",
      "SAVING PLOTS COMPLETE...\n",
      "\n",
      "\n",
      "Starting epoch 78\n"
     ]
    },
    {
     "data": {
      "application/vnd.jupyter.widget-view+json": {
       "model_id": "dea691c267344791be0393bfad3f81e3",
       "version_major": 2,
       "version_minor": 0
      },
      "text/plain": [
       "  0%|          | 0/815 [00:00<?, ?it/s]"
      ]
     },
     "metadata": {},
     "output_type": "display_data"
    },
    {
     "data": {
      "application/vnd.jupyter.widget-view+json": {
       "model_id": "77c71f7d3e09456588323654cfee418f",
       "version_major": 2,
       "version_minor": 0
      },
      "text/plain": [
       "  0%|          | 0/203 [00:00<?, ?it/s]"
      ]
     },
     "metadata": {},
     "output_type": "display_data"
    },
    {
     "name": "stdout",
     "output_type": "stream",
     "text": [
      "Epoch #78 train_loss: 0.034\n",
      "Epoch #78 validation_loss: 0.738\n",
      "Took 248.944 seconds for epoch 78\n",
      "SAVING PLOTS COMPLETE...\n",
      "\n",
      "\n",
      "Starting epoch 79\n"
     ]
    },
    {
     "data": {
      "application/vnd.jupyter.widget-view+json": {
       "model_id": "f018047cb40c45dfba7f71912e72d63e",
       "version_major": 2,
       "version_minor": 0
      },
      "text/plain": [
       "  0%|          | 0/815 [00:00<?, ?it/s]"
      ]
     },
     "metadata": {},
     "output_type": "display_data"
    },
    {
     "data": {
      "application/vnd.jupyter.widget-view+json": {
       "model_id": "83fc3d83086e4d1d94d0af8845a699ab",
       "version_major": 2,
       "version_minor": 0
      },
      "text/plain": [
       "  0%|          | 0/203 [00:00<?, ?it/s]"
      ]
     },
     "metadata": {},
     "output_type": "display_data"
    },
    {
     "name": "stdout",
     "output_type": "stream",
     "text": [
      "Epoch #79 train_loss: 0.035\n",
      "Epoch #79 validation_loss: 0.714\n",
      "Took 251.384 seconds for epoch 79\n",
      "SAVING PLOTS COMPLETE...\n",
      "\n",
      "\n",
      "Starting epoch 80\n"
     ]
    },
    {
     "data": {
      "application/vnd.jupyter.widget-view+json": {
       "model_id": "bd227ee82599477a848188c9743504b8",
       "version_major": 2,
       "version_minor": 0
      },
      "text/plain": [
       "  0%|          | 0/815 [00:00<?, ?it/s]"
      ]
     },
     "metadata": {},
     "output_type": "display_data"
    },
    {
     "data": {
      "application/vnd.jupyter.widget-view+json": {
       "model_id": "07168c24186b439f9ef3cb53aca18a8e",
       "version_major": 2,
       "version_minor": 0
      },
      "text/plain": [
       "  0%|          | 0/203 [00:00<?, ?it/s]"
      ]
     },
     "metadata": {},
     "output_type": "display_data"
    },
    {
     "name": "stdout",
     "output_type": "stream",
     "text": [
      "Epoch #80 train_loss: 0.033\n",
      "Epoch #80 validation_loss: 0.709\n",
      "Took 249.179 seconds for epoch 80\n",
      "SAVING PLOTS COMPLETE...\n",
      "\n",
      "\n",
      "Starting epoch 81\n"
     ]
    },
    {
     "data": {
      "application/vnd.jupyter.widget-view+json": {
       "model_id": "984e0c56d78041abacc6b28634faa0f5",
       "version_major": 2,
       "version_minor": 0
      },
      "text/plain": [
       "  0%|          | 0/815 [00:00<?, ?it/s]"
      ]
     },
     "metadata": {},
     "output_type": "display_data"
    },
    {
     "data": {
      "application/vnd.jupyter.widget-view+json": {
       "model_id": "29bccda68df74b1a9b2daff929201dfe",
       "version_major": 2,
       "version_minor": 0
      },
      "text/plain": [
       "  0%|          | 0/203 [00:00<?, ?it/s]"
      ]
     },
     "metadata": {},
     "output_type": "display_data"
    },
    {
     "name": "stdout",
     "output_type": "stream",
     "text": [
      "Epoch #81 train_loss: 0.032\n",
      "Epoch #81 validation_loss: 0.711\n",
      "Took 249.109 seconds for epoch 81\n",
      "SAVING PLOTS COMPLETE...\n",
      "\n",
      "\n",
      "Starting epoch 82\n"
     ]
    },
    {
     "data": {
      "application/vnd.jupyter.widget-view+json": {
       "model_id": "1a04e4e0ad0341dba3da731c8c534016",
       "version_major": 2,
       "version_minor": 0
      },
      "text/plain": [
       "  0%|          | 0/815 [00:00<?, ?it/s]"
      ]
     },
     "metadata": {},
     "output_type": "display_data"
    },
    {
     "data": {
      "application/vnd.jupyter.widget-view+json": {
       "model_id": "7dd24d7e546b43b8a42d3b5e204b00cf",
       "version_major": 2,
       "version_minor": 0
      },
      "text/plain": [
       "  0%|          | 0/203 [00:00<?, ?it/s]"
      ]
     },
     "metadata": {},
     "output_type": "display_data"
    },
    {
     "name": "stdout",
     "output_type": "stream",
     "text": [
      "Epoch #82 train_loss: 0.033\n",
      "Epoch #82 validation_loss: 0.748\n",
      "Took 249.702 seconds for epoch 82\n",
      "SAVING PLOTS COMPLETE...\n",
      "\n",
      "\n",
      "Starting epoch 83\n"
     ]
    },
    {
     "data": {
      "application/vnd.jupyter.widget-view+json": {
       "model_id": "ec993073828d47c1875c15befbb580a2",
       "version_major": 2,
       "version_minor": 0
      },
      "text/plain": [
       "  0%|          | 0/815 [00:00<?, ?it/s]"
      ]
     },
     "metadata": {},
     "output_type": "display_data"
    },
    {
     "data": {
      "application/vnd.jupyter.widget-view+json": {
       "model_id": "0b67c609a5054a4680f11f112736d156",
       "version_major": 2,
       "version_minor": 0
      },
      "text/plain": [
       "  0%|          | 0/203 [00:00<?, ?it/s]"
      ]
     },
     "metadata": {},
     "output_type": "display_data"
    },
    {
     "name": "stdout",
     "output_type": "stream",
     "text": [
      "Epoch #83 train_loss: 0.032\n",
      "Epoch #83 validation_loss: 0.751\n",
      "Took 249.464 seconds for epoch 83\n",
      "SAVING PLOTS COMPLETE...\n",
      "\n",
      "\n",
      "Starting epoch 84\n"
     ]
    },
    {
     "data": {
      "application/vnd.jupyter.widget-view+json": {
       "model_id": "c7c1c52497f549969b0ce40b0bc72611",
       "version_major": 2,
       "version_minor": 0
      },
      "text/plain": [
       "  0%|          | 0/815 [00:00<?, ?it/s]"
      ]
     },
     "metadata": {},
     "output_type": "display_data"
    },
    {
     "data": {
      "application/vnd.jupyter.widget-view+json": {
       "model_id": "d1786b7b0ae640c49af8b5bc94a0651b",
       "version_major": 2,
       "version_minor": 0
      },
      "text/plain": [
       "  0%|          | 0/203 [00:00<?, ?it/s]"
      ]
     },
     "metadata": {},
     "output_type": "display_data"
    },
    {
     "name": "stdout",
     "output_type": "stream",
     "text": [
      "Epoch #84 train_loss: 0.032\n",
      "Epoch #84 validation_loss: 0.727\n",
      "Took 252.012 seconds for epoch 84\n",
      "SAVING PLOTS COMPLETE...\n",
      "\n",
      "\n",
      "Starting epoch 85\n"
     ]
    },
    {
     "data": {
      "application/vnd.jupyter.widget-view+json": {
       "model_id": "fb32cdb856974074b967df198887df7b",
       "version_major": 2,
       "version_minor": 0
      },
      "text/plain": [
       "  0%|          | 0/815 [00:00<?, ?it/s]"
      ]
     },
     "metadata": {},
     "output_type": "display_data"
    },
    {
     "data": {
      "application/vnd.jupyter.widget-view+json": {
       "model_id": "8baab03171e544a3b00761868c47e6e7",
       "version_major": 2,
       "version_minor": 0
      },
      "text/plain": [
       "  0%|          | 0/203 [00:00<?, ?it/s]"
      ]
     },
     "metadata": {},
     "output_type": "display_data"
    },
    {
     "name": "stdout",
     "output_type": "stream",
     "text": [
      "Epoch #85 train_loss: 0.032\n",
      "Epoch #85 validation_loss: 0.722\n",
      "Took 249.725 seconds for epoch 85\n",
      "SAVING PLOTS COMPLETE...\n",
      "\n",
      "\n",
      "Starting epoch 86\n"
     ]
    },
    {
     "data": {
      "application/vnd.jupyter.widget-view+json": {
       "model_id": "8487cd8cc9fa4e96b9e2cf6d6e08a196",
       "version_major": 2,
       "version_minor": 0
      },
      "text/plain": [
       "  0%|          | 0/815 [00:00<?, ?it/s]"
      ]
     },
     "metadata": {},
     "output_type": "display_data"
    },
    {
     "data": {
      "application/vnd.jupyter.widget-view+json": {
       "model_id": "931edd13f27c4adc8aa85afe5d9841ba",
       "version_major": 2,
       "version_minor": 0
      },
      "text/plain": [
       "  0%|          | 0/203 [00:00<?, ?it/s]"
      ]
     },
     "metadata": {},
     "output_type": "display_data"
    },
    {
     "name": "stdout",
     "output_type": "stream",
     "text": [
      "Epoch #86 train_loss: 0.031\n",
      "Epoch #86 validation_loss: 0.719\n",
      "Took 250.160 seconds for epoch 86\n",
      "SAVING PLOTS COMPLETE...\n",
      "\n",
      "\n",
      "Starting epoch 87\n"
     ]
    },
    {
     "data": {
      "application/vnd.jupyter.widget-view+json": {
       "model_id": "516625da434c4fdd8debb5c7f9a1e368",
       "version_major": 2,
       "version_minor": 0
      },
      "text/plain": [
       "  0%|          | 0/815 [00:00<?, ?it/s]"
      ]
     },
     "metadata": {},
     "output_type": "display_data"
    },
    {
     "data": {
      "application/vnd.jupyter.widget-view+json": {
       "model_id": "acf6be42d72c4709895365ec3b27d62d",
       "version_major": 2,
       "version_minor": 0
      },
      "text/plain": [
       "  0%|          | 0/203 [00:00<?, ?it/s]"
      ]
     },
     "metadata": {},
     "output_type": "display_data"
    },
    {
     "name": "stdout",
     "output_type": "stream",
     "text": [
      "Epoch #87 train_loss: 0.031\n",
      "Epoch #87 validation_loss: 0.734\n",
      "Took 249.208 seconds for epoch 87\n",
      "SAVING PLOTS COMPLETE...\n",
      "\n",
      "\n",
      "Starting epoch 88\n"
     ]
    },
    {
     "data": {
      "application/vnd.jupyter.widget-view+json": {
       "model_id": "4b9424bb06f244e48aecd0ad56413db8",
       "version_major": 2,
       "version_minor": 0
      },
      "text/plain": [
       "  0%|          | 0/815 [00:00<?, ?it/s]"
      ]
     },
     "metadata": {},
     "output_type": "display_data"
    },
    {
     "data": {
      "application/vnd.jupyter.widget-view+json": {
       "model_id": "f414d9ede4e844fd99a7a8c4837c9ffa",
       "version_major": 2,
       "version_minor": 0
      },
      "text/plain": [
       "  0%|          | 0/203 [00:00<?, ?it/s]"
      ]
     },
     "metadata": {},
     "output_type": "display_data"
    },
    {
     "name": "stdout",
     "output_type": "stream",
     "text": [
      "Epoch #88 train_loss: 0.031\n",
      "Epoch #88 validation_loss: 0.730\n",
      "Took 250.097 seconds for epoch 88\n",
      "SAVING PLOTS COMPLETE...\n",
      "\n",
      "\n",
      "Starting epoch 89\n"
     ]
    },
    {
     "data": {
      "application/vnd.jupyter.widget-view+json": {
       "model_id": "3f0fbb6054d7430986ed877b229f6006",
       "version_major": 2,
       "version_minor": 0
      },
      "text/plain": [
       "  0%|          | 0/815 [00:00<?, ?it/s]"
      ]
     },
     "metadata": {},
     "output_type": "display_data"
    },
    {
     "data": {
      "application/vnd.jupyter.widget-view+json": {
       "model_id": "956d800bbea84077839b3a899b87dd1a",
       "version_major": 2,
       "version_minor": 0
      },
      "text/plain": [
       "  0%|          | 0/203 [00:00<?, ?it/s]"
      ]
     },
     "metadata": {},
     "output_type": "display_data"
    },
    {
     "name": "stdout",
     "output_type": "stream",
     "text": [
      "Epoch #89 train_loss: 0.029\n",
      "Epoch #89 validation_loss: 0.756\n",
      "Took 249.908 seconds for epoch 89\n",
      "SAVING PLOTS COMPLETE...\n",
      "\n",
      "\n",
      "Starting epoch 90\n"
     ]
    },
    {
     "data": {
      "application/vnd.jupyter.widget-view+json": {
       "model_id": "79adee17bcc2402aa22fdd381e749422",
       "version_major": 2,
       "version_minor": 0
      },
      "text/plain": [
       "  0%|          | 0/815 [00:00<?, ?it/s]"
      ]
     },
     "metadata": {},
     "output_type": "display_data"
    },
    {
     "data": {
      "application/vnd.jupyter.widget-view+json": {
       "model_id": "fc6ddf6ab9eb45eba2ab534b4ded128e",
       "version_major": 2,
       "version_minor": 0
      },
      "text/plain": [
       "  0%|          | 0/203 [00:00<?, ?it/s]"
      ]
     },
     "metadata": {},
     "output_type": "display_data"
    },
    {
     "name": "stdout",
     "output_type": "stream",
     "text": [
      "Epoch #90 train_loss: 0.029\n",
      "Epoch #90 validation_loss: 0.750\n",
      "Took 249.257 seconds for epoch 90\n",
      "SAVING PLOTS COMPLETE...\n",
      "\n",
      "\n",
      "Starting epoch 91\n"
     ]
    },
    {
     "data": {
      "application/vnd.jupyter.widget-view+json": {
       "model_id": "b66f52badcd4493fac42ad65ddcef161",
       "version_major": 2,
       "version_minor": 0
      },
      "text/plain": [
       "  0%|          | 0/815 [00:00<?, ?it/s]"
      ]
     },
     "metadata": {},
     "output_type": "display_data"
    },
    {
     "data": {
      "application/vnd.jupyter.widget-view+json": {
       "model_id": "f66987204eda48bd8c4eaa085f2c7698",
       "version_major": 2,
       "version_minor": 0
      },
      "text/plain": [
       "  0%|          | 0/203 [00:00<?, ?it/s]"
      ]
     },
     "metadata": {},
     "output_type": "display_data"
    },
    {
     "name": "stdout",
     "output_type": "stream",
     "text": [
      "Epoch #91 train_loss: 0.030\n",
      "Epoch #91 validation_loss: 0.736\n",
      "Took 251.150 seconds for epoch 91\n",
      "SAVING PLOTS COMPLETE...\n",
      "\n",
      "\n",
      "Starting epoch 92\n"
     ]
    },
    {
     "data": {
      "application/vnd.jupyter.widget-view+json": {
       "model_id": "79a8c093bec64136a40344f86c3198ef",
       "version_major": 2,
       "version_minor": 0
      },
      "text/plain": [
       "  0%|          | 0/815 [00:00<?, ?it/s]"
      ]
     },
     "metadata": {},
     "output_type": "display_data"
    },
    {
     "data": {
      "application/vnd.jupyter.widget-view+json": {
       "model_id": "17ed35d4049b4244bd36cdf941003205",
       "version_major": 2,
       "version_minor": 0
      },
      "text/plain": [
       "  0%|          | 0/203 [00:00<?, ?it/s]"
      ]
     },
     "metadata": {},
     "output_type": "display_data"
    },
    {
     "name": "stdout",
     "output_type": "stream",
     "text": [
      "Epoch #92 train_loss: 0.028\n",
      "Epoch #92 validation_loss: 0.729\n",
      "Took 249.743 seconds for epoch 92\n",
      "SAVING PLOTS COMPLETE...\n",
      "\n",
      "\n",
      "Starting epoch 93\n"
     ]
    },
    {
     "data": {
      "application/vnd.jupyter.widget-view+json": {
       "model_id": "7fe920c4b7934b5cbe4754e44e0e7ead",
       "version_major": 2,
       "version_minor": 0
      },
      "text/plain": [
       "  0%|          | 0/815 [00:00<?, ?it/s]"
      ]
     },
     "metadata": {},
     "output_type": "display_data"
    },
    {
     "data": {
      "application/vnd.jupyter.widget-view+json": {
       "model_id": "31393a1ad32442259e6d0dda33bfd9c5",
       "version_major": 2,
       "version_minor": 0
      },
      "text/plain": [
       "  0%|          | 0/203 [00:00<?, ?it/s]"
      ]
     },
     "metadata": {},
     "output_type": "display_data"
    },
    {
     "name": "stdout",
     "output_type": "stream",
     "text": [
      "Epoch #93 train_loss: 0.027\n",
      "Epoch #93 validation_loss: 0.731\n",
      "Took 252.486 seconds for epoch 93\n",
      "SAVING PLOTS COMPLETE...\n",
      "\n",
      "\n",
      "Starting epoch 94\n"
     ]
    },
    {
     "data": {
      "application/vnd.jupyter.widget-view+json": {
       "model_id": "b02bbc715ec8406299a2b8001bd0ed63",
       "version_major": 2,
       "version_minor": 0
      },
      "text/plain": [
       "  0%|          | 0/815 [00:00<?, ?it/s]"
      ]
     },
     "metadata": {},
     "output_type": "display_data"
    },
    {
     "data": {
      "application/vnd.jupyter.widget-view+json": {
       "model_id": "f30636e508bf43f78733f0f1906944e8",
       "version_major": 2,
       "version_minor": 0
      },
      "text/plain": [
       "  0%|          | 0/203 [00:00<?, ?it/s]"
      ]
     },
     "metadata": {},
     "output_type": "display_data"
    },
    {
     "name": "stdout",
     "output_type": "stream",
     "text": [
      "Epoch #94 train_loss: 0.027\n",
      "Epoch #94 validation_loss: 0.748\n",
      "Took 250.645 seconds for epoch 94\n",
      "SAVING PLOTS COMPLETE...\n",
      "\n",
      "\n",
      "Starting epoch 95\n"
     ]
    },
    {
     "data": {
      "application/vnd.jupyter.widget-view+json": {
       "model_id": "d83d72cba0214b9a9f66498c27862b14",
       "version_major": 2,
       "version_minor": 0
      },
      "text/plain": [
       "  0%|          | 0/815 [00:00<?, ?it/s]"
      ]
     },
     "metadata": {},
     "output_type": "display_data"
    },
    {
     "data": {
      "application/vnd.jupyter.widget-view+json": {
       "model_id": "7ff22d8aa02a44a78e8436f07d1ea3e5",
       "version_major": 2,
       "version_minor": 0
      },
      "text/plain": [
       "  0%|          | 0/203 [00:00<?, ?it/s]"
      ]
     },
     "metadata": {},
     "output_type": "display_data"
    },
    {
     "name": "stdout",
     "output_type": "stream",
     "text": [
      "Epoch #95 train_loss: 0.027\n",
      "Epoch #95 validation_loss: 0.742\n",
      "Took 249.237 seconds for epoch 95\n",
      "SAVING PLOTS COMPLETE...\n",
      "\n",
      "\n",
      "Starting epoch 96\n"
     ]
    },
    {
     "data": {
      "application/vnd.jupyter.widget-view+json": {
       "model_id": "26ef4912ab224f989281b4bd1578e5e2",
       "version_major": 2,
       "version_minor": 0
      },
      "text/plain": [
       "  0%|          | 0/815 [00:00<?, ?it/s]"
      ]
     },
     "metadata": {},
     "output_type": "display_data"
    },
    {
     "data": {
      "application/vnd.jupyter.widget-view+json": {
       "model_id": "69c74ec20e6a415582ad95fad47c97cc",
       "version_major": 2,
       "version_minor": 0
      },
      "text/plain": [
       "  0%|          | 0/203 [00:00<?, ?it/s]"
      ]
     },
     "metadata": {},
     "output_type": "display_data"
    },
    {
     "name": "stdout",
     "output_type": "stream",
     "text": [
      "Epoch #96 train_loss: 0.028\n",
      "Epoch #96 validation_loss: 0.729\n",
      "Took 249.625 seconds for epoch 96\n",
      "SAVING PLOTS COMPLETE...\n",
      "\n",
      "\n",
      "Starting epoch 97\n"
     ]
    },
    {
     "data": {
      "application/vnd.jupyter.widget-view+json": {
       "model_id": "4bda43c797184c51991d96dc4ef8abf8",
       "version_major": 2,
       "version_minor": 0
      },
      "text/plain": [
       "  0%|          | 0/815 [00:00<?, ?it/s]"
      ]
     },
     "metadata": {},
     "output_type": "display_data"
    },
    {
     "data": {
      "application/vnd.jupyter.widget-view+json": {
       "model_id": "01df6c3eef324543a2a14156b3da7f09",
       "version_major": 2,
       "version_minor": 0
      },
      "text/plain": [
       "  0%|          | 0/203 [00:00<?, ?it/s]"
      ]
     },
     "metadata": {},
     "output_type": "display_data"
    },
    {
     "name": "stdout",
     "output_type": "stream",
     "text": [
      "Epoch #97 train_loss: 0.026\n",
      "Epoch #97 validation_loss: 0.748\n",
      "Took 249.829 seconds for epoch 97\n",
      "SAVING PLOTS COMPLETE...\n",
      "\n",
      "\n",
      "Starting epoch 98\n"
     ]
    },
    {
     "data": {
      "application/vnd.jupyter.widget-view+json": {
       "model_id": "f9b8025bf51b4a5090293c02be8a9cda",
       "version_major": 2,
       "version_minor": 0
      },
      "text/plain": [
       "  0%|          | 0/815 [00:00<?, ?it/s]"
      ]
     },
     "metadata": {},
     "output_type": "display_data"
    },
    {
     "data": {
      "application/vnd.jupyter.widget-view+json": {
       "model_id": "6e32805e6f664f658865c819cae69fa4",
       "version_major": 2,
       "version_minor": 0
      },
      "text/plain": [
       "  0%|          | 0/203 [00:00<?, ?it/s]"
      ]
     },
     "metadata": {},
     "output_type": "display_data"
    },
    {
     "name": "stdout",
     "output_type": "stream",
     "text": [
      "Epoch #98 train_loss: 0.027\n",
      "Epoch #98 validation_loss: 0.748\n",
      "Took 250.492 seconds for epoch 98\n",
      "SAVING PLOTS COMPLETE...\n",
      "\n",
      "\n",
      "Starting epoch 99\n"
     ]
    },
    {
     "data": {
      "application/vnd.jupyter.widget-view+json": {
       "model_id": "b6753f4983ee419fb8607ebe76fcfc3b",
       "version_major": 2,
       "version_minor": 0
      },
      "text/plain": [
       "  0%|          | 0/815 [00:00<?, ?it/s]"
      ]
     },
     "metadata": {},
     "output_type": "display_data"
    },
    {
     "data": {
      "application/vnd.jupyter.widget-view+json": {
       "model_id": "32dbe8209afe4b58a0a84d14e88e9d1f",
       "version_major": 2,
       "version_minor": 0
      },
      "text/plain": [
       "  0%|          | 0/203 [00:00<?, ?it/s]"
      ]
     },
     "metadata": {},
     "output_type": "display_data"
    },
    {
     "name": "stdout",
     "output_type": "stream",
     "text": [
      "Epoch #99 train_loss: 0.025\n",
      "Epoch #99 validation_loss: 0.758\n",
      "Took 249.610 seconds for epoch 99\n",
      "SAVING PLOTS COMPLETE...\n",
      "\n",
      "\n",
      "Starting epoch 100\n"
     ]
    },
    {
     "data": {
      "application/vnd.jupyter.widget-view+json": {
       "model_id": "98965e1c3ed149ec9e65a4a31bc6244c",
       "version_major": 2,
       "version_minor": 0
      },
      "text/plain": [
       "  0%|          | 0/815 [00:00<?, ?it/s]"
      ]
     },
     "metadata": {},
     "output_type": "display_data"
    },
    {
     "data": {
      "application/vnd.jupyter.widget-view+json": {
       "model_id": "d21f98fe50b648efb07248655e19b4b3",
       "version_major": 2,
       "version_minor": 0
      },
      "text/plain": [
       "  0%|          | 0/203 [00:00<?, ?it/s]"
      ]
     },
     "metadata": {},
     "output_type": "display_data"
    },
    {
     "name": "stdout",
     "output_type": "stream",
     "text": [
      "Epoch #100 train_loss: 0.026\n",
      "Epoch #100 validation_loss: 0.759\n",
      "Took 249.333 seconds for epoch 100\n",
      "SAVING PLOTS COMPLETE...\n",
      "\n",
      "\n",
      "Training done\n"
     ]
    }
   ],
   "source": [
    "# TRAINING PARAMS\n",
    "# initialize model and send to device\n",
    "model = build_model(num_classes=1) # 1 output for binary prediction\n",
    "model = model.to(DEVICE)\n",
    "# initialize Adam optimizer with default parameters (like the paper)\n",
    "optimizer = Adam(model.parameters(), lr=LR)\n",
    "# so it halves the learning rate every 5 epochs\n",
    "scheduler = lr_scheduler.LinearLR(optimizer, start_factor=1, end_factor=0, total_iters=EPOCHS)\n",
    "# initialize loss function (sigmoid + binary cross entropy)\n",
    "criterion = nn.BCEWithLogitsLoss()\n",
    "\n",
    "# initialize the loss Averager class\n",
    "train_loss_hist = Averager()\n",
    "val_loss_hist = Averager()\n",
    "# initialize SaveBestModel class\n",
    "save_best_model = SaveBestModel(model_name=MODEL_NAME)\n",
    "# mean losses for train and validation at every epoch\n",
    "mean_train_losses = []\n",
    "mean_validation_losses = []\n",
    "\n",
    "# epoch loop\n",
    "for epoch in range(EPOCHS):\n",
    "    print(f\"Starting epoch {epoch+1}\")\n",
    "    # reset the training and valitation loss histories for the current epoch\n",
    "    train_loss_hist.reset()\n",
    "    val_loss_hist.reset()\n",
    "\n",
    "    # start timer and carry out training and evaluation\n",
    "    start = time.time()\n",
    "    # train one epoch\n",
    "    train_one_epoch(model, loader_train, criterion, optimizer, \n",
    "                    DEVICE, train_loss_hist)\n",
    "    # update the lr scheduler\n",
    "    scheduler.step()\n",
    "    #evaluate the model\n",
    "    y_pred, y_true = validate_model(model, loader_test, criterion,\n",
    "                                    DEVICE, val_loss_hist)\n",
    "    \n",
    "    print(f\"Epoch #{epoch+1} train_loss: {train_loss_hist.value:.3f}\")\n",
    "    print(f\"Epoch #{epoch+1} validation_loss: {val_loss_hist.value:.3f}\")\n",
    "    end = time.time()\n",
    "    print(f\"Took {(end - start):.3f} seconds for epoch {epoch+1}\")\n",
    "\n",
    "    # save the mean train and validation losses of this epoch\n",
    "    mean_train_losses.append(train_loss_hist.value)\n",
    "    mean_validation_losses.append(val_loss_hist.value)\n",
    "\n",
    "    # save the best model until now if we have the minimum val loss this epoch\n",
    "    save_best_model(val_loss_hist.value, epoch, model, optimizer, \n",
    "                    out_dir=MODEL_DIR)\n",
    "    \n",
    "    #save the current epoch model\n",
    "    save_model(epoch, model, optimizer, model_name=MODEL_NAME,\n",
    "               out_dir=MODEL_DIR)\n",
    "\n",
    "    #save the loss plot\n",
    "    save_loss_plot('training_plots', mean_train_losses, mean_validation_losses, \n",
    "                   epoch+1, MODEL_NAME)\n",
    "    print('\\n')\n",
    "\n",
    "print('Training done')"
   ]
  },
  {
   "cell_type": "code",
   "execution_count": 59,
   "id": "ee766582",
   "metadata": {},
   "outputs": [
    {
     "name": "stdout",
     "output_type": "stream",
     "text": [
      "Best valid loss: 0.31321\n"
     ]
    },
    {
     "data": {
      "image/png": "[encoded data removed]",
      "text/plain": [
       "<PIL.PngImagePlugin.PngImageFile image mode=RGBA size=1500x1000>"
      ]
     },
     "execution_count": 59,
     "metadata": {},
     "output_type": "execute_result"
    }
   ],
   "source": [
    "print(f\"Best valid loss: {save_best_model.best_valid_loss:.5f}\")\n",
    "Image.open(f'{PLOT_DIR}/{MODEL_NAME}_epoch_loss.png')"
   ]
  },
  {
   "cell_type": "markdown",
   "id": "6e79bedb",
   "metadata": {},
   "source": [
    "## Check Predictions"
   ]
  },
  {
   "cell_type": "markdown",
   "id": "571cc4d3",
   "metadata": {},
   "source": [
    "### Load model"
   ]
  },
  {
   "cell_type": "code",
   "execution_count": 60,
   "id": "0ad03475",
   "metadata": {},
   "outputs": [],
   "source": [
    "def load_model(model_path, num_classes, device):\n",
    "    \"\"\"\n",
    "    Returns a efficientnet model with the weights from the saved model\n",
    "    \"\"\"\n",
    "    model = models.efficientnet_b0(pretrained=True)\n",
    "    # Change the final classification head.\n",
    "    model.classifier[1] = nn.Linear(in_features=1280, out_features=num_classes)\n",
    "    checkpoint = torch.load(model_path, map_location=device)\n",
    "    model.load_state_dict(checkpoint['model_state_dict'])\n",
    "    model.to(device).eval();\n",
    "    \n",
    "    return model"
   ]
  },
  {
   "cell_type": "code",
   "execution_count": 61,
   "id": "54236579",
   "metadata": {},
   "outputs": [],
   "source": [
    "#load the best model on the validation set\n",
    "best_model_path = os.path.join(MODEL_DIR, 'bm_efficientnet_CLS_ground_v5_epoch_9.pth')\n",
    "best_model = load_model(best_model_path, 1, DEVICE)"
   ]
  },
  {
   "cell_type": "markdown",
   "id": "bb7e07c7",
   "metadata": {},
   "source": [
    "### Check validation set"
   ]
  },
  {
   "cell_type": "code",
   "execution_count": 62,
   "id": "04914ce7",
   "metadata": {},
   "outputs": [
    {
     "data": {
      "application/vnd.jupyter.widget-view+json": {
       "model_id": "87361b4f6d21450896aa89587012052d",
       "version_major": 2,
       "version_minor": 0
      },
      "text/plain": [
       "  0%|          | 0/203 [00:00<?, ?it/s]"
      ]
     },
     "metadata": {},
     "output_type": "display_data"
    }
   ],
   "source": [
    "val_loss_hist = Averager()\n",
    "criterion = nn.BCEWithLogitsLoss()\n",
    "y_pred, y_true = validate_model(best_model, loader_test, criterion,\n",
    "                                    DEVICE, val_loss_hist)"
   ]
  },
  {
   "cell_type": "markdown",
   "id": "4b5b484f",
   "metadata": {},
   "source": [
    "### Mathews correlation coefficient"
   ]
  },
  {
   "cell_type": "code",
   "execution_count": 63,
   "id": "a7a20088",
   "metadata": {},
   "outputs": [
    {
     "name": "stdout",
     "output_type": "stream",
     "text": [
      "Best acc threshold: 0.49\n",
      "Matheys corr coef: 0.75300\n"
     ]
    }
   ],
   "source": [
    "# mathews correlation coefficient\n",
    "\n",
    "thresholds = np.arange(0.0, 0.5, 0.01)\n",
    "best_score = 0\n",
    "best_thrs = -1\n",
    "for thrs in thresholds:\n",
    "    y_pred_clean = (torch.sigmoid(y_pred) > thrs).double()\n",
    "    score = matthews_corrcoef(y_pred_clean.cpu(), y_true.cpu())\n",
    "    if score > best_score:\n",
    "        best_score = score\n",
    "        best_thrs = thrs\n",
    "\n",
    "y_pred_clean = (torch.sigmoid(y_pred) > best_thrs).double()\n",
    "print(f\"Best acc threshold: {best_thrs}\")\n",
    "print(f\"Matheys corr coef: {best_score:.5f}\")"
   ]
  },
  {
   "cell_type": "markdown",
   "id": "fee74924",
   "metadata": {},
   "source": [
    "### Confusion Matrix"
   ]
  },
  {
   "cell_type": "code",
   "execution_count": 64,
   "id": "1e074240",
   "metadata": {},
   "outputs": [],
   "source": [
    "def show_confusion_matrix(y_pred, y_true, display_labels, title='Confusion Matrix'):\n",
    "    conf_matrix = confusion_matrix(y_true, y_pred)\n",
    "    conf_display = ConfusionMatrixDisplay(confusion_matrix=conf_matrix,\n",
    "                                        display_labels=display_labels)\n",
    "\n",
    "    fig, ax = plt.subplots(figsize=(15,15))\n",
    "    plt.title(title)\n",
    "    conf_display.plot(cmap=plt.cm.Blues, ax=ax);\n",
    "    return conf_matrix"
   ]
  },
  {
   "cell_type": "code",
   "execution_count": 65,
   "id": "47cb1c91",
   "metadata": {},
   "outputs": [
    {
     "data": {
      "image/png": "[encoded data removed]",
      "text/plain": [
       "<Figure size 1500x1500 with 2 Axes>"
      ]
     },
     "metadata": {},
     "output_type": "display_data"
    }
   ],
   "source": [
    "conf_matrix = show_confusion_matrix(y_pred_clean.cpu(), y_true.cpu(), CLASSES)"
   ]
  },
  {
   "cell_type": "markdown",
   "id": "194a0191",
   "metadata": {},
   "source": [
    "## Validate on whole dataset (ground)"
   ]
  },
  {
   "cell_type": "code",
   "execution_count": 67,
   "id": "f09a9588",
   "metadata": {},
   "outputs": [
    {
     "data": {
      "text/html": [
       "<div>\n",
       "<style scoped>\n",
       "    .dataframe tbody tr th:only-of-type {\n",
       "        vertical-align: middle;\n",
       "    }\n",
       "\n",
       "    .dataframe tbody tr th {\n",
       "        vertical-align: top;\n",
       "    }\n",
       "\n",
       "    .dataframe thead th {\n",
       "        text-align: right;\n",
       "    }\n",
       "</style>\n",
       "<table border=\"1\" class=\"dataframe\">\n",
       "  <thead>\n",
       "    <tr style=\"text-align: right;\">\n",
       "      <th></th>\n",
       "      <th>contact_id</th>\n",
       "      <th>game_play</th>\n",
       "      <th>step</th>\n",
       "      <th>nfl_player_id_1</th>\n",
       "      <th>nfl_player_id_2</th>\n",
       "      <th>game_key</th>\n",
       "      <th>play_id</th>\n",
       "      <th>datetime</th>\n",
       "      <th>team_1</th>\n",
       "      <th>position_1</th>\n",
       "      <th>...</th>\n",
       "      <th>direction_2</th>\n",
       "      <th>orientation_2</th>\n",
       "      <th>acceleration_2</th>\n",
       "      <th>sa_2</th>\n",
       "      <th>p2p_distance</th>\n",
       "      <th>contact_truth</th>\n",
       "      <th>crop_generated</th>\n",
       "      <th>rewinded_frames</th>\n",
       "      <th>miss_helmet_dets</th>\n",
       "      <th>miss_player_dets</th>\n",
       "    </tr>\n",
       "  </thead>\n",
       "  <tbody>\n",
       "    <tr>\n",
       "      <th>12</th>\n",
       "      <td>58168_003392_0_38590_G</td>\n",
       "      <td>58168_003392</td>\n",
       "      <td>0</td>\n",
       "      <td>38590</td>\n",
       "      <td>-1</td>\n",
       "      <td>58168</td>\n",
       "      <td>3392</td>\n",
       "      <td>2020-09-11 03:01:48.100000+00:00</td>\n",
       "      <td>home</td>\n",
       "      <td>G</td>\n",
       "      <td>...</td>\n",
       "      <td>0.0</td>\n",
       "      <td>0.0</td>\n",
       "      <td>0.0</td>\n",
       "      <td>0.0</td>\n",
       "      <td>999.0</td>\n",
       "      <td>0</td>\n",
       "      <td>True</td>\n",
       "      <td>0.0</td>\n",
       "      <td>0.0</td>\n",
       "      <td>0.0</td>\n",
       "    </tr>\n",
       "    <tr>\n",
       "      <th>13</th>\n",
       "      <td>58168_003392_0_43854_G</td>\n",
       "      <td>58168_003392</td>\n",
       "      <td>0</td>\n",
       "      <td>43854</td>\n",
       "      <td>-1</td>\n",
       "      <td>58168</td>\n",
       "      <td>3392</td>\n",
       "      <td>2020-09-11 03:01:48.100000+00:00</td>\n",
       "      <td>away</td>\n",
       "      <td>OLB</td>\n",
       "      <td>...</td>\n",
       "      <td>0.0</td>\n",
       "      <td>0.0</td>\n",
       "      <td>0.0</td>\n",
       "      <td>0.0</td>\n",
       "      <td>999.0</td>\n",
       "      <td>0</td>\n",
       "      <td>True</td>\n",
       "      <td>0.0</td>\n",
       "      <td>0.0</td>\n",
       "      <td>0.0</td>\n",
       "    </tr>\n",
       "    <tr>\n",
       "      <th>14</th>\n",
       "      <td>58168_003392_0_41257_G</td>\n",
       "      <td>58168_003392</td>\n",
       "      <td>0</td>\n",
       "      <td>41257</td>\n",
       "      <td>-1</td>\n",
       "      <td>58168</td>\n",
       "      <td>3392</td>\n",
       "      <td>2020-09-11 03:01:48.100000+00:00</td>\n",
       "      <td>away</td>\n",
       "      <td>CB</td>\n",
       "      <td>...</td>\n",
       "      <td>0.0</td>\n",
       "      <td>0.0</td>\n",
       "      <td>0.0</td>\n",
       "      <td>0.0</td>\n",
       "      <td>999.0</td>\n",
       "      <td>0</td>\n",
       "      <td>True</td>\n",
       "      <td>0.0</td>\n",
       "      <td>0.0</td>\n",
       "      <td>0.0</td>\n",
       "    </tr>\n",
       "    <tr>\n",
       "      <th>15</th>\n",
       "      <td>58168_003392_0_41944_G</td>\n",
       "      <td>58168_003392</td>\n",
       "      <td>0</td>\n",
       "      <td>41944</td>\n",
       "      <td>-1</td>\n",
       "      <td>58168</td>\n",
       "      <td>3392</td>\n",
       "      <td>2020-09-11 03:01:48.100000+00:00</td>\n",
       "      <td>away</td>\n",
       "      <td>DT</td>\n",
       "      <td>...</td>\n",
       "      <td>0.0</td>\n",
       "      <td>0.0</td>\n",
       "      <td>0.0</td>\n",
       "      <td>0.0</td>\n",
       "      <td>999.0</td>\n",
       "      <td>0</td>\n",
       "      <td>True</td>\n",
       "      <td>0.0</td>\n",
       "      <td>0.0</td>\n",
       "      <td>0.0</td>\n",
       "    </tr>\n",
       "    <tr>\n",
       "      <th>16</th>\n",
       "      <td>58168_003392_0_42386_G</td>\n",
       "      <td>58168_003392</td>\n",
       "      <td>0</td>\n",
       "      <td>42386</td>\n",
       "      <td>-1</td>\n",
       "      <td>58168</td>\n",
       "      <td>3392</td>\n",
       "      <td>2020-09-11 03:01:48.100000+00:00</td>\n",
       "      <td>away</td>\n",
       "      <td>ILB</td>\n",
       "      <td>...</td>\n",
       "      <td>0.0</td>\n",
       "      <td>0.0</td>\n",
       "      <td>0.0</td>\n",
       "      <td>0.0</td>\n",
       "      <td>999.0</td>\n",
       "      <td>0</td>\n",
       "      <td>True</td>\n",
       "      <td>0.0</td>\n",
       "      <td>0.0</td>\n",
       "      <td>0.0</td>\n",
       "    </tr>\n",
       "    <tr>\n",
       "      <th>...</th>\n",
       "      <td>...</td>\n",
       "      <td>...</td>\n",
       "      <td>...</td>\n",
       "      <td>...</td>\n",
       "      <td>...</td>\n",
       "      <td>...</td>\n",
       "      <td>...</td>\n",
       "      <td>...</td>\n",
       "      <td>...</td>\n",
       "      <td>...</td>\n",
       "      <td>...</td>\n",
       "      <td>...</td>\n",
       "      <td>...</td>\n",
       "      <td>...</td>\n",
       "      <td>...</td>\n",
       "      <td>...</td>\n",
       "      <td>...</td>\n",
       "      <td>...</td>\n",
       "      <td>...</td>\n",
       "      <td>...</td>\n",
       "      <td>...</td>\n",
       "    </tr>\n",
       "    <tr>\n",
       "      <th>660529</th>\n",
       "      <td>58582_003121_91_52493_G</td>\n",
       "      <td>58582_003121</td>\n",
       "      <td>91</td>\n",
       "      <td>52493</td>\n",
       "      <td>-1</td>\n",
       "      <td>58582</td>\n",
       "      <td>3121</td>\n",
       "      <td>2021-10-12 02:42:29.100000+00:00</td>\n",
       "      <td>away</td>\n",
       "      <td>FS</td>\n",
       "      <td>...</td>\n",
       "      <td>0.0</td>\n",
       "      <td>0.0</td>\n",
       "      <td>0.0</td>\n",
       "      <td>0.0</td>\n",
       "      <td>999.0</td>\n",
       "      <td>0</td>\n",
       "      <td>True</td>\n",
       "      <td>10.0</td>\n",
       "      <td>0.0</td>\n",
       "      <td>0.0</td>\n",
       "    </tr>\n",
       "    <tr>\n",
       "      <th>660531</th>\n",
       "      <td>58582_003121_91_45287_G</td>\n",
       "      <td>58582_003121</td>\n",
       "      <td>91</td>\n",
       "      <td>45287</td>\n",
       "      <td>-1</td>\n",
       "      <td>58582</td>\n",
       "      <td>3121</td>\n",
       "      <td>2021-10-12 02:42:29.100000+00:00</td>\n",
       "      <td>away</td>\n",
       "      <td>CB</td>\n",
       "      <td>...</td>\n",
       "      <td>0.0</td>\n",
       "      <td>0.0</td>\n",
       "      <td>0.0</td>\n",
       "      <td>0.0</td>\n",
       "      <td>999.0</td>\n",
       "      <td>0</td>\n",
       "      <td>True</td>\n",
       "      <td>10.0</td>\n",
       "      <td>0.0</td>\n",
       "      <td>0.0</td>\n",
       "    </tr>\n",
       "    <tr>\n",
       "      <th>660532</th>\n",
       "      <td>58582_003121_91_46105_G</td>\n",
       "      <td>58582_003121</td>\n",
       "      <td>91</td>\n",
       "      <td>46105</td>\n",
       "      <td>-1</td>\n",
       "      <td>58582</td>\n",
       "      <td>3121</td>\n",
       "      <td>2021-10-12 02:42:29.100000+00:00</td>\n",
       "      <td>away</td>\n",
       "      <td>MLB</td>\n",
       "      <td>...</td>\n",
       "      <td>0.0</td>\n",
       "      <td>0.0</td>\n",
       "      <td>0.0</td>\n",
       "      <td>0.0</td>\n",
       "      <td>999.0</td>\n",
       "      <td>0</td>\n",
       "      <td>True</td>\n",
       "      <td>60.0</td>\n",
       "      <td>0.0</td>\n",
       "      <td>1.0</td>\n",
       "    </tr>\n",
       "    <tr>\n",
       "      <th>660535</th>\n",
       "      <td>58582_003121_91_52500_G</td>\n",
       "      <td>58582_003121</td>\n",
       "      <td>91</td>\n",
       "      <td>52500</td>\n",
       "      <td>-1</td>\n",
       "      <td>58582</td>\n",
       "      <td>3121</td>\n",
       "      <td>2021-10-12 02:42:29.100000+00:00</td>\n",
       "      <td>home</td>\n",
       "      <td>WR</td>\n",
       "      <td>...</td>\n",
       "      <td>0.0</td>\n",
       "      <td>0.0</td>\n",
       "      <td>0.0</td>\n",
       "      <td>0.0</td>\n",
       "      <td>999.0</td>\n",
       "      <td>0</td>\n",
       "      <td>True</td>\n",
       "      <td>10.0</td>\n",
       "      <td>0.0</td>\n",
       "      <td>0.0</td>\n",
       "    </tr>\n",
       "    <tr>\n",
       "      <th>660539</th>\n",
       "      <td>58582_003121_91_47872_G</td>\n",
       "      <td>58582_003121</td>\n",
       "      <td>91</td>\n",
       "      <td>47872</td>\n",
       "      <td>-1</td>\n",
       "      <td>58582</td>\n",
       "      <td>3121</td>\n",
       "      <td>2021-10-12 02:42:29.100000+00:00</td>\n",
       "      <td>away</td>\n",
       "      <td>MLB</td>\n",
       "      <td>...</td>\n",
       "      <td>0.0</td>\n",
       "      <td>0.0</td>\n",
       "      <td>0.0</td>\n",
       "      <td>0.0</td>\n",
       "      <td>999.0</td>\n",
       "      <td>0</td>\n",
       "      <td>True</td>\n",
       "      <td>10.0</td>\n",
       "      <td>0.0</td>\n",
       "      <td>0.0</td>\n",
       "    </tr>\n",
       "  </tbody>\n",
       "</table>\n",
       "<p>325212 rows × 36 columns</p>\n",
       "</div>"
      ],
      "text/plain": [
       "                     contact_id     game_play  step  nfl_player_id_1  \\\n",
       "12       58168_003392_0_38590_G  58168_003392     0            38590   \n",
       "13       58168_003392_0_43854_G  58168_003392     0            43854   \n",
       "14       58168_003392_0_41257_G  58168_003392     0            41257   \n",
       "15       58168_003392_0_41944_G  58168_003392     0            41944   \n",
       "16       58168_003392_0_42386_G  58168_003392     0            42386   \n",
       "...                         ...           ...   ...              ...   \n",
       "660529  58582_003121_91_52493_G  58582_003121    91            52493   \n",
       "660531  58582_003121_91_45287_G  58582_003121    91            45287   \n",
       "660532  58582_003121_91_46105_G  58582_003121    91            46105   \n",
       "660535  58582_003121_91_52500_G  58582_003121    91            52500   \n",
       "660539  58582_003121_91_47872_G  58582_003121    91            47872   \n",
       "\n",
       "        nfl_player_id_2  game_key  play_id                          datetime  \\\n",
       "12                   -1     58168     3392  2020-09-11 03:01:48.100000+00:00   \n",
       "13                   -1     58168     3392  2020-09-11 03:01:48.100000+00:00   \n",
       "14                   -1     58168     3392  2020-09-11 03:01:48.100000+00:00   \n",
       "15                   -1     58168     3392  2020-09-11 03:01:48.100000+00:00   \n",
       "16                   -1     58168     3392  2020-09-11 03:01:48.100000+00:00   \n",
       "...                 ...       ...      ...                               ...   \n",
       "660529               -1     58582     3121  2021-10-12 02:42:29.100000+00:00   \n",
       "660531               -1     58582     3121  2021-10-12 02:42:29.100000+00:00   \n",
       "660532               -1     58582     3121  2021-10-12 02:42:29.100000+00:00   \n",
       "660535               -1     58582     3121  2021-10-12 02:42:29.100000+00:00   \n",
       "660539               -1     58582     3121  2021-10-12 02:42:29.100000+00:00   \n",
       "\n",
       "       team_1 position_1  ...  direction_2  orientation_2  acceleration_2  \\\n",
       "12       home          G  ...          0.0            0.0             0.0   \n",
       "13       away        OLB  ...          0.0            0.0             0.0   \n",
       "14       away         CB  ...          0.0            0.0             0.0   \n",
       "15       away         DT  ...          0.0            0.0             0.0   \n",
       "16       away        ILB  ...          0.0            0.0             0.0   \n",
       "...       ...        ...  ...          ...            ...             ...   \n",
       "660529   away         FS  ...          0.0            0.0             0.0   \n",
       "660531   away         CB  ...          0.0            0.0             0.0   \n",
       "660532   away        MLB  ...          0.0            0.0             0.0   \n",
       "660535   home         WR  ...          0.0            0.0             0.0   \n",
       "660539   away        MLB  ...          0.0            0.0             0.0   \n",
       "\n",
       "        sa_2  p2p_distance  contact_truth  crop_generated  rewinded_frames  \\\n",
       "12       0.0         999.0              0            True              0.0   \n",
       "13       0.0         999.0              0            True              0.0   \n",
       "14       0.0         999.0              0            True              0.0   \n",
       "15       0.0         999.0              0            True              0.0   \n",
       "16       0.0         999.0              0            True              0.0   \n",
       "...      ...           ...            ...             ...              ...   \n",
       "660529   0.0         999.0              0            True             10.0   \n",
       "660531   0.0         999.0              0            True             10.0   \n",
       "660532   0.0         999.0              0            True             60.0   \n",
       "660535   0.0         999.0              0            True             10.0   \n",
       "660539   0.0         999.0              0            True             10.0   \n",
       "\n",
       "        miss_helmet_dets miss_player_dets  \n",
       "12                   0.0              0.0  \n",
       "13                   0.0              0.0  \n",
       "14                   0.0              0.0  \n",
       "15                   0.0              0.0  \n",
       "16                   0.0              0.0  \n",
       "...                  ...              ...  \n",
       "660529               0.0              0.0  \n",
       "660531               0.0              0.0  \n",
       "660532               0.0              1.0  \n",
       "660535               0.0              0.0  \n",
       "660539               0.0              0.0  \n",
       "\n",
       "[325212 rows x 36 columns]"
      ]
     },
     "execution_count": 67,
     "metadata": {},
     "output_type": "execute_result"
    }
   ],
   "source": [
    "# merge contact_df and contact_image_df\n",
    "full_train_df = train_contact_df_reduced.merge(contact_image_endzone_df, \n",
    "                                 left_on=['contact_id'], \n",
    "                                 right_on=['contact_id'], \n",
    "                                 how='left').drop_duplicates()\n",
    "# use only the rows where the crop was generated\n",
    "full_train_df = full_train_df[full_train_df['crop_generated'] == True]\n",
    "# get the ground contacts\n",
    "full_train_df = full_train_df[full_train_df['nfl_player_id_2'] == -1]\n",
    "\n",
    "\n",
    "full_train_df"
   ]
  },
  {
   "cell_type": "code",
   "execution_count": 75,
   "id": "434962cb",
   "metadata": {},
   "outputs": [],
   "source": [
    "# dataset and loader\n",
    "# train\n",
    "p_g_contact_dataset_full = PlayerContactDataset(DATA_PATH, full_train_df, 'Endzone', image_transform_test)\n",
    "\n",
    "loader_full = DataLoader(p_g_contact_dataset_full,\n",
    "                         batch_size=BATCH_SIZE,\n",
    "                         shuffle=False,\n",
    "                         num_workers=0,\n",
    "                         drop_last=True)"
   ]
  },
  {
   "cell_type": "code",
   "execution_count": 80,
   "id": "4f14dd8f",
   "metadata": {},
   "outputs": [
    {
     "name": "stderr",
     "output_type": "stream",
     "text": [
      "C:\\Users\\AT016638\\.conda\\envs\\contact\\lib\\site-packages\\torchvision\\models\\_utils.py:209: UserWarning: The parameter 'pretrained' is deprecated since 0.13 and may be removed in the future, please use 'weights' instead.\n",
      "  f\"The parameter '{pretrained_param}' is deprecated since 0.13 and may be removed in the future, \"\n",
      "C:\\Users\\AT016638\\.conda\\envs\\contact\\lib\\site-packages\\torchvision\\models\\_utils.py:223: UserWarning: Arguments other than a weight enum or `None` for 'weights' are deprecated since 0.13 and may be removed in the future. The current behavior is equivalent to passing `weights=EfficientNet_B0_Weights.IMAGENET1K_V1`. You can also use `weights=EfficientNet_B0_Weights.DEFAULT` to get the most up-to-date weights.\n",
      "  warnings.warn(msg)\n"
     ]
    }
   ],
   "source": [
    "# load model\n",
    "best_model_path = os.path.join(MODEL_DIR, 'bm_efficientnet_CLS_ground_v2_epoch_28.pth')\n",
    "best_model = load_model(best_model_path, 1, DEVICE)"
   ]
  },
  {
   "cell_type": "code",
   "execution_count": 81,
   "id": "9d1b426c",
   "metadata": {},
   "outputs": [
    {
     "data": {
      "application/vnd.jupyter.widget-view+json": {
       "model_id": "773753e7e2fc4af69d551aff00ce0118",
       "version_major": 2,
       "version_minor": 0
      },
      "text/plain": [
       "  0%|          | 0/10162 [00:00<?, ?it/s]"
      ]
     },
     "metadata": {},
     "output_type": "display_data"
    }
   ],
   "source": [
    "# inference on full dataset\n",
    "val_loss_hist = Averager()\n",
    "criterion = nn.BCEWithLogitsLoss()\n",
    "y_pred, y_true = validate_model(best_model, loader_full, criterion,\n",
    "                                    DEVICE, val_loss_hist)"
   ]
  },
  {
   "cell_type": "code",
   "execution_count": 94,
   "id": "cb1fefdc",
   "metadata": {},
   "outputs": [
    {
     "data": {
      "text/plain": [
       "tensor(302159, device='cuda:0')"
      ]
     },
     "execution_count": 94,
     "metadata": {},
     "output_type": "execute_result"
    }
   ],
   "source": [
    "((y_pred_clean == 0) & (y_pred_clean == y_true)).sum()"
   ]
  },
  {
   "cell_type": "code",
   "execution_count": 82,
   "id": "898bf3a3",
   "metadata": {},
   "outputs": [
    {
     "name": "stdout",
     "output_type": "stream",
     "text": [
      "Best acc threshold: 0.31\n",
      "Matheys corr coef: 0.64716\n"
     ]
    }
   ],
   "source": [
    "# mathews correlation coefficient\n",
    "\n",
    "thresholds = np.arange(0.0, 0.5, 0.01)\n",
    "best_score = 0\n",
    "best_thrs = -1\n",
    "for thrs in thresholds:\n",
    "    y_pred_clean = (torch.sigmoid(y_pred) > thrs).double()\n",
    "    score = matthews_corrcoef(y_pred_clean.cpu(), y_true.cpu())\n",
    "    if score > best_score:\n",
    "        best_score = score\n",
    "        best_thrs = thrs\n",
    "\n",
    "y_pred_clean = (torch.sigmoid(y_pred) > best_thrs).double()\n",
    "print(f\"Best acc threshold: {best_thrs}\")\n",
    "print(f\"Matheys corr coef: {best_score:.5f}\")"
   ]
  },
  {
   "cell_type": "code",
   "execution_count": 83,
   "id": "2c5e78ee",
   "metadata": {},
   "outputs": [
    {
     "data": {
      "image/png": "[encoded data removed]",
      "text/plain": [
       "<Figure size 1500x1500 with 2 Axes>"
      ]
     },
     "metadata": {},
     "output_type": "display_data"
    }
   ],
   "source": [
    "conf_matrix = show_confusion_matrix(y_pred_clean.cpu(), y_true.cpu(), CLASSES)"
   ]
  },
  {
   "cell_type": "code",
   "execution_count": null,
   "id": "d9d7d78f",
   "metadata": {},
   "outputs": [],
   "source": []
  }
 ],
 "metadata": {
  "kernelspec": {
   "display_name": "Python 3 (ipykernel)",
   "language": "python",
   "name": "python3"
  },
  "language_info": {
   "codemirror_mode": {
    "name": "ipython",
    "version": 3
   },
   "file_extension": ".py",
   "mimetype": "text/x-python",
   "name": "python",
   "nbconvert_exporter": "python",
   "pygments_lexer": "ipython3",
   "version": "3.7.15"
  }
 },
 "nbformat": 4,
 "nbformat_minor": 5
}
