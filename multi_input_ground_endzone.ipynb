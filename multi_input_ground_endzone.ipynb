{
 "cells": [
  {
   "cell_type": "markdown",
   "id": "e5bff0f2",
   "metadata": {},
   "source": [
    "# Player - Ground contact image classification - training"
   ]
  },
  {
   "cell_type": "code",
   "execution_count": 1,
   "id": "43acefa6",
   "metadata": {},
   "outputs": [],
   "source": [
    "import os\n",
    "import torch\n",
    "from torch import nn\n",
    "import numpy as np\n",
    "import torch.nn.functional as F\n",
    "import time\n",
    "import pandas as pd\n",
    "from sklearn.model_selection import train_test_split\n",
    "import matplotlib.pyplot as plt\n",
    "from torch.utils.data import Dataset, DataLoader\n",
    "from tqdm.auto import tqdm\n",
    "from torch.optim import Adam, lr_scheduler\n",
    "from sklearn.metrics import confusion_matrix, ConfusionMatrixDisplay\n",
    "from PIL import Image\n",
    "from torchvision import datasets, transforms\n",
    "import torchvision.models as models\n",
    "from sklearn.metrics import matthews_corrcoef"
   ]
  },
  {
   "cell_type": "markdown",
   "id": "1cb32f7d",
   "metadata": {},
   "source": [
    "## Load Data"
   ]
  },
  {
   "cell_type": "code",
   "execution_count": 2,
   "id": "8cf26552",
   "metadata": {},
   "outputs": [],
   "source": [
    "DATASET_DIR = \"dataset\"\n",
    "\n",
    "# train labels\n",
    "train_labels_df =  pd.read_csv(os.path.join(DATASET_DIR, \"train_labels.csv\"), \n",
    "                               parse_dates=[\"datetime\"])\n",
    "\n",
    "# contact reduced to p2p distance below threshold\n",
    "train_contact_df_reduced = pd.read_csv(os.path.join(DATASET_DIR, \"train_contact_df_reduced.csv\"))\n",
    "\n",
    "# contact image\n",
    "contact_image_endzone_df = pd.read_csv(os.path.join(DATASET_DIR, \"train_contact_image_endzone_df.csv\"))"
   ]
  },
  {
   "cell_type": "markdown",
   "id": "82dc7a71",
   "metadata": {},
   "source": [
    "## The PlayerContact dataset"
   ]
  },
  {
   "cell_type": "markdown",
   "id": "1accbf31",
   "metadata": {},
   "source": [
    "### Transform function\n",
    "It converts the PIL Image into a Tensor and normalizes it using the mean and std values from Imagenet"
   ]
  },
  {
   "cell_type": "code",
   "execution_count": 73,
   "id": "d9114956",
   "metadata": {},
   "outputs": [],
   "source": [
    "# transforms\n",
    "IMAGE_SIZE = 224 # Image size of resize when applying transforms.\n",
    "# data augmentation for train set\n",
    "image_transform_train = transforms.Compose([\n",
    "        transforms.Resize((IMAGE_SIZE, IMAGE_SIZE)),\n",
    "        transforms.RandomHorizontalFlip(p=0.5),\n",
    "        transforms.RandomRotation(degrees=(0, 45)),\n",
    "        transforms.ColorJitter(brightness=.5, hue=.3),\n",
    "        transforms.RandomPerspective(distortion_scale=0.6, p=0.5),\n",
    "        transforms.ToTensor(),\n",
    "        transforms.Normalize([0.485, 0.456, 0.406], [0.229, 0.224, 0.225]) # imagenet\n",
    "])\n",
    "\n",
    "image_transform_test = transforms.Compose([\n",
    "        transforms.Resize((IMAGE_SIZE, IMAGE_SIZE)),\n",
    "        transforms.ToTensor(),\n",
    "        transforms.Normalize([0.485, 0.456, 0.406], [0.229, 0.224, 0.225]) # imagenet\n",
    "])"
   ]
  },
  {
   "cell_type": "markdown",
   "id": "02002114",
   "metadata": {},
   "source": [
    "## The PlayerContact Dataset Class\n",
    "The PlayerContact dataset class takes the data from the folder and returns images"
   ]
  },
  {
   "cell_type": "code",
   "execution_count": 80,
   "id": "331367b6",
   "metadata": {},
   "outputs": [],
   "source": [
    "class PlayerContactDataset(Dataset):\n",
    "    \"\"\"\n",
    "    PlayerContact dataset that returns an image and feature vector\n",
    "    \"\"\"\n",
    "    def __init__(self, data_dir, contact_df, view, transform=None):\n",
    "        self.data_dir = data_dir\n",
    "        self.transform = transform\n",
    "        self.contact_df = contact_df.fillna(-1) # fill nan with -1 for feature vector\n",
    "        self.view = view\n",
    "        \n",
    "    def __getitem__(self, idx):\n",
    "        # get the row\n",
    "        row = self.contact_df.iloc[idx] \n",
    "        # get the image\n",
    "        img_path = os.path.join(self.data_dir, row['contact_id']+'_'+self.view+'.jpg')\n",
    "        image = Image.open(img_path).convert('RGB')\n",
    "        if (self.transform):\n",
    "            image = self.transform(image)\n",
    "        \n",
    "        # get feature vector\n",
    "        if row['nfl_player_id_2'] == -1:\n",
    "            # if ground contact, retrieve only player 1 data and no p2p distance\n",
    "            feature_cols = ['x_position_1', 'y_position_1', 'speed_1', 'distance_1', \n",
    "                            'direction_1', 'orientation_1', 'acceleration_1', 'sa_1']\n",
    "        else:\n",
    "            feature_cols = ['x_position_1', 'y_position_1', 'speed_1', 'distance_1', \n",
    "                            'direction_1', 'orientation_1', 'acceleration_1', 'sa_1',\n",
    "                            'x_position_2', 'y_position_2', 'speed_2', 'distance_2', \n",
    "                            'direction_2', 'orientation_2', 'acceleration_2', 'sa_2',\n",
    "                            'p2p_distance']\n",
    "            \n",
    "        feature = torch.tensor(row[feature_cols]).float()\n",
    "        \n",
    "        # get the class label\n",
    "        label = torch.tensor(row['contact_truth'])\n",
    "        \n",
    "        return image, feature, label\n",
    "    \n",
    "    def __len__(self):\n",
    "        return len(self.contact_df)"
   ]
  },
  {
   "cell_type": "markdown",
   "id": "421c63c4",
   "metadata": {},
   "source": [
    "### Prepare and split the data"
   ]
  },
  {
   "cell_type": "code",
   "execution_count": 81,
   "id": "56baafe6",
   "metadata": {},
   "outputs": [],
   "source": [
    "# # we want a dataset with 25% of positive contacts and 75% of negative contacts\n",
    "\n",
    "# # merge contact_df and contact_image_df\n",
    "# train_df = train_contact_df_reduced.merge(contact_image_endzone_df, \n",
    "#                                  left_on=['contact_id'], \n",
    "#                                  right_on=['contact_id'], \n",
    "#                                  how='left').drop_duplicates()\n",
    "# # use only the rows where the crop was generated\n",
    "# train_df = train_df[train_df['crop_generated'] == True]\n",
    "# # get the ground contacts\n",
    "# train_df = train_df[train_df['nfl_player_id_2'] == -1]\n",
    "\n",
    "# # get all positive contacts\n",
    "# pos_df = train_df[train_df['contact_truth'] == 1]\n",
    "# num_pos = len(pos_df)\n",
    "\n",
    "# # retrieve a number of negative contacts = to 3 times the number of positive contacts\n",
    "# neg_df = train_df[train_df['contact_truth'] == 0].sample(3*num_pos, random_state=42)\n",
    "# # concatenate negative and positive contacts\n",
    "# train_df = pd.concat([pos_df, neg_df])\n",
    "\n",
    "# # train test split\n",
    "# train_df, test_df = train_test_split(train_df, test_size=0.2, random_state=42)\n",
    "\n",
    "# train_df"
   ]
  },
  {
   "cell_type": "code",
   "execution_count": 82,
   "id": "303a5b9f",
   "metadata": {},
   "outputs": [
    {
     "data": {
      "text/html": [
       "<div>\n",
       "<style scoped>\n",
       "    .dataframe tbody tr th:only-of-type {\n",
       "        vertical-align: middle;\n",
       "    }\n",
       "\n",
       "    .dataframe tbody tr th {\n",
       "        vertical-align: top;\n",
       "    }\n",
       "\n",
       "    .dataframe thead th {\n",
       "        text-align: right;\n",
       "    }\n",
       "</style>\n",
       "<table border=\"1\" class=\"dataframe\">\n",
       "  <thead>\n",
       "    <tr style=\"text-align: right;\">\n",
       "      <th></th>\n",
       "      <th>contact_id</th>\n",
       "      <th>game_play</th>\n",
       "      <th>step</th>\n",
       "      <th>nfl_player_id_1</th>\n",
       "      <th>nfl_player_id_2</th>\n",
       "      <th>game_key</th>\n",
       "      <th>play_id</th>\n",
       "      <th>datetime</th>\n",
       "      <th>team_1</th>\n",
       "      <th>position_1</th>\n",
       "      <th>...</th>\n",
       "      <th>orientation_2</th>\n",
       "      <th>acceleration_2</th>\n",
       "      <th>sa_2</th>\n",
       "      <th>p2p_distance</th>\n",
       "      <th>contact_truth</th>\n",
       "      <th>contact</th>\n",
       "      <th>crop_generated</th>\n",
       "      <th>rewinded_frames</th>\n",
       "      <th>miss_helmet_dets</th>\n",
       "      <th>miss_player_dets</th>\n",
       "    </tr>\n",
       "  </thead>\n",
       "  <tbody>\n",
       "    <tr>\n",
       "      <th>150383</th>\n",
       "      <td>58224_000998_42_40151_G</td>\n",
       "      <td>58224_000998</td>\n",
       "      <td>42</td>\n",
       "      <td>40151</td>\n",
       "      <td>-1</td>\n",
       "      <td>58224</td>\n",
       "      <td>998</td>\n",
       "      <td>2020-10-04 17:46:54.100000+00:00</td>\n",
       "      <td>home</td>\n",
       "      <td>C</td>\n",
       "      <td>...</td>\n",
       "      <td>0.0</td>\n",
       "      <td>0.0</td>\n",
       "      <td>0.0</td>\n",
       "      <td>999.0</td>\n",
       "      <td>0</td>\n",
       "      <td>0</td>\n",
       "      <td>True</td>\n",
       "      <td>0.0</td>\n",
       "      <td>0.0</td>\n",
       "      <td>0.0</td>\n",
       "    </tr>\n",
       "    <tr>\n",
       "      <th>74850</th>\n",
       "      <td>58202_000170_20_47952_G</td>\n",
       "      <td>58202_000170</td>\n",
       "      <td>20</td>\n",
       "      <td>47952</td>\n",
       "      <td>-1</td>\n",
       "      <td>58202</td>\n",
       "      <td>170</td>\n",
       "      <td>2020-09-27 17:06:46.200000+00:00</td>\n",
       "      <td>away</td>\n",
       "      <td>T</td>\n",
       "      <td>...</td>\n",
       "      <td>0.0</td>\n",
       "      <td>0.0</td>\n",
       "      <td>0.0</td>\n",
       "      <td>999.0</td>\n",
       "      <td>0</td>\n",
       "      <td>0</td>\n",
       "      <td>True</td>\n",
       "      <td>0.0</td>\n",
       "      <td>0.0</td>\n",
       "      <td>0.0</td>\n",
       "    </tr>\n",
       "    <tr>\n",
       "      <th>199133</th>\n",
       "      <td>58257_003529_5_43459_G</td>\n",
       "      <td>58257_003529</td>\n",
       "      <td>5</td>\n",
       "      <td>43459</td>\n",
       "      <td>-1</td>\n",
       "      <td>58257</td>\n",
       "      <td>3529</td>\n",
       "      <td>2020-11-22 23:32:48.400000+00:00</td>\n",
       "      <td>home</td>\n",
       "      <td>C</td>\n",
       "      <td>...</td>\n",
       "      <td>0.0</td>\n",
       "      <td>0.0</td>\n",
       "      <td>0.0</td>\n",
       "      <td>999.0</td>\n",
       "      <td>0</td>\n",
       "      <td>0</td>\n",
       "      <td>True</td>\n",
       "      <td>0.0</td>\n",
       "      <td>0.0</td>\n",
       "      <td>0.0</td>\n",
       "    </tr>\n",
       "    <tr>\n",
       "      <th>91184</th>\n",
       "      <td>58204_000790_63_46226_G</td>\n",
       "      <td>58204_000790</td>\n",
       "      <td>63</td>\n",
       "      <td>46226</td>\n",
       "      <td>-1</td>\n",
       "      <td>58204</td>\n",
       "      <td>790</td>\n",
       "      <td>2020-09-27 17:34:05.700000+00:00</td>\n",
       "      <td>home</td>\n",
       "      <td>TE</td>\n",
       "      <td>...</td>\n",
       "      <td>0.0</td>\n",
       "      <td>0.0</td>\n",
       "      <td>0.0</td>\n",
       "      <td>999.0</td>\n",
       "      <td>0</td>\n",
       "      <td>0</td>\n",
       "      <td>True</td>\n",
       "      <td>0.0</td>\n",
       "      <td>0.0</td>\n",
       "      <td>0.0</td>\n",
       "    </tr>\n",
       "    <tr>\n",
       "      <th>627734</th>\n",
       "      <td>58567_004074_18_52607_G</td>\n",
       "      <td>58567_004074</td>\n",
       "      <td>18</td>\n",
       "      <td>52607</td>\n",
       "      <td>-1</td>\n",
       "      <td>58567</td>\n",
       "      <td>4074</td>\n",
       "      <td>2021-10-08 03:27:16.100000+00:00</td>\n",
       "      <td>away</td>\n",
       "      <td>SS</td>\n",
       "      <td>...</td>\n",
       "      <td>0.0</td>\n",
       "      <td>0.0</td>\n",
       "      <td>0.0</td>\n",
       "      <td>999.0</td>\n",
       "      <td>0</td>\n",
       "      <td>0</td>\n",
       "      <td>True</td>\n",
       "      <td>50.0</td>\n",
       "      <td>0.0</td>\n",
       "      <td>1.0</td>\n",
       "    </tr>\n",
       "    <tr>\n",
       "      <th>...</th>\n",
       "      <td>...</td>\n",
       "      <td>...</td>\n",
       "      <td>...</td>\n",
       "      <td>...</td>\n",
       "      <td>...</td>\n",
       "      <td>...</td>\n",
       "      <td>...</td>\n",
       "      <td>...</td>\n",
       "      <td>...</td>\n",
       "      <td>...</td>\n",
       "      <td>...</td>\n",
       "      <td>...</td>\n",
       "      <td>...</td>\n",
       "      <td>...</td>\n",
       "      <td>...</td>\n",
       "      <td>...</td>\n",
       "      <td>...</td>\n",
       "      <td>...</td>\n",
       "      <td>...</td>\n",
       "      <td>...</td>\n",
       "      <td>...</td>\n",
       "    </tr>\n",
       "    <tr>\n",
       "      <th>246479</th>\n",
       "      <td>58285_004176_5_43338_G</td>\n",
       "      <td>58285_004176</td>\n",
       "      <td>5</td>\n",
       "      <td>43338</td>\n",
       "      <td>-1</td>\n",
       "      <td>58285</td>\n",
       "      <td>4176</td>\n",
       "      <td>2020-11-02 00:22:24.800000+00:00</td>\n",
       "      <td>home</td>\n",
       "      <td>DT</td>\n",
       "      <td>...</td>\n",
       "      <td>0.0</td>\n",
       "      <td>0.0</td>\n",
       "      <td>0.0</td>\n",
       "      <td>999.0</td>\n",
       "      <td>0</td>\n",
       "      <td>0</td>\n",
       "      <td>True</td>\n",
       "      <td>0.0</td>\n",
       "      <td>0.0</td>\n",
       "      <td>0.0</td>\n",
       "    </tr>\n",
       "    <tr>\n",
       "      <th>525572</th>\n",
       "      <td>58528_000317_20_46084_G</td>\n",
       "      <td>58528_000317</td>\n",
       "      <td>20</td>\n",
       "      <td>46084</td>\n",
       "      <td>-1</td>\n",
       "      <td>58528</td>\n",
       "      <td>317</td>\n",
       "      <td>2021-09-19 17:15:20.100000+00:00</td>\n",
       "      <td>away</td>\n",
       "      <td>T</td>\n",
       "      <td>...</td>\n",
       "      <td>0.0</td>\n",
       "      <td>0.0</td>\n",
       "      <td>0.0</td>\n",
       "      <td>999.0</td>\n",
       "      <td>0</td>\n",
       "      <td>0</td>\n",
       "      <td>True</td>\n",
       "      <td>0.0</td>\n",
       "      <td>0.0</td>\n",
       "      <td>0.0</td>\n",
       "    </tr>\n",
       "    <tr>\n",
       "      <th>269053</th>\n",
       "      <td>58301_000786_61_48097_G</td>\n",
       "      <td>58301_000786</td>\n",
       "      <td>61</td>\n",
       "      <td>48097</td>\n",
       "      <td>-1</td>\n",
       "      <td>58301</td>\n",
       "      <td>786</td>\n",
       "      <td>2020-11-10 01:48:23.600000+00:00</td>\n",
       "      <td>away</td>\n",
       "      <td>WR</td>\n",
       "      <td>...</td>\n",
       "      <td>0.0</td>\n",
       "      <td>0.0</td>\n",
       "      <td>0.0</td>\n",
       "      <td>999.0</td>\n",
       "      <td>0</td>\n",
       "      <td>0</td>\n",
       "      <td>True</td>\n",
       "      <td>0.0</td>\n",
       "      <td>0.0</td>\n",
       "      <td>0.0</td>\n",
       "    </tr>\n",
       "    <tr>\n",
       "      <th>300956</th>\n",
       "      <td>58311_002159_112_43475_G</td>\n",
       "      <td>58311_002159</td>\n",
       "      <td>112</td>\n",
       "      <td>43475</td>\n",
       "      <td>-1</td>\n",
       "      <td>58311</td>\n",
       "      <td>2159</td>\n",
       "      <td>2020-10-18 21:50:37.200000+00:00</td>\n",
       "      <td>home</td>\n",
       "      <td>WR</td>\n",
       "      <td>...</td>\n",
       "      <td>0.0</td>\n",
       "      <td>0.0</td>\n",
       "      <td>0.0</td>\n",
       "      <td>999.0</td>\n",
       "      <td>1</td>\n",
       "      <td>1</td>\n",
       "      <td>True</td>\n",
       "      <td>0.0</td>\n",
       "      <td>0.0</td>\n",
       "      <td>0.0</td>\n",
       "    </tr>\n",
       "    <tr>\n",
       "      <th>250719</th>\n",
       "      <td>58290_000442_71_42471_G</td>\n",
       "      <td>58290_000442</td>\n",
       "      <td>71</td>\n",
       "      <td>42471</td>\n",
       "      <td>-1</td>\n",
       "      <td>58290</td>\n",
       "      <td>442</td>\n",
       "      <td>2020-11-08 18:19:00.400000+00:00</td>\n",
       "      <td>home</td>\n",
       "      <td>G</td>\n",
       "      <td>...</td>\n",
       "      <td>0.0</td>\n",
       "      <td>0.0</td>\n",
       "      <td>0.0</td>\n",
       "      <td>999.0</td>\n",
       "      <td>0</td>\n",
       "      <td>0</td>\n",
       "      <td>True</td>\n",
       "      <td>80.0</td>\n",
       "      <td>0.0</td>\n",
       "      <td>0.0</td>\n",
       "    </tr>\n",
       "  </tbody>\n",
       "</table>\n",
       "<p>260169 rows × 37 columns</p>\n",
       "</div>"
      ],
      "text/plain": [
       "                      contact_id     game_play  step  nfl_player_id_1  \\\n",
       "150383   58224_000998_42_40151_G  58224_000998    42            40151   \n",
       "74850    58202_000170_20_47952_G  58202_000170    20            47952   \n",
       "199133    58257_003529_5_43459_G  58257_003529     5            43459   \n",
       "91184    58204_000790_63_46226_G  58204_000790    63            46226   \n",
       "627734   58567_004074_18_52607_G  58567_004074    18            52607   \n",
       "...                          ...           ...   ...              ...   \n",
       "246479    58285_004176_5_43338_G  58285_004176     5            43338   \n",
       "525572   58528_000317_20_46084_G  58528_000317    20            46084   \n",
       "269053   58301_000786_61_48097_G  58301_000786    61            48097   \n",
       "300956  58311_002159_112_43475_G  58311_002159   112            43475   \n",
       "250719   58290_000442_71_42471_G  58290_000442    71            42471   \n",
       "\n",
       "        nfl_player_id_2  game_key  play_id                          datetime  \\\n",
       "150383               -1     58224      998  2020-10-04 17:46:54.100000+00:00   \n",
       "74850                -1     58202      170  2020-09-27 17:06:46.200000+00:00   \n",
       "199133               -1     58257     3529  2020-11-22 23:32:48.400000+00:00   \n",
       "91184                -1     58204      790  2020-09-27 17:34:05.700000+00:00   \n",
       "627734               -1     58567     4074  2021-10-08 03:27:16.100000+00:00   \n",
       "...                 ...       ...      ...                               ...   \n",
       "246479               -1     58285     4176  2020-11-02 00:22:24.800000+00:00   \n",
       "525572               -1     58528      317  2021-09-19 17:15:20.100000+00:00   \n",
       "269053               -1     58301      786  2020-11-10 01:48:23.600000+00:00   \n",
       "300956               -1     58311     2159  2020-10-18 21:50:37.200000+00:00   \n",
       "250719               -1     58290      442  2020-11-08 18:19:00.400000+00:00   \n",
       "\n",
       "       team_1 position_1  ...  orientation_2  acceleration_2  sa_2  \\\n",
       "150383   home          C  ...            0.0             0.0   0.0   \n",
       "74850    away          T  ...            0.0             0.0   0.0   \n",
       "199133   home          C  ...            0.0             0.0   0.0   \n",
       "91184    home         TE  ...            0.0             0.0   0.0   \n",
       "627734   away         SS  ...            0.0             0.0   0.0   \n",
       "...       ...        ...  ...            ...             ...   ...   \n",
       "246479   home         DT  ...            0.0             0.0   0.0   \n",
       "525572   away          T  ...            0.0             0.0   0.0   \n",
       "269053   away         WR  ...            0.0             0.0   0.0   \n",
       "300956   home         WR  ...            0.0             0.0   0.0   \n",
       "250719   home          G  ...            0.0             0.0   0.0   \n",
       "\n",
       "        p2p_distance  contact_truth  contact  crop_generated  rewinded_frames  \\\n",
       "150383         999.0              0        0            True              0.0   \n",
       "74850          999.0              0        0            True              0.0   \n",
       "199133         999.0              0        0            True              0.0   \n",
       "91184          999.0              0        0            True              0.0   \n",
       "627734         999.0              0        0            True             50.0   \n",
       "...              ...            ...      ...             ...              ...   \n",
       "246479         999.0              0        0            True              0.0   \n",
       "525572         999.0              0        0            True              0.0   \n",
       "269053         999.0              0        0            True              0.0   \n",
       "300956         999.0              1        1            True              0.0   \n",
       "250719         999.0              0        0            True             80.0   \n",
       "\n",
       "        miss_helmet_dets miss_player_dets  \n",
       "150383               0.0              0.0  \n",
       "74850                0.0              0.0  \n",
       "199133               0.0              0.0  \n",
       "91184                0.0              0.0  \n",
       "627734               0.0              1.0  \n",
       "...                  ...              ...  \n",
       "246479               0.0              0.0  \n",
       "525572               0.0              0.0  \n",
       "269053               0.0              0.0  \n",
       "300956               0.0              0.0  \n",
       "250719               0.0              0.0  \n",
       "\n",
       "[260169 rows x 37 columns]"
      ]
     },
     "execution_count": 82,
     "metadata": {},
     "output_type": "execute_result"
    }
   ],
   "source": [
    "# merge contact_df and contact_image_df\n",
    "train_df = train_contact_df_reduced.merge(contact_image_endzone_df, \n",
    "                                 left_on=['contact_id'], \n",
    "                                 right_on=['contact_id'], \n",
    "                                 how='left').drop_duplicates()\n",
    "# use only the rows where the crop was generated\n",
    "train_df = train_df[train_df['crop_generated'] == True]\n",
    "# get the ground contacts\n",
    "train_df = train_df[train_df['nfl_player_id_2'] == -1]\n",
    "\n",
    "# split the dataset\n",
    "train_df, test_df = train_test_split(train_df, test_size=0.2, random_state=42)\n",
    "\n",
    "train_df"
   ]
  },
  {
   "cell_type": "code",
   "execution_count": 83,
   "id": "55fd5cd0",
   "metadata": {},
   "outputs": [
    {
     "name": "stdout",
     "output_type": "stream",
     "text": [
      "There are 13060 positive contacts with the ground in the train set\n",
      "5.02% of contacts with the ground are positive on the train set\n"
     ]
    }
   ],
   "source": [
    "num_contacts = train_df['contact_truth'].sum()\n",
    "print(f\"There are {num_contacts} positive contacts with the ground in the train set\")\n",
    "print(f\"{num_contacts / len(train_df)*100:.2f}% of contacts with the ground are positive on the train set\")"
   ]
  },
  {
   "cell_type": "markdown",
   "id": "ea74b68b",
   "metadata": {},
   "source": [
    "### Create instance of the dataset specific to player-ground contact"
   ]
  },
  {
   "cell_type": "code",
   "execution_count": 84,
   "id": "f1aefb99",
   "metadata": {},
   "outputs": [],
   "source": [
    "DATA_PATH = os.path.join('dataset', 'train', 'crops')\n",
    "# train\n",
    "p_g_contact_dataset_train = PlayerContactDataset(DATA_PATH, train_df, 'Endzone', image_transform_train)\n",
    "# test\n",
    "p_g_contact_dataset_test = PlayerContactDataset(DATA_PATH, test_df, 'Endzone', image_transform_test)"
   ]
  },
  {
   "cell_type": "markdown",
   "id": "757158e1",
   "metadata": {},
   "source": [
    "### Utils to show image from dataset"
   ]
  },
  {
   "cell_type": "code",
   "execution_count": 86,
   "id": "f76418a2",
   "metadata": {},
   "outputs": [],
   "source": [
    "def inverse_normalize(tensor, mean, std):\n",
    "    for channel_tensor, c_mean, c_std in zip(tensor, mean, std):\n",
    "        channel_tensor.mul_(c_std).add_(c_mean)\n",
    "        # The normalize code -> channel_tensor.sub_(c_mean).div_(c_std)\n",
    "        \n",
    "    return tensor\n",
    "\n",
    "def tensor_to_image(tensor, is_normalized=True):\n",
    "    img = tensor\n",
    "    if is_normalized:\n",
    "        img = inverse_normalize(img, mean=(0.485, 0.456, 0.406), std=(0.229, 0.224, 0.225))\n",
    "    img = np.array(img).transpose(1, 2, 0)\n",
    "    img = Image.fromarray((img*255).astype(np.uint8))\n",
    "    \n",
    "    return img"
   ]
  },
  {
   "cell_type": "code",
   "execution_count": 87,
   "id": "89fade4d",
   "metadata": {},
   "outputs": [
    {
     "data": {
      "image/png": "[encoded data removed]",
      "text/plain": [
       "<PIL.Image.Image image mode=RGB size=224x224>"
      ]
     },
     "execution_count": 87,
     "metadata": {},
     "output_type": "execute_result"
    }
   ],
   "source": [
    "tensor_to_image(p_g_contact_dataset_train[700][0])"
   ]
  },
  {
   "cell_type": "markdown",
   "id": "b22f33a2",
   "metadata": {},
   "source": [
    "### Data Loaders"
   ]
  },
  {
   "cell_type": "code",
   "execution_count": 88,
   "id": "afb89647",
   "metadata": {},
   "outputs": [],
   "source": [
    "BATCH_SIZE = 32\n",
    "\n",
    "loader_train = DataLoader(p_g_contact_dataset_train,\n",
    "                         batch_size=BATCH_SIZE,\n",
    "                         shuffle=True, \n",
    "                         num_workers=0,\n",
    "                         drop_last=True) # drop last batch with size < 8 so that the batchnorm layers dont fail\n",
    "\n",
    "loader_test = DataLoader(p_g_contact_dataset_test,\n",
    "                         batch_size=BATCH_SIZE,\n",
    "                         shuffle=False,\n",
    "                         num_workers=0,\n",
    "                         drop_last=False)"
   ]
  },
  {
   "cell_type": "code",
   "execution_count": 90,
   "id": "0c2e9365",
   "metadata": {},
   "outputs": [
    {
     "name": "stdout",
     "output_type": "stream",
     "text": [
      "Batch size: 32\n",
      "Image shape: torch.Size([32, 3, 224, 224])\n",
      "feature shape: torch.Size([32, 8])\n",
      "labels shape: torch.Size([32])\n"
     ]
    }
   ],
   "source": [
    "# get one batch\n",
    "images, features, labels = next(iter(loader_train))\n",
    "# check the batch size\n",
    "print(f'Batch size: {len(images)}')\n",
    "print(f'Image shape: {images.shape}')\n",
    "print(f'feature shape: {features.shape}')\n",
    "print(f'labels shape: {labels.shape}')"
   ]
  },
  {
   "cell_type": "markdown",
   "id": "e68363d9",
   "metadata": {},
   "source": [
    "## Load the efficientnet model with no classification head"
   ]
  },
  {
   "cell_type": "code",
   "execution_count": 91,
   "id": "a2c20b62",
   "metadata": {},
   "outputs": [],
   "source": [
    "def get_efficientnet_model(pretrained=True, fine_tune=True):\n",
    "    \"\"\"\n",
    "    Returns en efficientnetB0 model that retturns the flattenned feature\n",
    "    \"\"\"\n",
    "    model = models.efficientnet_b0(pretrained=pretrained)\n",
    "    if fine_tune:\n",
    "        for params in model.parameters():\n",
    "            params.requires_grad = True\n",
    "    elif not fine_tune:\n",
    "        for params in model.parameters():\n",
    "            params.requires_grad = False\n",
    "            \n",
    "    # Replace the final classification head with a flatten layer\n",
    "    model.classifier = nn.Flatten()\n",
    "            \n",
    "    return model"
   ]
  },
  {
   "cell_type": "markdown",
   "id": "c9a33515",
   "metadata": {},
   "source": [
    "## The multi input model"
   ]
  },
  {
   "cell_type": "code",
   "execution_count": 92,
   "id": "3f715a89",
   "metadata": {},
   "outputs": [],
   "source": [
    "class ContactMultiInputNetwork(nn.Module):\n",
    "    def __init__(self, num_classes=1, num_features=8):\n",
    "        super(ContactMultiInputNetwork, self).__init__()\n",
    "        self.efficientnet = get_efficientnet_model()\n",
    "        \n",
    "        self.fc1 = nn.Linear(num_features, 512)\n",
    "        self.fc2 = nn.Linear(512, 256)\n",
    "        self.fc3 = nn.Linear(1536, num_classes)\n",
    "        self.dropout = nn.Dropout(p=0.2)\n",
    "        \n",
    "        self.bn1 = nn.BatchNorm1d(512)\n",
    "        self.bn2 = nn.BatchNorm1d(256)\n",
    "        \n",
    "    def forward(self, x):\n",
    "        # x[0] contains the image tensor and x[1] the feature vector tensor\n",
    "        img_feature = self.efficientnet(x[0])\n",
    "        # shape = (batch_size, 1280)\n",
    "        x = F.relu(self.bn1(self.fc1(x[1])))\n",
    "        x = F.relu(self.bn2(self.dropout(self.fc2(x))))\n",
    "        # shape = (batch_size, 256)\n",
    "        # concatenate image and vector features\n",
    "        x = torch.cat([img_feature, x], dim=1)\n",
    "        # shape = (batch_size, 1536)\n",
    "        # final classification\n",
    "        x = self.fc3(x)\n",
    "        # shape = (batch_size, 1)\n",
    "        \n",
    "        return x"
   ]
  },
  {
   "cell_type": "code",
   "execution_count": 93,
   "id": "7c2d33f8",
   "metadata": {},
   "outputs": [
    {
     "name": "stderr",
     "output_type": "stream",
     "text": [
      "C:\\Users\\AT016638\\.conda\\envs\\contact\\lib\\site-packages\\torchvision\\models\\_utils.py:209: UserWarning: The parameter 'pretrained' is deprecated since 0.13 and may be removed in the future, please use 'weights' instead.\n",
      "  f\"The parameter '{pretrained_param}' is deprecated since 0.13 and may be removed in the future, \"\n",
      "C:\\Users\\AT016638\\.conda\\envs\\contact\\lib\\site-packages\\torchvision\\models\\_utils.py:223: UserWarning: Arguments other than a weight enum or `None` for 'weights' are deprecated since 0.13 and may be removed in the future. The current behavior is equivalent to passing `weights=EfficientNet_B0_Weights.IMAGENET1K_V1`. You can also use `weights=EfficientNet_B0_Weights.DEFAULT` to get the most up-to-date weights.\n",
      "  warnings.warn(msg)\n"
     ]
    }
   ],
   "source": [
    "# 1 class for binary output\n",
    "# feature vector has size 8\n",
    "model = ContactMultiInputNetwork(num_classes=1, num_features=8) "
   ]
  },
  {
   "cell_type": "markdown",
   "id": "32c47eab",
   "metadata": {},
   "source": [
    "## Model Training"
   ]
  },
  {
   "cell_type": "markdown",
   "id": "ad6fca08",
   "metadata": {},
   "source": [
    "### Training Utils"
   ]
  },
  {
   "cell_type": "code",
   "execution_count": 94,
   "id": "9ba67f65",
   "metadata": {},
   "outputs": [],
   "source": [
    "class Averager():\n",
    "    \"\"\"\n",
    "    An Averager keeps track of the training and validation loss values\n",
    "    and helps to get the average for each epoch as well\n",
    "    \"\"\"\n",
    "    def __init__(self):\n",
    "        self.current_total = 0.0\n",
    "        self.iterations = 0.0\n",
    "\n",
    "    def send(self, value):\n",
    "        self.current_total += value\n",
    "        self.iterations += 1\n",
    "\n",
    "    @property\n",
    "    def value(self):\n",
    "        if self.iterations == 0:\n",
    "            return 0\n",
    "        else:\n",
    "            return 1.0 * self.current_total / self.iterations\n",
    "\n",
    "    def reset(self):\n",
    "        self.current_total = 0.0\n",
    "        self.iterations = 0.0"
   ]
  },
  {
   "cell_type": "code",
   "execution_count": 95,
   "id": "2c475d47",
   "metadata": {},
   "outputs": [],
   "source": [
    "def save_loss_plot(output_dir, mean_train_loss, mean_valid_loss, epoch_num, model_name):\n",
    "    \"\"\"\n",
    "    Save plots with the loss curves of the model training\n",
    "    \"\"\"\n",
    "    fig, ax = plt.subplots(figsize=(15,10))\n",
    "\n",
    "    ax.plot(np.arange(epoch_num)+1, mean_train_loss, label='Training loss')\n",
    "    ax.plot(np.arange(epoch_num)+1, mean_valid_loss, label='Validation Loss')\n",
    "    \n",
    "    ax.set_xticks(np.arange(1, epoch_num+1, step=1))\n",
    "    if (epoch_num > 20):\n",
    "        ax.set_xticks(np.arange(0, epoch_num+1, step=2))\n",
    "    if(epoch_num > 50):\n",
    "        ax.set_xticks(np.arange(0, epoch_num+1, step=5))\n",
    "    if(epoch_num > 100):\n",
    "        ax.set_xticks(np.arange(0, epoch_num+1, step=10))\n",
    "    if(epoch_num > 1000):\n",
    "        ax.set_xticks(np.arange(0, epoch_num+1, step=100))\n",
    "        \n",
    "    ax.set_ylabel('Loss')\n",
    "    ax.set_xlabel('Epochs')\n",
    "    ax.set_title('Loss Curves')\n",
    "    ax.legend()\n",
    "    fig.savefig(f\"{output_dir}/{model_name}_epoch_loss.png\")\n",
    "\n",
    "    print('SAVING PLOTS COMPLETE...')\n",
    "\n",
    "    plt.close('all')"
   ]
  },
  {
   "cell_type": "code",
   "execution_count": 96,
   "id": "36cf368d",
   "metadata": {},
   "outputs": [],
   "source": [
    "def save_model(epoch, model, optimizer, model_name='model', out_dir='.'):\n",
    "    \"\"\"\n",
    "    Function to save the trained model\n",
    "    \"\"\"\n",
    "    torch.save({\n",
    "                'epoch': epoch+1,\n",
    "                'model_state_dict': model.state_dict(),\n",
    "                'optimizer_state_dict': optimizer.state_dict(),\n",
    "                }, f'{out_dir}/{model_name}.pth')\n",
    "\n",
    "    \n",
    "class SaveBestModel:\n",
    "    \"\"\"\n",
    "    Class to save the best model while training. If the current epoch's \n",
    "    validation loss is less than the previous least less, then save the\n",
    "    model state.\n",
    "    \"\"\"\n",
    "    def __init__(\n",
    "        self, best_valid_loss=float('inf'), model_name='model'\n",
    "    ):\n",
    "        self.best_valid_loss = best_valid_loss\n",
    "        self.non_improve_iters = 0\n",
    "        self.model_name = model_name\n",
    "        \n",
    "    def __call__(\n",
    "        self, current_valid_loss, \n",
    "        epoch, model, optimizer, out_dir='.'\n",
    "    ):\n",
    "        if current_valid_loss < self.best_valid_loss:\n",
    "            self.non_improve_iters = 0\n",
    "            self.best_valid_loss = current_valid_loss\n",
    "            print(f\"\\nBest validation loss: {self.best_valid_loss}\")\n",
    "            print(f\"\\nSaving best model for epoch: {epoch+1}\\n\")\n",
    "            model_name = f'bm_{self.model_name}_epoch_{epoch+1}'\n",
    "            save_model(epoch, model, optimizer, model_name, out_dir)\n",
    "        else:\n",
    "            self.non_improve_iters += 1"
   ]
  },
  {
   "cell_type": "markdown",
   "id": "c4b00878",
   "metadata": {},
   "source": [
    "### Training 1 epoch"
   ]
  },
  {
   "cell_type": "code",
   "execution_count": 97,
   "id": "54a90435",
   "metadata": {},
   "outputs": [],
   "source": [
    "def train_one_epoch(model, data_loader, criterion, optimizer, device, train_loss_averager):\n",
    "    \"\"\"\n",
    "    Function that trains the given model for one epoch \n",
    "    with the given data loader\n",
    "    \"\"\"\n",
    "    # activate model training mode in case its in evaluation mode\n",
    "    model.train()\n",
    "    # initialize tqdm progress bar\n",
    "    prog_bar = tqdm(data_loader, total=len(data_loader))\n",
    "    for i, (img_data, feature_data, labels) in enumerate(prog_bar):\n",
    "        # send data to device\n",
    "        img_data = img_data.to(device)\n",
    "        feature_data = feature_data.to(device)\n",
    "        labels = labels.to(device).to(torch.float32)\n",
    "        # reset the gradient accummulation from the previous batch\n",
    "        optimizer.zero_grad()\n",
    "        # make a prediction with the model\n",
    "        prediction = model([img_data, feature_data]).to(torch.float32).squeeze(dim=1)\n",
    "        # compute the loss \n",
    "        loss = criterion(prediction, labels)\n",
    "        # save loss values to the averaher\n",
    "        train_loss_averager.send(loss.item())\n",
    "        # backpropagate the loss gradient\n",
    "        loss.backward()\n",
    "        # uptade parameters\n",
    "        optimizer.step()\n",
    "\n",
    "        # print the mean batch loss at each iteration\n",
    "        prog_bar.set_description(desc=f\"Training Loss: {train_loss_averager.value:.4f}\")"
   ]
  },
  {
   "cell_type": "markdown",
   "id": "66e43ad0",
   "metadata": {},
   "source": [
    "### Validate Function"
   ]
  },
  {
   "cell_type": "code",
   "execution_count": 98,
   "id": "65c9b723",
   "metadata": {},
   "outputs": [],
   "source": [
    "def validate_model(model, data_loader, criterion, device, val_loss_averager):\n",
    "    \"\"\"\n",
    "    Uses the model on all the data from the data loader and \n",
    "    returns the predictions and the true targets. It also updates\n",
    "    the loss averager\n",
    "    \"\"\"\n",
    "    # initialize tqdm progress bar\n",
    "    prog_bar = tqdm(data_loader, total=len(data_loader))\n",
    "    loss_list = np.array([])\n",
    "    total_predictions = torch.tensor([]).to(device)\n",
    "    total_target_labels = torch.tensor([]).to(device)\n",
    "    \n",
    "    for i, (img_data, feature_data, labels) in enumerate(prog_bar):\n",
    "        # send data to device\n",
    "        img_data = img_data.to(device)\n",
    "        feature_data = feature_data.to(device)\n",
    "        labels = labels.to(device).to(torch.float32)\n",
    "        # make a prediction with the model in evaluation mode\n",
    "        with torch.no_grad():\n",
    "            # activate evaluation mode for batchnorm layers\n",
    "            model.eval()\n",
    "            prediction = model([img_data, feature_data]).to(torch.float32).squeeze(dim=1)\n",
    "\n",
    "        # add batch predictions and true labels to total lists\n",
    "        total_predictions = torch.cat((total_predictions, prediction), dim=0)    \n",
    "        total_target_labels = torch.cat((total_target_labels, labels), dim=0)    \n",
    "        # compute the loss \n",
    "        loss = criterion(prediction, labels)\n",
    "        # update loss averager\n",
    "        val_loss_averager.send(loss.item())\n",
    "        \n",
    "        # print the mean batch loss at each iteration\n",
    "        prog_bar.set_description(desc=f\"Validation Loss: {val_loss_averager.value:.4f}\")\n",
    "\n",
    "    # return total predictions and total true_labels\n",
    "    return total_predictions, total_target_labels"
   ]
  },
  {
   "cell_type": "code",
   "execution_count": 99,
   "id": "860f37eb",
   "metadata": {},
   "outputs": [],
   "source": [
    "def get_pos_weight(train_df):\n",
    "    \"\"\"\n",
    "    Returns a positive class weight equal to n_negative_contact / n_positive contact\n",
    "    this way, the positive contacts will have more weight in the loss function\n",
    "    \"\"\"\n",
    "    num_pos_contacts = train_df['contact_truth'].sum()\n",
    "    num_neg_contacts = len(train_df) - num_pos_contacts\n",
    "    pos_weight = torch.tensor([num_neg_contacts / num_pos_contacts])\n",
    "    \n",
    "    return pos_weight"
   ]
  },
  {
   "cell_type": "markdown",
   "id": "eddcc8f9",
   "metadata": {},
   "source": [
    "### Constants"
   ]
  },
  {
   "cell_type": "code",
   "execution_count": 100,
   "id": "f3325d81",
   "metadata": {},
   "outputs": [
    {
     "name": "stderr",
     "output_type": "stream",
     "text": [
      "A subdirectory or file trained_models already exists.\n",
      "A subdirectory or file training_plots already exists.\n"
     ]
    }
   ],
   "source": [
    "CLASSES = ['0', '1']\n",
    "# detect the device (GPU or CPU)\n",
    "DEVICE = torch.device('cuda') if torch.cuda.is_available() else torch.device('cpu')\n",
    "# set the number of epochs\n",
    "EPOCHS = 100\n",
    "# set the learning rate\n",
    "LR = 0.0001\n",
    "# maximum iterations with no validation set improvement until early stoping\n",
    "EARLY_STOP= 5\n",
    "\n",
    "MODEL_NAME = 'multi_efficientnet_CLS_ground_v1'\n",
    "MODEL_DIR = 'trained_models'\n",
    "PLOT_DIR = 'training_plots'\n",
    "\n",
    "!mkdir {MODEL_DIR}\n",
    "!mkdir {PLOT_DIR}"
   ]
  },
  {
   "cell_type": "markdown",
   "id": "c41fb413",
   "metadata": {},
   "source": [
    "### Main training loop"
   ]
  },
  {
   "cell_type": "code",
   "execution_count": 101,
   "id": "f3a5d24f",
   "metadata": {
    "scrolled": true
   },
   "outputs": [
    {
     "name": "stdout",
     "output_type": "stream",
     "text": [
      "Starting epoch 1\n"
     ]
    },
    {
     "data": {
      "application/vnd.jupyter.widget-view+json": {
       "model_id": "a47605ce2a8944c38abb5f3f8e7135a1",
       "version_major": 2,
       "version_minor": 0
      },
      "text/plain": [
       "  0%|          | 0/8130 [00:00<?, ?it/s]"
      ]
     },
     "metadata": {},
     "output_type": "display_data"
    },
    {
     "data": {
      "application/vnd.jupyter.widget-view+json": {
       "model_id": "304e62c0b6984a6ab48c8df643849eaa",
       "version_major": 2,
       "version_minor": 0
      },
      "text/plain": [
       "  0%|          | 0/2033 [00:00<?, ?it/s]"
      ]
     },
     "metadata": {},
     "output_type": "display_data"
    },
    {
     "name": "stdout",
     "output_type": "stream",
     "text": [
      "Epoch #1 train_loss: 0.757\n",
      "Epoch #1 validation_loss: 0.559\n",
      "Took 4206.669 seconds for epoch 1\n",
      "\n",
      "Best validation loss: 0.5587886241830398\n",
      "\n",
      "Saving best model for epoch: 1\n",
      "\n",
      "SAVING PLOTS COMPLETE...\n",
      "\n",
      "\n",
      "Starting epoch 2\n"
     ]
    },
    {
     "data": {
      "application/vnd.jupyter.widget-view+json": {
       "model_id": "28ac79aa1dd84322ab96324325f57c46",
       "version_major": 2,
       "version_minor": 0
      },
      "text/plain": [
       "  0%|          | 0/8130 [00:00<?, ?it/s]"
      ]
     },
     "metadata": {},
     "output_type": "display_data"
    },
    {
     "data": {
      "application/vnd.jupyter.widget-view+json": {
       "model_id": "72dcc413b5e64dfb9c0957a5452cfb38",
       "version_major": 2,
       "version_minor": 0
      },
      "text/plain": [
       "  0%|          | 0/2033 [00:00<?, ?it/s]"
      ]
     },
     "metadata": {},
     "output_type": "display_data"
    },
    {
     "name": "stdout",
     "output_type": "stream",
     "text": [
      "Epoch #2 train_loss: 0.598\n",
      "Epoch #2 validation_loss: 0.519\n",
      "Took 4089.144 seconds for epoch 2\n",
      "\n",
      "Best validation loss: 0.5186229838718937\n",
      "\n",
      "Saving best model for epoch: 2\n",
      "\n",
      "SAVING PLOTS COMPLETE...\n",
      "\n",
      "\n",
      "Starting epoch 3\n"
     ]
    },
    {
     "data": {
      "application/vnd.jupyter.widget-view+json": {
       "model_id": "5708e40a42b242c6975b55c48cc21235",
       "version_major": 2,
       "version_minor": 0
      },
      "text/plain": [
       "  0%|          | 0/8130 [00:00<?, ?it/s]"
      ]
     },
     "metadata": {},
     "output_type": "display_data"
    },
    {
     "data": {
      "application/vnd.jupyter.widget-view+json": {
       "model_id": "5b64caae743f4fec9a54a8dc4f866384",
       "version_major": 2,
       "version_minor": 0
      },
      "text/plain": [
       "  0%|          | 0/2033 [00:00<?, ?it/s]"
      ]
     },
     "metadata": {},
     "output_type": "display_data"
    },
    {
     "name": "stdout",
     "output_type": "stream",
     "text": [
      "Epoch #3 train_loss: 0.555\n",
      "Epoch #3 validation_loss: 0.519\n",
      "Took 2859.059 seconds for epoch 3\n",
      "SAVING PLOTS COMPLETE...\n",
      "\n",
      "\n",
      "Starting epoch 4\n"
     ]
    },
    {
     "data": {
      "application/vnd.jupyter.widget-view+json": {
       "model_id": "1a5217f70c8444c5b14069e85fa53567",
       "version_major": 2,
       "version_minor": 0
      },
      "text/plain": [
       "  0%|          | 0/8130 [00:00<?, ?it/s]"
      ]
     },
     "metadata": {},
     "output_type": "display_data"
    },
    {
     "data": {
      "application/vnd.jupyter.widget-view+json": {
       "model_id": "7f4391e097c94d76907bbe6db19baefb",
       "version_major": 2,
       "version_minor": 0
      },
      "text/plain": [
       "  0%|          | 0/2033 [00:00<?, ?it/s]"
      ]
     },
     "metadata": {},
     "output_type": "display_data"
    },
    {
     "name": "stdout",
     "output_type": "stream",
     "text": [
      "Epoch #4 train_loss: 0.528\n",
      "Epoch #4 validation_loss: 0.474\n",
      "Took 2849.162 seconds for epoch 4\n",
      "\n",
      "Best validation loss: 0.4738394722041976\n",
      "\n",
      "Saving best model for epoch: 4\n",
      "\n",
      "SAVING PLOTS COMPLETE...\n",
      "\n",
      "\n",
      "Starting epoch 5\n"
     ]
    },
    {
     "data": {
      "application/vnd.jupyter.widget-view+json": {
       "model_id": "346de6a33b4f44faa7344880fe11959b",
       "version_major": 2,
       "version_minor": 0
      },
      "text/plain": [
       "  0%|          | 0/8130 [00:00<?, ?it/s]"
      ]
     },
     "metadata": {},
     "output_type": "display_data"
    },
    {
     "data": {
      "application/vnd.jupyter.widget-view+json": {
       "model_id": "3b1de3632f044c37b07808b581f67abe",
       "version_major": 2,
       "version_minor": 0
      },
      "text/plain": [
       "  0%|          | 0/2033 [00:00<?, ?it/s]"
      ]
     },
     "metadata": {},
     "output_type": "display_data"
    },
    {
     "name": "stdout",
     "output_type": "stream",
     "text": [
      "Epoch #5 train_loss: 0.499\n",
      "Epoch #5 validation_loss: 0.478\n",
      "Took 2833.443 seconds for epoch 5\n",
      "SAVING PLOTS COMPLETE...\n",
      "\n",
      "\n",
      "Starting epoch 6\n"
     ]
    },
    {
     "data": {
      "application/vnd.jupyter.widget-view+json": {
       "model_id": "20fec6d2b6964034ae36f228f071bb29",
       "version_major": 2,
       "version_minor": 0
      },
      "text/plain": [
       "  0%|          | 0/8130 [00:00<?, ?it/s]"
      ]
     },
     "metadata": {},
     "output_type": "display_data"
    },
    {
     "data": {
      "application/vnd.jupyter.widget-view+json": {
       "model_id": "6687588142f0482688b81a9d5063192c",
       "version_major": 2,
       "version_minor": 0
      },
      "text/plain": [
       "  0%|          | 0/2033 [00:00<?, ?it/s]"
      ]
     },
     "metadata": {},
     "output_type": "display_data"
    },
    {
     "name": "stdout",
     "output_type": "stream",
     "text": [
      "Epoch #6 train_loss: 0.484\n",
      "Epoch #6 validation_loss: 0.438\n",
      "Took 2786.781 seconds for epoch 6\n",
      "\n",
      "Best validation loss: 0.43771740046008667\n",
      "\n",
      "Saving best model for epoch: 6\n",
      "\n",
      "SAVING PLOTS COMPLETE...\n",
      "\n",
      "\n",
      "Starting epoch 7\n"
     ]
    },
    {
     "data": {
      "application/vnd.jupyter.widget-view+json": {
       "model_id": "7dcacb5770da4362a632066294359a2a",
       "version_major": 2,
       "version_minor": 0
      },
      "text/plain": [
       "  0%|          | 0/8130 [00:00<?, ?it/s]"
      ]
     },
     "metadata": {},
     "output_type": "display_data"
    },
    {
     "data": {
      "application/vnd.jupyter.widget-view+json": {
       "model_id": "52671faa57c84d9fae7a85dd3563cb06",
       "version_major": 2,
       "version_minor": 0
      },
      "text/plain": [
       "  0%|          | 0/2033 [00:00<?, ?it/s]"
      ]
     },
     "metadata": {},
     "output_type": "display_data"
    },
    {
     "name": "stdout",
     "output_type": "stream",
     "text": [
      "Epoch #7 train_loss: 0.461\n",
      "Epoch #7 validation_loss: 0.433\n",
      "Took 2827.160 seconds for epoch 7\n",
      "\n",
      "Best validation loss: 0.4333574230440485\n",
      "\n",
      "Saving best model for epoch: 7\n",
      "\n",
      "SAVING PLOTS COMPLETE...\n",
      "\n",
      "\n",
      "Starting epoch 8\n"
     ]
    },
    {
     "data": {
      "application/vnd.jupyter.widget-view+json": {
       "model_id": "630cf4be155544ce8646e46a665b2c9b",
       "version_major": 2,
       "version_minor": 0
      },
      "text/plain": [
       "  0%|          | 0/8130 [00:00<?, ?it/s]"
      ]
     },
     "metadata": {},
     "output_type": "display_data"
    },
    {
     "data": {
      "application/vnd.jupyter.widget-view+json": {
       "model_id": "75763fefd22541429a824211892395a2",
       "version_major": 2,
       "version_minor": 0
      },
      "text/plain": [
       "  0%|          | 0/2033 [00:00<?, ?it/s]"
      ]
     },
     "metadata": {},
     "output_type": "display_data"
    },
    {
     "name": "stdout",
     "output_type": "stream",
     "text": [
      "Epoch #8 train_loss: 0.437\n",
      "Epoch #8 validation_loss: 0.428\n",
      "Took 2832.551 seconds for epoch 8\n",
      "\n",
      "Best validation loss: 0.4283319549544348\n",
      "\n",
      "Saving best model for epoch: 8\n",
      "\n",
      "SAVING PLOTS COMPLETE...\n",
      "\n",
      "\n",
      "Starting epoch 9\n"
     ]
    },
    {
     "data": {
      "application/vnd.jupyter.widget-view+json": {
       "model_id": "bb58e36db4114b7fb32537cb46741582",
       "version_major": 2,
       "version_minor": 0
      },
      "text/plain": [
       "  0%|          | 0/8130 [00:00<?, ?it/s]"
      ]
     },
     "metadata": {},
     "output_type": "display_data"
    },
    {
     "data": {
      "application/vnd.jupyter.widget-view+json": {
       "model_id": "c69daddb5bf74eb7b52c22e9ee44c007",
       "version_major": 2,
       "version_minor": 0
      },
      "text/plain": [
       "  0%|          | 0/2033 [00:00<?, ?it/s]"
      ]
     },
     "metadata": {},
     "output_type": "display_data"
    },
    {
     "name": "stdout",
     "output_type": "stream",
     "text": [
      "Epoch #9 train_loss: 0.426\n",
      "Epoch #9 validation_loss: 0.402\n",
      "Took 2784.410 seconds for epoch 9\n",
      "\n",
      "Best validation loss: 0.4022769719212001\n",
      "\n",
      "Saving best model for epoch: 9\n",
      "\n",
      "SAVING PLOTS COMPLETE...\n",
      "\n",
      "\n",
      "Starting epoch 10\n"
     ]
    },
    {
     "data": {
      "application/vnd.jupyter.widget-view+json": {
       "model_id": "7f673f3a643c48d7afb3c4146fefae14",
       "version_major": 2,
       "version_minor": 0
      },
      "text/plain": [
       "  0%|          | 0/8130 [00:00<?, ?it/s]"
      ]
     },
     "metadata": {},
     "output_type": "display_data"
    },
    {
     "data": {
      "application/vnd.jupyter.widget-view+json": {
       "model_id": "4e6f01d9b13846168f942e5fd29d7549",
       "version_major": 2,
       "version_minor": 0
      },
      "text/plain": [
       "  0%|          | 0/2033 [00:00<?, ?it/s]"
      ]
     },
     "metadata": {},
     "output_type": "display_data"
    },
    {
     "name": "stdout",
     "output_type": "stream",
     "text": [
      "Epoch #10 train_loss: 0.410\n",
      "Epoch #10 validation_loss: 0.435\n",
      "Took 2815.794 seconds for epoch 10\n",
      "SAVING PLOTS COMPLETE...\n",
      "\n",
      "\n",
      "Starting epoch 11\n"
     ]
    },
    {
     "data": {
      "application/vnd.jupyter.widget-view+json": {
       "model_id": "f545b07f091c4fa28d44467020683ba6",
       "version_major": 2,
       "version_minor": 0
      },
      "text/plain": [
       "  0%|          | 0/8130 [00:00<?, ?it/s]"
      ]
     },
     "metadata": {},
     "output_type": "display_data"
    },
    {
     "data": {
      "application/vnd.jupyter.widget-view+json": {
       "model_id": "08a4b9aaeba94e498ed1208bfe329161",
       "version_major": 2,
       "version_minor": 0
      },
      "text/plain": [
       "  0%|          | 0/2033 [00:00<?, ?it/s]"
      ]
     },
     "metadata": {},
     "output_type": "display_data"
    },
    {
     "name": "stdout",
     "output_type": "stream",
     "text": [
      "Epoch #11 train_loss: 0.396\n",
      "Epoch #11 validation_loss: 0.392\n",
      "Took 2824.074 seconds for epoch 11\n",
      "\n",
      "Best validation loss: 0.3923560434991775\n",
      "\n",
      "Saving best model for epoch: 11\n",
      "\n",
      "SAVING PLOTS COMPLETE...\n",
      "\n",
      "\n",
      "Starting epoch 12\n"
     ]
    },
    {
     "data": {
      "application/vnd.jupyter.widget-view+json": {
       "model_id": "32d66743dc234db99e4a8ddea8c13195",
       "version_major": 2,
       "version_minor": 0
      },
      "text/plain": [
       "  0%|          | 0/8130 [00:00<?, ?it/s]"
      ]
     },
     "metadata": {},
     "output_type": "display_data"
    },
    {
     "data": {
      "application/vnd.jupyter.widget-view+json": {
       "model_id": "8bc4e3daaab440e0b52afb7ccd72b641",
       "version_major": 2,
       "version_minor": 0
      },
      "text/plain": [
       "  0%|          | 0/2033 [00:00<?, ?it/s]"
      ]
     },
     "metadata": {},
     "output_type": "display_data"
    },
    {
     "name": "stdout",
     "output_type": "stream",
     "text": [
      "Epoch #12 train_loss: 0.383\n",
      "Epoch #12 validation_loss: 0.450\n",
      "Took 2829.315 seconds for epoch 12\n",
      "SAVING PLOTS COMPLETE...\n",
      "\n",
      "\n",
      "Starting epoch 13\n"
     ]
    },
    {
     "data": {
      "application/vnd.jupyter.widget-view+json": {
       "model_id": "34236e9ee708447499b800b7c8cdb549",
       "version_major": 2,
       "version_minor": 0
      },
      "text/plain": [
       "  0%|          | 0/8130 [00:00<?, ?it/s]"
      ]
     },
     "metadata": {},
     "output_type": "display_data"
    },
    {
     "data": {
      "application/vnd.jupyter.widget-view+json": {
       "model_id": "b5ea169286b84f479451df91d7efc1be",
       "version_major": 2,
       "version_minor": 0
      },
      "text/plain": [
       "  0%|          | 0/2033 [00:00<?, ?it/s]"
      ]
     },
     "metadata": {},
     "output_type": "display_data"
    },
    {
     "name": "stdout",
     "output_type": "stream",
     "text": [
      "Epoch #13 train_loss: 0.365\n",
      "Epoch #13 validation_loss: 0.408\n",
      "Took 2803.137 seconds for epoch 13\n",
      "SAVING PLOTS COMPLETE...\n",
      "\n",
      "\n",
      "Starting epoch 14\n"
     ]
    },
    {
     "data": {
      "application/vnd.jupyter.widget-view+json": {
       "model_id": "53431221e3324a55a845aaea90f2a521",
       "version_major": 2,
       "version_minor": 0
      },
      "text/plain": [
       "  0%|          | 0/8130 [00:00<?, ?it/s]"
      ]
     },
     "metadata": {},
     "output_type": "display_data"
    },
    {
     "data": {
      "application/vnd.jupyter.widget-view+json": {
       "model_id": "37d55199eafa45b789fd1fbd4edb70d6",
       "version_major": 2,
       "version_minor": 0
      },
      "text/plain": [
       "  0%|          | 0/2033 [00:00<?, ?it/s]"
      ]
     },
     "metadata": {},
     "output_type": "display_data"
    },
    {
     "name": "stdout",
     "output_type": "stream",
     "text": [
      "Epoch #14 train_loss: 0.357\n",
      "Epoch #14 validation_loss: 0.372\n",
      "Took 2821.861 seconds for epoch 14\n",
      "\n",
      "Best validation loss: 0.3722718887615617\n",
      "\n",
      "Saving best model for epoch: 14\n",
      "\n",
      "SAVING PLOTS COMPLETE...\n",
      "\n",
      "\n",
      "Starting epoch 15\n"
     ]
    },
    {
     "data": {
      "application/vnd.jupyter.widget-view+json": {
       "model_id": "73a12482cb8e46a9b261ed29870371fa",
       "version_major": 2,
       "version_minor": 0
      },
      "text/plain": [
       "  0%|          | 0/8130 [00:00<?, ?it/s]"
      ]
     },
     "metadata": {},
     "output_type": "display_data"
    },
    {
     "data": {
      "application/vnd.jupyter.widget-view+json": {
       "model_id": "b0763b7ab2064d9eb6a4888240f5738f",
       "version_major": 2,
       "version_minor": 0
      },
      "text/plain": [
       "  0%|          | 0/2033 [00:00<?, ?it/s]"
      ]
     },
     "metadata": {},
     "output_type": "display_data"
    },
    {
     "name": "stdout",
     "output_type": "stream",
     "text": [
      "Epoch #15 train_loss: 0.349\n",
      "Epoch #15 validation_loss: 0.420\n",
      "Took 2817.624 seconds for epoch 15\n",
      "SAVING PLOTS COMPLETE...\n",
      "\n",
      "\n",
      "Starting epoch 16\n"
     ]
    },
    {
     "data": {
      "application/vnd.jupyter.widget-view+json": {
       "model_id": "86564a2e5ec54b6d8d9bf71e6ad8c3b8",
       "version_major": 2,
       "version_minor": 0
      },
      "text/plain": [
       "  0%|          | 0/8130 [00:00<?, ?it/s]"
      ]
     },
     "metadata": {},
     "output_type": "display_data"
    },
    {
     "data": {
      "application/vnd.jupyter.widget-view+json": {
       "model_id": "22250477e68c4c928bf3be61a4a696bd",
       "version_major": 2,
       "version_minor": 0
      },
      "text/plain": [
       "  0%|          | 0/2033 [00:00<?, ?it/s]"
      ]
     },
     "metadata": {},
     "output_type": "display_data"
    },
    {
     "name": "stdout",
     "output_type": "stream",
     "text": [
      "Epoch #16 train_loss: 0.336\n",
      "Epoch #16 validation_loss: 0.418\n",
      "Took 2813.690 seconds for epoch 16\n",
      "SAVING PLOTS COMPLETE...\n",
      "\n",
      "\n",
      "Starting epoch 17\n"
     ]
    },
    {
     "data": {
      "application/vnd.jupyter.widget-view+json": {
       "model_id": "bef8865d42eb4a07871371b73f195668",
       "version_major": 2,
       "version_minor": 0
      },
      "text/plain": [
       "  0%|          | 0/8130 [00:00<?, ?it/s]"
      ]
     },
     "metadata": {},
     "output_type": "display_data"
    },
    {
     "data": {
      "application/vnd.jupyter.widget-view+json": {
       "model_id": "feb997533b2c402583b25d37642cb22c",
       "version_major": 2,
       "version_minor": 0
      },
      "text/plain": [
       "  0%|          | 0/2033 [00:00<?, ?it/s]"
      ]
     },
     "metadata": {},
     "output_type": "display_data"
    },
    {
     "name": "stdout",
     "output_type": "stream",
     "text": [
      "Epoch #17 train_loss: 0.325\n",
      "Epoch #17 validation_loss: 0.419\n",
      "Took 2790.953 seconds for epoch 17\n",
      "SAVING PLOTS COMPLETE...\n",
      "\n",
      "\n",
      "Starting epoch 18\n"
     ]
    },
    {
     "data": {
      "application/vnd.jupyter.widget-view+json": {
       "model_id": "c2419668b6a34642aa74786882d4b2a7",
       "version_major": 2,
       "version_minor": 0
      },
      "text/plain": [
       "  0%|          | 0/8130 [00:00<?, ?it/s]"
      ]
     },
     "metadata": {},
     "output_type": "display_data"
    },
    {
     "data": {
      "application/vnd.jupyter.widget-view+json": {
       "model_id": "ae3d9e30575040bcaf6f3d290abbd0d9",
       "version_major": 2,
       "version_minor": 0
      },
      "text/plain": [
       "  0%|          | 0/2033 [00:00<?, ?it/s]"
      ]
     },
     "metadata": {},
     "output_type": "display_data"
    },
    {
     "name": "stdout",
     "output_type": "stream",
     "text": [
      "Epoch #18 train_loss: 0.318\n",
      "Epoch #18 validation_loss: 0.447\n",
      "Took 2795.736 seconds for epoch 18\n",
      "SAVING PLOTS COMPLETE...\n",
      "\n",
      "\n",
      "Starting epoch 19\n"
     ]
    },
    {
     "data": {
      "application/vnd.jupyter.widget-view+json": {
       "model_id": "eabe2b1d5c744f98a9dab83d13f8c48c",
       "version_major": 2,
       "version_minor": 0
      },
      "text/plain": [
       "  0%|          | 0/8130 [00:00<?, ?it/s]"
      ]
     },
     "metadata": {},
     "output_type": "display_data"
    },
    {
     "data": {
      "application/vnd.jupyter.widget-view+json": {
       "model_id": "160a94d557274904a52177d667441b1a",
       "version_major": 2,
       "version_minor": 0
      },
      "text/plain": [
       "  0%|          | 0/2033 [00:00<?, ?it/s]"
      ]
     },
     "metadata": {},
     "output_type": "display_data"
    },
    {
     "name": "stdout",
     "output_type": "stream",
     "text": [
      "Epoch #19 train_loss: 0.307\n",
      "Epoch #19 validation_loss: 0.434\n",
      "Took 2809.283 seconds for epoch 19\n",
      "SAVING PLOTS COMPLETE...\n",
      "\n",
      "\n",
      "Starting epoch 20\n"
     ]
    },
    {
     "data": {
      "application/vnd.jupyter.widget-view+json": {
       "model_id": "4086a4fc942d426eab2d783efe4dd8b8",
       "version_major": 2,
       "version_minor": 0
      },
      "text/plain": [
       "  0%|          | 0/8130 [00:00<?, ?it/s]"
      ]
     },
     "metadata": {},
     "output_type": "display_data"
    },
    {
     "data": {
      "application/vnd.jupyter.widget-view+json": {
       "model_id": "95e7f23dd6b54fc889be8fc147d151ba",
       "version_major": 2,
       "version_minor": 0
      },
      "text/plain": [
       "  0%|          | 0/2033 [00:00<?, ?it/s]"
      ]
     },
     "metadata": {},
     "output_type": "display_data"
    },
    {
     "name": "stdout",
     "output_type": "stream",
     "text": [
      "Epoch #20 train_loss: 0.302\n",
      "Epoch #20 validation_loss: 0.439\n",
      "Took 2805.833 seconds for epoch 20\n",
      "SAVING PLOTS COMPLETE...\n",
      "\n",
      "\n",
      "Starting epoch 21\n"
     ]
    },
    {
     "data": {
      "application/vnd.jupyter.widget-view+json": {
       "model_id": "cbf3d26f0a4048eabd0febbacf1297e9",
       "version_major": 2,
       "version_minor": 0
      },
      "text/plain": [
       "  0%|          | 0/8130 [00:00<?, ?it/s]"
      ]
     },
     "metadata": {},
     "output_type": "display_data"
    },
    {
     "data": {
      "application/vnd.jupyter.widget-view+json": {
       "model_id": "14dad2531d954d00ab8e233c0058eb9b",
       "version_major": 2,
       "version_minor": 0
      },
      "text/plain": [
       "  0%|          | 0/2033 [00:00<?, ?it/s]"
      ]
     },
     "metadata": {},
     "output_type": "display_data"
    },
    {
     "name": "stdout",
     "output_type": "stream",
     "text": [
      "Epoch #21 train_loss: 0.296\n",
      "Epoch #21 validation_loss: 0.439\n",
      "Took 2790.907 seconds for epoch 21\n",
      "SAVING PLOTS COMPLETE...\n",
      "\n",
      "\n",
      "Starting epoch 22\n"
     ]
    },
    {
     "data": {
      "application/vnd.jupyter.widget-view+json": {
       "model_id": "1ab2ee8edfae480e9b486ced2222f8e5",
       "version_major": 2,
       "version_minor": 0
      },
      "text/plain": [
       "  0%|          | 0/8130 [00:00<?, ?it/s]"
      ]
     },
     "metadata": {},
     "output_type": "display_data"
    },
    {
     "data": {
      "application/vnd.jupyter.widget-view+json": {
       "model_id": "1b9fa697872447eda7d53b459f6d6a57",
       "version_major": 2,
       "version_minor": 0
      },
      "text/plain": [
       "  0%|          | 0/2033 [00:00<?, ?it/s]"
      ]
     },
     "metadata": {},
     "output_type": "display_data"
    },
    {
     "name": "stdout",
     "output_type": "stream",
     "text": [
      "Epoch #22 train_loss: 0.284\n",
      "Epoch #22 validation_loss: 0.474\n",
      "Took 2800.245 seconds for epoch 22\n",
      "SAVING PLOTS COMPLETE...\n",
      "\n",
      "\n",
      "Starting epoch 23\n"
     ]
    },
    {
     "data": {
      "application/vnd.jupyter.widget-view+json": {
       "model_id": "0e3097322fcf4d3da15e846d410940ca",
       "version_major": 2,
       "version_minor": 0
      },
      "text/plain": [
       "  0%|          | 0/8130 [00:00<?, ?it/s]"
      ]
     },
     "metadata": {},
     "output_type": "display_data"
    },
    {
     "data": {
      "application/vnd.jupyter.widget-view+json": {
       "model_id": "87ae2ab0fd31483fb27016a73fac4353",
       "version_major": 2,
       "version_minor": 0
      },
      "text/plain": [
       "  0%|          | 0/2033 [00:00<?, ?it/s]"
      ]
     },
     "metadata": {},
     "output_type": "display_data"
    },
    {
     "name": "stdout",
     "output_type": "stream",
     "text": [
      "Epoch #23 train_loss: 0.280\n",
      "Epoch #23 validation_loss: 0.390\n",
      "Took 2795.503 seconds for epoch 23\n",
      "SAVING PLOTS COMPLETE...\n",
      "\n",
      "\n",
      "Starting epoch 24\n"
     ]
    },
    {
     "data": {
      "application/vnd.jupyter.widget-view+json": {
       "model_id": "c2d5164fb3664afb89ca85530ce998f5",
       "version_major": 2,
       "version_minor": 0
      },
      "text/plain": [
       "  0%|          | 0/8130 [00:00<?, ?it/s]"
      ]
     },
     "metadata": {},
     "output_type": "display_data"
    },
    {
     "data": {
      "application/vnd.jupyter.widget-view+json": {
       "model_id": "ec029dcf50284ae2b9ff9e87332deb32",
       "version_major": 2,
       "version_minor": 0
      },
      "text/plain": [
       "  0%|          | 0/2033 [00:00<?, ?it/s]"
      ]
     },
     "metadata": {},
     "output_type": "display_data"
    },
    {
     "name": "stdout",
     "output_type": "stream",
     "text": [
      "Epoch #24 train_loss: 0.271\n",
      "Epoch #24 validation_loss: 0.475\n",
      "Took 2791.995 seconds for epoch 24\n",
      "SAVING PLOTS COMPLETE...\n",
      "\n",
      "\n",
      "Starting epoch 25\n"
     ]
    },
    {
     "data": {
      "application/vnd.jupyter.widget-view+json": {
       "model_id": "b8e89e64efde4b2a8f7a93702fcab193",
       "version_major": 2,
       "version_minor": 0
      },
      "text/plain": [
       "  0%|          | 0/8130 [00:00<?, ?it/s]"
      ]
     },
     "metadata": {},
     "output_type": "display_data"
    },
    {
     "ename": "KeyboardInterrupt",
     "evalue": "",
     "output_type": "error",
     "traceback": [
      "\u001b[1;31m---------------------------------------------------------------------------\u001b[0m",
      "\u001b[1;31mKeyboardInterrupt\u001b[0m                         Traceback (most recent call last)",
      "\u001b[1;32m~\\AppData\\Local\\Temp\\ipykernel_3136\\3248203117.py\u001b[0m in \u001b[0;36m<module>\u001b[1;34m\u001b[0m\n\u001b[0;32m     33\u001b[0m     \u001b[1;31m# train one epoch\u001b[0m\u001b[1;33m\u001b[0m\u001b[1;33m\u001b[0m\u001b[1;33m\u001b[0m\u001b[0m\n\u001b[0;32m     34\u001b[0m     train_one_epoch(model, loader_train, criterion, optimizer, \n\u001b[1;32m---> 35\u001b[1;33m                     DEVICE, train_loss_hist)\n\u001b[0m\u001b[0;32m     36\u001b[0m     \u001b[1;31m# update the lr scheduler\u001b[0m\u001b[1;33m\u001b[0m\u001b[1;33m\u001b[0m\u001b[1;33m\u001b[0m\u001b[0m\n\u001b[0;32m     37\u001b[0m     \u001b[0mscheduler\u001b[0m\u001b[1;33m.\u001b[0m\u001b[0mstep\u001b[0m\u001b[1;33m(\u001b[0m\u001b[1;33m)\u001b[0m\u001b[1;33m\u001b[0m\u001b[1;33m\u001b[0m\u001b[0m\n",
      "\u001b[1;32m~\\AppData\\Local\\Temp\\ipykernel_3136\\1102689709.py\u001b[0m in \u001b[0;36mtrain_one_epoch\u001b[1;34m(model, data_loader, criterion, optimizer, device, train_loss_averager)\u001b[0m\n\u001b[0;32m      8\u001b[0m     \u001b[1;31m# initialize tqdm progress bar\u001b[0m\u001b[1;33m\u001b[0m\u001b[1;33m\u001b[0m\u001b[1;33m\u001b[0m\u001b[0m\n\u001b[0;32m      9\u001b[0m     \u001b[0mprog_bar\u001b[0m \u001b[1;33m=\u001b[0m \u001b[0mtqdm\u001b[0m\u001b[1;33m(\u001b[0m\u001b[0mdata_loader\u001b[0m\u001b[1;33m,\u001b[0m \u001b[0mtotal\u001b[0m\u001b[1;33m=\u001b[0m\u001b[0mlen\u001b[0m\u001b[1;33m(\u001b[0m\u001b[0mdata_loader\u001b[0m\u001b[1;33m)\u001b[0m\u001b[1;33m)\u001b[0m\u001b[1;33m\u001b[0m\u001b[1;33m\u001b[0m\u001b[0m\n\u001b[1;32m---> 10\u001b[1;33m     \u001b[1;32mfor\u001b[0m \u001b[0mi\u001b[0m\u001b[1;33m,\u001b[0m \u001b[1;33m(\u001b[0m\u001b[0mimg_data\u001b[0m\u001b[1;33m,\u001b[0m \u001b[0mfeature_data\u001b[0m\u001b[1;33m,\u001b[0m \u001b[0mlabels\u001b[0m\u001b[1;33m)\u001b[0m \u001b[1;32min\u001b[0m \u001b[0menumerate\u001b[0m\u001b[1;33m(\u001b[0m\u001b[0mprog_bar\u001b[0m\u001b[1;33m)\u001b[0m\u001b[1;33m:\u001b[0m\u001b[1;33m\u001b[0m\u001b[1;33m\u001b[0m\u001b[0m\n\u001b[0m\u001b[0;32m     11\u001b[0m         \u001b[1;31m# send data to device\u001b[0m\u001b[1;33m\u001b[0m\u001b[1;33m\u001b[0m\u001b[1;33m\u001b[0m\u001b[0m\n\u001b[0;32m     12\u001b[0m         \u001b[0mimg_data\u001b[0m \u001b[1;33m=\u001b[0m \u001b[0mimg_data\u001b[0m\u001b[1;33m.\u001b[0m\u001b[0mto\u001b[0m\u001b[1;33m(\u001b[0m\u001b[0mdevice\u001b[0m\u001b[1;33m)\u001b[0m\u001b[1;33m\u001b[0m\u001b[1;33m\u001b[0m\u001b[0m\n",
      "\u001b[1;32m~\\.conda\\envs\\contact\\lib\\site-packages\\tqdm\\notebook.py\u001b[0m in \u001b[0;36m__iter__\u001b[1;34m(self)\u001b[0m\n\u001b[0;32m    257\u001b[0m         \u001b[1;32mtry\u001b[0m\u001b[1;33m:\u001b[0m\u001b[1;33m\u001b[0m\u001b[1;33m\u001b[0m\u001b[0m\n\u001b[0;32m    258\u001b[0m             \u001b[0mit\u001b[0m \u001b[1;33m=\u001b[0m \u001b[0msuper\u001b[0m\u001b[1;33m(\u001b[0m\u001b[0mtqdm_notebook\u001b[0m\u001b[1;33m,\u001b[0m \u001b[0mself\u001b[0m\u001b[1;33m)\u001b[0m\u001b[1;33m.\u001b[0m\u001b[0m__iter__\u001b[0m\u001b[1;33m(\u001b[0m\u001b[1;33m)\u001b[0m\u001b[1;33m\u001b[0m\u001b[1;33m\u001b[0m\u001b[0m\n\u001b[1;32m--> 259\u001b[1;33m             \u001b[1;32mfor\u001b[0m \u001b[0mobj\u001b[0m \u001b[1;32min\u001b[0m \u001b[0mit\u001b[0m\u001b[1;33m:\u001b[0m\u001b[1;33m\u001b[0m\u001b[1;33m\u001b[0m\u001b[0m\n\u001b[0m\u001b[0;32m    260\u001b[0m                 \u001b[1;31m# return super(tqdm...) will not catch exception\u001b[0m\u001b[1;33m\u001b[0m\u001b[1;33m\u001b[0m\u001b[1;33m\u001b[0m\u001b[0m\n\u001b[0;32m    261\u001b[0m                 \u001b[1;32myield\u001b[0m \u001b[0mobj\u001b[0m\u001b[1;33m\u001b[0m\u001b[1;33m\u001b[0m\u001b[0m\n",
      "\u001b[1;32m~\\.conda\\envs\\contact\\lib\\site-packages\\tqdm\\std.py\u001b[0m in \u001b[0;36m__iter__\u001b[1;34m(self)\u001b[0m\n\u001b[0;32m   1193\u001b[0m \u001b[1;33m\u001b[0m\u001b[0m\n\u001b[0;32m   1194\u001b[0m         \u001b[1;32mtry\u001b[0m\u001b[1;33m:\u001b[0m\u001b[1;33m\u001b[0m\u001b[1;33m\u001b[0m\u001b[0m\n\u001b[1;32m-> 1195\u001b[1;33m             \u001b[1;32mfor\u001b[0m \u001b[0mobj\u001b[0m \u001b[1;32min\u001b[0m \u001b[0miterable\u001b[0m\u001b[1;33m:\u001b[0m\u001b[1;33m\u001b[0m\u001b[1;33m\u001b[0m\u001b[0m\n\u001b[0m\u001b[0;32m   1196\u001b[0m                 \u001b[1;32myield\u001b[0m \u001b[0mobj\u001b[0m\u001b[1;33m\u001b[0m\u001b[1;33m\u001b[0m\u001b[0m\n\u001b[0;32m   1197\u001b[0m                 \u001b[1;31m# Update and possibly print the progressbar.\u001b[0m\u001b[1;33m\u001b[0m\u001b[1;33m\u001b[0m\u001b[1;33m\u001b[0m\u001b[0m\n",
      "\u001b[1;32m~\\.conda\\envs\\contact\\lib\\site-packages\\torch\\utils\\data\\dataloader.py\u001b[0m in \u001b[0;36m__next__\u001b[1;34m(self)\u001b[0m\n\u001b[0;32m    626\u001b[0m                 \u001b[1;31m# TODO(https://github.com/pytorch/pytorch/issues/76750)\u001b[0m\u001b[1;33m\u001b[0m\u001b[1;33m\u001b[0m\u001b[1;33m\u001b[0m\u001b[0m\n\u001b[0;32m    627\u001b[0m                 \u001b[0mself\u001b[0m\u001b[1;33m.\u001b[0m\u001b[0m_reset\u001b[0m\u001b[1;33m(\u001b[0m\u001b[1;33m)\u001b[0m  \u001b[1;31m# type: ignore[call-arg]\u001b[0m\u001b[1;33m\u001b[0m\u001b[1;33m\u001b[0m\u001b[0m\n\u001b[1;32m--> 628\u001b[1;33m             \u001b[0mdata\u001b[0m \u001b[1;33m=\u001b[0m \u001b[0mself\u001b[0m\u001b[1;33m.\u001b[0m\u001b[0m_next_data\u001b[0m\u001b[1;33m(\u001b[0m\u001b[1;33m)\u001b[0m\u001b[1;33m\u001b[0m\u001b[1;33m\u001b[0m\u001b[0m\n\u001b[0m\u001b[0;32m    629\u001b[0m             \u001b[0mself\u001b[0m\u001b[1;33m.\u001b[0m\u001b[0m_num_yielded\u001b[0m \u001b[1;33m+=\u001b[0m \u001b[1;36m1\u001b[0m\u001b[1;33m\u001b[0m\u001b[1;33m\u001b[0m\u001b[0m\n\u001b[0;32m    630\u001b[0m             \u001b[1;32mif\u001b[0m \u001b[0mself\u001b[0m\u001b[1;33m.\u001b[0m\u001b[0m_dataset_kind\u001b[0m \u001b[1;33m==\u001b[0m \u001b[0m_DatasetKind\u001b[0m\u001b[1;33m.\u001b[0m\u001b[0mIterable\u001b[0m \u001b[1;32mand\u001b[0m\u001b[0;31m \u001b[0m\u001b[0;31m\\\u001b[0m\u001b[1;33m\u001b[0m\u001b[1;33m\u001b[0m\u001b[0m\n",
      "\u001b[1;32m~\\.conda\\envs\\contact\\lib\\site-packages\\torch\\utils\\data\\dataloader.py\u001b[0m in \u001b[0;36m_next_data\u001b[1;34m(self)\u001b[0m\n\u001b[0;32m    669\u001b[0m     \u001b[1;32mdef\u001b[0m \u001b[0m_next_data\u001b[0m\u001b[1;33m(\u001b[0m\u001b[0mself\u001b[0m\u001b[1;33m)\u001b[0m\u001b[1;33m:\u001b[0m\u001b[1;33m\u001b[0m\u001b[1;33m\u001b[0m\u001b[0m\n\u001b[0;32m    670\u001b[0m         \u001b[0mindex\u001b[0m \u001b[1;33m=\u001b[0m \u001b[0mself\u001b[0m\u001b[1;33m.\u001b[0m\u001b[0m_next_index\u001b[0m\u001b[1;33m(\u001b[0m\u001b[1;33m)\u001b[0m  \u001b[1;31m# may raise StopIteration\u001b[0m\u001b[1;33m\u001b[0m\u001b[1;33m\u001b[0m\u001b[0m\n\u001b[1;32m--> 671\u001b[1;33m         \u001b[0mdata\u001b[0m \u001b[1;33m=\u001b[0m \u001b[0mself\u001b[0m\u001b[1;33m.\u001b[0m\u001b[0m_dataset_fetcher\u001b[0m\u001b[1;33m.\u001b[0m\u001b[0mfetch\u001b[0m\u001b[1;33m(\u001b[0m\u001b[0mindex\u001b[0m\u001b[1;33m)\u001b[0m  \u001b[1;31m# may raise StopIteration\u001b[0m\u001b[1;33m\u001b[0m\u001b[1;33m\u001b[0m\u001b[0m\n\u001b[0m\u001b[0;32m    672\u001b[0m         \u001b[1;32mif\u001b[0m \u001b[0mself\u001b[0m\u001b[1;33m.\u001b[0m\u001b[0m_pin_memory\u001b[0m\u001b[1;33m:\u001b[0m\u001b[1;33m\u001b[0m\u001b[1;33m\u001b[0m\u001b[0m\n\u001b[0;32m    673\u001b[0m             \u001b[0mdata\u001b[0m \u001b[1;33m=\u001b[0m \u001b[0m_utils\u001b[0m\u001b[1;33m.\u001b[0m\u001b[0mpin_memory\u001b[0m\u001b[1;33m.\u001b[0m\u001b[0mpin_memory\u001b[0m\u001b[1;33m(\u001b[0m\u001b[0mdata\u001b[0m\u001b[1;33m,\u001b[0m \u001b[0mself\u001b[0m\u001b[1;33m.\u001b[0m\u001b[0m_pin_memory_device\u001b[0m\u001b[1;33m)\u001b[0m\u001b[1;33m\u001b[0m\u001b[1;33m\u001b[0m\u001b[0m\n",
      "\u001b[1;32m~\\.conda\\envs\\contact\\lib\\site-packages\\torch\\utils\\data\\_utils\\fetch.py\u001b[0m in \u001b[0;36mfetch\u001b[1;34m(self, possibly_batched_index)\u001b[0m\n\u001b[0;32m     56\u001b[0m                 \u001b[0mdata\u001b[0m \u001b[1;33m=\u001b[0m \u001b[0mself\u001b[0m\u001b[1;33m.\u001b[0m\u001b[0mdataset\u001b[0m\u001b[1;33m.\u001b[0m\u001b[0m__getitems__\u001b[0m\u001b[1;33m(\u001b[0m\u001b[0mpossibly_batched_index\u001b[0m\u001b[1;33m)\u001b[0m\u001b[1;33m\u001b[0m\u001b[1;33m\u001b[0m\u001b[0m\n\u001b[0;32m     57\u001b[0m             \u001b[1;32melse\u001b[0m\u001b[1;33m:\u001b[0m\u001b[1;33m\u001b[0m\u001b[1;33m\u001b[0m\u001b[0m\n\u001b[1;32m---> 58\u001b[1;33m                 \u001b[0mdata\u001b[0m \u001b[1;33m=\u001b[0m \u001b[1;33m[\u001b[0m\u001b[0mself\u001b[0m\u001b[1;33m.\u001b[0m\u001b[0mdataset\u001b[0m\u001b[1;33m[\u001b[0m\u001b[0midx\u001b[0m\u001b[1;33m]\u001b[0m \u001b[1;32mfor\u001b[0m \u001b[0midx\u001b[0m \u001b[1;32min\u001b[0m \u001b[0mpossibly_batched_index\u001b[0m\u001b[1;33m]\u001b[0m\u001b[1;33m\u001b[0m\u001b[1;33m\u001b[0m\u001b[0m\n\u001b[0m\u001b[0;32m     59\u001b[0m         \u001b[1;32melse\u001b[0m\u001b[1;33m:\u001b[0m\u001b[1;33m\u001b[0m\u001b[1;33m\u001b[0m\u001b[0m\n\u001b[0;32m     60\u001b[0m             \u001b[0mdata\u001b[0m \u001b[1;33m=\u001b[0m \u001b[0mself\u001b[0m\u001b[1;33m.\u001b[0m\u001b[0mdataset\u001b[0m\u001b[1;33m[\u001b[0m\u001b[0mpossibly_batched_index\u001b[0m\u001b[1;33m]\u001b[0m\u001b[1;33m\u001b[0m\u001b[1;33m\u001b[0m\u001b[0m\n",
      "\u001b[1;32m~\\.conda\\envs\\contact\\lib\\site-packages\\torch\\utils\\data\\_utils\\fetch.py\u001b[0m in \u001b[0;36m<listcomp>\u001b[1;34m(.0)\u001b[0m\n\u001b[0;32m     56\u001b[0m                 \u001b[0mdata\u001b[0m \u001b[1;33m=\u001b[0m \u001b[0mself\u001b[0m\u001b[1;33m.\u001b[0m\u001b[0mdataset\u001b[0m\u001b[1;33m.\u001b[0m\u001b[0m__getitems__\u001b[0m\u001b[1;33m(\u001b[0m\u001b[0mpossibly_batched_index\u001b[0m\u001b[1;33m)\u001b[0m\u001b[1;33m\u001b[0m\u001b[1;33m\u001b[0m\u001b[0m\n\u001b[0;32m     57\u001b[0m             \u001b[1;32melse\u001b[0m\u001b[1;33m:\u001b[0m\u001b[1;33m\u001b[0m\u001b[1;33m\u001b[0m\u001b[0m\n\u001b[1;32m---> 58\u001b[1;33m                 \u001b[0mdata\u001b[0m \u001b[1;33m=\u001b[0m \u001b[1;33m[\u001b[0m\u001b[0mself\u001b[0m\u001b[1;33m.\u001b[0m\u001b[0mdataset\u001b[0m\u001b[1;33m[\u001b[0m\u001b[0midx\u001b[0m\u001b[1;33m]\u001b[0m \u001b[1;32mfor\u001b[0m \u001b[0midx\u001b[0m \u001b[1;32min\u001b[0m \u001b[0mpossibly_batched_index\u001b[0m\u001b[1;33m]\u001b[0m\u001b[1;33m\u001b[0m\u001b[1;33m\u001b[0m\u001b[0m\n\u001b[0m\u001b[0;32m     59\u001b[0m         \u001b[1;32melse\u001b[0m\u001b[1;33m:\u001b[0m\u001b[1;33m\u001b[0m\u001b[1;33m\u001b[0m\u001b[0m\n\u001b[0;32m     60\u001b[0m             \u001b[0mdata\u001b[0m \u001b[1;33m=\u001b[0m \u001b[0mself\u001b[0m\u001b[1;33m.\u001b[0m\u001b[0mdataset\u001b[0m\u001b[1;33m[\u001b[0m\u001b[0mpossibly_batched_index\u001b[0m\u001b[1;33m]\u001b[0m\u001b[1;33m\u001b[0m\u001b[1;33m\u001b[0m\u001b[0m\n",
      "\u001b[1;32m~\\AppData\\Local\\Temp\\ipykernel_3136\\3432181705.py\u001b[0m in \u001b[0;36m__getitem__\u001b[1;34m(self, idx)\u001b[0m\n\u001b[0;32m     16\u001b[0m         \u001b[0mimage\u001b[0m \u001b[1;33m=\u001b[0m \u001b[0mImage\u001b[0m\u001b[1;33m.\u001b[0m\u001b[0mopen\u001b[0m\u001b[1;33m(\u001b[0m\u001b[0mimg_path\u001b[0m\u001b[1;33m)\u001b[0m\u001b[1;33m.\u001b[0m\u001b[0mconvert\u001b[0m\u001b[1;33m(\u001b[0m\u001b[1;34m'RGB'\u001b[0m\u001b[1;33m)\u001b[0m\u001b[1;33m\u001b[0m\u001b[1;33m\u001b[0m\u001b[0m\n\u001b[0;32m     17\u001b[0m         \u001b[1;32mif\u001b[0m \u001b[1;33m(\u001b[0m\u001b[0mself\u001b[0m\u001b[1;33m.\u001b[0m\u001b[0mtransform\u001b[0m\u001b[1;33m)\u001b[0m\u001b[1;33m:\u001b[0m\u001b[1;33m\u001b[0m\u001b[1;33m\u001b[0m\u001b[0m\n\u001b[1;32m---> 18\u001b[1;33m             \u001b[0mimage\u001b[0m \u001b[1;33m=\u001b[0m \u001b[0mself\u001b[0m\u001b[1;33m.\u001b[0m\u001b[0mtransform\u001b[0m\u001b[1;33m(\u001b[0m\u001b[0mimage\u001b[0m\u001b[1;33m)\u001b[0m\u001b[1;33m\u001b[0m\u001b[1;33m\u001b[0m\u001b[0m\n\u001b[0m\u001b[0;32m     19\u001b[0m \u001b[1;33m\u001b[0m\u001b[0m\n\u001b[0;32m     20\u001b[0m         \u001b[1;31m# get feature vector\u001b[0m\u001b[1;33m\u001b[0m\u001b[1;33m\u001b[0m\u001b[1;33m\u001b[0m\u001b[0m\n",
      "\u001b[1;32m~\\.conda\\envs\\contact\\lib\\site-packages\\torchvision\\transforms\\transforms.py\u001b[0m in \u001b[0;36m__call__\u001b[1;34m(self, img)\u001b[0m\n\u001b[0;32m     93\u001b[0m     \u001b[1;32mdef\u001b[0m \u001b[0m__call__\u001b[0m\u001b[1;33m(\u001b[0m\u001b[0mself\u001b[0m\u001b[1;33m,\u001b[0m \u001b[0mimg\u001b[0m\u001b[1;33m)\u001b[0m\u001b[1;33m:\u001b[0m\u001b[1;33m\u001b[0m\u001b[1;33m\u001b[0m\u001b[0m\n\u001b[0;32m     94\u001b[0m         \u001b[1;32mfor\u001b[0m \u001b[0mt\u001b[0m \u001b[1;32min\u001b[0m \u001b[0mself\u001b[0m\u001b[1;33m.\u001b[0m\u001b[0mtransforms\u001b[0m\u001b[1;33m:\u001b[0m\u001b[1;33m\u001b[0m\u001b[1;33m\u001b[0m\u001b[0m\n\u001b[1;32m---> 95\u001b[1;33m             \u001b[0mimg\u001b[0m \u001b[1;33m=\u001b[0m \u001b[0mt\u001b[0m\u001b[1;33m(\u001b[0m\u001b[0mimg\u001b[0m\u001b[1;33m)\u001b[0m\u001b[1;33m\u001b[0m\u001b[1;33m\u001b[0m\u001b[0m\n\u001b[0m\u001b[0;32m     96\u001b[0m         \u001b[1;32mreturn\u001b[0m \u001b[0mimg\u001b[0m\u001b[1;33m\u001b[0m\u001b[1;33m\u001b[0m\u001b[0m\n\u001b[0;32m     97\u001b[0m \u001b[1;33m\u001b[0m\u001b[0m\n",
      "\u001b[1;32m~\\.conda\\envs\\contact\\lib\\site-packages\\torchvision\\transforms\\transforms.py\u001b[0m in \u001b[0;36m__call__\u001b[1;34m(self, pic)\u001b[0m\n\u001b[0;32m    133\u001b[0m             \u001b[0mTensor\u001b[0m\u001b[1;33m:\u001b[0m \u001b[0mConverted\u001b[0m \u001b[0mimage\u001b[0m\u001b[1;33m.\u001b[0m\u001b[1;33m\u001b[0m\u001b[1;33m\u001b[0m\u001b[0m\n\u001b[0;32m    134\u001b[0m         \"\"\"\n\u001b[1;32m--> 135\u001b[1;33m         \u001b[1;32mreturn\u001b[0m \u001b[0mF\u001b[0m\u001b[1;33m.\u001b[0m\u001b[0mto_tensor\u001b[0m\u001b[1;33m(\u001b[0m\u001b[0mpic\u001b[0m\u001b[1;33m)\u001b[0m\u001b[1;33m\u001b[0m\u001b[1;33m\u001b[0m\u001b[0m\n\u001b[0m\u001b[0;32m    136\u001b[0m \u001b[1;33m\u001b[0m\u001b[0m\n\u001b[0;32m    137\u001b[0m     \u001b[1;32mdef\u001b[0m \u001b[0m__repr__\u001b[0m\u001b[1;33m(\u001b[0m\u001b[0mself\u001b[0m\u001b[1;33m)\u001b[0m \u001b[1;33m->\u001b[0m \u001b[0mstr\u001b[0m\u001b[1;33m:\u001b[0m\u001b[1;33m\u001b[0m\u001b[1;33m\u001b[0m\u001b[0m\n",
      "\u001b[1;32m~\\.conda\\envs\\contact\\lib\\site-packages\\torchvision\\transforms\\functional.py\u001b[0m in \u001b[0;36mto_tensor\u001b[1;34m(pic)\u001b[0m\n\u001b[0;32m    161\u001b[0m     \u001b[1;31m# handle PIL Image\u001b[0m\u001b[1;33m\u001b[0m\u001b[1;33m\u001b[0m\u001b[1;33m\u001b[0m\u001b[0m\n\u001b[0;32m    162\u001b[0m     \u001b[0mmode_to_nptype\u001b[0m \u001b[1;33m=\u001b[0m \u001b[1;33m{\u001b[0m\u001b[1;34m\"I\"\u001b[0m\u001b[1;33m:\u001b[0m \u001b[0mnp\u001b[0m\u001b[1;33m.\u001b[0m\u001b[0mint32\u001b[0m\u001b[1;33m,\u001b[0m \u001b[1;34m\"I;16\"\u001b[0m\u001b[1;33m:\u001b[0m \u001b[0mnp\u001b[0m\u001b[1;33m.\u001b[0m\u001b[0mint16\u001b[0m\u001b[1;33m,\u001b[0m \u001b[1;34m\"F\"\u001b[0m\u001b[1;33m:\u001b[0m \u001b[0mnp\u001b[0m\u001b[1;33m.\u001b[0m\u001b[0mfloat32\u001b[0m\u001b[1;33m}\u001b[0m\u001b[1;33m\u001b[0m\u001b[1;33m\u001b[0m\u001b[0m\n\u001b[1;32m--> 163\u001b[1;33m     \u001b[0mimg\u001b[0m \u001b[1;33m=\u001b[0m \u001b[0mtorch\u001b[0m\u001b[1;33m.\u001b[0m\u001b[0mfrom_numpy\u001b[0m\u001b[1;33m(\u001b[0m\u001b[0mnp\u001b[0m\u001b[1;33m.\u001b[0m\u001b[0marray\u001b[0m\u001b[1;33m(\u001b[0m\u001b[0mpic\u001b[0m\u001b[1;33m,\u001b[0m \u001b[0mmode_to_nptype\u001b[0m\u001b[1;33m.\u001b[0m\u001b[0mget\u001b[0m\u001b[1;33m(\u001b[0m\u001b[0mpic\u001b[0m\u001b[1;33m.\u001b[0m\u001b[0mmode\u001b[0m\u001b[1;33m,\u001b[0m \u001b[0mnp\u001b[0m\u001b[1;33m.\u001b[0m\u001b[0muint8\u001b[0m\u001b[1;33m)\u001b[0m\u001b[1;33m,\u001b[0m \u001b[0mcopy\u001b[0m\u001b[1;33m=\u001b[0m\u001b[1;32mTrue\u001b[0m\u001b[1;33m)\u001b[0m\u001b[1;33m)\u001b[0m\u001b[1;33m\u001b[0m\u001b[1;33m\u001b[0m\u001b[0m\n\u001b[0m\u001b[0;32m    164\u001b[0m \u001b[1;33m\u001b[0m\u001b[0m\n\u001b[0;32m    165\u001b[0m     \u001b[1;32mif\u001b[0m \u001b[0mpic\u001b[0m\u001b[1;33m.\u001b[0m\u001b[0mmode\u001b[0m \u001b[1;33m==\u001b[0m \u001b[1;34m\"1\"\u001b[0m\u001b[1;33m:\u001b[0m\u001b[1;33m\u001b[0m\u001b[1;33m\u001b[0m\u001b[0m\n",
      "\u001b[1;31mKeyboardInterrupt\u001b[0m: "
     ]
    }
   ],
   "source": [
    "# TRAINING PARAMS\n",
    "# initialize model and send to device\n",
    "model = ContactMultiInputNetwork(num_classes=1, num_features=8)  # 1 output for binary prediction\n",
    "model = model.to(DEVICE)\n",
    "# initialize Adam optimizer with default parameters (like the paper)\n",
    "optimizer = Adam(model.parameters(), lr=LR)\n",
    "# so it halves the learning rate every 5 epochs\n",
    "scheduler = lr_scheduler.LinearLR(optimizer, start_factor=1, end_factor=0, total_iters=EPOCHS)\n",
    "# initialize loss function (sigmoid + binary cross entropy)\n",
    "# set a positive class weight equal to n_negative_contact / n_positive contact\n",
    "# this way, the positive contacts will have more weight in the loss function\n",
    "pos_weight = get_pos_weight(train_df).to(DEVICE)\n",
    "criterion = nn.BCEWithLogitsLoss(pos_weight = pos_weight)\n",
    "\n",
    "# initialize the loss Averager class\n",
    "train_loss_hist = Averager()\n",
    "val_loss_hist = Averager()\n",
    "# initialize SaveBestModel class\n",
    "save_best_model = SaveBestModel(model_name=MODEL_NAME)\n",
    "# mean losses for train and validation at every epoch\n",
    "mean_train_losses = []\n",
    "mean_validation_losses = []\n",
    "\n",
    "# epoch loop\n",
    "for epoch in range(EPOCHS):\n",
    "    print(f\"Starting epoch {epoch+1}\")\n",
    "    # reset the training and valitation loss histories for the current epoch\n",
    "    train_loss_hist.reset()\n",
    "    val_loss_hist.reset()\n",
    "\n",
    "    # start timer and carry out training and evaluation\n",
    "    start = time.time()\n",
    "    # train one epoch\n",
    "    train_one_epoch(model, loader_train, criterion, optimizer, \n",
    "                    DEVICE, train_loss_hist)\n",
    "    # update the lr scheduler\n",
    "    scheduler.step()\n",
    "    #evaluate the model\n",
    "    y_pred, y_true = validate_model(model, loader_test, criterion,\n",
    "                                    DEVICE, val_loss_hist)\n",
    "    \n",
    "    print(f\"Epoch #{epoch+1} train_loss: {train_loss_hist.value:.3f}\")\n",
    "    print(f\"Epoch #{epoch+1} validation_loss: {val_loss_hist.value:.3f}\")\n",
    "    end = time.time()\n",
    "    print(f\"Took {(end - start):.3f} seconds for epoch {epoch+1}\")\n",
    "\n",
    "    # save the mean train and validation losses of this epoch\n",
    "    mean_train_losses.append(train_loss_hist.value)\n",
    "    mean_validation_losses.append(val_loss_hist.value)\n",
    "\n",
    "    # save the best model until now if we have the minimum val loss this epoch\n",
    "    save_best_model(val_loss_hist.value, epoch, model, optimizer, \n",
    "                    out_dir=MODEL_DIR)\n",
    "    \n",
    "    #save the current epoch model\n",
    "    save_model(epoch, model, optimizer, model_name=MODEL_NAME,\n",
    "               out_dir=MODEL_DIR)\n",
    "\n",
    "    #save the loss plot\n",
    "    save_loss_plot('training_plots', mean_train_losses, mean_validation_losses, \n",
    "                   epoch+1, MODEL_NAME)\n",
    "    print('\\n')\n",
    "\n",
    "print('Training done')"
   ]
  },
  {
   "cell_type": "code",
   "execution_count": 102,
   "id": "ee766582",
   "metadata": {},
   "outputs": [
    {
     "name": "stdout",
     "output_type": "stream",
     "text": [
      "Best valid loss: 0.37227\n"
     ]
    },
    {
     "data": {
      "image/png": "[encoded data removed]",
      "text/plain": [
       "<PIL.PngImagePlugin.PngImageFile image mode=RGBA size=1500x1000>"
      ]
     },
     "execution_count": 102,
     "metadata": {},
     "output_type": "execute_result"
    }
   ],
   "source": [
    "print(f\"Best valid loss: {save_best_model.best_valid_loss:.5f}\")\n",
    "Image.open(f'{PLOT_DIR}/{MODEL_NAME}_epoch_loss.png')"
   ]
  },
  {
   "cell_type": "markdown",
   "id": "6e79bedb",
   "metadata": {},
   "source": [
    "## Check Predictions"
   ]
  },
  {
   "cell_type": "markdown",
   "id": "571cc4d3",
   "metadata": {},
   "source": [
    "### Load model"
   ]
  },
  {
   "cell_type": "code",
   "execution_count": 103,
   "id": "0ad03475",
   "metadata": {},
   "outputs": [],
   "source": [
    "def load_model(model_path, num_classes, device, num_features):\n",
    "    \"\"\"\n",
    "    Returns a efficientnet model with the weights from the saved model\n",
    "    \"\"\"\n",
    "    model = ContactMultiInputNetwork(num_classes=1, num_features=num_features)\n",
    "    checkpoint = torch.load(model_path, map_location=device)\n",
    "    model.load_state_dict(checkpoint['model_state_dict'])\n",
    "    model.to(device).eval();\n",
    "    \n",
    "    return model"
   ]
  },
  {
   "cell_type": "code",
   "execution_count": 104,
   "id": "54236579",
   "metadata": {},
   "outputs": [],
   "source": [
    "#load the best model on the validation set\n",
    "best_model_path = os.path.join(MODEL_DIR, 'bm_multi_efficientnet_CLS_ground_v1_epoch_14.pth')\n",
    "best_model = load_model(best_model_path, 1, DEVICE, num_features=8)"
   ]
  },
  {
   "cell_type": "markdown",
   "id": "bb7e07c7",
   "metadata": {},
   "source": [
    "### Check validation set"
   ]
  },
  {
   "cell_type": "code",
   "execution_count": 105,
   "id": "04914ce7",
   "metadata": {},
   "outputs": [
    {
     "data": {
      "application/vnd.jupyter.widget-view+json": {
       "model_id": "e7987ced898d444ebadc46c6997f99ca",
       "version_major": 2,
       "version_minor": 0
      },
      "text/plain": [
       "  0%|          | 0/2033 [00:00<?, ?it/s]"
      ]
     },
     "metadata": {},
     "output_type": "display_data"
    }
   ],
   "source": [
    "val_loss_hist = Averager()\n",
    "pos_weight = get_pos_weight(train_df).to(DEVICE)\n",
    "criterion = nn.BCEWithLogitsLoss(pos_weight = pos_weight)\n",
    "y_pred, y_true = validate_model(best_model, loader_test, criterion,\n",
    "                                    DEVICE, val_loss_hist)"
   ]
  },
  {
   "cell_type": "markdown",
   "id": "4b5b484f",
   "metadata": {},
   "source": [
    "### Mathews correlation coefficient"
   ]
  },
  {
   "cell_type": "code",
   "execution_count": 106,
   "id": "a7a20088",
   "metadata": {},
   "outputs": [
    {
     "name": "stdout",
     "output_type": "stream",
     "text": [
      "Best acc threshold: 0.49\n",
      "Matheys corr coef: 0.58966\n"
     ]
    }
   ],
   "source": [
    "# mathews correlation coefficient\n",
    "\n",
    "thresholds = np.arange(0.0, 0.5, 0.01)\n",
    "best_score = 0\n",
    "best_thrs = -1\n",
    "for thrs in thresholds:\n",
    "    y_pred_clean = (torch.sigmoid(y_pred) > thrs).double()\n",
    "    score = matthews_corrcoef(y_pred_clean.cpu(), y_true.cpu())\n",
    "    if score > best_score:\n",
    "        best_score = score\n",
    "        best_thrs = thrs\n",
    "\n",
    "y_pred_clean = (torch.sigmoid(y_pred) > best_thrs).double()\n",
    "print(f\"Best acc threshold: {best_thrs}\")\n",
    "print(f\"Matheys corr coef: {best_score:.5f}\")"
   ]
  },
  {
   "cell_type": "markdown",
   "id": "fee74924",
   "metadata": {},
   "source": [
    "### Confusion Matrix"
   ]
  },
  {
   "cell_type": "code",
   "execution_count": 107,
   "id": "1e074240",
   "metadata": {},
   "outputs": [],
   "source": [
    "def show_confusion_matrix(y_pred, y_true, display_labels, title='Confusion Matrix'):\n",
    "    conf_matrix = confusion_matrix(y_true, y_pred)\n",
    "    conf_display = ConfusionMatrixDisplay(confusion_matrix=conf_matrix,\n",
    "                                        display_labels=display_labels)\n",
    "\n",
    "    fig, ax = plt.subplots(figsize=(15,15))\n",
    "    plt.title(title)\n",
    "    conf_display.plot(cmap=plt.cm.Blues, ax=ax);\n",
    "    return conf_matrix"
   ]
  },
  {
   "cell_type": "code",
   "execution_count": 108,
   "id": "47cb1c91",
   "metadata": {},
   "outputs": [
    {
     "data": {
      "image/png": "[encoded data removed]",
      "text/plain": [
       "<Figure size 1500x1500 with 2 Axes>"
      ]
     },
     "metadata": {},
     "output_type": "display_data"
    }
   ],
   "source": [
    "conf_matrix = show_confusion_matrix(y_pred_clean.cpu(), y_true.cpu(), CLASSES)"
   ]
  },
  {
   "cell_type": "markdown",
   "id": "daf29641",
   "metadata": {},
   "source": [
    "## Validate on whole dataset (ground)"
   ]
  },
  {
   "cell_type": "code",
   "execution_count": 171,
   "id": "0d676e03",
   "metadata": {},
   "outputs": [
    {
     "data": {
      "text/html": [
       "<div>\n",
       "<style scoped>\n",
       "    .dataframe tbody tr th:only-of-type {\n",
       "        vertical-align: middle;\n",
       "    }\n",
       "\n",
       "    .dataframe tbody tr th {\n",
       "        vertical-align: top;\n",
       "    }\n",
       "\n",
       "    .dataframe thead th {\n",
       "        text-align: right;\n",
       "    }\n",
       "</style>\n",
       "<table border=\"1\" class=\"dataframe\">\n",
       "  <thead>\n",
       "    <tr style=\"text-align: right;\">\n",
       "      <th></th>\n",
       "      <th>contact_id</th>\n",
       "      <th>game_play</th>\n",
       "      <th>step</th>\n",
       "      <th>nfl_player_id_1</th>\n",
       "      <th>nfl_player_id_2</th>\n",
       "      <th>game_key</th>\n",
       "      <th>play_id</th>\n",
       "      <th>datetime</th>\n",
       "      <th>team_1</th>\n",
       "      <th>position_1</th>\n",
       "      <th>...</th>\n",
       "      <th>orientation_2</th>\n",
       "      <th>acceleration_2</th>\n",
       "      <th>sa_2</th>\n",
       "      <th>p2p_distance</th>\n",
       "      <th>contact_truth</th>\n",
       "      <th>contact</th>\n",
       "      <th>crop_generated</th>\n",
       "      <th>rewinded_frames</th>\n",
       "      <th>miss_helmet_dets</th>\n",
       "      <th>miss_player_dets</th>\n",
       "    </tr>\n",
       "  </thead>\n",
       "  <tbody>\n",
       "    <tr>\n",
       "      <th>12</th>\n",
       "      <td>58168_003392_0_38590_G</td>\n",
       "      <td>58168_003392</td>\n",
       "      <td>0</td>\n",
       "      <td>38590</td>\n",
       "      <td>-1</td>\n",
       "      <td>58168</td>\n",
       "      <td>3392</td>\n",
       "      <td>2020-09-11 03:01:48.100000+00:00</td>\n",
       "      <td>home</td>\n",
       "      <td>G</td>\n",
       "      <td>...</td>\n",
       "      <td>0.0</td>\n",
       "      <td>0.0</td>\n",
       "      <td>0.0</td>\n",
       "      <td>999.0</td>\n",
       "      <td>0</td>\n",
       "      <td>0</td>\n",
       "      <td>True</td>\n",
       "      <td>0.0</td>\n",
       "      <td>0.0</td>\n",
       "      <td>0.0</td>\n",
       "    </tr>\n",
       "    <tr>\n",
       "      <th>13</th>\n",
       "      <td>58168_003392_0_43854_G</td>\n",
       "      <td>58168_003392</td>\n",
       "      <td>0</td>\n",
       "      <td>43854</td>\n",
       "      <td>-1</td>\n",
       "      <td>58168</td>\n",
       "      <td>3392</td>\n",
       "      <td>2020-09-11 03:01:48.100000+00:00</td>\n",
       "      <td>away</td>\n",
       "      <td>OLB</td>\n",
       "      <td>...</td>\n",
       "      <td>0.0</td>\n",
       "      <td>0.0</td>\n",
       "      <td>0.0</td>\n",
       "      <td>999.0</td>\n",
       "      <td>0</td>\n",
       "      <td>0</td>\n",
       "      <td>True</td>\n",
       "      <td>0.0</td>\n",
       "      <td>0.0</td>\n",
       "      <td>0.0</td>\n",
       "    </tr>\n",
       "    <tr>\n",
       "      <th>14</th>\n",
       "      <td>58168_003392_0_41257_G</td>\n",
       "      <td>58168_003392</td>\n",
       "      <td>0</td>\n",
       "      <td>41257</td>\n",
       "      <td>-1</td>\n",
       "      <td>58168</td>\n",
       "      <td>3392</td>\n",
       "      <td>2020-09-11 03:01:48.100000+00:00</td>\n",
       "      <td>away</td>\n",
       "      <td>CB</td>\n",
       "      <td>...</td>\n",
       "      <td>0.0</td>\n",
       "      <td>0.0</td>\n",
       "      <td>0.0</td>\n",
       "      <td>999.0</td>\n",
       "      <td>0</td>\n",
       "      <td>0</td>\n",
       "      <td>True</td>\n",
       "      <td>0.0</td>\n",
       "      <td>0.0</td>\n",
       "      <td>0.0</td>\n",
       "    </tr>\n",
       "    <tr>\n",
       "      <th>15</th>\n",
       "      <td>58168_003392_0_41944_G</td>\n",
       "      <td>58168_003392</td>\n",
       "      <td>0</td>\n",
       "      <td>41944</td>\n",
       "      <td>-1</td>\n",
       "      <td>58168</td>\n",
       "      <td>3392</td>\n",
       "      <td>2020-09-11 03:01:48.100000+00:00</td>\n",
       "      <td>away</td>\n",
       "      <td>DT</td>\n",
       "      <td>...</td>\n",
       "      <td>0.0</td>\n",
       "      <td>0.0</td>\n",
       "      <td>0.0</td>\n",
       "      <td>999.0</td>\n",
       "      <td>0</td>\n",
       "      <td>0</td>\n",
       "      <td>True</td>\n",
       "      <td>0.0</td>\n",
       "      <td>0.0</td>\n",
       "      <td>0.0</td>\n",
       "    </tr>\n",
       "    <tr>\n",
       "      <th>16</th>\n",
       "      <td>58168_003392_0_42386_G</td>\n",
       "      <td>58168_003392</td>\n",
       "      <td>0</td>\n",
       "      <td>42386</td>\n",
       "      <td>-1</td>\n",
       "      <td>58168</td>\n",
       "      <td>3392</td>\n",
       "      <td>2020-09-11 03:01:48.100000+00:00</td>\n",
       "      <td>away</td>\n",
       "      <td>ILB</td>\n",
       "      <td>...</td>\n",
       "      <td>0.0</td>\n",
       "      <td>0.0</td>\n",
       "      <td>0.0</td>\n",
       "      <td>999.0</td>\n",
       "      <td>0</td>\n",
       "      <td>0</td>\n",
       "      <td>True</td>\n",
       "      <td>0.0</td>\n",
       "      <td>0.0</td>\n",
       "      <td>0.0</td>\n",
       "    </tr>\n",
       "    <tr>\n",
       "      <th>...</th>\n",
       "      <td>...</td>\n",
       "      <td>...</td>\n",
       "      <td>...</td>\n",
       "      <td>...</td>\n",
       "      <td>...</td>\n",
       "      <td>...</td>\n",
       "      <td>...</td>\n",
       "      <td>...</td>\n",
       "      <td>...</td>\n",
       "      <td>...</td>\n",
       "      <td>...</td>\n",
       "      <td>...</td>\n",
       "      <td>...</td>\n",
       "      <td>...</td>\n",
       "      <td>...</td>\n",
       "      <td>...</td>\n",
       "      <td>...</td>\n",
       "      <td>...</td>\n",
       "      <td>...</td>\n",
       "      <td>...</td>\n",
       "      <td>...</td>\n",
       "    </tr>\n",
       "    <tr>\n",
       "      <th>660529</th>\n",
       "      <td>58582_003121_91_52493_G</td>\n",
       "      <td>58582_003121</td>\n",
       "      <td>91</td>\n",
       "      <td>52493</td>\n",
       "      <td>-1</td>\n",
       "      <td>58582</td>\n",
       "      <td>3121</td>\n",
       "      <td>2021-10-12 02:42:29.100000+00:00</td>\n",
       "      <td>away</td>\n",
       "      <td>FS</td>\n",
       "      <td>...</td>\n",
       "      <td>0.0</td>\n",
       "      <td>0.0</td>\n",
       "      <td>0.0</td>\n",
       "      <td>999.0</td>\n",
       "      <td>0</td>\n",
       "      <td>0</td>\n",
       "      <td>True</td>\n",
       "      <td>10.0</td>\n",
       "      <td>0.0</td>\n",
       "      <td>0.0</td>\n",
       "    </tr>\n",
       "    <tr>\n",
       "      <th>660531</th>\n",
       "      <td>58582_003121_91_45287_G</td>\n",
       "      <td>58582_003121</td>\n",
       "      <td>91</td>\n",
       "      <td>45287</td>\n",
       "      <td>-1</td>\n",
       "      <td>58582</td>\n",
       "      <td>3121</td>\n",
       "      <td>2021-10-12 02:42:29.100000+00:00</td>\n",
       "      <td>away</td>\n",
       "      <td>CB</td>\n",
       "      <td>...</td>\n",
       "      <td>0.0</td>\n",
       "      <td>0.0</td>\n",
       "      <td>0.0</td>\n",
       "      <td>999.0</td>\n",
       "      <td>0</td>\n",
       "      <td>0</td>\n",
       "      <td>True</td>\n",
       "      <td>10.0</td>\n",
       "      <td>0.0</td>\n",
       "      <td>0.0</td>\n",
       "    </tr>\n",
       "    <tr>\n",
       "      <th>660532</th>\n",
       "      <td>58582_003121_91_46105_G</td>\n",
       "      <td>58582_003121</td>\n",
       "      <td>91</td>\n",
       "      <td>46105</td>\n",
       "      <td>-1</td>\n",
       "      <td>58582</td>\n",
       "      <td>3121</td>\n",
       "      <td>2021-10-12 02:42:29.100000+00:00</td>\n",
       "      <td>away</td>\n",
       "      <td>MLB</td>\n",
       "      <td>...</td>\n",
       "      <td>0.0</td>\n",
       "      <td>0.0</td>\n",
       "      <td>0.0</td>\n",
       "      <td>999.0</td>\n",
       "      <td>0</td>\n",
       "      <td>0</td>\n",
       "      <td>True</td>\n",
       "      <td>60.0</td>\n",
       "      <td>0.0</td>\n",
       "      <td>1.0</td>\n",
       "    </tr>\n",
       "    <tr>\n",
       "      <th>660535</th>\n",
       "      <td>58582_003121_91_52500_G</td>\n",
       "      <td>58582_003121</td>\n",
       "      <td>91</td>\n",
       "      <td>52500</td>\n",
       "      <td>-1</td>\n",
       "      <td>58582</td>\n",
       "      <td>3121</td>\n",
       "      <td>2021-10-12 02:42:29.100000+00:00</td>\n",
       "      <td>home</td>\n",
       "      <td>WR</td>\n",
       "      <td>...</td>\n",
       "      <td>0.0</td>\n",
       "      <td>0.0</td>\n",
       "      <td>0.0</td>\n",
       "      <td>999.0</td>\n",
       "      <td>0</td>\n",
       "      <td>0</td>\n",
       "      <td>True</td>\n",
       "      <td>10.0</td>\n",
       "      <td>0.0</td>\n",
       "      <td>0.0</td>\n",
       "    </tr>\n",
       "    <tr>\n",
       "      <th>660539</th>\n",
       "      <td>58582_003121_91_47872_G</td>\n",
       "      <td>58582_003121</td>\n",
       "      <td>91</td>\n",
       "      <td>47872</td>\n",
       "      <td>-1</td>\n",
       "      <td>58582</td>\n",
       "      <td>3121</td>\n",
       "      <td>2021-10-12 02:42:29.100000+00:00</td>\n",
       "      <td>away</td>\n",
       "      <td>MLB</td>\n",
       "      <td>...</td>\n",
       "      <td>0.0</td>\n",
       "      <td>0.0</td>\n",
       "      <td>0.0</td>\n",
       "      <td>999.0</td>\n",
       "      <td>0</td>\n",
       "      <td>0</td>\n",
       "      <td>True</td>\n",
       "      <td>10.0</td>\n",
       "      <td>0.0</td>\n",
       "      <td>0.0</td>\n",
       "    </tr>\n",
       "  </tbody>\n",
       "</table>\n",
       "<p>325212 rows × 37 columns</p>\n",
       "</div>"
      ],
      "text/plain": [
       "                     contact_id     game_play  step  nfl_player_id_1  \\\n",
       "12       58168_003392_0_38590_G  58168_003392     0            38590   \n",
       "13       58168_003392_0_43854_G  58168_003392     0            43854   \n",
       "14       58168_003392_0_41257_G  58168_003392     0            41257   \n",
       "15       58168_003392_0_41944_G  58168_003392     0            41944   \n",
       "16       58168_003392_0_42386_G  58168_003392     0            42386   \n",
       "...                         ...           ...   ...              ...   \n",
       "660529  58582_003121_91_52493_G  58582_003121    91            52493   \n",
       "660531  58582_003121_91_45287_G  58582_003121    91            45287   \n",
       "660532  58582_003121_91_46105_G  58582_003121    91            46105   \n",
       "660535  58582_003121_91_52500_G  58582_003121    91            52500   \n",
       "660539  58582_003121_91_47872_G  58582_003121    91            47872   \n",
       "\n",
       "        nfl_player_id_2  game_key  play_id                          datetime  \\\n",
       "12                   -1     58168     3392  2020-09-11 03:01:48.100000+00:00   \n",
       "13                   -1     58168     3392  2020-09-11 03:01:48.100000+00:00   \n",
       "14                   -1     58168     3392  2020-09-11 03:01:48.100000+00:00   \n",
       "15                   -1     58168     3392  2020-09-11 03:01:48.100000+00:00   \n",
       "16                   -1     58168     3392  2020-09-11 03:01:48.100000+00:00   \n",
       "...                 ...       ...      ...                               ...   \n",
       "660529               -1     58582     3121  2021-10-12 02:42:29.100000+00:00   \n",
       "660531               -1     58582     3121  2021-10-12 02:42:29.100000+00:00   \n",
       "660532               -1     58582     3121  2021-10-12 02:42:29.100000+00:00   \n",
       "660535               -1     58582     3121  2021-10-12 02:42:29.100000+00:00   \n",
       "660539               -1     58582     3121  2021-10-12 02:42:29.100000+00:00   \n",
       "\n",
       "       team_1 position_1  ...  orientation_2  acceleration_2  sa_2  \\\n",
       "12       home          G  ...            0.0             0.0   0.0   \n",
       "13       away        OLB  ...            0.0             0.0   0.0   \n",
       "14       away         CB  ...            0.0             0.0   0.0   \n",
       "15       away         DT  ...            0.0             0.0   0.0   \n",
       "16       away        ILB  ...            0.0             0.0   0.0   \n",
       "...       ...        ...  ...            ...             ...   ...   \n",
       "660529   away         FS  ...            0.0             0.0   0.0   \n",
       "660531   away         CB  ...            0.0             0.0   0.0   \n",
       "660532   away        MLB  ...            0.0             0.0   0.0   \n",
       "660535   home         WR  ...            0.0             0.0   0.0   \n",
       "660539   away        MLB  ...            0.0             0.0   0.0   \n",
       "\n",
       "        p2p_distance  contact_truth  contact  crop_generated  rewinded_frames  \\\n",
       "12             999.0              0        0            True              0.0   \n",
       "13             999.0              0        0            True              0.0   \n",
       "14             999.0              0        0            True              0.0   \n",
       "15             999.0              0        0            True              0.0   \n",
       "16             999.0              0        0            True              0.0   \n",
       "...              ...            ...      ...             ...              ...   \n",
       "660529         999.0              0        0            True             10.0   \n",
       "660531         999.0              0        0            True             10.0   \n",
       "660532         999.0              0        0            True             60.0   \n",
       "660535         999.0              0        0            True             10.0   \n",
       "660539         999.0              0        0            True             10.0   \n",
       "\n",
       "        miss_helmet_dets miss_player_dets  \n",
       "12                   0.0              0.0  \n",
       "13                   0.0              0.0  \n",
       "14                   0.0              0.0  \n",
       "15                   0.0              0.0  \n",
       "16                   0.0              0.0  \n",
       "...                  ...              ...  \n",
       "660529               0.0              0.0  \n",
       "660531               0.0              0.0  \n",
       "660532               0.0              1.0  \n",
       "660535               0.0              0.0  \n",
       "660539               0.0              0.0  \n",
       "\n",
       "[325212 rows x 37 columns]"
      ]
     },
     "execution_count": 171,
     "metadata": {},
     "output_type": "execute_result"
    }
   ],
   "source": [
    "# merge contact_df and contact_image_df\n",
    "full_train_df = train_contact_df_reduced.merge(contact_image_endzone_df, \n",
    "                                 left_on=['contact_id'], \n",
    "                                 right_on=['contact_id'], \n",
    "                                 how='left').drop_duplicates()\n",
    "# use only the rows where the crop was generated\n",
    "full_train_df = full_train_df[full_train_df['crop_generated'] == True]\n",
    "# get the ground contacts\n",
    "full_train_df = full_train_df[full_train_df['nfl_player_id_2'] == -1]\n",
    "\n",
    "\n",
    "full_train_df"
   ]
  },
  {
   "cell_type": "code",
   "execution_count": 172,
   "id": "9720f6a6",
   "metadata": {},
   "outputs": [],
   "source": [
    "# dataset and loader\n",
    "# train\n",
    "p_g_contact_dataset_full = PlayerContactDataset(DATA_PATH, full_train_df, 'Endzone', image_transform_test)\n",
    "\n",
    "loader_full = DataLoader(p_g_contact_dataset_full,\n",
    "                         batch_size=BATCH_SIZE,\n",
    "                         shuffle=False,\n",
    "                         num_workers=0,\n",
    "                         drop_last=True)"
   ]
  },
  {
   "cell_type": "code",
   "execution_count": 173,
   "id": "27dd2f69",
   "metadata": {},
   "outputs": [
    {
     "name": "stderr",
     "output_type": "stream",
     "text": [
      "C:\\Users\\AT016638\\.conda\\envs\\contact\\lib\\site-packages\\torchvision\\models\\_utils.py:209: UserWarning: The parameter 'pretrained' is deprecated since 0.13 and may be removed in the future, please use 'weights' instead.\n",
      "  f\"The parameter '{pretrained_param}' is deprecated since 0.13 and may be removed in the future, \"\n",
      "C:\\Users\\AT016638\\.conda\\envs\\contact\\lib\\site-packages\\torchvision\\models\\_utils.py:223: UserWarning: Arguments other than a weight enum or `None` for 'weights' are deprecated since 0.13 and may be removed in the future. The current behavior is equivalent to passing `weights=EfficientNet_B0_Weights.IMAGENET1K_V1`. You can also use `weights=EfficientNet_B0_Weights.DEFAULT` to get the most up-to-date weights.\n",
      "  warnings.warn(msg)\n"
     ]
    }
   ],
   "source": [
    "# load model\n",
    "best_model_path = os.path.join(MODEL_DIR, 'bm_efficientnet_CLS_ground_v6_epoch_8.pth')\n",
    "best_model = load_model(best_model_path, 1, DEVICE)"
   ]
  },
  {
   "cell_type": "code",
   "execution_count": 174,
   "id": "f6bd8008",
   "metadata": {},
   "outputs": [
    {
     "data": {
      "application/vnd.jupyter.widget-view+json": {
       "model_id": "259c74d3865e4d7e9f4418df16b73170",
       "version_major": 2,
       "version_minor": 0
      },
      "text/plain": [
       "  0%|          | 0/10162 [00:00<?, ?it/s]"
      ]
     },
     "metadata": {},
     "output_type": "display_data"
    }
   ],
   "source": [
    "# inference on full dataset\n",
    "val_loss_hist = Averager()\n",
    "criterion = nn.BCEWithLogitsLoss()\n",
    "y_pred, y_true = validate_model(best_model, loader_full, criterion,\n",
    "                                    DEVICE, val_loss_hist)"
   ]
  },
  {
   "cell_type": "code",
   "execution_count": 175,
   "id": "0676b764",
   "metadata": {},
   "outputs": [
    {
     "name": "stdout",
     "output_type": "stream",
     "text": [
      "Best acc threshold: 0.49\n",
      "Matheys corr coef: 0.49589\n"
     ]
    }
   ],
   "source": [
    "# mathews correlation coefficient\n",
    "\n",
    "thresholds = np.arange(0.0, 0.5, 0.01)\n",
    "best_score = 0\n",
    "best_thrs = -1\n",
    "for thrs in thresholds:\n",
    "    y_pred_clean = (torch.sigmoid(y_pred) > thrs).double()\n",
    "    score = matthews_corrcoef(y_pred_clean.cpu(), y_true.cpu())\n",
    "    if score > best_score:\n",
    "        best_score = score\n",
    "        best_thrs = thrs\n",
    "\n",
    "y_pred_clean = (torch.sigmoid(y_pred) > best_thrs).double()\n",
    "print(f\"Best acc threshold: {best_thrs}\")\n",
    "print(f\"Matheys corr coef: {best_score:.5f}\")"
   ]
  },
  {
   "cell_type": "code",
   "execution_count": 176,
   "id": "a35641d9",
   "metadata": {},
   "outputs": [
    {
     "data": {
      "image/png": "[encoded data removed]",
      "text/plain": [
       "<Figure size 1500x1500 with 2 Axes>"
      ]
     },
     "metadata": {},
     "output_type": "display_data"
    }
   ],
   "source": [
    "conf_matrix = show_confusion_matrix(y_pred_clean.cpu(), y_true.cpu(), CLASSES)"
   ]
  },
  {
   "cell_type": "code",
   "execution_count": null,
   "id": "60629627",
   "metadata": {},
   "outputs": [],
   "source": []
  }
 ],
 "metadata": {
  "kernelspec": {
   "display_name": "Python 3 (ipykernel)",
   "language": "python",
   "name": "python3"
  },
  "language_info": {
   "codemirror_mode": {
    "name": "ipython",
    "version": 3
   },
   "file_extension": ".py",
   "mimetype": "text/x-python",
   "name": "python",
   "nbconvert_exporter": "python",
   "pygments_lexer": "ipython3",
   "version": "3.7.15"
  }
 },
 "nbformat": 4,
 "nbformat_minor": 5
}
